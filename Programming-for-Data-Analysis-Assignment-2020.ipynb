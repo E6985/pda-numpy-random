{
 "cells": [
  {
   "cell_type": "markdown",
   "metadata": {},
   "source": [
    "< [GMIT Data Analytics](https://web.archive.org/web/20201029063153/https://www.gmit.ie/computer-science-and-applied-physics/higher-diploma-science-computing-data-analytics-ict) | [Table of Contents](https://github.com/E6985) | [README](https://github.com/E6985/pda-numpy-random/blob/master/README.md) >\n",
    "\n",
    "<img src=\"img/gmit.png\" />\n",
    "\n",
    "## Programming for Data Analysis - Assignment 2020\n",
    "## Due: last commit on or before November 22nd, 2020\n",
    "***"
   ]
  },
  {
   "cell_type": "markdown",
   "metadata": {},
   "source": [
    "#### Assignment\n",
    "Assignment concerns the numpy.random package in Python. Required to create a Jupyter Notebook explaining the use of the package, including detailed explanations of at least five of the distributions provided for in the package. There are four distinct tasks to be carried out in the Jupyter notebook.\n",
    "\n",
    "1. Explain the overall purpose of the package.\n",
    "2. Explain the use of the “Simple random data” and “Permutations” functions.\n",
    "3. Explain the use and purpose of at least five “Distributions” functions.\n",
    "4. Explain the use of seeds in generating pseudorandom numbers.\n",
    "***"
   ]
  },
  {
   "cell_type": "markdown",
   "metadata": {},
   "source": [
    "###### Administration"
   ]
  },
  {
   "cell_type": "markdown",
   "metadata": {},
   "source": [
    "- dark reader - unable to determine ticks [0.1]"
   ]
  },
  {
   "cell_type": "code",
   "execution_count": 1,
   "metadata": {},
   "outputs": [],
   "source": [
    "# b_T_hird_P_arty-imports\n",
    "from matplotlib.style.core import use as u"
   ]
  },
  {
   "cell_type": "code",
   "execution_count": 2,
   "metadata": {},
   "outputs": [],
   "source": [
    "# package matplotlib - subpackage style - module core - function use alias u - call\n",
    "u(\"default\")"
   ]
  },
  {
   "cell_type": "markdown",
   "metadata": {},
   "source": [
    "***\n",
    "#### References\n",
    "&nbsp;&nbsp;&nbsp;&nbsp;&nbsp;&nbsp;&nbsp;&nbsp;&nbsp; [0.1] CptanPanic, \"How to handle labels when using dark theme with jupyterlabs?,\" [github](https://web.archive.org/web/20201027100553/https://github.com/matplotlib/ipympl/issues/25), October 2017.\n",
    "***\n",
    "#### END"
   ]
  },
  {
   "cell_type": "markdown",
   "metadata": {},
   "source": [
    "## Task 1\n",
    "#### Explain the overall purpose of the package.\n",
    "***"
   ]
  },
  {
   "cell_type": "markdown",
   "metadata": {},
   "source": [
    "- almost anything interesting that is done on a computer such as resizing photographs taken on a phone - converting songs on a cd to mp3 - anything that is happening on a computer monitor - anything scientific that is done on a computer turns out all these ideas are based on matrix operations given its the quickest way - another example is compressing an images/song to a smaller size or analysing a dataset - it turns out that matrix operations are typically involved therefore the package - numpy - is essential because it knows how to perform these operations very quickly [1.1]"
   ]
  },
  {
   "cell_type": "markdown",
   "metadata": {},
   "source": [
    "- the package - numpy - is such an important package given that a number of other packages in python depend on it such as - pandas - scipy - matplotlib [1.2] - this specialised package that is very efficient with dealing with numbers in long lists in python even lists contained within lists - multi-dimensional arrays - the structure of a numpy multi-dimensional array is rectanglar in shape [1.1]"
   ]
  },
  {
   "cell_type": "markdown",
   "metadata": {},
   "source": [
    "- common practice to start with a csv file which is imported into numpy or imported into pandas which uses the numpy package in the background however its may not always be possible to collect data so the use of the numpy subpackage - random - can be used for generating simulated data - pretending to collect data by generating random numbers that follow a certain pattern and analysing these number for whatever reason [1.1]"
   ]
  },
  {
   "cell_type": "markdown",
   "metadata": {},
   "source": [
    "***\n",
    "#### References\n",
    "&nbsp;&nbsp;&nbsp;&nbsp;&nbsp;&nbsp;&nbsp;&nbsp;&nbsp;[1.1] I. McLoughlin, \"Introduction to numpy,\" GMIT, October 2018.\n",
    "\n",
    "&nbsp;&nbsp;&nbsp;&nbsp;&nbsp;&nbsp;&nbsp;&nbsp;&nbsp;[1.2] I. McLoughlin, \"Introduction to numpy.random,\" GMIT, October 2018.\n",
    "***\n",
    "#### END"
   ]
  },
  {
   "cell_type": "markdown",
   "metadata": {},
   "source": [
    "## Task 2\n",
    "#### Explain the use of the “Simple random data” and “Permutations” functions.\n",
    "***"
   ]
  },
  {
   "cell_type": "code",
   "execution_count": 3,
   "metadata": {},
   "outputs": [],
   "source": [
    "# b_T_hird_P_arty-imports\n",
    "from numpy.random import default_rng as newGenBitGenPCG64"
   ]
  },
  {
   "cell_type": "markdown",
   "metadata": {},
   "source": [
    "##### 2.1.0 - Use - Simple Random Data - numpy.random.Generator.integers"
   ]
  },
  {
   "cell_type": "markdown",
   "metadata": {},
   "source": [
    "- generates a sequence of random integers [\n",
    "[...] Anaconda - \"numpy.random.Generator.integers,\" Docstring, June 2020.\n",
    "]"
   ]
  },
  {
   "cell_type": "code",
   "execution_count": 4,
   "metadata": {},
   "outputs": [
    {
     "name": "stdout",
     "output_type": "stream",
     "text": [
      "        Return random integers from `low` (inclusive) to `high` (exclusive), or\n",
      "        if endpoint=True, `low` (inclusive) to `high` (inclusive). Replaces\n",
      "        `RandomState.randint` (with endpoint=False) and\n",
      "        `RandomState.random_integers` (with endpoint=True)\n"
     ]
    }
   ],
   "source": [
    "# package numpy - subpackage random - object Generator - method default_rng alias newGenBitGenPCG64 - instantiate\n",
    "print(\"\\n\".join(newGenBitGenPCG64().integers.__doc__.split(\"\\n\")[3:7])) # method integers - attr __doc__ - access"
   ]
  },
  {
   "cell_type": "markdown",
   "metadata": {},
   "source": [
    "###### 2.1.1 - Signature"
   ]
  },
  {
   "cell_type": "code",
   "execution_count": 5,
   "metadata": {},
   "outputs": [
    {
     "name": "stdout",
     "output_type": "stream",
     "text": [
      "        integers(low, high=None, size=None, dtype=np.int64, endpoint=False)\n"
     ]
    }
   ],
   "source": [
    "# package numpy - subpackage random - object Generator - method default_rng alias newGenBitGenPCG64 - instantiate\n",
    "print(\"\\n\".join(newGenBitGenPCG64().integers.__doc__.split(\"\\n\")[1:2])) # method integers - attr __doc__ - access"
   ]
  },
  {
   "cell_type": "markdown",
   "metadata": {},
   "source": [
    "###### 2.1.2 - Parameter - low"
   ]
  },
  {
   "cell_type": "markdown",
   "metadata": {},
   "source": [
    "- can be a negative/zero/positive value - or - ***list of negative/zero/positive value(s) - wrapped in square brackets separated by commas*** [\n",
    "[...] Anaconda - \"numpy.random.Generator.integers,\" Docstring, June 2020.\n",
    "]"
   ]
  },
  {
   "cell_type": "markdown",
   "metadata": {},
   "source": [
    "- lowest negative value - lowest possible random value generated ``-9223372036854775808`` - initialising parameter - ``low`` - with a negative value then must initialise parameter - ``high`` - at a minimum with said negative value plus one - if not exception indicating error occurs [\n",
    "[...] Anaconda - \"numpy.random.Generator.integers,\" Docstring, June 2020.\n",
    "]\n",
    "\n",
    "```python\n",
    "newGenBitGenPCG64().integers(low=-9223372036854775808)\n",
    "```\n",
    "```\n",
    "ValueError: low >= high\n",
    "```\n",
    "\n",
    "```python\n",
    "newGenBitGenPCG64().integers(low=-9223372036854775808,\n",
    "                             high=-9223372036854775808)\n",
    "```\n",
    "```\n",
    "ValueError: low >= high\n",
    "```"
   ]
  },
  {
   "cell_type": "markdown",
   "metadata": {},
   "source": [
    "- single value generated ``-9223372036854775808`` [\n",
    "[...] No Reference.\n",
    "]"
   ]
  },
  {
   "cell_type": "code",
   "execution_count": 6,
   "metadata": {},
   "outputs": [
    {
     "data": {
      "text/plain": [
       "-9223372036854775808"
      ]
     },
     "execution_count": 6,
     "metadata": {},
     "output_type": "execute_result"
    }
   ],
   "source": [
    "# package numpy - subpackage random - object Generator - method default_rng alias newGenBitGenPCG64 - instantiate\n",
    "newGenBitGenPCG64().integers(-9223372036854775808,\n",
    "                             -9223372036854775808+1) # method integers - call"
   ]
  },
  {
   "cell_type": "markdown",
   "metadata": {},
   "source": [
    "- initialising parameter - ``low`` - with negative value lower than ``-9223372036854775808 minus 1`` - exception indicating error occurs [\n",
    "[...] Anaconda - \"numpy.random.Generator.integers,\" Docstring, June 2020.\n",
    "]\n",
    "\n",
    "```python\n",
    "newGenBitGenPCG64().integers(low=-9223372036854775809,\n",
    "                             high=9223372036854775808)\n",
    "```\n",
    "```\n",
    "ValueError: low is out of bounds for int64\n",
    "```"
   ]
  },
  {
   "cell_type": "markdown",
   "metadata": {},
   "source": [
    "- ***list of negative/zero/positive value(s)*** - signifying array lower bound - index (Appendix B - Array - Index - Element) - ``0`` - read list from left to right [\n",
    "[...] Anaconda - \"numpy.random.Generator.integers,\" Docstring, June 2020.\n",
    "]"
   ]
  },
  {
   "cell_type": "markdown",
   "metadata": {},
   "source": [
    "- index (Appendix B - Array - Index - Element) - ``0`` - possible random values - ``2 or 3 or 4 or 5`` - index - ``1`` - possible random values - ``3 or 4 or 5`` - index - ``2`` - possible random values - ``4 or 5`` [\n",
    "[...] Anaconda - \"numpy.random.Generator.integers,\" Docstring, June 2020.\n",
    "]"
   ]
  },
  {
   "cell_type": "code",
   "execution_count": 7,
   "metadata": {},
   "outputs": [
    {
     "data": {
      "text/plain": [
       "array([4, 4, 5], dtype=int64)"
      ]
     },
     "execution_count": 7,
     "metadata": {},
     "output_type": "execute_result"
    }
   ],
   "source": [
    "# package numpy - subpackage random - object Generator - method default_rng alias newGenBitGenPCG64 - instantiate\n",
    "newGenBitGenPCG64().integers(low=[2,3,4],high=6) # method integers - call"
   ]
  },
  {
   "cell_type": "code",
   "execution_count": 8,
   "metadata": {},
   "outputs": [
    {
     "name": "stdout",
     "output_type": "stream",
     "text": [
      "        low : int or array-like of ints\n",
      "            Lowest (signed) integers to be drawn from the distribution (unless\n",
      "            ``high=None``, in which case this parameter is 0 and this value is\n",
      "            used for `high`).\n"
     ]
    }
   ],
   "source": [
    "# package numpy - subpackage random - object Generator - method default_rng alias newGenBitGenPCG64 - instantiate\n",
    "print(\"\\n\".join(newGenBitGenPCG64().integers.__doc__.split(\"\\n\")[14:18])) # method integers - attr __doc__ - access"
   ]
  },
  {
   "cell_type": "markdown",
   "metadata": {},
   "source": [
    "###### 2.1.2 - Parameter - high"
   ]
  },
  {
   "cell_type": "markdown",
   "metadata": {},
   "source": [
    "- optional - can be a negative/zero/positive value - or - ***list of negative/zero/positive value(s) - wrapped in square brackets separated by commas*** [\n",
    "[...] Anaconda - \"numpy.random.Generator.integers,\" Docstring, June 2020.\n",
    "]"
   ]
  },
  {
   "cell_type": "markdown",
   "metadata": {},
   "source": [
    "- highest positive value ``9223372036854775808`` - highest possible random value generated ``9223372036854775808 minus 1`` [\n",
    "[...] Anaconda - \"numpy.random.Generator.integers,\" Docstring, June 2020.\n",
    "]"
   ]
  },
  {
   "cell_type": "markdown",
   "metadata": {},
   "source": [
    "- $2^{64}-1$ ``18446744073709551615`` - possible values generated [\n",
    "[...] No Reference.\n",
    "]"
   ]
  },
  {
   "cell_type": "code",
   "execution_count": 9,
   "metadata": {},
   "outputs": [
    {
     "data": {
      "text/plain": [
       "18446744073709551615"
      ]
     },
     "execution_count": 9,
     "metadata": {},
     "output_type": "execute_result"
    }
   ],
   "source": [
    "2**64-1 # -1 captures zero "
   ]
  },
  {
   "cell_type": "markdown",
   "metadata": {},
   "source": [
    "- initialising parameter - ``high`` - with a value higher than ``9223372036854775808 plus 1`` - exception indicating error occurs [\n",
    "[...] Anaconda - \"numpy.random.Generator.integers,\" Docstring, June 2020.\n",
    "]\n",
    "\n",
    "```python\n",
    "newGenBitGenPCG64().integers(low=-9223372036854775808,\n",
    "                             high=9223372036854775809)\n",
    "```\n",
    "```\n",
    "ValueError: high is out of bounds for int64\n",
    "```"
   ]
  },
  {
   "cell_type": "code",
   "execution_count": 10,
   "metadata": {},
   "outputs": [
    {
     "data": {
      "text/plain": [
       "5818222379524187224"
      ]
     },
     "execution_count": 10,
     "metadata": {},
     "output_type": "execute_result"
    }
   ],
   "source": [
    "# package numpy - subpackage random - object Generator - method default_rng alias newGenBitGenPCG64 - instantiate\n",
    "newGenBitGenPCG64().integers(-9223372036854775808,\n",
    "                             9223372036854775807+1) # method integers - call"
   ]
  },
  {
   "cell_type": "markdown",
   "metadata": {},
   "source": [
    "- initialising parameter - **high** - ``None`` - must initialise parameter - ``low`` - lowest value - ``1`` - lowest possible random value generated - ``0`` - if not exception indicating error occurs [\n",
    "[...] Anaconda - \"numpy.random.Generator.integers,\" Docstring, June 2020.\n",
    "]\n",
    "\n",
    "```python\n",
    "newGenBitGenPCG64().integers(low=0,\n",
    "                             high=None)\n",
    "```\n",
    "```\n",
    "ValueError: low >= high\n",
    "```"
   ]
  },
  {
   "cell_type": "markdown",
   "metadata": {},
   "source": [
    "- single value generated - ``0`` [\n",
    "[...] No Reference.\n",
    "]"
   ]
  },
  {
   "cell_type": "code",
   "execution_count": 11,
   "metadata": {},
   "outputs": [
    {
     "data": {
      "text/plain": [
       "0"
      ]
     },
     "execution_count": 11,
     "metadata": {},
     "output_type": "execute_result"
    }
   ],
   "source": [
    "# package numpy - subpackage random - object Generator - method default_rng alias newGenBitGenPCG64 - instantiate\n",
    "newGenBitGenPCG64().integers(low=1,\n",
    "                             high=None) # method integers - call"
   ]
  },
  {
   "cell_type": "markdown",
   "metadata": {},
   "source": [
    "- single value generated - ``0`` [\n",
    "[...] No Reference.\n",
    "] "
   ]
  },
  {
   "cell_type": "code",
   "execution_count": 12,
   "metadata": {},
   "outputs": [
    {
     "data": {
      "text/plain": [
       "0"
      ]
     },
     "execution_count": 12,
     "metadata": {},
     "output_type": "execute_result"
    }
   ],
   "source": [
    "# package numpy - subpackage random - object Generator - method default_rng alias newGenBitGenPCG64 - instantiate\n",
    "newGenBitGenPCG64().integers(low=0,\n",
    "                             high=1) # method integers - call - equivalent"
   ]
  },
  {
   "cell_type": "markdown",
   "metadata": {},
   "source": [
    "- single value generated - ``0`` [\n",
    "[...] No Reference.\n",
    "] "
   ]
  },
  {
   "cell_type": "code",
   "execution_count": 13,
   "metadata": {},
   "outputs": [
    {
     "data": {
      "text/plain": [
       "0"
      ]
     },
     "execution_count": 13,
     "metadata": {},
     "output_type": "execute_result"
    }
   ],
   "source": [
    "# package numpy - subpackage random - object Generator - method default_rng alias newGenBitGenPCG64 - instantiate\n",
    "newGenBitGenPCG64().integers(low=1) # method integers - call - equivalent"
   ]
  },
  {
   "cell_type": "markdown",
   "metadata": {},
   "source": [
    "- ***list of negative/zero/positive value(s)*** - signifying array upper bound - last index (Appendix B - Array - Index - Element) - ``2`` - read list from right to left [\n",
    "[...] Anaconda - \"numpy.random.Generator.integers,\" Docstring, June 2020.\n",
    "]"
   ]
  },
  {
   "cell_type": "markdown",
   "metadata": {},
   "source": [
    "- index (Appendix B - Array - Index - Element) - ``0`` - possible random values - ``0 or 1`` - index - ``1`` - possible random values - ``0 or 1 or 2`` - index - ``2`` - possible random values - ``0 or 1 or 2 or 3`` [\n",
    "[...] Anaconda - \"numpy.random.Generator.integers,\" Docstring, June 2020.\n",
    "]"
   ]
  },
  {
   "cell_type": "code",
   "execution_count": 14,
   "metadata": {},
   "outputs": [
    {
     "data": {
      "text/plain": [
       "array([1, 1, 1], dtype=int64)"
      ]
     },
     "execution_count": 14,
     "metadata": {},
     "output_type": "execute_result"
    }
   ],
   "source": [
    "# package numpy - subpackage random - object Generator - method default_rng alias newGenBitGenPCG64 - instantiate\n",
    "newGenBitGenPCG64().integers(low=0,high=[2,3,4]) # method integers - call"
   ]
  },
  {
   "cell_type": "code",
   "execution_count": 15,
   "metadata": {},
   "outputs": [
    {
     "name": "stdout",
     "output_type": "stream",
     "text": [
      "        high : int or array-like of ints, optional\n",
      "            If provided, one above the largest (signed) integer to be drawn\n",
      "            from the distribution (see above for behavior if ``high=None``).\n"
     ]
    }
   ],
   "source": [
    "# package numpy - subpackage random - object Generator - method default_rng alias newGenBitGenPCG64 - instantiate\n",
    "print(\"\\n\".join(newGenBitGenPCG64().integers.__doc__.split(\"\\n\")[18:21])) # method integers - attr __doc__ - access"
   ]
  },
  {
   "cell_type": "markdown",
   "metadata": {},
   "source": [
    "###### 2.1.2 - Parameter - size"
   ]
  },
  {
   "cell_type": "markdown",
   "metadata": {},
   "source": [
    "- optional - zero/positive value - or - ***sequence similiar to lists of negative/zero/positive value(s) - wrapped in brackets separated by commas*** [\n",
    "[...] Anaconda - \"numpy.random.Generator.integers,\" Docstring, June 2020.\n",
    "][\n",
    "[...] J. VanderPlas, \"Built-In Data Structures,\" A Whirlwind Tour of Python, p. 34, August 2016.\n",
    "]"
   ]
  },
  {
   "cell_type": "markdown",
   "metadata": {},
   "source": [
    "- initialising parameter - ``size`` - with a value lower than ``0 minus 1`` - exception indicating error occurs [\n",
    "[...] Anaconda - \"numpy.random.Generator.integers,\" Docstring, June 2020.\n",
    "]\n",
    "\n",
    "```python\n",
    "newGenBitGenPCG64().integers(low=-9223372036854775808,\n",
    "                             high=9223372036854775808,\n",
    "                             size=-1)\n",
    "```\n",
    "```\n",
    "ValueError: negative dimensions are not allowed\n",
    "```"
   ]
  },
  {
   "cell_type": "code",
   "execution_count": 16,
   "metadata": {},
   "outputs": [
    {
     "data": {
      "text/plain": [
       "6911510718274222648"
      ]
     },
     "execution_count": 16,
     "metadata": {},
     "output_type": "execute_result"
    }
   ],
   "source": [
    "# package numpy - subpackage random - object Generator - method default_rng alias newGenBitGenPCG64 - instantiate\n",
    "newGenBitGenPCG64().integers(low=-9223372036854775808,\n",
    "                             high=9223372036854775808,\n",
    "                             size=None) # method integers - call"
   ]
  },
  {
   "cell_type": "code",
   "execution_count": 17,
   "metadata": {},
   "outputs": [
    {
     "data": {
      "text/plain": [
       "292061023793974771"
      ]
     },
     "execution_count": 17,
     "metadata": {},
     "output_type": "execute_result"
    }
   ],
   "source": [
    "# package numpy - subpackage random - object Generator - method default_rng alias newGenBitGenPCG64 - instantiate\n",
    "newGenBitGenPCG64().integers(low=-9223372036854775808,\n",
    "                             high=9223372036854775808) # equivalent"
   ]
  },
  {
   "cell_type": "markdown",
   "metadata": {},
   "source": [
    "- shape - arrangement of random values generated within array [\n",
    "[...] No Reference.\n",
    "]"
   ]
  },
  {
   "cell_type": "markdown",
   "metadata": {},
   "source": [
    "- dimension (Appendix D - Diagonal - Multidimensional) of array containing generated random values - 1-dimenional array - ``m`` - number of random values generated  - number of elements - ``1`` - visualise as one row [\n",
    "[...] Anaconda - \"numpy.random.Generator.integers,\" Docstring, June 2020.\n",
    "][\n",
    "[...] Math Is Fun, \"Diagonal,\", [mathsisfun](https://web.archive.org/web/20201118085013/https://www.mathsisfun.com/definitions/diagonal.html), November 2012.\n",
    "][\n",
    "[...] kmario23, \"what does numpy ndarray shape do?,\" [stackoverflow](https://web.archive.org/web/20201117074506/https://stackoverflow.com/questions/47564495/what-does-numpy-ndarray-shape-do), November 2017.\n",
    "]"
   ]
  },
  {
   "cell_type": "code",
   "execution_count": 18,
   "metadata": {},
   "outputs": [
    {
     "data": {
      "text/plain": [
       "array([-5007393815056630538], dtype=int64)"
      ]
     },
     "execution_count": 18,
     "metadata": {},
     "output_type": "execute_result"
    }
   ],
   "source": [
    "# package numpy - subpackage random - object Generator - method default_rng alias newGenBitGenPCG64 - instantiate\n",
    "newGenBitGenPCG64().integers(low=-9223372036854775808,\n",
    "                             high=9223372036854775808,\n",
    "                             size=1) # method integers - call"
   ]
  },
  {
   "cell_type": "markdown",
   "metadata": {},
   "source": [
    "1-dimenional array - ``m`` - number of random values generated  - number of elements - ``2`` - visualise as one row [\n",
    "[...] Anaconda - \"numpy.random.Generator.integers,\" Docstring, June 2020.\n",
    "][\n",
    "[...] Math Is Fun, \"Diagonal,\", [mathsisfun](https://web.archive.org/web/20201118085013/https://www.mathsisfun.com/definitions/diagonal.html), November 2012.\n",
    "][\n",
    "[...] kmario23, \"what does numpy ndarray shape do?,\" [stackoverflow](https://web.archive.org/web/20201117074506/https://stackoverflow.com/questions/47564495/what-does-numpy-ndarray-shape-do), November 2017.\n",
    "]"
   ]
  },
  {
   "cell_type": "code",
   "execution_count": 19,
   "metadata": {},
   "outputs": [
    {
     "name": "stdout",
     "output_type": "stream",
     "text": [
      "<m>            : 1-dimensional\n"
     ]
    },
    {
     "data": {
      "text/plain": [
       "array([2437922430027571383, 1053339141956964172], dtype=int64)"
      ]
     },
     "execution_count": 19,
     "metadata": {},
     "output_type": "execute_result"
    }
   ],
   "source": [
    "# package numpy - subpackage random - object Generator - method default_rng alias newGenBitGenPCG64 - instantiate\n",
    "m_1d=newGenBitGenPCG64().integers(low=-9223372036854775808,\n",
    "                             high=9223372036854775808,\n",
    "                             size=2) # method integers - call\n",
    "print(\"<m>            : {}-dimensional\".format(m_1d.ndim)) # attribute ndim - access\n",
    "m_1d"
   ]
  },
  {
   "cell_type": "markdown",
   "metadata": {},
   "source": [
    "- ***sequence similiar to lists of negative/zero/positive value(s)*** - ordered data collection - unlike lists - tuples - are immutable/unchangable [\n",
    "[...] J. VanderPlas, \"Built-In Data Structures,\" A Whirlwind Tour of Python, p. 34, August 2016.\n",
    "]"
   ]
  },
  {
   "cell_type": "markdown",
   "metadata": {},
   "source": [
    "- dimension (Appendix D - Diagonal) of array containing generated random values - 2-dimenional array - ``m*n`` - number of random values generated - number of elements - ``2x3`` - visualise as two rows and three columns [\n",
    "[...] Anaconda - \"numpy.random.Generator.integers,\" Docstring, June 2020.\n",
    "][\n",
    "[...] Math Is Fun, \"Diagonal,\", [mathsisfun](https://web.archive.org/web/20201118085013/https://www.mathsisfun.com/definitions/diagonal.html), November 2012.\n",
    "][\n",
    "[...] kmario23, \"what does numpy ndarray shape do?,\" [stackoverflow](https://web.archive.org/web/20201117074506/https://stackoverflow.com/questions/47564495/what-does-numpy-ndarray-shape-do), November 2017.\n",
    "][\n",
    "[...] praneethharsha10, \"Multidimensional Arrays in Java,\" [geeksforgeeks](https://web.archive.org/web/20201118090649/https://www.geeksforgeeks.org/multidimensional-arrays-in-java), May 2020.\n",
    "]"
   ]
  },
  {
   "cell_type": "code",
   "execution_count": 20,
   "metadata": {},
   "outputs": [
    {
     "name": "stdout",
     "output_type": "stream",
     "text": [
      "<m*n>          : 2-dimensional\n"
     ]
    },
    {
     "data": {
      "text/plain": [
       "array([[ 1186931570613805205,  4381031052533888532, -1367511386391560080],\n",
       "       [ 7011208910828860625,  3408118057544175601,  4303616001301713843]],\n",
       "      dtype=int64)"
      ]
     },
     "execution_count": 20,
     "metadata": {},
     "output_type": "execute_result"
    }
   ],
   "source": [
    "# package numpy - subpackage random - object Generator - method default_rng alias newGenBitGenPCG64 - instantiate\n",
    "m_n_2d=newGenBitGenPCG64().integers(low=-9223372036854775808,\n",
    "                             high=9223372036854775808,\n",
    "                             size=(2,3)) # method integers - call\n",
    "print(\"<m*n>          : {}-dimensional\".format(m_n_2d.ndim))# attribute ndim - access\n",
    "m_n_2d"
   ]
  },
  {
   "cell_type": "markdown",
   "metadata": {},
   "source": [
    "- dimension (Appendix D - Diagonal) of array containing generated random values - 3-dimenional array - ``m*n*k`` - number of random values generated - number of elements - ``2x3x4`` - visualise as two rows and three columns and join any two corners that are not already joined by an edge - four diagonals [\n",
    "[...] Anaconda - \"numpy.random.Generator.integers,\" Docstring, June 2020.\n",
    "][\n",
    "[...] Math Is Fun, \"Diagonal,\", [mathsisfun](https://web.archive.org/web/20201118085013/https://www.mathsisfun.com/definitions/diagonal.html), November 2012.\n",
    "][\n",
    "[...] kmario23, \"what does numpy ndarray shape do?,\" [stackoverflow](https://web.archive.org/web/20201117074506/https://stackoverflow.com/questions/47564495/what-does-numpy-ndarray-shape-do), November 2017.\n",
    "][\n",
    "[...] praneethharsha10, \"Multidimensional Arrays in Java,\" [geeksforgeeks](https://web.archive.org/web/20201118090649/https://www.geeksforgeeks.org/multidimensional-arrays-in-java), May 2020.\n",
    "]"
   ]
  },
  {
   "cell_type": "code",
   "execution_count": 21,
   "metadata": {},
   "outputs": [
    {
     "name": "stdout",
     "output_type": "stream",
     "text": [
      "<m*n*k>        : 3-dimensional\n"
     ]
    },
    {
     "data": {
      "text/plain": [
       "array([[[ 5187071507760284038, -8530047803145754329,\n",
       "         -6654017454995883789, -4251275976622016099],\n",
       "        [ 4841958923816411717,  4330618739409908165,\n",
       "          2602807480326496199,  9045160227782745245],\n",
       "        [ 2781963140416710375,  2984356382720587895,\n",
       "         -2212436539262370280, -6213010900506099465]],\n",
       "\n",
       "       [[ 3741808606578921556, -5404436648134976024,\n",
       "         -6911618936654821140, -2295632237776850704],\n",
       "        [-7112825887361236579,  8090503734018866693,\n",
       "         -6713490321490221511,  7719041354962738318],\n",
       "        [ 4640881574813639706, -2298030065983209053,\n",
       "          -473024802420047375, -1831986715433696872]]], dtype=int64)"
      ]
     },
     "execution_count": 21,
     "metadata": {},
     "output_type": "execute_result"
    }
   ],
   "source": [
    "# package numpy - subpackage random - object Generator - method default_rng alias newGenBitGenPCG64 - instantiate\n",
    "m_n_k_3d=newGenBitGenPCG64().integers(low=-9223372036854775808,\n",
    "                             high=9223372036854775808,\n",
    "                             size=(2,3,4)) # method integers - call\n",
    "print(\"<m*n*k>        : {}-dimensional\".format(m_n_k_3d.ndim)) # attribute ndim - access\n",
    "m_n_k_3d"
   ]
  },
  {
   "cell_type": "markdown",
   "metadata": {},
   "source": [
    "- additional dimension [\n",
    "[...] No Reference.\n",
    "]"
   ]
  },
  {
   "cell_type": "code",
   "execution_count": 22,
   "metadata": {},
   "outputs": [
    {
     "name": "stdout",
     "output_type": "stream",
     "text": [
      "<m*n*k*j>      : 4-dimensional\n",
      "<m*n*k*j*?>    : 5-dimensional\n"
     ]
    }
   ],
   "source": [
    "# package numpy - subpackage random - object Generator - method default_rng alias newGenBitGenPCG64 - instantiate\n",
    "print(\"<m*n*k*j>      : {}-dimensional\".format(newGenBitGenPCG64().integers(low=-9223372036854775808,\n",
    "                             high=9223372036854775808,\n",
    "                             size=(2,3,4,5)).ndim)) # method integers - call - attribute ndim - access\n",
    "print(\"<m*n*k*j*?>    : {}-dimensional\".format(newGenBitGenPCG64().integers(low=-9223372036854775808,\n",
    "                             high=9223372036854775808,\n",
    "                             size=(5,4,3,2,1)).ndim)) # method integers - call - attribute ndim - access"
   ]
  },
  {
   "cell_type": "code",
   "execution_count": 23,
   "metadata": {},
   "outputs": [
    {
     "name": "stdout",
     "output_type": "stream",
     "text": [
      "        size : int or tuple of ints, optional\n",
      "            Output shape.  If the given shape is, e.g., ``(m, n, k)``, then\n",
      "            ``m * n * k`` samples are drawn.  Default is None, in which case a\n",
      "            single value is returned.\n"
     ]
    }
   ],
   "source": [
    "# package numpy - subpackage random - object Generator - method default_rng alias newGenBitGenPCG64 - instantiate\n",
    "print(\"\\n\".join(newGenBitGenPCG64().integers.__doc__.split(\"\\n\")[22:26])) # method integers - attr __doc__ - access"
   ]
  },
  {
   "cell_type": "markdown",
   "metadata": {},
   "source": [
    "###### 2.1.2 - Parameter - dtype"
   ]
  },
  {
   "cell_type": "markdown",
   "metadata": {},
   "source": [
    "- optional - desired output data type - default parameter value - ``numpy.int64`` (Appendix A - NumPy - Integer Data Types) - determines range of possible random values generated - lowest possible random value generated ``-9223372036854775808`` - highest possible random value generated ``9223372036854775808 minus 1`` [\n",
    "[...] Anaconda - \"numpy.random.Generator.integers,\" Docstring, June 2020.\n",
    "]"
   ]
  },
  {
   "cell_type": "code",
   "execution_count": 24,
   "metadata": {},
   "outputs": [],
   "source": [
    "# b_T_hird_P_arty-imports\n",
    "from numpy import int64"
   ]
  },
  {
   "cell_type": "code",
   "execution_count": 25,
   "metadata": {},
   "outputs": [
    {
     "name": "stdout",
     "output_type": "stream",
     "text": [
      "Signed integer type, compatible with C ``long long``.\n",
      "    Character code: ``'q'``.\n",
      "    Canonical name: ``np.longlong``.\n",
      "    Alias *on this platform*: ``np.int64``: 64-bit signed integer (-9223372036854775808 to 9223372036854775807).\n",
      "    Alias *on this platform*: ``np.intp``: Signed integer large enough to fit pointer, compatible with C ``intptr_t``.\n"
     ]
    }
   ],
   "source": [
    "# package numpy - data type int64 - attribute __doc__ - access\n",
    "print(int64.__doc__)"
   ]
  },
  {
   "cell_type": "markdown",
   "metadata": {},
   "source": [
    "- initialising parameter - ``size`` - with data type - ``numpy.int32`` - lowest possible random value generated ``-2147483648`` - highest possible random value generated ``2147483648 minus 1`` [\n",
    "[...] Anaconda - \"numpy.int32,\" Docstring, June 2020.\n",
    "]"
   ]
  },
  {
   "cell_type": "code",
   "execution_count": 26,
   "metadata": {},
   "outputs": [],
   "source": [
    "# b_T_hird_P_arty-imports\n",
    "from numpy import int32"
   ]
  },
  {
   "cell_type": "code",
   "execution_count": 27,
   "metadata": {},
   "outputs": [
    {
     "name": "stdout",
     "output_type": "stream",
     "text": [
      "Signed integer type, compatible with Python `int` anc C ``long``.\n",
      "    Character code: ``'l'``.\n",
      "    Canonical name: ``np.int_``.\n",
      "    Alias *on this platform*: ``np.int32``: 32-bit signed integer (-2147483648 to 2147483647).\n"
     ]
    }
   ],
   "source": [
    "# package numpy - data type int32 - attribute __doc__ - access\n",
    "print(int32.__doc__)"
   ]
  },
  {
   "cell_type": "code",
   "execution_count": 28,
   "metadata": {},
   "outputs": [
    {
     "data": {
      "text/plain": [
       "1016318036"
      ]
     },
     "execution_count": 28,
     "metadata": {},
     "output_type": "execute_result"
    }
   ],
   "source": [
    "# package numpy - subpackage random - object Generator - method default_rng alias newGenBitGenPCG64 - instantiate\n",
    "newGenBitGenPCG64().integers(low=-2147483648,\n",
    "                             high=2147483647,\n",
    "                             size=None,\n",
    "                             dtype=int32) # method integers - call - equivalent"
   ]
  },
  {
   "cell_type": "code",
   "execution_count": 29,
   "metadata": {},
   "outputs": [
    {
     "data": {
      "text/plain": [
       "980542179"
      ]
     },
     "execution_count": 29,
     "metadata": {},
     "output_type": "execute_result"
    }
   ],
   "source": [
    "# package numpy - subpackage random - object Generator - method default_rng alias newGenBitGenPCG64 - instantiate\n",
    "newGenBitGenPCG64().integers(low=-2147483648,\n",
    "                             high=2147483648,\n",
    "                             size=None,\n",
    "                             dtype=int64) # method integers - call - equivalent"
   ]
  },
  {
   "cell_type": "code",
   "execution_count": 30,
   "metadata": {},
   "outputs": [
    {
     "name": "stdout",
     "output_type": "stream",
     "text": [
      "        dtype : dtype, optional\n",
      "            Desired dtype of the result. Byteorder must be native.\n",
      "            The default value is np.int64.\n"
     ]
    }
   ],
   "source": [
    "# package numpy - subpackage random - object Generator - method default_rng alias newGenBitGenPCG64 - instantiate\n",
    "print(\"\\n\".join(newGenBitGenPCG64().integers.__doc__.split(\"\\n\")[26:29])) # method integers - attr __doc__ - access"
   ]
  },
  {
   "cell_type": "markdown",
   "metadata": {},
   "source": [
    "###### 2.1.2 - Parameter - endpoint"
   ]
  },
  {
   "cell_type": "markdown",
   "metadata": {},
   "source": [
    "- optional - assigned - ``True`` or ``False`` - default - ``False`` - $[low, high)$ (Appendix C - Half-Open - Half-Closed - Intervals) - interval - include - ``low`` - exclude - ``high`` -  lowest possible random value generated - ``-128`` -  highest possible random value generated - ``128 minus 1`` - exclude - ``128`` [\n",
    "[...] Anaconda - \"numpy.random.Generator.integers,\" Docstring, June 2020.\n",
    "][\n",
    "[...] Wolfram, \"Half-Closed Interval,\" [mathworld.wolfram](https://web.archive.org/web/20201106190646/https://mathworld.wolfram.com/Half-ClosedInterval.html), Ootober 2020.\n",
    "]"
   ]
  },
  {
   "cell_type": "code",
   "execution_count": 31,
   "metadata": {},
   "outputs": [],
   "source": [
    "# b_T_hird_P_arty-imports\n",
    "from numpy import int8"
   ]
  },
  {
   "cell_type": "code",
   "execution_count": 32,
   "metadata": {},
   "outputs": [
    {
     "name": "stdout",
     "output_type": "stream",
     "text": [
      "Signed integer type, compatible with C ``char``.\n",
      "    Character code: ``'b'``.\n",
      "    Canonical name: ``np.byte``.\n",
      "    Alias *on this platform*: ``np.int8``: 8-bit signed integer (-128 to 127).\n"
     ]
    }
   ],
   "source": [
    "# package numpy - data type int8 - attribute __doc__ - access\n",
    "print(int8.__doc__)"
   ]
  },
  {
   "cell_type": "code",
   "execution_count": 33,
   "metadata": {},
   "outputs": [
    {
     "data": {
      "text/plain": [
       "-122"
      ]
     },
     "execution_count": 33,
     "metadata": {},
     "output_type": "execute_result"
    }
   ],
   "source": [
    "# package numpy - subpackage random - object Generator - method default_rng alias newGenBitGenPCG64 - instantiate\n",
    "newGenBitGenPCG64().integers(low=-128,\n",
    "                             high=128,\n",
    "                             dtype=int8,\n",
    "                             endpoint=False) # method integers - call"
   ]
  },
  {
   "cell_type": "code",
   "execution_count": 34,
   "metadata": {},
   "outputs": [
    {
     "data": {
      "text/plain": [
       "-95"
      ]
     },
     "execution_count": 34,
     "metadata": {},
     "output_type": "execute_result"
    }
   ],
   "source": [
    "# package numpy - subpackage random - object Generator - method default_rng alias newGenBitGenPCG64 - instantiate\n",
    "newGenBitGenPCG64().integers(low=-128,\n",
    "                             high=128,\n",
    "                             dtype=int8) # method integers - call - equivalent"
   ]
  },
  {
   "cell_type": "code",
   "execution_count": 35,
   "metadata": {},
   "outputs": [
    {
     "data": {
      "text/plain": [
       "-4584068304103039312"
      ]
     },
     "execution_count": 35,
     "metadata": {},
     "output_type": "execute_result"
    }
   ],
   "source": [
    "# package numpy - subpackage random - object Generator - method default_rng alias newGenBitGenPCG64 - instantiate\n",
    "newGenBitGenPCG64().integers(low=-9223372036854775808,\n",
    "                             high=9223372036854775808,\n",
    "                             size=None,\n",
    "                             dtype=int64) # method integers - call"
   ]
  },
  {
   "cell_type": "markdown",
   "metadata": {},
   "source": [
    "- assigned - ``True`` - $[low, high]$ - interval - include - ``low`` - include - ``high`` - possible range of random value generated - ``-9223372036854775808`` - to - ``9223372036854775807`` [\n",
    "[...] Anaconda - \"numpy.random.Generator.integers,\" Docstring, June 2020.\n",
    "][\n",
    "[...] Wolfram, \"Half-Closed Interval,\" [mathworld.wolfram](https://web.archive.org/web/20201106190646/https://mathworld.wolfram.com/Half-ClosedInterval.html), Ootober 2020.\n",
    "]"
   ]
  },
  {
   "cell_type": "code",
   "execution_count": 36,
   "metadata": {},
   "outputs": [
    {
     "data": {
      "text/plain": [
       "-2028636365522768002"
      ]
     },
     "execution_count": 36,
     "metadata": {},
     "output_type": "execute_result"
    }
   ],
   "source": [
    "# package numpy - subpackage random - object Generator - method default_rng alias newGenBitGenPCG64 - instantiate\n",
    "newGenBitGenPCG64().integers(low=-9223372036854775808,\n",
    "                             high=9223372036854775807,\n",
    "                             size=None,\n",
    "                             dtype=int64,\n",
    "                             endpoint=True) # method integers - call"
   ]
  },
  {
   "cell_type": "code",
   "execution_count": 37,
   "metadata": {},
   "outputs": [
    {
     "data": {
      "text/plain": [
       "-1641705986641871962"
      ]
     },
     "execution_count": 37,
     "metadata": {},
     "output_type": "execute_result"
    }
   ],
   "source": [
    "# package numpy - subpackage random - object Generator - method default_rng alias newGenBitGenPCG64 - instantiate\n",
    "newGenBitGenPCG64().integers(low=-9223372036854775808,\n",
    "                             high=9223372036854775807,\n",
    "                             size=None,\n",
    "                             endpoint=True) # method integers - call - equivalent"
   ]
  },
  {
   "cell_type": "code",
   "execution_count": 38,
   "metadata": {},
   "outputs": [
    {
     "name": "stdout",
     "output_type": "stream",
     "text": [
      "        endpoint : bool, optional\n",
      "            If true, sample from the interval [low, high] instead of the\n",
      "            default [low, high)\n",
      "            Defaults to False\n"
     ]
    }
   ],
   "source": [
    "# package numpy - subpackage random - object Generator - method default_rng alias newGenBitGenPCG64 - instantiate\n",
    "print(\"\\n\".join(newGenBitGenPCG64().integers.__doc__.split(\"\\n\")[29:33])) # method integers - attr __doc__ - access"
   ]
  },
  {
   "cell_type": "markdown",
   "metadata": {},
   "source": [
    "###### 2.1.3 - Return - out"
   ]
  },
  {
   "cell_type": "markdown",
   "metadata": {},
   "source": [
    "- name - nOut - parameter - ``size`` - default or initialised to - ``any value`` - except - ``None`` - result is a numpy array - **ndarray** - possible range of random values generated within the array - ``-9223372036854775808`` - to - ``9223372036854775807`` [\n",
    "[...] Anaconda - \"numpy.random.Generator.integers,\" Docstring, June 2020.\n",
    "]"
   ]
  },
  {
   "cell_type": "code",
   "execution_count": 39,
   "metadata": {},
   "outputs": [
    {
     "name": "stdout",
     "output_type": "stream",
     "text": [
      "    An array object represents a multidimensional, homogeneous array\n",
      "    of fixed-size items.  An associated data-type object describes the\n",
      "    format of each element in the array (its byte-order, how many bytes it\n",
      "    occupies in memory, whether it is an integer, a floating point number,\n",
      "    or something else, etc.)\n",
      "\n",
      "    Arrays should be constructed using `array`, `zeros` or `empty` (refer\n",
      "    to the See Also section below).  The parameters given here refer to\n",
      "    a low-level method (`ndarray(...)`) for instantiating an array.\n",
      "\n",
      "    For more information, refer to the `numpy` module and examine the\n",
      "    methods and attributes of an array.\n"
     ]
    }
   ],
   "source": [
    "# b_T_hird_P_arty-imports\n",
    "from numpy import ndarray as nda\n",
    "# package numpy - object ndarray alias nda - attribute __doc__ - access\n",
    "print(\"\\n\".join(nda.__doc__.split(\"\\n\")[3:15]))"
   ]
  },
  {
   "cell_type": "code",
   "execution_count": 40,
   "metadata": {},
   "outputs": [],
   "source": [
    "# package numpy - subpackage random - object Generator - method default_rng alias newGenBitGenPCG64 - instantiate\n",
    "nOut=newGenBitGenPCG64().integers(-9223372036854775808,9223372036854775808,1,int64,False)"
   ]
  },
  {
   "cell_type": "code",
   "execution_count": 41,
   "metadata": {},
   "outputs": [
    {
     "data": {
      "text/plain": [
       "numpy.ndarray"
      ]
     },
     "execution_count": 41,
     "metadata": {},
     "output_type": "execute_result"
    }
   ],
   "source": [
    "type(nOut)"
   ]
  },
  {
   "cell_type": "code",
   "execution_count": 42,
   "metadata": {},
   "outputs": [
    {
     "data": {
      "text/plain": [
       "array([8755607795805043383], dtype=int64)"
      ]
     },
     "execution_count": 42,
     "metadata": {},
     "output_type": "execute_result"
    }
   ],
   "source": [
    "nOut"
   ]
  },
  {
   "cell_type": "markdown",
   "metadata": {},
   "source": [
    "- name - nOut - parameter - ``size`` - default or initialised to - ``None`` - result is a numpy data type - **int64** - possible range of random values generated - ``-9223372036854775808`` - to - ``9223372036854775807`` [\n",
    "[...] Anaconda - \"numpy.random.Generator.integers,\" Docstring, June 2020.\n",
    "]"
   ]
  },
  {
   "cell_type": "code",
   "execution_count": 43,
   "metadata": {},
   "outputs": [],
   "source": [
    "# package numpy - subpackage random - object Generator - method default_rng alias newGenBitGenPCG64 - instantiate\n",
    "nOut=newGenBitGenPCG64().integers(-9223372036854775808,9223372036854775808,None,int64,False)"
   ]
  },
  {
   "cell_type": "code",
   "execution_count": 44,
   "metadata": {},
   "outputs": [
    {
     "data": {
      "text/plain": [
       "numpy.int64"
      ]
     },
     "execution_count": 44,
     "metadata": {},
     "output_type": "execute_result"
    }
   ],
   "source": [
    "type(nOut)"
   ]
  },
  {
   "cell_type": "code",
   "execution_count": 45,
   "metadata": {},
   "outputs": [
    {
     "data": {
      "text/plain": [
       "6480044841176411126"
      ]
     },
     "execution_count": 45,
     "metadata": {},
     "output_type": "execute_result"
    }
   ],
   "source": [
    "nOut"
   ]
  },
  {
   "cell_type": "code",
   "execution_count": 46,
   "metadata": {},
   "outputs": [
    {
     "name": "stdout",
     "output_type": "stream",
     "text": [
      "        out : int or ndarray of ints\n",
      "            `size`-shaped array of random integers from the appropriate\n",
      "            distribution, or a single such random int if `size` not provided.\n"
     ]
    }
   ],
   "source": [
    "# package numpy - subpackage random - object Generator - method default_rng alias newGenBitGenPCG64 - instantiate\n",
    "print(\"\\n\".join(newGenBitGenPCG64().integers.__doc__.split(\"\\n\")[36:39])) # method integers - attr __doc__ - access"
   ]
  },
  {
   "cell_type": "markdown",
   "metadata": {},
   "source": [
    "##### 2.2.0 - Use - Simple Random Data - numpy.random.Generator.random"
   ]
  },
  {
   "cell_type": "markdown",
   "metadata": {},
   "source": [
    "- generates a sequence of random floats - $[0.0, 1.0)$ (Appendix C - Half-Open - Half-Closed - Intervals) - interval - include - ``0.0`` - exclude - ``1.0`` - possible range of random values generated - ``0.0`` - up to - ``1.0`` - excluding - ``1.0`` [\n",
    "[...] Anaconda - \"numpy.random.Generator.random,\" Docstring, June 2020.\n",
    "][\n",
    "[...] Wolfram, \"Half-Closed Interval,\" [mathworld.wolfram](https://web.archive.org/web/20201106190646/https://mathworld.wolfram.com/Half-ClosedInterval.html), Ootober 2020.\n",
    "]"
   ]
  },
  {
   "cell_type": "code",
   "execution_count": 47,
   "metadata": {},
   "outputs": [
    {
     "name": "stdout",
     "output_type": "stream",
     "text": [
      "        Return random floats in the half-open interval [0.0, 1.0).\n"
     ]
    }
   ],
   "source": [
    "# package numpy - subpackage random - object Generator - method default_rng alias newGenBitGenPCG64 - instantiate\n",
    "print(\"\\n\".join(newGenBitGenPCG64().random.__doc__.split(\"\\n\")[3:4])) # method random - attr __doc__ - access"
   ]
  },
  {
   "cell_type": "markdown",
   "metadata": {},
   "source": [
    "###### 2.2.1 - Signature"
   ]
  },
  {
   "cell_type": "code",
   "execution_count": 48,
   "metadata": {},
   "outputs": [
    {
     "name": "stdout",
     "output_type": "stream",
     "text": [
      "        random(size=None, dtype=np.float64, out=None)\n"
     ]
    }
   ],
   "source": [
    "# package numpy - subpackage random - object Generator - method default_rng alias newGenBitGenPCG64 - instantiate\n",
    "print(\"\\n\".join(newGenBitGenPCG64().random.__doc__.split(\"\\n\")[1:2])) # method random - attr __doc__ - access"
   ]
  },
  {
   "cell_type": "markdown",
   "metadata": {},
   "source": [
    "###### 2.2.2 - Parameter - size"
   ]
  },
  {
   "cell_type": "markdown",
   "metadata": {},
   "source": [
    "- optional - zero/positive value - or - ***sequence similiar to lists of negative/zero/positive value(s) - wrapped in brackets separated by commas*** [\n",
    "[...] Anaconda - \"numpy.random.Generator.random,\" Docstring, June 2020.\n",
    "][\n",
    "[...] J. VanderPlas, \"Built-In Data Structures,\" A Whirlwind Tour of Python, p. 34, August 2016.\n",
    "]"
   ]
  },
  {
   "cell_type": "markdown",
   "metadata": {},
   "source": [
    "- initialising parameter - ``size`` - with a value lower than ``0 minus 1`` - exception indicating error occurs [\n",
    "[...] Anaconda - \"numpy.random.Generator.random,\" Docstring, June 2020.\n",
    "]\n",
    "\n",
    "```python\n",
    "newGenBitGenPCG64().random(size=-1)\n",
    "```\n",
    "```\n",
    "ValueError: negative dimensions are not allowed\n",
    "```"
   ]
  },
  {
   "cell_type": "code",
   "execution_count": 49,
   "metadata": {},
   "outputs": [
    {
     "data": {
      "text/plain": [
       "0.44542743703018484"
      ]
     },
     "execution_count": 49,
     "metadata": {},
     "output_type": "execute_result"
    }
   ],
   "source": [
    "# package numpy - subpackage random - object Generator - method default_rng alias newGenBitGenPCG64 - instantiate\n",
    "newGenBitGenPCG64().random(size=None)  # method random - call"
   ]
  },
  {
   "cell_type": "code",
   "execution_count": 50,
   "metadata": {},
   "outputs": [
    {
     "data": {
      "text/plain": [
       "0.5775780308988834"
      ]
     },
     "execution_count": 50,
     "metadata": {},
     "output_type": "execute_result"
    }
   ],
   "source": [
    "# package numpy - subpackage random - object Generator - method default_rng alias newGenBitGenPCG64 - instantiate\n",
    "newGenBitGenPCG64().random() # method random - call - equivalent"
   ]
  },
  {
   "cell_type": "markdown",
   "metadata": {},
   "source": [
    "- shape - arrangement of random values generated within array [\n",
    "[...] No Reference.\n",
    "]"
   ]
  },
  {
   "cell_type": "markdown",
   "metadata": {},
   "source": [
    "- dimension (Appendix D - Diagonal - Multidimensional) of array containing generated random values - 1-dimenional array - ``m`` - number of random values generated  - number of elements - ``1`` - visualise as one row [\n",
    "[...] Anaconda - \"numpy.random.Generator.random,\" Docstring, June 2020.\n",
    "][\n",
    "[...] Math Is Fun, \"Diagonal,\", [mathsisfun](https://web.archive.org/web/20201118085013/https://www.mathsisfun.com/definitions/diagonal.html), November 2012.\n",
    "][\n",
    "[...] kmario23, \"what does numpy ndarray shape do?,\" [stackoverflow](https://web.archive.org/web/20201117074506/https://stackoverflow.com/questions/47564495/what-does-numpy-ndarray-shape-do), November 2017.\n",
    "]"
   ]
  },
  {
   "cell_type": "code",
   "execution_count": 51,
   "metadata": {},
   "outputs": [
    {
     "data": {
      "text/plain": [
       "array([0.76244765])"
      ]
     },
     "execution_count": 51,
     "metadata": {},
     "output_type": "execute_result"
    }
   ],
   "source": [
    "# package numpy - subpackage random - object Generator - method default_rng alias newGenBitGenPCG64 - instantiate\n",
    "newGenBitGenPCG64().random(size=1)  # method random - call"
   ]
  },
  {
   "cell_type": "markdown",
   "metadata": {},
   "source": [
    "1-dimenional array - ``m`` - number of random values generated  - number of elements - ``3`` - visualise as one row [\n",
    "[...] Anaconda - \"numpy.random.Generator.random,\" Docstring, June 2020.\n",
    "][\n",
    "[...] Math Is Fun, \"Diagonal,\", [mathsisfun](https://web.archive.org/web/20201118085013/https://www.mathsisfun.com/definitions/diagonal.html), November 2012.\n",
    "][\n",
    "[...] kmario23, \"what does numpy ndarray shape do?,\" [stackoverflow](https://web.archive.org/web/20201117074506/https://stackoverflow.com/questions/47564495/what-does-numpy-ndarray-shape-do), November 2017.\n",
    "]"
   ]
  },
  {
   "cell_type": "code",
   "execution_count": 52,
   "metadata": {},
   "outputs": [
    {
     "data": {
      "text/plain": [
       "array([0.31868083, 0.66926781, 0.81675615])"
      ]
     },
     "execution_count": 52,
     "metadata": {},
     "output_type": "execute_result"
    }
   ],
   "source": [
    "# package numpy - subpackage random - object Generator - method default_rng alias newGenBitGenPCG64 - instantiate\n",
    "newGenBitGenPCG64().random(size=3)  # method random - call"
   ]
  },
  {
   "cell_type": "markdown",
   "metadata": {},
   "source": [
    "- ***sequence similiar to lists of negative/zero/positive value(s)*** - ordered data collection - unlike lists - tuples - are immutable/unchangable [\n",
    "[...] J. VanderPlas, \"Built-In Data Structures,\" A Whirlwind Tour of Python, p. 34, August 2016.\n",
    "]"
   ]
  },
  {
   "cell_type": "markdown",
   "metadata": {},
   "source": [
    "- dimension (Appendix D - Diagonal) of array containing generated random values - 2-dimenional array - ``m*n`` - number of random values generated - number of elements - ``3x4`` - visualise as three rows and four columns [\n",
    "[...] Anaconda - \"numpy.random.Generator.random,\" Docstring, June 2020.\n",
    "][\n",
    "[...] Math Is Fun, \"Diagonal,\", [mathsisfun](https://web.archive.org/web/20201118085013/https://www.mathsisfun.com/definitions/diagonal.html), November 2012.\n",
    "][\n",
    "[...] kmario23, \"what does numpy ndarray shape do?,\" [stackoverflow](https://web.archive.org/web/20201117074506/https://stackoverflow.com/questions/47564495/what-does-numpy-ndarray-shape-do), November 2017.\n",
    "][\n",
    "[...] praneethharsha10, \"Multidimensional Arrays in Java,\" [geeksforgeeks](https://web.archive.org/web/20201118090649/https://www.geeksforgeeks.org/multidimensional-arrays-in-java), May 2020.\n",
    "]"
   ]
  },
  {
   "cell_type": "code",
   "execution_count": 53,
   "metadata": {},
   "outputs": [
    {
     "data": {
      "text/plain": [
       "array([[0.50194432, 0.51474855, 0.75149397, 0.13339613],\n",
       "       [0.97724076, 0.09891922, 0.97153362, 0.29011564],\n",
       "       [0.54964589, 0.4039172 , 0.99740895, 0.32191705]])"
      ]
     },
     "execution_count": 53,
     "metadata": {},
     "output_type": "execute_result"
    }
   ],
   "source": [
    "# package numpy - subpackage random - object Generator - method default_rng alias newGenBitGenPCG64 - instantiate\n",
    "newGenBitGenPCG64().random(size=(3,4))  # method random - call"
   ]
  },
  {
   "cell_type": "markdown",
   "metadata": {},
   "source": [
    "- dimension (Appendix D - Diagonal) of array containing generated random values - 3-dimenional array - ``m*n*k`` - number of random values generated - number of elements - ``3x4x5`` - visualise as three rows and four columns and join any two corners that are not already joined by an edge - five diagonals [\n",
    "[...] Anaconda - \"numpy.random.Generator.random,\" Docstring, June 2020.\n",
    "][\n",
    "[...] Math Is Fun, \"Diagonal,\", [mathsisfun](https://web.archive.org/web/20201118085013/https://www.mathsisfun.com/definitions/diagonal.html), November 2012.\n",
    "][\n",
    "[...] kmario23, \"what does numpy ndarray shape do?,\" [stackoverflow](https://web.archive.org/web/20201117074506/https://stackoverflow.com/questions/47564495/what-does-numpy-ndarray-shape-do), November 2017.\n",
    "][\n",
    "[...] praneethharsha10, \"Multidimensional Arrays in Java,\" [geeksforgeeks](https://web.archive.org/web/20201118090649/https://www.geeksforgeeks.org/multidimensional-arrays-in-java), May 2020.\n",
    "]"
   ]
  },
  {
   "cell_type": "code",
   "execution_count": 54,
   "metadata": {},
   "outputs": [
    {
     "data": {
      "text/plain": [
       "array([[[0.35808005, 0.60514881, 0.5644066 , 0.30165506, 0.16457538],\n",
       "        [0.24550179, 0.89380152, 0.67239928, 0.53110644, 0.39138152],\n",
       "        [0.01024663, 0.54100256, 0.4509634 , 0.29384472, 0.97942274],\n",
       "        [0.768643  , 0.52948998, 0.18569906, 0.02065159, 0.88379315]],\n",
       "\n",
       "       [[0.53056328, 0.82513975, 0.46565216, 0.24295128, 0.17728629],\n",
       "        [0.97254503, 0.21838744, 0.03906657, 0.43714247, 0.682087  ],\n",
       "        [0.95074741, 0.77813782, 0.84235545, 0.41435479, 0.81824689],\n",
       "        [0.33844171, 0.17714615, 0.22701594, 0.90491611, 0.22584306]],\n",
       "\n",
       "       [[0.20357903, 0.26885102, 0.35941265, 0.76250034, 0.2863706 ],\n",
       "        [0.6442668 , 0.78736216, 0.95692061, 0.20063869, 0.91099159],\n",
       "        [0.9194436 , 0.88215684, 0.32968521, 0.81831929, 0.22667824],\n",
       "        [0.06983656, 0.85418624, 0.0965753 , 0.7854653 , 0.73071695]]])"
      ]
     },
     "execution_count": 54,
     "metadata": {},
     "output_type": "execute_result"
    }
   ],
   "source": [
    "# package numpy - subpackage random - object Generator - method default_rng alias newGenBitGenPCG64 - instantiate\n",
    "newGenBitGenPCG64().random(size=(3,4,5))  # method random - call"
   ]
  },
  {
   "cell_type": "markdown",
   "metadata": {},
   "source": [
    "- additional dimension [\n",
    "[...] No Reference.\n",
    "]"
   ]
  },
  {
   "cell_type": "code",
   "execution_count": 55,
   "metadata": {},
   "outputs": [
    {
     "name": "stdout",
     "output_type": "stream",
     "text": [
      "<m*n*k*j>      : 4-dimensional\n",
      "<m*n*k*j*?>    : 5-dimensional\n"
     ]
    }
   ],
   "source": [
    "# package numpy - subpackage random - object Generator - method default_rng alias newGenBitGenPCG64 - instantiate\n",
    "print(\"<m*n*k*j>      : {}-dimensional\".\n",
    "      format(newGenBitGenPCG64().random(size=(3,4,5,6)).ndim))  # method random - call - attribut ndim - access\n",
    "# package numpy - subpackage random - object Generator - method default_rng alias newGenBitGenPCG64 - instantiate\n",
    "print(\"<m*n*k*j*?>    : {}-dimensional\".\n",
    "      format(newGenBitGenPCG64().random(size=(6,5,4,3,2)).ndim))  # method random - call - attribut ndim - access"
   ]
  },
  {
   "cell_type": "code",
   "execution_count": 56,
   "metadata": {},
   "outputs": [
    {
     "name": "stdout",
     "output_type": "stream",
     "text": [
      "        size : int or tuple of ints, optional\n",
      "            Output shape.  If the given shape is, e.g., ``(m, n, k)``, then\n",
      "            ``m * n * k`` samples are drawn.  Default is None, in which case a\n",
      "            single value is returned.\n"
     ]
    }
   ],
   "source": [
    "# package numpy - subpackage random - object Generator - method default_rng alias newGenBitGenPCG64 - instantiate\n",
    "print(\"\\n\".join(newGenBitGenPCG64().random.__doc__.split(\"\\n\")[13:17])) # method random - attr __doc__ - access"
   ]
  },
  {
   "cell_type": "markdown",
   "metadata": {},
   "source": [
    "###### 2.2.2 - Parameter - dtype"
   ]
  },
  {
   "cell_type": "markdown",
   "metadata": {},
   "source": [
    "- optional - desired output data type - default parameter value - ``numpy.float64`` (Appendix A - NumPy - Integer Data Types) [\n",
    "[...] Anaconda - \"numpy.random.Generator.random,\" Docstring, June 2020.\n",
    "]"
   ]
  },
  {
   "cell_type": "code",
   "execution_count": 57,
   "metadata": {},
   "outputs": [],
   "source": [
    "# b_T_hird_P_arty-imports\n",
    "from numpy import float64"
   ]
  },
  {
   "cell_type": "markdown",
   "metadata": {},
   "source": [
    "- float64 - most significant bit - sign bit - ``S`` - positive - ``0`` - negative - ``1`` [\n",
    "[..] C. Hock-Chuan, \"A Tutorial on Data Representation,\" [ntu](https://web.archive.org/web/20201111221515/https://www3.ntu.edu.sg/home/ehchua/programming/java/datarepresentation.html), January 2014.\n",
    "]"
   ]
  },
  {
   "cell_type": "markdown",
   "metadata": {},
   "source": [
    "- float64 - exponent - ``E`` - bits - ``11`` [\n",
    "[..] C. Hock-Chuan, \"A Tutorial on Data Representation,\" [ntu](https://web.archive.org/web/20201111221515/https://www3.ntu.edu.sg/home/ehchua/programming/java/datarepresentation.html), January 2014.\n",
    "]"
   ]
  },
  {
   "cell_type": "markdown",
   "metadata": {},
   "source": [
    "- float64 - fraction - ``F`` - bits - ``52`` [\n",
    "[..] C. Hock-Chuan, \"A Tutorial on Data Representation,\" [ntu](https://web.archive.org/web/20201111221515/https://www3.ntu.edu.sg/home/ehchua/programming/java/datarepresentation.html), January 2014.\n",
    "]"
   ]
  },
  {
   "cell_type": "markdown",
   "metadata": {},
   "source": [
    "<img src=\"img/float64.png\" />\n",
    "\n",
    "***C. Hock-Chuan, \"A Tutorial on Data Representation,\" [ntu](https://web.archive.org/web/20201111221515/https://www3.ntu.edu.sg/home/ehchua/programming/java/datarepresentation.html), January 2014.***"
   ]
  },
  {
   "cell_type": "code",
   "execution_count": 58,
   "metadata": {},
   "outputs": [
    {
     "name": "stdout",
     "output_type": "stream",
     "text": [
      "Double-precision floating-point number type, compatible with Python `float`\n",
      "    and C ``double``.\n",
      "    Character code: ``'d'``.\n",
      "    Canonical name: ``np.double``.\n",
      "    Alias: ``np.float_``.\n",
      "    Alias *on this platform*: ``np.float64``: 64-bit precision floating-point number type: sign bit, 11 bits exponent, 52 bits mantissa.\n"
     ]
    }
   ],
   "source": [
    "# package numpy - data type float64 - attribute __doc__ - access\n",
    "print(float64.__doc__)"
   ]
  },
  {
   "cell_type": "markdown",
   "metadata": {},
   "source": [
    "- fixed number of digits for mantissa - part of a floating-point number which represents the significant digits of that number - $2.71828$ - mantissa - $0.71828$ [\n",
    "[...] B. Eckel \"Fundamental Data Types,\" [Thinking in C](https://web.archive.org/web/20201119044705/http://ix.cs.uoregon.edu/~norris/cis330books/ThinkingInC/Chapters/chap2/Lecture.html), n.d."
   ]
  },
  {
   "cell_type": "markdown",
   "metadata": {},
   "source": [
    "- initialising parameter - ``dtype`` - with data type - ``float64`` - $[0.0, 1.0)$ (Appendix C - Half-Open - Half-Closed - Intervals) - interval - include - ``0.0`` - exclude - ``1.0`` [\n",
    "[...] Anaconda - \"numpy.float64,\" Docstring, June 2020.\n",
    "][\n",
    "[...] Wolfram, \"Half-Closed Interval,\" [mathworld.wolfram](https://web.archive.org/web/20201106190646/https://mathworld.wolfram.com/Half-ClosedInterval.html), Ootober 2020.\n",
    "]"
   ]
  },
  {
   "cell_type": "code",
   "execution_count": 59,
   "metadata": {},
   "outputs": [],
   "source": [
    "# package numpy - subpackage random - object Generator - method default_rng alias newGenBitGenPCG64 - instantiate\n",
    "n=newGenBitGenPCG64().random(dtype=float64) # method random - call"
   ]
  },
  {
   "cell_type": "code",
   "execution_count": 60,
   "metadata": {},
   "outputs": [],
   "source": [
    "# a_S_tandard_L_ibrary-imports\n",
    "from decimal import Decimal"
   ]
  },
  {
   "cell_type": "code",
   "execution_count": 61,
   "metadata": {},
   "outputs": [
    {
     "name": "stdout",
     "output_type": "stream",
     "text": [
      "<actual>       : 0.3792810694903465673633036203682422637939453125\n"
     ]
    }
   ],
   "source": [
    "# module Decimal - object Decimal - instantiate\n",
    "print(\"<actual>       : {}\".format(Decimal(n)))"
   ]
  },
  {
   "cell_type": "code",
   "execution_count": 62,
   "metadata": {},
   "outputs": [
    {
     "name": "stdout",
     "output_type": "stream",
     "text": [
      "<truncated>    : 0.37928106949034657\n"
     ]
    }
   ],
   "source": [
    "print(\"<truncated>    : {}\".format(n))"
   ]
  },
  {
   "cell_type": "code",
   "execution_count": 63,
   "metadata": {},
   "outputs": [
    {
     "data": {
      "text/plain": [
       "0.648468566003455"
      ]
     },
     "execution_count": 63,
     "metadata": {},
     "output_type": "execute_result"
    }
   ],
   "source": [
    "# package numpy - subpackage random - object Generator - method default_rng alias newGenBitGenPCG64 - instantiate\n",
    "newGenBitGenPCG64().random() # method random - call - equivalent"
   ]
  },
  {
   "cell_type": "markdown",
   "metadata": {},
   "source": [
    "- one - only one - other numpy - data type - supported - ``float32`` [\n",
    "[...] Anaconda - \"numpy.random.Generator.random,\" Docstring, June 2020.\n",
    "]"
   ]
  },
  {
   "cell_type": "code",
   "execution_count": 64,
   "metadata": {},
   "outputs": [],
   "source": [
    "# b_T_hird_P_arty-imports\n",
    "from numpy import float32"
   ]
  },
  {
   "cell_type": "markdown",
   "metadata": {},
   "source": [
    "- float32 - most significant bit - sign bit - ``S`` - positive - ``0`` - negative - ``1`` [\n",
    "[..] C. Hock-Chuan, \"A Tutorial on Data Representation,\" [ntu](https://web.archive.org/web/20201111221515/https://www3.ntu.edu.sg/home/ehchua/programming/java/datarepresentation.html), January 2014.\n",
    "]"
   ]
  },
  {
   "cell_type": "markdown",
   "metadata": {},
   "source": [
    "- float32 - exponent - ``E`` - bits - ``8`` [\n",
    "[..] C. Hock-Chuan, \"A Tutorial on Data Representation,\" [ntu](https://web.archive.org/web/20201111221515/https://www3.ntu.edu.sg/home/ehchua/programming/java/datarepresentation.html), January 2014.\n",
    "]"
   ]
  },
  {
   "cell_type": "markdown",
   "metadata": {},
   "source": [
    "- float64 - fraction - ``F`` - bits - ``23`` [\n",
    "[..] C. Hock-Chuan, \"A Tutorial on Data Representation,\" [ntu](https://web.archive.org/web/20201111221515/https://www3.ntu.edu.sg/home/ehchua/programming/java/datarepresentation.html), January 2014.\n",
    "]"
   ]
  },
  {
   "cell_type": "markdown",
   "metadata": {},
   "source": [
    "<img src=\"img/float32.png\" />\n",
    "\n",
    "***C. Hock-Chuan, \"A Tutorial on Data Representation,\" [ntu](https://web.archive.org/web/20201111221515/https://www3.ntu.edu.sg/home/ehchua/programming/java/datarepresentation.html), January 2014.***"
   ]
  },
  {
   "cell_type": "code",
   "execution_count": 65,
   "metadata": {},
   "outputs": [
    {
     "name": "stdout",
     "output_type": "stream",
     "text": [
      "Single-precision floating-point number type, compatible with C ``float``.\n",
      "    Character code: ``'f'``.\n",
      "    Canonical name: ``np.single``.\n",
      "    Alias *on this platform*: ``np.float32``: 32-bit-precision floating-point number type: sign bit, 8 bits exponent, 23 bits mantissa.\n"
     ]
    }
   ],
   "source": [
    "# package numpy - data type float32 - attribute __doc__ - access\n",
    "print(float32.__doc__)"
   ]
  },
  {
   "cell_type": "markdown",
   "metadata": {},
   "source": [
    "- initialising parameter - ``dtype`` - with data type - ``float32`` - $[0.0, 1.0)$ (Appendix C - Half-Open - Half-Closed - Intervals) - interval - include - ``0.0`` - exclude - ``1.0`` [\n",
    "[...] Anaconda - \"numpy.float64,\" Docstring, June 2020.\n",
    "][\n",
    "[...] Wolfram, \"Half-Closed Interval,\" [mathworld.wolfram](https://web.archive.org/web/20201106190646/https://mathworld.wolfram.com/Half-ClosedInterval.html), Ootober 2020.\n",
    "]"
   ]
  },
  {
   "cell_type": "code",
   "execution_count": 66,
   "metadata": {},
   "outputs": [],
   "source": [
    "# package numpy - subpackage random - object Generator - method default_rng alias newGenBitGenPCG64 - instantiate\n",
    "n=newGenBitGenPCG64().random(dtype=float32) # method random - call"
   ]
  },
  {
   "cell_type": "code",
   "execution_count": 67,
   "metadata": {},
   "outputs": [
    {
     "name": "stdout",
     "output_type": "stream",
     "text": [
      "<actual>       : 0.82866728305816650390625\n"
     ]
    }
   ],
   "source": [
    "# module Decimal - object Decimal - instantiate\n",
    "print(\"<actual>       : {}\".format(Decimal(n)))"
   ]
  },
  {
   "cell_type": "code",
   "execution_count": 68,
   "metadata": {},
   "outputs": [
    {
     "name": "stdout",
     "output_type": "stream",
     "text": [
      "<truncated>    : 0.8286672830581665\n"
     ]
    }
   ],
   "source": [
    "print(\"<truncated>    : {}\".format(n))"
   ]
  },
  {
   "cell_type": "code",
   "execution_count": 69,
   "metadata": {},
   "outputs": [
    {
     "name": "stdout",
     "output_type": "stream",
     "text": [
      "        dtype : dtype, optional\n",
      "            Desired dtype of the result, only `float64` and `float32` are supported.\n",
      "            Byteorder must be native. The default value is np.float64.\n"
     ]
    }
   ],
   "source": [
    "# package numpy - subpackage random - object Generator - method default_rng alias newGenBitGenPCG64 - instantiate\n",
    "print(\"\\n\".join(newGenBitGenPCG64().random.__doc__.split(\"\\n\")[17:20])) # method random - attr __doc__ - access"
   ]
  },
  {
   "cell_type": "markdown",
   "metadata": {},
   "source": [
    "###### 2.2.2 - Parameter - out"
   ]
  },
  {
   "cell_type": "markdown",
   "metadata": {},
   "source": [
    "- default return type - numpy array - ``ndarray`` [\n",
    "[...] Anaconda - \"numpy.random.Generator.random,\" Docstring, June 2020.\n",
    "]"
   ]
  },
  {
   "cell_type": "code",
   "execution_count": 70,
   "metadata": {},
   "outputs": [
    {
     "data": {
      "text/plain": [
       "numpy.ndarray"
      ]
     },
     "execution_count": 70,
     "metadata": {},
     "output_type": "execute_result"
    }
   ],
   "source": [
    "# package numpy - subpackage random - object Generator - method default_rng alias newGenBitGenPCG64 - instantiate\n",
    "type(newGenBitGenPCG64().random(size=1))  # method random - call"
   ]
  },
  {
   "cell_type": "markdown",
   "metadata": {},
   "source": [
    "- optional - parameter - ``out`` - enables an alternative arrangement in which the random values are placed [\n",
    "[...] Anaconda - \"numpy.random.Generator.random,\" Docstring, June 2020.\n",
    "]"
   ]
  },
  {
   "cell_type": "code",
   "execution_count": 71,
   "metadata": {},
   "outputs": [],
   "source": [
    "# b_T_hird_P_arty-imports\n",
    "from numpy import ndarray"
   ]
  },
  {
   "cell_type": "markdown",
   "metadata": {},
   "source": [
    "- parameter - ``size`` - initialised  - parameter - ``out`` - must have the same arrangement - shape - as provided by parameter - ``size`` - if not exception indicating error occurs [\n",
    "[...] Anaconda - \"numpy.random.Generator.integers,\" Docstring, June 2020.\n",
    "]\n",
    "\n",
    "```python\n",
    "newGenBitGenPCG64().random(size=3,out=ndarray(4))\n",
    "```\n",
    "```\n",
    "ValueError: size must match out.shape when used together\n",
    "```"
   ]
  },
  {
   "cell_type": "code",
   "execution_count": 72,
   "metadata": {},
   "outputs": [
    {
     "data": {
      "text/plain": [
       "array([0.11019546, 0.71064607, 0.5778984 ])"
      ]
     },
     "execution_count": 72,
     "metadata": {},
     "output_type": "execute_result"
    }
   ],
   "source": [
    "# package numpy - subpackage random - object Generator - method default_rng alias newGenBitGenPCG64 - instantiate\n",
    "newGenBitGenPCG64().random(size=3,out=ndarray(3))  # method random - call"
   ]
  },
  {
   "cell_type": "markdown",
   "metadata": {},
   "source": [
    "- parameter - ``size`` - initialised - or - default - ``None`` - can initialise - parameter - ``out`` - new arrangement - shape - for the generated random values [\n",
    "[...] Anaconda - \"numpy.random.Generator.integers,\" Docstring, June 2020.\n",
    "]"
   ]
  },
  {
   "cell_type": "code",
   "execution_count": 73,
   "metadata": {},
   "outputs": [],
   "source": [
    "# package numpy - subpackage random - object Generator - method default_rng alias newGenBitGenPCG64 - instantiate\n",
    "n=newGenBitGenPCG64().random(size=None) # method random - call"
   ]
  },
  {
   "cell_type": "code",
   "execution_count": 74,
   "metadata": {},
   "outputs": [
    {
     "name": "stdout",
     "output_type": "stream",
     "text": [
      "<type>         : <class 'float'>\n"
     ]
    },
    {
     "data": {
      "text/plain": [
       "0.5007477060480429"
      ]
     },
     "execution_count": 74,
     "metadata": {},
     "output_type": "execute_result"
    }
   ],
   "source": [
    "print(\"<type>         : {}\".format(type(n)))\n",
    "n"
   ]
  },
  {
   "cell_type": "code",
   "execution_count": 75,
   "metadata": {},
   "outputs": [
    {
     "data": {
      "text/plain": [
       "float"
      ]
     },
     "execution_count": 75,
     "metadata": {},
     "output_type": "execute_result"
    }
   ],
   "source": [
    "# package numpy - subpackage random - object Generator - method default_rng alias newGenBitGenPCG64 - instantiate\n",
    "type(newGenBitGenPCG64().random()) # method random - call - equivalent"
   ]
  },
  {
   "cell_type": "code",
   "execution_count": 76,
   "metadata": {},
   "outputs": [],
   "source": [
    "# package numpy - subpackage random - object Generator - method default_rng alias newGenBitGenPCG64 - instantiate\n",
    "n=newGenBitGenPCG64().random(size=None,out=ndarray(1)) # method random - call"
   ]
  },
  {
   "cell_type": "code",
   "execution_count": 77,
   "metadata": {},
   "outputs": [
    {
     "name": "stdout",
     "output_type": "stream",
     "text": [
      "<n>            : 1-dimensional\n",
      "<type>         : <class 'numpy.ndarray'>\n"
     ]
    },
    {
     "data": {
      "text/plain": [
       "array([0.16528098])"
      ]
     },
     "execution_count": 77,
     "metadata": {},
     "output_type": "execute_result"
    }
   ],
   "source": [
    "print(\"<n>            : {}-dimensional\".format(n.ndim)) # method random - attribut ndim - access\n",
    "print(\"<type>         : {}\".format(type(n)))\n",
    "n"
   ]
  },
  {
   "cell_type": "code",
   "execution_count": 78,
   "metadata": {},
   "outputs": [],
   "source": [
    "# package numpy - subpackage random - object Generator - method default_rng alias newGenBitGenPCG64 - instantiate\n",
    "n=newGenBitGenPCG64().random(out=ndarray(shape=1)) # method random - call - equivalent"
   ]
  },
  {
   "cell_type": "code",
   "execution_count": 79,
   "metadata": {},
   "outputs": [
    {
     "name": "stdout",
     "output_type": "stream",
     "text": [
      "<n>            : 1-dimensional\n",
      "<type>         : <class 'numpy.ndarray'>\n"
     ]
    },
    {
     "data": {
      "text/plain": [
       "array([0.26411241])"
      ]
     },
     "execution_count": 79,
     "metadata": {},
     "output_type": "execute_result"
    }
   ],
   "source": [
    "print(\"<n>            : {}-dimensional\".format(n.ndim)) # method random - attribut ndim - access\n",
    "print(\"<type>         : {}\".format(type(n)))\n",
    "n"
   ]
  },
  {
   "cell_type": "code",
   "execution_count": 80,
   "metadata": {},
   "outputs": [
    {
     "name": "stdout",
     "output_type": "stream",
     "text": [
      "        out : ndarray, optional\n",
      "            Alternative output array in which to place the result. If size is not None,\n",
      "            it must have the same shape as the provided size and must match the type of\n",
      "            the output values.\n"
     ]
    }
   ],
   "source": [
    "# package numpy - subpackage random - object Generator - method default_rng alias newGenBitGenPCG64 - instantiate\n",
    "print(\"\\n\".join(newGenBitGenPCG64().random.__doc__.split(\"\\n\")[20:24])) # method random - attr __doc__ - access"
   ]
  },
  {
   "cell_type": "markdown",
   "metadata": {},
   "source": [
    "###### 2.2.3 - Return - float or ndarray of floats"
   ]
  },
  {
   "cell_type": "markdown",
   "metadata": {},
   "source": [
    "- name - nOut - parameter - ``size`` - default or initialised to - ``any value`` - except - ``None`` - result is a numpy array - **ndarray** - possible range of random values generated within the array - ``0.0`` - to - ``0.1`` - excluding - ``0.1`` [\n",
    "[...] Anaconda - \"numpy.random.Generator.integers,\" Docstring, June 2020.\n",
    "]"
   ]
  },
  {
   "cell_type": "code",
   "execution_count": 81,
   "metadata": {},
   "outputs": [],
   "source": [
    "# package numpy - subpackage random - object Generator - method default_rng alias newGenBitGenPCG64 - instantiate\n",
    "nOut=newGenBitGenPCG64().random(size=4)"
   ]
  },
  {
   "cell_type": "code",
   "execution_count": 82,
   "metadata": {},
   "outputs": [
    {
     "data": {
      "text/plain": [
       "numpy.ndarray"
      ]
     },
     "execution_count": 82,
     "metadata": {},
     "output_type": "execute_result"
    }
   ],
   "source": [
    "type(nOut)"
   ]
  },
  {
   "cell_type": "code",
   "execution_count": 83,
   "metadata": {},
   "outputs": [
    {
     "data": {
      "text/plain": [
       "array([0.26390495, 0.47501871, 0.19416177, 0.05745358])"
      ]
     },
     "execution_count": 83,
     "metadata": {},
     "output_type": "execute_result"
    }
   ],
   "source": [
    "nOut"
   ]
  },
  {
   "cell_type": "markdown",
   "metadata": {},
   "source": [
    "- name - nOut - parameter - ``size`` - default or initialised to - ``None`` - result is a numpy data type - **float64** - possible range of random values generated - ``0.0`` - to - ``0.1`` [\n",
    "[...] Anaconda - \"numpy.random.Generator.integers,\" Docstring, June 2020.\n",
    "]"
   ]
  },
  {
   "cell_type": "code",
   "execution_count": 84,
   "metadata": {},
   "outputs": [],
   "source": [
    "# package numpy - subpackage random - object Generator - method default_rng alias newGenBitGenPCG64 - instantiate\n",
    "nOut=newGenBitGenPCG64().random()"
   ]
  },
  {
   "cell_type": "code",
   "execution_count": 85,
   "metadata": {},
   "outputs": [
    {
     "data": {
      "text/plain": [
       "float"
      ]
     },
     "execution_count": 85,
     "metadata": {},
     "output_type": "execute_result"
    }
   ],
   "source": [
    "type(nOut)"
   ]
  },
  {
   "cell_type": "code",
   "execution_count": 86,
   "metadata": {},
   "outputs": [
    {
     "data": {
      "text/plain": [
       "0.7194241804686495"
      ]
     },
     "execution_count": 86,
     "metadata": {},
     "output_type": "execute_result"
    }
   ],
   "source": [
    "nOut"
   ]
  },
  {
   "cell_type": "code",
   "execution_count": 87,
   "metadata": {},
   "outputs": [
    {
     "name": "stdout",
     "output_type": "stream",
     "text": [
      "        Returns\n",
      "        -------\n",
      "        out : float or ndarray of floats\n",
      "            Array of random floats of shape `size` (unless ``size=None``, in which\n",
      "            case a single float is returned).\n",
      "\n"
     ]
    }
   ],
   "source": [
    "# package numpy - subpackage random - object Generator - method default_rng alias newGenBitGenPCG64 - instantiate\n",
    "print(\"\\n\".join(newGenBitGenPCG64().random.__doc__.split(\"\\n\")[25:31])) # method random - attr __doc__ - access\n",
    "#print(newGenBitGenPCG64().random.__doc__)"
   ]
  },
  {
   "cell_type": "markdown",
   "metadata": {},
   "source": [
    "##### 2.4.0 - Use - Simple Random Data - numpy.random.Generator.bytes"
   ]
  },
  {
   "cell_type": "markdown",
   "metadata": {},
   "source": [
    "- generates a sequence of random byptes [\n",
    "[...] Anaconda - \"numpy.random.Generator.bytes,\" Docstring, June 2020.\n",
    "]"
   ]
  },
  {
   "cell_type": "code",
   "execution_count": 88,
   "metadata": {},
   "outputs": [
    {
     "name": "stdout",
     "output_type": "stream",
     "text": [
      "        Return random bytes.\n"
     ]
    }
   ],
   "source": [
    "# package numpy - subpackage random - object Generator - method default_rng alias newGenBitGenPCG64 - instantiate\n",
    "print(\"\\n\".join(newGenBitGenPCG64().bytes.__doc__.split(\"\\n\")[3:4])) # method bytes - attr __doc__ - access"
   ]
  },
  {
   "cell_type": "markdown",
   "metadata": {},
   "source": [
    "###### 2.4.1 - Signature"
   ]
  },
  {
   "cell_type": "code",
   "execution_count": 89,
   "metadata": {},
   "outputs": [
    {
     "name": "stdout",
     "output_type": "stream",
     "text": [
      "        bytes(length)\n"
     ]
    }
   ],
   "source": [
    "# package numpy - subpackage random - object Generator - method default_rng alias newGenBitGenPCG64 - instantiate\n",
    "print(\"\\n\".join(newGenBitGenPCG64().bytes.__doc__.split(\"\\n\")[1:2])) # method bytes - attr __doc__ - access"
   ]
  },
  {
   "cell_type": "markdown",
   "metadata": {},
   "source": [
    "###### 2.4.2 - Parameter - length"
   ]
  },
  {
   "cell_type": "markdown",
   "metadata": {},
   "source": [
    "- number of random bytes generated - positive value - not passing argument or passing argument with a value lower than ``-2`` - or value ``0`` - exception indicating error occurs [\n",
    "[...] Anaconda - \"numpy.random.Generator.bytes,\" Docstring, June 2020.\n",
    "]\n",
    "\n",
    "```python\n",
    "newGenBitGenPCG64().bytes()\n",
    "```\n",
    "```\n",
    "TypeError: bytes() takes exactly one argument (0 given)\n",
    "```"
   ]
  },
  {
   "cell_type": "markdown",
   "metadata": {},
   "source": [
    "- nothing generated - ``b`` - indicated binary format - ``''`` - empty string [\n",
    "Python Documentation, \"Format String Syntax,\" [docs.python](https://web.archive.org/web/20200513140638/https://docs.python.org/3/library/string.html#format-string-syntax), July 2010.\n",
    "[...]\n",
    "]"
   ]
  },
  {
   "cell_type": "code",
   "execution_count": 90,
   "metadata": {},
   "outputs": [
    {
     "data": {
      "text/plain": [
       "b''"
      ]
     },
     "execution_count": 90,
     "metadata": {},
     "output_type": "execute_result"
    }
   ],
   "source": [
    "# package numpy - subpackage random - object Generator - method default_rng alias newGenBitGenPCG64 - instantiate\n",
    "newGenBitGenPCG64().bytes(0) # method bytes - call - equivalent"
   ]
  },
  {
   "cell_type": "code",
   "execution_count": 91,
   "metadata": {},
   "outputs": [
    {
     "data": {
      "text/plain": [
       "b''"
      ]
     },
     "execution_count": 91,
     "metadata": {},
     "output_type": "execute_result"
    }
   ],
   "source": [
    "# package numpy - subpackage random - object Generator - method default_rng alias newGenBitGenPCG64 - instantiate\n",
    "newGenBitGenPCG64().bytes(-3) # method bytes - call - equivalent"
   ]
  },
  {
   "cell_type": "markdown",
   "metadata": {},
   "source": [
    "- specifying keyword argument - ``length=???`` - exception indicating error occurs [\n",
    "[...] Anaconda - \"numpy.random.Generator.bytes,\" Docstring, June 2020.\n",
    "]\n",
    "\n",
    "```python\n",
    "newGenBitGenPCG64().bytes(length=1)\n",
    "```\n",
    "```\n",
    "TypeError: bytes() takes no keyword arguments\n",
    "```"
   ]
  },
  {
   "cell_type": "code",
   "execution_count": 92,
   "metadata": {},
   "outputs": [],
   "source": [
    "# package numpy - subpackage random - object Generator - method default_rng alias newGenBitGenPCG64 - instantiate\n",
    "nBytes=newGenBitGenPCG64().bytes(-2) # method bytes - call"
   ]
  },
  {
   "cell_type": "code",
   "execution_count": 93,
   "metadata": {},
   "outputs": [
    {
     "name": "stdout",
     "output_type": "stream",
     "text": [
      "<byte(s)>      : b'\\xd5@'\n",
      "<convert>      : [213, 64]\n"
     ]
    }
   ],
   "source": [
    "print(\"<byte(s)>      : {}\".format(nBytes))\n",
    "print(\"<convert>      : {}\".format(list(nBytes)))"
   ]
  },
  {
   "cell_type": "code",
   "execution_count": 94,
   "metadata": {},
   "outputs": [],
   "source": [
    "# package numpy - subpackage random - object Generator - method default_rng alias newGenBitGenPCG64 - instantiate\n",
    "nBytes=newGenBitGenPCG64().bytes(-1) # method bytes - call"
   ]
  },
  {
   "cell_type": "code",
   "execution_count": 95,
   "metadata": {},
   "outputs": [
    {
     "name": "stdout",
     "output_type": "stream",
     "text": [
      "<byte(s)>      : b'z^\\xdd'\n",
      "<convert>      : [122, 94, 221]\n"
     ]
    }
   ],
   "source": [
    "print(\"<byte(s)>      : {}\".format(nBytes))\n",
    "print(\"<convert>      : {}\".format(list(nBytes)))"
   ]
  },
  {
   "cell_type": "markdown",
   "metadata": {},
   "source": [
    "- two bytes generated - separated by - ``\\`` - escape - ``x`` - indicated hexadecimal format - followed by generated random byte in hexadecimal [\n",
    "Python Documentation, \"Format String Syntax,\" [docs.python](https://web.archive.org/web/20200513140638/https://docs.python.org/3/library/string.html#format-string-syntax), July 2010.\n",
    "[...]\n",
    "]"
   ]
  },
  {
   "cell_type": "code",
   "execution_count": 96,
   "metadata": {},
   "outputs": [],
   "source": [
    "# package numpy - subpackage random - object Generator - method default_rng alias newGenBitGenPCG64 - instantiate\n",
    "nBytes=newGenBitGenPCG64().bytes(2) # method bytes - call"
   ]
  },
  {
   "cell_type": "code",
   "execution_count": 97,
   "metadata": {},
   "outputs": [
    {
     "name": "stdout",
     "output_type": "stream",
     "text": [
      "<byte(s)>      : b'\\x891'\n",
      "<convert>      : [137, 49]\n"
     ]
    }
   ],
   "source": [
    "print(\"<byte(s)>      : {}\".format(nBytes))\n",
    "print(\"<convert>      : {}\".format(list(nBytes)))"
   ]
  },
  {
   "cell_type": "code",
   "execution_count": 98,
   "metadata": {},
   "outputs": [
    {
     "name": "stdout",
     "output_type": "stream",
     "text": [
      "        length : int\n",
      "            Number of random bytes.\n"
     ]
    }
   ],
   "source": [
    "# package numpy - subpackage random - object Generator - method default_rng alias newGenBitGenPCG64 - instantiate\n",
    "print(\"\\n\".join(newGenBitGenPCG64().bytes.__doc__.split(\"\\n\")[7:9])) # method bytes - attr __doc__ - access"
   ]
  },
  {
   "cell_type": "markdown",
   "metadata": {},
   "source": [
    "###### 2.4.3 - Return - str"
   ]
  },
  {
   "cell_type": "markdown",
   "metadata": {},
   "source": [
    "- name - ``nByte`` - string returned of length parameter - ``length`` [\n",
    "[...] Anaconda - \"numpy.random.Generator.bytes,\" Docstring, June 2020.\n",
    "]"
   ]
  },
  {
   "cell_type": "code",
   "execution_count": 99,
   "metadata": {},
   "outputs": [
    {
     "data": {
      "text/plain": [
       "b'\\x891'"
      ]
     },
     "execution_count": 99,
     "metadata": {},
     "output_type": "execute_result"
    }
   ],
   "source": [
    "nBytes"
   ]
  },
  {
   "cell_type": "code",
   "execution_count": 100,
   "metadata": {},
   "outputs": [
    {
     "data": {
      "text/plain": [
       "2"
      ]
     },
     "execution_count": 100,
     "metadata": {},
     "output_type": "execute_result"
    }
   ],
   "source": [
    "len(nBytes)"
   ]
  },
  {
   "cell_type": "code",
   "execution_count": 101,
   "metadata": {},
   "outputs": [
    {
     "name": "stdout",
     "output_type": "stream",
     "text": [
      "        Returns\n",
      "        -------\n",
      "        out : str\n",
      "            String of length `length`.\n"
     ]
    }
   ],
   "source": [
    "# package numpy - subpackage random - object Generator - method default_rng alias newGenBitGenPCG64 - instantiate\n",
    "print(\"\\n\".join(newGenBitGenPCG64().bytes.__doc__.split(\"\\n\")[10:14])) # method bytes - attr __doc__ - access"
   ]
  },
  {
   "cell_type": "markdown",
   "metadata": {},
   "source": [
    "##### 2.5.0 - Use - Simple Random Data - numpy.random.Generator.shuffle"
   ]
  },
  {
   "cell_type": "markdown",
   "metadata": {},
   "source": [
    "- sorting algorithms arrange items according to some pre-defined ordering rules - the in-place property for such algorithm is desirable given it uses a fixed additional amount of working space independent of the input size [\n",
    "[...] P. Mannion, \"Computational Thinking with Algorithms - Sorting,\" GMIT, March 2019.\n",
    "] - uses the same memory that contains the input data - transforming said input data in-place [\n",
    "[...] GeeksForGeeks, \"In-Place Algorithm,\" [geeksforgeeks](https://web.archive.org/web/20201120123410/https://www.geeksforgeeks.org/in-place-algorithm), July 2019.\n",
    "]"
   ]
  },
  {
   "cell_type": "markdown",
   "metadata": {},
   "source": [
    "- shuffle - arranges a collection of items by shuffling its contents - exhibits the in-place property - the contents of the collection remain - its only the order of the items that change - no new object is created [\n",
    "[...] Anaconda - \"numpy.random.Generator.shuffle,\" Docstring, June 2020.\n",
    "]"
   ]
  },
  {
   "cell_type": "code",
   "execution_count": 102,
   "metadata": {},
   "outputs": [
    {
     "name": "stdout",
     "output_type": "stream",
     "text": [
      "        Modify a sequence in-place by shuffling its contents.\n",
      "\n",
      "        The order of sub-arrays is changed but their contents remains the same.\n"
     ]
    }
   ],
   "source": [
    "# package numpy - subpackage random - object Generator - method default_rng alias newGenBitGenPCG64 - instantiate\n",
    "print(\"\\n\".join(newGenBitGenPCG64().shuffle.__doc__.split(\"\\n\")[3:6])) # method shuffle - attr __doc__ - access"
   ]
  },
  {
   "cell_type": "markdown",
   "metadata": {},
   "source": [
    "###### 2.5.1 - Signature"
   ]
  },
  {
   "cell_type": "code",
   "execution_count": 103,
   "metadata": {},
   "outputs": [
    {
     "name": "stdout",
     "output_type": "stream",
     "text": [
      "        shuffle(x, axis=0)\n"
     ]
    }
   ],
   "source": [
    "# package numpy - subpackage random - object Generator - method default_rng alias newGenBitGenPCG64 - instantiate\n",
    "print(\"\\n\".join(newGenBitGenPCG64().shuffle.__doc__.split(\"\\n\")[1:2])) # method shuffle - attr __doc__ - access"
   ]
  },
  {
   "cell_type": "markdown",
   "metadata": {},
   "source": [
    "###### 2.5.2 - Parameter - x"
   ]
  },
  {
   "cell_type": "markdown",
   "metadata": {},
   "source": [
    "- initialising parameter - ``x`` - compound type - ``list`` - or - ``array`` - initialising with any other compound types - ``tuple`` - ``dict`` - ``set`` - exception indicating error occurs [\n",
    "[...] Anaconda - \"numpy.random.Generator.shuffle,\" Docstring, June 2020.\n",
    "]\n",
    "\n",
    "```python\n",
    "nSet={0,1,2,3,4,5,6.7,8,9}\n",
    "newGenBitGenPCG64().shuffle(x=nSet)\n",
    "```\n",
    "```\n",
    "AxisError: axis 0 is out of bounds for array of dimension 0\n",
    "```\n",
    "\n",
    "```python\n",
    "nTuple=0, 1, 2, 3, 4, 5, 6.7, 8, 9\n",
    "newGenBitGenPCG64().shuffle(x=nTuple)\n",
    "```\n",
    "```\n",
    "TypeError: 'tuple' object does not support item assignment\n",
    "```\n",
    "\n",
    "```python\n",
    "nDict={\"one\":1,\"two\":2,\"three\":3,\"four\":4,\"five\":5}\n",
    "newGenBitGenPCG64().shuffle(x=nDict)\n",
    "```\n",
    "```\n",
    "AxisError: axis 0 is out of bounds for array of dimension 0\n",
    "```"
   ]
  },
  {
   "cell_type": "code",
   "execution_count": 104,
   "metadata": {},
   "outputs": [
    {
     "data": {
      "text/plain": [
       "[0, 1, 2, 3, 4, 5, 6, 7, 8, 9]"
      ]
     },
     "execution_count": 104,
     "metadata": {},
     "output_type": "execute_result"
    }
   ],
   "source": [
    "nList=list(range(10))\n",
    "nList"
   ]
  },
  {
   "cell_type": "code",
   "execution_count": 105,
   "metadata": {},
   "outputs": [
    {
     "data": {
      "text/plain": [
       "1858873463680"
      ]
     },
     "execution_count": 105,
     "metadata": {},
     "output_type": "execute_result"
    }
   ],
   "source": [
    "id(nList) # memory location"
   ]
  },
  {
   "cell_type": "code",
   "execution_count": 106,
   "metadata": {},
   "outputs": [],
   "source": [
    "# package numpy - subpackage random - object Generator - method default_rng alias newGenBitGenPCG64 - instantiate\n",
    "newGenBitGenPCG64().shuffle(x=nList) # method shuffle - call"
   ]
  },
  {
   "cell_type": "markdown",
   "metadata": {},
   "source": [
    "- shuffles - contents of the container - ``nList`` [\n",
    "[...] Anaconda - \"numpy.random.Generator.shuffle,\" Docstring, June 2020.\n",
    "]"
   ]
  },
  {
   "cell_type": "code",
   "execution_count": 107,
   "metadata": {},
   "outputs": [
    {
     "data": {
      "text/plain": [
       "[7, 4, 3, 6, 0, 8, 1, 2, 5, 9]"
      ]
     },
     "execution_count": 107,
     "metadata": {},
     "output_type": "execute_result"
    }
   ],
   "source": [
    "nList # shuffled list"
   ]
  },
  {
   "cell_type": "markdown",
   "metadata": {},
   "source": [
    "- same memory location as the original [\n",
    "[...] Anaconda - \"numpy.random.Generator.shuffle,\" Docstring, June 2020.\n",
    "]"
   ]
  },
  {
   "cell_type": "code",
   "execution_count": 108,
   "metadata": {},
   "outputs": [
    {
     "data": {
      "text/plain": [
       "1858873463680"
      ]
     },
     "execution_count": 108,
     "metadata": {},
     "output_type": "execute_result"
    }
   ],
   "source": [
    "id(nList) # memory location"
   ]
  },
  {
   "cell_type": "code",
   "execution_count": 109,
   "metadata": {},
   "outputs": [],
   "source": [
    "# b_T_hird_P_arty-imports\n",
    "from numpy.core import arange as arrayEvenlySpaced"
   ]
  },
  {
   "cell_type": "code",
   "execution_count": 110,
   "metadata": {},
   "outputs": [
    {
     "data": {
      "text/plain": [
       "array([0, 1, 2, 3, 4, 5, 6, 7, 8, 9])"
      ]
     },
     "execution_count": 110,
     "metadata": {},
     "output_type": "execute_result"
    }
   ],
   "source": [
    "# package numpy - subpackage core - C function arange alias arrayEvenlySpaced - call\n",
    "nArray=arrayEvenlySpaced(10)\n",
    "nArray"
   ]
  },
  {
   "cell_type": "code",
   "execution_count": 111,
   "metadata": {},
   "outputs": [
    {
     "data": {
      "text/plain": [
       "1858873229360"
      ]
     },
     "execution_count": 111,
     "metadata": {},
     "output_type": "execute_result"
    }
   ],
   "source": [
    "id(nArray) # memory location"
   ]
  },
  {
   "cell_type": "code",
   "execution_count": 112,
   "metadata": {},
   "outputs": [],
   "source": [
    "# package numpy - subpackage random - object Generator - method default_rng alias newGenBitGenPCG64 - instantiate\n",
    "newGenBitGenPCG64().shuffle(x=nArray) # method shuffle - call - equivalent"
   ]
  },
  {
   "cell_type": "markdown",
   "metadata": {},
   "source": [
    "- shuffles - contents of the container - ``nArray`` [\n",
    "[...] Anaconda - \"numpy.random.Generator.shuffle,\" Docstring, June 2020.\n",
    "]"
   ]
  },
  {
   "cell_type": "code",
   "execution_count": 113,
   "metadata": {},
   "outputs": [
    {
     "data": {
      "text/plain": [
       "array([9, 7, 1, 5, 4, 3, 6, 8, 2, 0])"
      ]
     },
     "execution_count": 113,
     "metadata": {},
     "output_type": "execute_result"
    }
   ],
   "source": [
    "nArray # shuffled 1-dimensional array"
   ]
  },
  {
   "cell_type": "markdown",
   "metadata": {},
   "source": [
    "- same memory location as the original [\n",
    "[...] Anaconda - \"numpy.random.Generator.shuffle,\" Docstring, June 2020.\n",
    "]"
   ]
  },
  {
   "cell_type": "code",
   "execution_count": 114,
   "metadata": {},
   "outputs": [
    {
     "data": {
      "text/plain": [
       "1858873229360"
      ]
     },
     "execution_count": 114,
     "metadata": {},
     "output_type": "execute_result"
    }
   ],
   "source": [
    "id(nArray) # memory location"
   ]
  },
  {
   "cell_type": "markdown",
   "metadata": {},
   "source": [
    "###### 2.5.2 - Parameter - axis"
   ]
  },
  {
   "cell_type": "markdown",
   "metadata": {},
   "source": [
    "- optional - shuffling a multi-dimensional array - supported only on container object - ``ndarray`` - not supported on multi-dimensional lists - ``nList`` - exception indicating error occurs [\n",
    "[...] Anaconda - \"numpy.random.Generator.integers,\" Docstring, June 2020.\n",
    "]\n",
    "\n",
    "```python\n",
    "nList=list([[0,1,2,3,4],[5,6,7,8,9]])\n",
    "nList[0] # [0, 1, 2, 3, 4]\n",
    "nList[1] # [5, 6, 7, 8, 9]\n",
    "newGenBitGenPCG64().shuffle(x=nList,axis=1)\n",
    "```\n",
    "```\n",
    "NotImplementedError: Axis argument is only supported on ndarray objects\n",
    "```"
   ]
  },
  {
   "cell_type": "code",
   "execution_count": 115,
   "metadata": {},
   "outputs": [
    {
     "data": {
      "text/plain": [
       "numpy.ndarray"
      ]
     },
     "execution_count": 115,
     "metadata": {},
     "output_type": "execute_result"
    }
   ],
   "source": [
    "type(nArray) # supported"
   ]
  },
  {
   "cell_type": "code",
   "execution_count": 116,
   "metadata": {},
   "outputs": [],
   "source": [
    "# b_T_hird_P_arty-imports\n",
    "from numpy.core import reshape as arrayNewShape"
   ]
  },
  {
   "cell_type": "markdown",
   "metadata": {},
   "source": [
    "- changing array - ``nArray`` - dimension (Appendix D - Diagonal) - 2-dimenional array - ``m*n`` - ``2x5`` - visualise as two rows and five columns - same contents as the original [\n",
    "[...] Anaconda - \"numpy.random.Generator.shuffle,\" Docstring, June 2020.\n",
    "][\n",
    "[...] Math Is Fun, \"Diagonal,\", [mathsisfun](https://web.archive.org/web/20201118085013/https://www.mathsisfun.com/definitions/diagonal.html), November 2012.\n",
    "][\n",
    "[...] kmario23, \"what does numpy ndarray shape do?,\" [stackoverflow](https://web.archive.org/web/20201117074506/https://stackoverflow.com/questions/47564495/what-does-numpy-ndarray-shape-do), November 2017.\n",
    "][\n",
    "[...] praneethharsha10, \"Multidimensional Arrays in Java,\" [geeksforgeeks](https://web.archive.org/web/20201118090649/https://www.geeksforgeeks.org/multidimensional-arrays-in-java), May 2020.\n",
    "]"
   ]
  },
  {
   "cell_type": "code",
   "execution_count": 117,
   "metadata": {},
   "outputs": [
    {
     "data": {
      "text/plain": [
       "array([9, 7, 1, 5, 4, 3, 6, 8, 2, 0])"
      ]
     },
     "execution_count": 117,
     "metadata": {},
     "output_type": "execute_result"
    }
   ],
   "source": [
    "nArray # 1-dimensional - shuffled"
   ]
  },
  {
   "cell_type": "markdown",
   "metadata": {},
   "source": [
    "- reset container - ``nArray`` [\n",
    "[...] No Reference.\n",
    "]"
   ]
  },
  {
   "cell_type": "code",
   "execution_count": 118,
   "metadata": {},
   "outputs": [
    {
     "data": {
      "text/plain": [
       "array([0, 1, 2, 3, 4, 5, 6, 7, 8, 9])"
      ]
     },
     "execution_count": 118,
     "metadata": {},
     "output_type": "execute_result"
    }
   ],
   "source": [
    "# package numpy - subpackage core - C function arange alias arrayEvenlySpaced - call\n",
    "nArray=arrayEvenlySpaced(10)\n",
    "nArray"
   ]
  },
  {
   "cell_type": "code",
   "execution_count": 119,
   "metadata": {},
   "outputs": [],
   "source": [
    "# package numpy - subpackage core - C function reshape alias arrayNewShape - call\n",
    "nArray=arrayNewShape(nArray,(2,5))"
   ]
  },
  {
   "cell_type": "code",
   "execution_count": 120,
   "metadata": {},
   "outputs": [
    {
     "data": {
      "text/plain": [
       "array([[0, 1, 2, 3, 4],\n",
       "       [5, 6, 7, 8, 9]])"
      ]
     },
     "execution_count": 120,
     "metadata": {},
     "output_type": "execute_result"
    }
   ],
   "source": [
    "nArray # 2-dimensional array"
   ]
  },
  {
   "cell_type": "code",
   "execution_count": 121,
   "metadata": {},
   "outputs": [],
   "source": [
    "# package numpy - subpackage random - object Generator - method default_rng alias newGenBitGenPCG64 - instantiate\n",
    "newGenBitGenPCG64().shuffle(x=nArray) # method shuffle - call"
   ]
  },
  {
   "cell_type": "code",
   "execution_count": 122,
   "metadata": {},
   "outputs": [
    {
     "data": {
      "text/plain": [
       "array([[0, 1, 2, 3, 4],\n",
       "       [5, 6, 7, 8, 9]])"
      ]
     },
     "execution_count": 122,
     "metadata": {},
     "output_type": "execute_result"
    }
   ],
   "source": [
    "nArray # 2-dimensional array"
   ]
  },
  {
   "cell_type": "markdown",
   "metadata": {},
   "source": [
    "- shuffle take place on parameter - ``x`` - default - ``0`` - ``nArray[0]`` - given container - ``nArray`` - reshaped - two rows - five column - 2-dimensional - shuffles the two dimensions - ``nArray[0]`` - ``nArray[1]`` - not the contents of each actual container [\n",
    "[...] Anaconda - \"numpy.random.Generator.shuffle,\" Docstring, June 2020.\n",
    "]"
   ]
  },
  {
   "cell_type": "code",
   "execution_count": 123,
   "metadata": {},
   "outputs": [],
   "source": [
    "# package numpy - subpackage random - object Generator - method default_rng alias newGenBitGenPCG64 - instantiate\n",
    "newGenBitGenPCG64().shuffle(x=nArray,axis=0) # method shuffle - call- equivalent"
   ]
  },
  {
   "cell_type": "code",
   "execution_count": 124,
   "metadata": {},
   "outputs": [
    {
     "data": {
      "text/plain": [
       "array([5, 6, 7, 8, 9])"
      ]
     },
     "execution_count": 124,
     "metadata": {},
     "output_type": "execute_result"
    }
   ],
   "source": [
    "nArray[0] # x"
   ]
  },
  {
   "cell_type": "code",
   "execution_count": 125,
   "metadata": {},
   "outputs": [
    {
     "data": {
      "text/plain": [
       "array([0, 1, 2, 3, 4])"
      ]
     },
     "execution_count": 125,
     "metadata": {},
     "output_type": "execute_result"
    }
   ],
   "source": [
    "nArray[1] # y"
   ]
  },
  {
   "cell_type": "code",
   "execution_count": 126,
   "metadata": {},
   "outputs": [
    {
     "data": {
      "text/plain": [
       "array([[5, 6, 7, 8, 9],\n",
       "       [0, 1, 2, 3, 4]])"
      ]
     },
     "execution_count": 126,
     "metadata": {},
     "output_type": "execute_result"
    }
   ],
   "source": [
    "nArray # 2-dimensional array"
   ]
  },
  {
   "cell_type": "markdown",
   "metadata": {},
   "source": [
    "- initialising parameter - ``axis`` - ``1`` - ``nArray[1]`` - shuffles the contents of each dimension - actual items in each dimension [\n",
    "[...] Anaconda - \"numpy.random.Generator.shuffle,\" Docstring, June 2020.\n",
    "]"
   ]
  },
  {
   "cell_type": "code",
   "execution_count": 127,
   "metadata": {},
   "outputs": [],
   "source": [
    "# package numpy - subpackage random - object Generator - method default_rng alias newGenBitGenPCG64 - instantiate\n",
    "newGenBitGenPCG64().shuffle(x=nArray,axis=1) # method shuffle - call"
   ]
  },
  {
   "cell_type": "code",
   "execution_count": 128,
   "metadata": {},
   "outputs": [
    {
     "data": {
      "text/plain": [
       "array([5, 7, 6, 9, 8])"
      ]
     },
     "execution_count": 128,
     "metadata": {},
     "output_type": "execute_result"
    }
   ],
   "source": [
    "nArray[0] # x"
   ]
  },
  {
   "cell_type": "code",
   "execution_count": 129,
   "metadata": {},
   "outputs": [
    {
     "data": {
      "text/plain": [
       "array([0, 2, 1, 4, 3])"
      ]
     },
     "execution_count": 129,
     "metadata": {},
     "output_type": "execute_result"
    }
   ],
   "source": [
    "nArray[1] # y"
   ]
  },
  {
   "cell_type": "code",
   "execution_count": 130,
   "metadata": {},
   "outputs": [
    {
     "data": {
      "text/plain": [
       "array([[5, 7, 6, 9, 8],\n",
       "       [0, 2, 1, 4, 3]])"
      ]
     },
     "execution_count": 130,
     "metadata": {},
     "output_type": "execute_result"
    }
   ],
   "source": [
    "nArray # 2-dimensional array"
   ]
  },
  {
   "cell_type": "code",
   "execution_count": 131,
   "metadata": {},
   "outputs": [
    {
     "name": "stdout",
     "output_type": "stream",
     "text": [
      "        axis : int, optional\n",
      "            The axis which `x` is shuffled along. Default is 0.\n",
      "            It is only supported on `ndarray` objects.\n"
     ]
    }
   ],
   "source": [
    "# package numpy - subpackage random - object Generator - method default_rng alias newGenBitGenPCG64 - instantiate\n",
    "print(\"\\n\".join(newGenBitGenPCG64().shuffle.__doc__.split(\"\\n\")[11:14])) # method shuffle - attr __doc__ - access"
   ]
  },
  {
   "cell_type": "markdown",
   "metadata": {},
   "source": [
    "###### 2.5.3 - Return - None"
   ]
  },
  {
   "cell_type": "code",
   "execution_count": 132,
   "metadata": {},
   "outputs": [
    {
     "name": "stdout",
     "output_type": "stream",
     "text": [
      "        Returns\n",
      "        -------\n",
      "        None\n"
     ]
    }
   ],
   "source": [
    "# package numpy - subpackage random - object Generator - method default_rng alias newGenBitGenPCG64 - instantiate\n",
    "print(\"\\n\".join(newGenBitGenPCG64().shuffle.__doc__.split(\"\\n\")[15:18])) # method shuffle - attr __doc__ - access"
   ]
  },
  {
   "cell_type": "markdown",
   "metadata": {},
   "source": [
    "- collection contents remain - order of the items change - no new object is created [\n",
    "[...] Anaconda - \"numpy.random.Generator.shuffle,\" Docstring, June 2020.\n",
    "]"
   ]
  },
  {
   "cell_type": "code",
   "execution_count": 133,
   "metadata": {},
   "outputs": [
    {
     "data": {
      "text/plain": [
       "list"
      ]
     },
     "execution_count": 133,
     "metadata": {},
     "output_type": "execute_result"
    }
   ],
   "source": [
    "type(nList)"
   ]
  },
  {
   "cell_type": "code",
   "execution_count": 134,
   "metadata": {},
   "outputs": [
    {
     "data": {
      "text/plain": [
       "NoneType"
      ]
     },
     "execution_count": 134,
     "metadata": {},
     "output_type": "execute_result"
    }
   ],
   "source": [
    "# package numpy - subpackage random - object Generator - method default_rng alias newGenBitGenPCG64 - instantiate\n",
    "type(newGenBitGenPCG64().shuffle(nList)) # method shuffle - call"
   ]
  },
  {
   "cell_type": "code",
   "execution_count": 135,
   "metadata": {},
   "outputs": [
    {
     "data": {
      "text/plain": [
       "numpy.ndarray"
      ]
     },
     "execution_count": 135,
     "metadata": {},
     "output_type": "execute_result"
    }
   ],
   "source": [
    "type(nArray)"
   ]
  },
  {
   "cell_type": "code",
   "execution_count": 136,
   "metadata": {},
   "outputs": [
    {
     "data": {
      "text/plain": [
       "NoneType"
      ]
     },
     "execution_count": 136,
     "metadata": {},
     "output_type": "execute_result"
    }
   ],
   "source": [
    "# package numpy - subpackage random - object Generator - method default_rng alias newGenBitGenPCG64 - instantiate\n",
    "type(newGenBitGenPCG64().shuffle(nArray)) # method shuffle - call"
   ]
  },
  {
   "cell_type": "markdown",
   "metadata": {},
   "source": [
    "###### Permutations - numpy.random.Generator.permutation"
   ]
  },
  {
   "cell_type": "markdown",
   "metadata": {},
   "source": [
    "- examples - numpy - documentation [2.2]"
   ]
  },
  {
   "cell_type": "code",
   "execution_count": 137,
   "metadata": {},
   "outputs": [
    {
     "ename": "NameError",
     "evalue": "name 'nInsObjGBT' is not defined",
     "output_type": "error",
     "traceback": [
      "\u001b[1;31m---------------------------------------------------------------------------\u001b[0m",
      "\u001b[1;31mNameError\u001b[0m                                 Traceback (most recent call last)",
      "\u001b[1;32m<ipython-input-137-e9c70646da90>\u001b[0m in \u001b[0;36m<module>\u001b[1;34m\u001b[0m\n\u001b[0;32m      1\u001b[0m \u001b[1;31m# package numpy - subpackage random - object Generator - method permutation - call\u001b[0m\u001b[1;33m\u001b[0m\u001b[1;33m\u001b[0m\u001b[1;33m\u001b[0m\u001b[0m\n\u001b[1;32m----> 2\u001b[1;33m \u001b[0mnInsObjGBT\u001b[0m\u001b[1;33m.\u001b[0m\u001b[0mpermutation\u001b[0m\u001b[1;33m(\u001b[0m\u001b[1;36m10\u001b[0m\u001b[1;33m)\u001b[0m\u001b[1;33m\u001b[0m\u001b[1;33m\u001b[0m\u001b[0m\n\u001b[0m",
      "\u001b[1;31mNameError\u001b[0m: name 'nInsObjGBT' is not defined"
     ]
    }
   ],
   "source": [
    "# package numpy - subpackage random - object Generator - method permutation - call\n",
    "nInsObjGBT.permutation(10)"
   ]
  },
  {
   "cell_type": "code",
   "execution_count": null,
   "metadata": {},
   "outputs": [],
   "source": [
    "# package numpy - subpackage random - object Generator - method permutation - call\n",
    "nInsObjGBT.permutation([1,4,9,12,15])"
   ]
  },
  {
   "cell_type": "code",
   "execution_count": null,
   "metadata": {},
   "outputs": [],
   "source": [
    "# package numpy - subpackage core - C function arange alias arrayEvenlySpaced - call\n",
    "nArray=arrayEvenlySpaced(9)"
   ]
  },
  {
   "cell_type": "code",
   "execution_count": null,
   "metadata": {},
   "outputs": [],
   "source": [
    "# package numpy - subpackage core - C function reshape alias arrayNewShape - call\n",
    "nArray=arrayNewShape(nArray,(3,3))"
   ]
  },
  {
   "cell_type": "code",
   "execution_count": null,
   "metadata": {},
   "outputs": [],
   "source": [
    "# package numpy - subpackage random - object Generator - method permutation - call\n",
    "nInsObjGBT.permutation(nArray)"
   ]
  },
  {
   "cell_type": "code",
   "execution_count": null,
   "metadata": {},
   "outputs": [],
   "source": [
    "# package numpy - subpackage random - object Generator - method permutation - call\n",
    "nInsObjGBT.permutation(nArray,axis=1)"
   ]
  },
  {
   "cell_type": "markdown",
   "metadata": {},
   "source": [
    "***\n",
    "#### References\n",
    "&nbsp;&nbsp;&nbsp;&nbsp;&nbsp;&nbsp;&nbsp;&nbsp;&nbsp;[2.1] Documentation, \"numpy.random.Generator.shuffle,\" [NumPy](https://web.archive.org/web/20201103103712/https://numpy.org/doc/stable/reference/random/generated/numpy.random.Generator.shuffle.html#numpy-random-generator-shuffle), June 2020.\n",
    "\n",
    "&nbsp;&nbsp;&nbsp;&nbsp;&nbsp;&nbsp;&nbsp;&nbsp;&nbsp;[2.2] Documentation, \"numpy.random.Generator.permutation,\" [NumPy](https://web.archive.org/web/20201103112923/https://numpy.org/doc/stable/reference/random/generated/numpy.random.Generator.permutation.html#numpy-random-generator-permutation), June 2020.\n",
    "***\n",
    "#### END"
   ]
  },
  {
   "cell_type": "markdown",
   "metadata": {},
   "source": [
    "## Task 3"
   ]
  },
  {
   "cell_type": "markdown",
   "metadata": {},
   "source": [
    "###### Prerequisite - Probability Distributions\n",
    "***"
   ]
  },
  {
   "cell_type": "markdown",
   "metadata": {},
   "source": [
    "- classified - discrete probability distributions - or - continuous probability distributions - depend on whether the array/distribution define probabilities associated with variables that are either - discrete - continuous [\n",
    "[...] StarTrek, \"Probability Distributions: Discrete vs. Continuous,\" [startrek](https://web.archive.org/web/20201106155243/https://stattrek.com/probability-distributions/discrete-continuous.aspx), November 2015.\n",
    "]"
   ]
  },
  {
   "cell_type": "markdown",
   "metadata": {},
   "source": [
    "> Discrete Variables"
   ]
  },
  {
   "cell_type": "markdown",
   "metadata": {},
   "source": [
    "- discrete variables - countable in a finite amount of time - count the change in a wallet - count the money in a bank account - count amount of money in everyones bank account [\n",
    "[...] Statistics How To, \"Discrete vs Continuous variables: How to Tell the Difference,\" [statisticshowto](https://web.archive.org/web/20201108073006/https://www.statisticshowto.com/probability-and-statistics/statistics-definitions/discrete-vs-continuous-variables), November 2013.\n",
    "] "
   ]
  },
  {
   "cell_type": "markdown",
   "metadata": {},
   "source": [
    "- real-world - flip a coin - count number of heads - the count could be any integer value between ``0`` and plus - $\\infty$ - ``infinity`` - not possible to get 2.5 heads [\n",
    "[...] StarTrek, \"Probability Distributions: Discrete vs. Continuous,\" [startrek](https://web.archive.org/web/20201106155243/https://stattrek.com/probability-distributions/discrete-continuous.aspx), November 2015.\n",
    "]\n",
    "\n",
    "\n",
    "- $\\infty$ - adjective - refer to the quality of being boundless - infinitely small - infinitely close - describing an object whose quantity or limit is larger than any natural number or real number [\n",
    "[...] Math Vault, \"The Definitive Glossary of Higher Mathematical Jargon,\" [mathvault](https://web.archive.org/web/20201108073635/https://mathvault.ca/math-glossary/#infinite), October 2019.\n",
    "] "
   ]
  },
  {
   "cell_type": "markdown",
   "metadata": {},
   "source": [
    "- although counting the last item - $\\infty$ - discrete variables are still countable [\n",
    "[...] Statistics How To, \"Discrete vs Continuous variables: How to Tell the Difference,\" [statisticshowto](https://web.archive.org/web/20201108073006/https://www.statisticshowto.com/probability-and-statistics/statistics-definitions/discrete-vs-continuous-variables), November 2013.\n",
    "]"
   ]
  },
  {
   "cell_type": "code",
   "execution_count": null,
   "metadata": {},
   "outputs": [],
   "source": [
    "# b_T_hird_P_arty-imports\n",
    "from matplotlib.pyplot import plot as p\n",
    "from matplotlib.style.core import use as u\n",
    "# package matplotlib - subpackage style - module core - function use alias u - call\n",
    "u(\"default\")"
   ]
  },
  {
   "cell_type": "code",
   "execution_count": null,
   "metadata": {},
   "outputs": [],
   "source": [
    "nInfinity=4"
   ]
  },
  {
   "cell_type": "markdown",
   "metadata": {},
   "source": [
    "- discrete variables on a scatter plot - individual points [\n",
    "[...] CK-12 Foundation, \"Basic Graph Types,\" [ck-12](http://web.archive.org/web/20201108091523/https://www.ck12.org/statistics/graphs-for-discrete-and-for-continuous-data/lesson/Basic-Graph-Types-BSC-PST), July 2013.\n",
    "]"
   ]
  },
  {
   "cell_type": "code",
   "execution_count": null,
   "metadata": {},
   "outputs": [],
   "source": [
    "# package matplotlib - module pyplot - function plot alias p - call\n",
    "p([1,2,3,nInfinity],\"b.\");"
   ]
  },
  {
   "cell_type": "markdown",
   "metadata": {},
   "source": [
    "> Continuous Variables"
   ]
  },
  {
   "cell_type": "markdown",
   "metadata": {},
   "source": [
    "- continuous variables - literally take forever to count - cannot count age - time is a continuous variable - take forever to count - never finish counting - can turn a continuous variable - age - into a discrete variable in order to be able to count it - taking persons age in years or months [\n",
    "[...] Statistics How To, \"Discrete vs Continuous variables: How to Tell the Difference,\" [statisticshowto](https://web.archive.org/web/20201108073006/https://www.statisticshowto.com/probability-and-statistics/statistics-definitions/discrete-vs-continuous-variables), November 2013.\n",
    "] "
   ]
  },
  {
   "cell_type": "markdown",
   "metadata": {},
   "source": [
    "- real-world - fire department recruitment requirement - fire fighters must weigh between ``70kgs`` and ``110kgs`` - weight of the fire fighter is a continuous variable since weight could take on any value between ``70kgs`` and ``110kgs`` [\n",
    "[...] StarTrek, \"Probability Distributions: Discrete vs. Continuous,\" [startrek](https://web.archive.org/web/20201106155243/https://stattrek.com/probability-distributions/discrete-continuous.aspx), November 2015.\n",
    "]"
   ]
  },
  {
   "cell_type": "code",
   "execution_count": null,
   "metadata": {},
   "outputs": [],
   "source": [
    "# b_T_hird_P_arty-imports\n",
    "from matplotlib.pyplot import legend as lgd\n",
    "from numpy.core import arange as arrayEvenlySpaced"
   ]
  },
  {
   "cell_type": "markdown",
   "metadata": {},
   "source": [
    "- continuous variables on a scatter plot - points connected via line [\n",
    "[...] CK-12 Foundation, \"Basic Graph Types,\" [ck-12](http://web.archive.org/web/20201108091523/https://www.ck12.org/statistics/graphs-for-discrete-and-for-continuous-data/lesson/Basic-Graph-Types-BSC-PST), July 2013.\n",
    "]"
   ]
  },
  {
   "cell_type": "code",
   "execution_count": null,
   "metadata": {},
   "outputs": [],
   "source": [
    "# package numpy - subpackage core - C function arange alias arrayEvenlySpaced - call\n",
    "nX=arrayEvenlySpaced(1.0,10.0,0.1)"
   ]
  },
  {
   "cell_type": "code",
   "execution_count": null,
   "metadata": {},
   "outputs": [],
   "source": [
    "# package matplotlib - module pyplot - function plot alias p - call\n",
    "p(2**nX,\"b-\",label=\"2^x\")\n",
    "# package matplotlib - module - pyplot - function legend alias ldg - call\n",
    "lgd();"
   ]
  },
  {
   "cell_type": "markdown",
   "metadata": {},
   "source": [
    "###### Explain the use and purpose of at least five “Distributions” functions.\n",
    "***"
   ]
  },
  {
   "cell_type": "markdown",
   "metadata": {},
   "source": [
    "- endeavour to split the task between - continuous probability distributions - discrete probability distributions [\n",
    "[...] No Reference.\n",
    "]"
   ]
  },
  {
   "cell_type": "code",
   "execution_count": null,
   "metadata": {},
   "outputs": [],
   "source": [
    "# b_T_hird_P_arty-imports\n",
    "from numpy.random import default_rng as newGenBitGenPCG64"
   ]
  },
  {
   "cell_type": "markdown",
   "metadata": {},
   "source": [
    "- taking random sample - data could be arranged such that its spread out in many different ways - more on the left - more on the right - all jumbled up [\n",
    "[...] Math Is Fun, \"Normal Distribution,\" [mathisfun](https://web.archive.org/web/20201106104058/https://www.mathsisfun.com/data/standard-normal-distribution.html), November 2014.\n",
    "]"
   ]
  },
  {
   "cell_type": "markdown",
   "metadata": {},
   "source": [
    "<img src=\"img/distribution-normal-spread-left-right-jumbled.png\" />\n",
    "\n",
    "***Math Is Fun, \"Normal Distribution,\" [mathisfun](https://web.archive.org/web/20201106104058/https://www.mathsisfun.com/data/standard-normal-distribution.html), November 2014.***"
   ]
  },
  {
   "cell_type": "markdown",
   "metadata": {},
   "source": [
    "> Continuous Probability Distributions"
   ]
  },
  {
   "cell_type": "markdown",
   "metadata": {},
   "source": [
    ">> Normal Distribution - numpy.random.Generator.normal"
   ]
  },
  {
   "cell_type": "markdown",
   "metadata": {},
   "source": [
    "- many cases - data tends to be around a central value with no bias - left or right - gets close to a normal distribtion - often called bell curve because of its shape [\n",
    "[...] Math Is Fun, \"Normal Distribution,\" [mathisfun](https://web.archive.org/web/20201106104058/https://www.mathsisfun.com/data/standard-normal-distribution.html), November 2014.\n",
    "][\n",
    "[...] Anaconda - \"numpy/random,\" Docstring, June 2020.\n",
    "]"
   ]
  },
  {
   "cell_type": "markdown",
   "metadata": {},
   "source": [
    "<img src=\"img/distribution-normal-spread-bell-curve.png\" />\n",
    "\n",
    "***Math Is Fun, \"Normal Distribution,\" [mathisfun](https://web.archive.org/web/20201106104058/https://www.mathsisfun.com/data/standard-normal-distribution.html), November 2014.***"
   ]
  },
  {
   "cell_type": "code",
   "execution_count": null,
   "metadata": {},
   "outputs": [],
   "source": [
    "# package numpy - subpackage random - object Generator - method default_rng alias newGenBitGenPCG64 - instantiate\n",
    "print(\"\\n\".join(newGenBitGenPCG64().normal.__doc__.split(\"\\n\")[3:10])) # method normal - attr __doc__ - access"
   ]
  },
  {
   "cell_type": "markdown",
   "metadata": {},
   "source": [
    "- nature - things such as - heights of people - size of things produced by machines - errors in measurements - blood pressure - marks on a test - follow a normal distribution - describes samples influenced by unplanned interferences - each having its own distinctive arrangement [\n",
    "[...] Math Is Fun, \"Normal Distribution,\" [mathisfun](https://web.archive.org/web/20201106104058/https://www.mathsisfun.com/data/standard-normal-distribution.html), November 2014.\n",
    "][\n",
    "[...] Anaconda - \"numpy/random,\" Docstring, June 2020.\n",
    "]"
   ]
  },
  {
   "cell_type": "code",
   "execution_count": null,
   "metadata": {
    "scrolled": true
   },
   "outputs": [],
   "source": [
    "# package numpy - subpackage random - object Generator - method default_rng alias newGenBitGenPCG64 - instantiate\n",
    "print(\"\\n\".join(newGenBitGenPCG64().normal.__doc__.split(\"\\n\")[10:15])) # method normal - attr __doc__ - access"
   ]
  },
  {
   "cell_type": "markdown",
   "metadata": {},
   "source": [
    ">> Uniform Distribution - numpy.random.Generator.uniform"
   ]
  },
  {
   "cell_type": "markdown",
   "metadata": {},
   "source": [
    "- taking random sample - data arranged such that its completely arbitrary except that it is known to lie between certain bounds - each value is equally likely to be drawn at random [\n",
    "[...] F.M. Dekking, C. Kraaikamp, H.P. Lopuhaä, L.E. Meester, \"A Modern Introduction to Probability and Statistics Understanding Why and How,\" Springer, 2005.\n",
    "] "
   ]
  },
  {
   "cell_type": "markdown",
   "metadata": {},
   "source": [
    "- half-open interval - one endpoint is included but not the other [\n",
    "[...] Wolfram, \"Half-Closed Interval,\" [mathworld.wolfram](https://web.archive.org/web/20201106190646/https://mathworld.wolfram.com/Half-ClosedInterval.html), Ootober 2020.\n",
    "] - includes - low - excludes - high [\n",
    "[...] Anaconda - \"numpy/random,\" Docstring, June 2020.\n",
    "]"
   ]
  },
  {
   "cell_type": "markdown",
   "metadata": {},
   "source": [
    "$$[low, high)$$"
   ]
  },
  {
   "cell_type": "markdown",
   "metadata": {},
   "source": [
    "<img src=\"img/distribution-uniform-half-open-interval.png\" />\n",
    "\n",
    "***Wolfram, \"Half-Closed Interval,\" [mathworld.wolfram](https://web.archive.org/web/20201106190646/https://mathworld.wolfram.com/Half-ClosedInterval.html), Ootober 2020.***"
   ]
  },
  {
   "cell_type": "markdown",
   "metadata": {},
   "source": [
    "- same principle as the most commonly used iterator in python - range - which generates a sequence of numbers - by convention the top of the object range is not included in the output [\n",
    "[...] J. VanderPlas, \"Built-In Data Structures,\" A Whirlwind Tour of Python, p. 39, August 2016.\n",
    "]"
   ]
  },
  {
   "cell_type": "code",
   "execution_count": null,
   "metadata": {},
   "outputs": [],
   "source": [
    "print(*range(0,2))"
   ]
  },
  {
   "cell_type": "code",
   "execution_count": null,
   "metadata": {
    "scrolled": true
   },
   "outputs": [],
   "source": [
    "# package numpy - subpackage random - object Generator - method default_rng alias newGenBitGenPCG64 - instantiate\n",
    "print(\"\\n\".join(newGenBitGenPCG64().uniform.__doc__.split(\"\\n\")[3:10])) # method uniform - attr __doc__ - access"
   ]
  },
  {
   "cell_type": "markdown",
   "metadata": {},
   "source": [
    ">> Chi-square Distribution - numpy.random.Generator.chisquare"
   ]
  },
  {
   "cell_type": "markdown",
   "metadata": {},
   "source": [
    "- taking random sample - independent random variables - ``df`` - real life - dealing with more than one random variable - physical characteristics of people in a certain area - picking person at random - look at - weight - height - the weight of the randomly chosen person is one random variable and the height is another random variable [\n",
    "[...] H. Pishro-Nik, \"3.1.4 Independent Random Variables,\" [probabilitycourse](https://web.archive.org/web/20201108072435/https://www.probabilitycourse.com/chapter3/3_1_4_independent_random_var.php), January 2010.\n",
    "]"
   ]
  },
  {
   "cell_type": "markdown",
   "metadata": {},
   "source": [
    "- each - ``df`` - with standard normal distributions - mean ``0`` - variance ``1`` [\n",
    "[...] Anaconda - \"numpy/random,\" Docstring, June 2020.\n",
    "] - mean - simple average of the numbers - variance - each number subtract the mean and square the result - then work out the average of those squared differences [\n",
    "[...] Math Is Fun, \"Normal Distribution,\" [mathisfun](http://web.archive.org/web/20201108103505/https://www.mathsisfun.com/data/standard-deviation.html), November 2014.\n",
    "]"
   ]
  },
  {
   "cell_type": "markdown",
   "metadata": {},
   "source": [
    "<img src=\"img/distribution-normal-mean-median-mode.png\" />\n",
    "\n",
    "***Math Is Fun, \"Normal Distribution,\" [mathisfun](https://web.archive.org/web/20201106104058/https://www.mathsisfun.com/data/standard-normal-distribution.html), November 2014.***"
   ]
  },
  {
   "cell_type": "markdown",
   "metadata": {},
   "source": [
    " - ``df`` - squared and summed - chi-square is the resulting distribution [\n",
    "[...] Anaconda - \"numpy/random,\" Docstring, June 2020.\n",
    "]"
   ]
  },
  {
   "cell_type": "markdown",
   "metadata": {},
   "source": [
    "- graphs - ``df`` - 5 and 10 - as ``df`` grows larger - the curve spread out from the right - becomes more like a normal distribution [\n",
    "[...] C. Zaiontx, \"Chi-square Distribution,\" [real-statistics](https://web.archive.org/web/20201108104406/https://www.real-statistics.com/chi-square-and-f-distributions/chi-square-distribution), n.d.\n",
    "]"
   ]
  },
  {
   "cell_type": "markdown",
   "metadata": {},
   "source": [
    "<img src=\"img/distribution-chi-square-spread-right.png\" />\n",
    "\n",
    "***C. Zaiontx, \"Chi-square Distribution,\" [real-statistics](https://web.archive.org/web/20201108104406/https://www.real-statistics.com/chi-square-and-f-distributions/chi-square-distribution), n.d.***"
   ]
  },
  {
   "cell_type": "code",
   "execution_count": null,
   "metadata": {
    "scrolled": true
   },
   "outputs": [],
   "source": [
    "# package numpy - subpackage random - object Generator - method default_rng alias newGenBitGenPCG64 - instantiate\n",
    "print(\"\\n\".join(newGenBitGenPCG64().chisquare.__doc__.split(\"\\n\")[3:10])) # method chisquare - attr __doc__ - access"
   ]
  },
  {
   "cell_type": "markdown",
   "metadata": {},
   "source": [
    "> Discrete Probability Distributions"
   ]
  },
  {
   "cell_type": "code",
   "execution_count": null,
   "metadata": {},
   "outputs": [],
   "source": [
    "# b_T_hird_P_arty-imports\n",
    "from numpy.random import Generator as CContainerBitGenerator\n",
    "from numpy.random import PCG64 as CPermutedCongruentialGenerator"
   ]
  },
  {
   "cell_type": "markdown",
   "metadata": {},
   "source": [
    "- PCG64 - default pseudo-random number generator - class - BitGenerator - algorithm is an implementation of O'Neill's permutation congruential generator [[...] Documentation, \"Permuted Congruential Generator (64-bit, PCG64),\" [NumPy](https://web.archive.org/web/20201102192029/https://numpy.org/doc/stable/reference/random/bit_generators/pcg64.html#permuted-congruential-generator-64-bit-pcg64), June 2020.]"
   ]
  },
  {
   "cell_type": "code",
   "execution_count": null,
   "metadata": {},
   "outputs": [],
   "source": [
    "# package numpy - subpackage random - object PCG64 alias CPermutedCongruentialGenerator - instantiate\n",
    "nPCG64=CPermutedCongruentialGenerator()"
   ]
  },
  {
   "cell_type": "markdown",
   "metadata": {},
   "source": [
    "- base - parent - class - BitGenerator [[...] Documentation, \"numpy.random.BitGenerator,\" [NumPy](https://web.archive.org/web/20201102114147/https://numpy.org/doc/stable/reference/random/bit_generators/generated/numpy.random.BitGenerator.html#numpy.random.BitGenerator), June 2020.] - of the - child - class - Generator [[...] Documentation, \"numpy.random.Generator,\" [NumPy](https://web.archive.org/web/20201102191659/https://numpy.org/doc/stable/reference/random/generator.html#random-generator), June 2020.]"
   ]
  },
  {
   "cell_type": "code",
   "execution_count": null,
   "metadata": {},
   "outputs": [],
   "source": [
    "# package numpy - subpackage random - object Generator alias CContainerBitGenerator - instantiate\n",
    "nContainerBitGen=CContainerBitGenerator(nPCG64)"
   ]
  },
  {
   "cell_type": "markdown",
   "metadata": {},
   "source": [
    "- recommended constructor - Generator - function - default_rng - which will instantiate a - Generator - with numpys default - BitGenerator - same outcome as above - will be implemented going forward given numpys recommendation [[...] Documentation, \"numpy.random.Generator,\" [NumPy](https://web.archive.org/web/20201102191659/https://numpy.org/doc/stable/reference/random/generator.html#random-generator), June 2020.] "
   ]
  },
  {
   "cell_type": "markdown",
   "metadata": {},
   "source": [
    ">> Binomial Distribution - numpy.random.Generator.binomial"
   ]
  },
  {
   "cell_type": "code",
   "execution_count": null,
   "metadata": {},
   "outputs": [],
   "source": [
    "# pkg numpy - subpkg random - obj Generator alias CContainerBitGenerator - method binomial - attri __doc__ - access\n",
    "print(nContainerBitGen.binomial.__doc__)"
   ]
  },
  {
   "cell_type": "markdown",
   "metadata": {},
   "source": [
    ">> Poisson Distribution - numpy.random.Generator.poisson"
   ]
  },
  {
   "cell_type": "code",
   "execution_count": null,
   "metadata": {},
   "outputs": [],
   "source": [
    "# pkg numpy - subpkg random - obj Generator alias CContainerBitGenerator - method poisson - attri __doc__ - access\n",
    "print(nContainerBitGen.poisson.__doc__)"
   ]
  },
  {
   "cell_type": "markdown",
   "metadata": {},
   "source": [
    ">> Geometric Distribution - numpy.random.Generator.geometric"
   ]
  },
  {
   "cell_type": "code",
   "execution_count": null,
   "metadata": {
    "scrolled": false
   },
   "outputs": [],
   "source": [
    "# pkg numpy - subpkg random - obj Generator alias CContainerBitGenerator - method geometric - attri __doc__ - access\n",
    "print(nContainerBitGen.geometric.__doc__)"
   ]
  },
  {
   "cell_type": "markdown",
   "metadata": {},
   "source": [
    "***\n",
    "#### References\n",
    "&nbsp;&nbsp;&nbsp;&nbsp;&nbsp;&nbsp;&nbsp;&nbsp;&nbsp;[1] authorNames, referenceTitle, locationWebsiteBookVideo, dateMonthYear.\n",
    "\n",
    "&nbsp;&nbsp;&nbsp;&nbsp;&nbsp;&nbsp;&nbsp;[10]\n",
    "\n",
    "&nbsp;&nbsp;&nbsp;&nbsp;&nbsp;[100]\n",
    "\n",
    "&nbsp;&nbsp;&nbsp;[1000]\n",
    "***\n",
    "#### END"
   ]
  },
  {
   "cell_type": "markdown",
   "metadata": {},
   "source": [
    "## Task 4\n",
    "#### Explain the use of seeds in generating pseudorandom numbers.\n",
    "***"
   ]
  },
  {
   "cell_type": "markdown",
   "metadata": {},
   "source": [
    "> Seeds"
   ]
  },
  {
   "cell_type": "markdown",
   "metadata": {},
   "source": [
    "- computers cannot really generate random numbers [\n",
    "[...] I. McLoughlin, \"Seeds,\" GMIT, October 2018.\n",
    "] - surprisingly it is difficult to get a computer to do something by chance - unless a computer is broken it follows instructions blindly and is therefore completely predictable [\n",
    "[...] M. Haahr, \"Introduction to Randomness and Random Numbers,\" [random](https://web.archive.org/web/20201112183853/https://www.random.org/randomness), March 2007.\n",
    "]"
   ]
  },
  {
   "cell_type": "markdown",
   "metadata": {},
   "source": [
    "- in 2014 a British Writer and Broadcaster conducted an online survey asking people to name their favourite number [\n",
    "[...] A. Bellos, \"The results of Alex Bellos's global online poll to find the world's favourite number,\" [bloomsbury](https://web.archive.org/web/20201112104650/http://pages.bloomsbury.com/favouritenumber/7), April 2014.\n",
    "]"
   ]
  },
  {
   "cell_type": "code",
   "execution_count": null,
   "metadata": {},
   "outputs": [],
   "source": [
    "# b_T_hird_P_arty-imports\n",
    "from pandas.io.parsers import read_csv as r\n",
    "# package pandas - subpackage io - module parsers - function read_csv alias r - call\n",
    "df=r(\"dataset/alex-bellos-favourite-number-list.csv\")"
   ]
  },
  {
   "cell_type": "markdown",
   "metadata": {},
   "source": [
    "- the survey got 30,025 submissions with a total of 1,123 nominations [\n",
    "[...] A. Bellos, \"The results of Alex Bellos's global online poll to find the world's favourite number,\" [bloomsbury](https://web.archive.org/web/20201112104650/http://pages.bloomsbury.com/favouritenumber/7), April 2014.\n",
    "]"
   ]
  },
  {
   "cell_type": "code",
   "execution_count": null,
   "metadata": {},
   "outputs": [],
   "source": [
    "# package pandas - subpackage frame - object DataFrame(NDFrame) - name sum - access\n",
    "df.sum(numeric_only=True)"
   ]
  },
  {
   "cell_type": "code",
   "execution_count": null,
   "metadata": {},
   "outputs": [],
   "source": [
    "# package pandas - subpackage frame - object DataFrame(NDFrame) - method count - call\n",
    "df.count(numeric_only=True)"
   ]
  },
  {
   "cell_type": "markdown",
   "metadata": {},
   "source": [
    "- the number - ``7`` - was deemed the most favourite number - submitted 2,912 times [\n",
    "[...] A. Bellos, \"The results of Alex Bellos's global online poll to find the world's favourite number,\" [bloomsbury](https://web.archive.org/web/20201112104650/http://pages.bloomsbury.com/favouritenumber/7), April 2014.\n",
    "] - a bias towards the number - ``7`` - demonstrates humans too are not great at generating random numbers [\n",
    "[...] I. McLoughlin, \"Seeds,\" GMIT, October 2018.\n",
    "]"
   ]
  },
  {
   "cell_type": "code",
   "execution_count": null,
   "metadata": {},
   "outputs": [],
   "source": [
    "# package pandas - subpackage frame - object DataFrame(NDFrame) - method count - head\n",
    "df.head(1)"
   ]
  },
  {
   "cell_type": "markdown",
   "metadata": {},
   "source": [
    "- computers need some sort of a mechanism to generate random numbers [\n",
    "[...] I. McLoughlin, \"Seeds,\" GMIT, October 2018.\n",
    "] - for such purposes of - generating data encrytion keys - simulating and modelling complex phenomena - selecting random samples from larger datasets [\n",
    "[...] M. Haahr, \"Introduction to Randomness and Random Numbers,\" [random](https://web.archive.org/web/20201112183853/https://www.random.org/randomness), March 2007.\n",
    "] "
   ]
  },
  {
   "cell_type": "markdown",
   "metadata": {},
   "source": [
    "- computers generate random numbers in what is called pseudo-random numbers - PRNGs [\n",
    "[...] I. McLoughlin, \"Seeds,\" GMIT, October 2018.\n",
    "] - as the name suggests - pseudo - pseudo-random numbers are not random in the way it is used with dice rolls or lottery tickets - essentially these are algorithms that use mathematical formulae or simply precalculated tables to produce a sequences of numbers that appear random [\n",
    "[...] M. Haahr, \"Introduction to Randomness and Random Numbers,\" [random](https://web.archive.org/web/20201112183853/https://www.random.org/randomness), March 2007.\n",
    "] - there is a key piece of information that if known a head of time can predict the numbers that are coming out of it - that key piece of information is the - **seed** [\n",
    "[...] I. McLoughlin, \"Seeds,\" GMIT, October 2018.\n",
    "] "
   ]
  },
  {
   "cell_type": "markdown",
   "metadata": {},
   "source": [
    "- typically the seed is to do with the time on the computer when the code is run - down to a microsecond - decided once typically - when importing the package - numpy - subpackage - random - the seed is decided once and from then on the numbers that are generated are based on that same seed [\n",
    "[...] I. McLoughlin, \"Seeds,\" GMIT, October 2018.\n",
    "]"
   ]
  },
  {
   "cell_type": "markdown",
   "metadata": {},
   "source": [
    "- strategy - generated random numbers - might use the decimal expansion of - $\\pi$ - closely related to one of the basic geometric shapes - circle - famously irrational - cannot be written as a simple fraction - popular approximation - $\\frac{22}{7}$ - ``3.1428571428571...`` [\n",
    "[...] Math Is Fun, \"Irrational Numbers,\" [mathisfun](https://web.archive.org/web/20201011101225/https://www.mathsisfun.com/irrational-numbers.html), September 2012.\n",
    "] "
   ]
  },
  {
   "cell_type": "markdown",
   "metadata": {},
   "source": [
    "- almost all real numbers are considered normal - look random - all the evidence suggests that - $\\pi$ - is normal although not definitively proved - empirically it is as random as it gets [\n",
    "[...] M.E. O'Neill, \"A Family of Better Random Number Generators,\" [Stanford EE Computer Systems Colloquium](https://web.archive.org/web/20181108064350/http://web.stanford.edu/class/ee380/Abstracts/150218.html), February 2015.\n",
    "] - does not repeat at regularly occurring intervals - there is no pattern to the repetition of the digits [\n",
    "[...] I. McLoughlin, \"Seeds,\" GMIT, October 2018.\n",
    "]"
   ]
  },
  {
   "cell_type": "markdown",
   "metadata": {},
   "source": [
    "- using the decimal expansion of - $\\pi$ - picking an arbitrary number within the expansion as the initial launch point - seed randomness - appears to be a sound strategy given it could be claimed that - $\\pi$ - is the ultimate nothing up my sleeve number - statisitcally random - has an infinite stream in that it may never finish - producing values based on an arbitrary starting point will prove difficult to predict - using the same launch point everytime will enable reproducible results - picking a different launch point everytime based on some other phenomenon will produce nondeterministic  results - not always the same output for the same inputs [\n",
    "[...] M.E. O'Neill, \"A Family of Better Random Number Generators,\" [Stanford EE Computer Systems Colloquium](https://web.archive.org/web/20181108064350/http://web.stanford.edu/class/ee380/Abstracts/150218.html), February 2015.\n",
    "]"
   ]
  },
  {
   "cell_type": "markdown",
   "metadata": {},
   "source": [
    "- January 2020 - the most accurate value of $\\pi$ was calculated by Timothy Mullican with a decimal expansion of 50,000,000,000,000 digits [\n",
    "[...] Guinness World Records, \"Most accurate value of pi,\" [guinnessworldrecords](https://web.archive.org/web/20201112194559/https://www.guinnessworldrecords.com/world-records/66179-most-accurate-value-of-pi), January 2020.\n",
    "] - based on Fabrice Bellard implementation of $\\pi$ the following is a calculation with a decimal expansion of 110 - as demonstrated by Timothy Mullican this expansion could be an infinite number - the precision in the following code is represented by name - nInfinity - set to ``110`` for demonstration purposes [\n",
    "Guest007, \"1000 digits of pi in Python,\" [stackoverflow](https://web.archive.org/web/20201112194121/https://stackoverflow.com/questions/9004789/1000-digits-of-pi-in-python), July 2019.\n",
    "]"
   ]
  },
  {
   "cell_type": "code",
   "execution_count": null,
   "metadata": {},
   "outputs": [],
   "source": [
    "# a_S_tandard_L_ibrary-imports\n",
    "from decimal import Decimal,getcontext"
   ]
  },
  {
   "cell_type": "code",
   "execution_count": null,
   "metadata": {},
   "outputs": [],
   "source": [
    "nInfinity=110\n",
    "# module decimal - function getcontext alias - call\n",
    "nDecimalExpansion=getcontext().prec=nInfinity\n",
    "# module decimal - object Decimal - instantiate\n",
    "nInsObjPi=Decimal(0)\n",
    "for nEachDecimalPosition in range(nDecimalExpansion):\n",
    "    nInsObjPi+=(Decimal(1)/(16**nEachDecimalPosition))\\\n",
    "    *((Decimal(4)/(8*nEachDecimalPosition+1)-(Decimal(2)/(8*nEachDecimalPosition+4))\\\n",
    "    -(Decimal(1)/(8*nEachDecimalPosition+5))-(Decimal(1)/(8*nEachDecimalPosition+6))))"
   ]
  },
  {
   "cell_type": "markdown",
   "metadata": {},
   "source": [
    "- there is no pattern to the repetition of the digits [\n",
    "[...] I. McLoughlin, \"Seeds,\" GMIT, October 2018.\n",
    "]"
   ]
  },
  {
   "cell_type": "code",
   "execution_count": null,
   "metadata": {
    "scrolled": true
   },
   "outputs": [],
   "source": [
    "print(nInsObjPi)"
   ]
  },
  {
   "cell_type": "markdown",
   "metadata": {},
   "source": [
    "- if generating a random number between zero and ten (excluding ten) - given its proven that there is no pattern to the $\\pi$ decimal expansion - could start at any point in the decimal expansion - picking 7 digits into the decimal expansion - not telling anyone - giving back digits from this point on when asked for a random number - this position is the - seed - the starting position [\n",
    "[...] I. McLoughlin, \"Seeds,\" GMIT, October 2018.\n",
    "] "
   ]
  },
  {
   "cell_type": "markdown",
   "metadata": {},
   "source": [
    "<img src=\"img/pi.png\" />"
   ]
  },
  {
   "cell_type": "code",
   "execution_count": null,
   "metadata": {},
   "outputs": [],
   "source": [
    "nSeed,nPseudo,nStop=7,9,10;\"<seed> {} <number> {}\".format(nSeed,str(nInsObjPi-int(nInsObjPi))[nPseudo:nStop])"
   ]
  },
  {
   "cell_type": "code",
   "execution_count": null,
   "metadata": {},
   "outputs": [],
   "source": [
    "nPseudo+=1;nStop+=1;\"<seed> {} <number> {}\".format(nSeed,str(nInsObjPi-int(nInsObjPi))[nPseudo:nStop])"
   ]
  },
  {
   "cell_type": "code",
   "execution_count": null,
   "metadata": {},
   "outputs": [],
   "source": [
    "nPseudo+=1;nStop+=1;\"<seed> {} <number> {}\".format(nSeed,str(nInsObjPi-int(nInsObjPi))[nPseudo:nStop])"
   ]
  },
  {
   "cell_type": "markdown",
   "metadata": {},
   "source": [
    "- if known where the random generation of numbers start - are always gonna be able to predict it - knowing what the seed is when we can guess what the computer is going to generate next - if you do not know what the seed is then its very difficult to figure out what the computer is going to do next [\n",
    "[...] I. McLoughlin, \"Seeds,\" GMIT, October 2018.\n",
    "] "
   ]
  },
  {
   "cell_type": "markdown",
   "metadata": {},
   "source": [
    "- problem with using - $\\pi$ - as a strategy to generate random numbers is that its very expensive to compute plus the infinite size is overkill - practical random number generation is about doing it in a practical way - doing it in little space - doing it in little time - still producing good results - satisfying all statistical tests [\n",
    "[...] M.E. O'Neill, \"A Family of Better Random Number Generators,\" [Stanford EE Computer Systems Colloquium](https://web.archive.org/web/20181108064350/http://web.stanford.edu/class/ee380/Abstracts/150218.html), February 2015.\n",
    "]"
   ]
  },
  {
   "cell_type": "markdown",
   "metadata": {},
   "source": [
    "***\n",
    "###### Bridge - RAND BOOK - pi - historial - Lehmer - Rotenberg - Legacy: MT19937 - outperformed by - current:PCG64\n",
    "***"
   ]
  },
  {
   "cell_type": "markdown",
   "metadata": {},
   "source": [
    "- Lehmer random number generator - D. H. Lehmer - earliest and most influential random number generator design - been around since 1951 [\n",
    "[...] M.E. O'Neill, \"A Family of Better Random Number Generators,\" [Stanford EE Computer Systems Colloquium](https://web.archive.org/web/20181108064350/http://web.stanford.edu/class/ee380/Abstracts/150218.html), February 2015.\n",
    "]"
   ]
  },
  {
   "cell_type": "markdown",
   "metadata": {},
   "source": [
    "- implementation is presented for quick evaluation - multiply by three random number generator - probably not using - ``3`` - as the constant [\n",
    "[...] M.E. O'Neill, \"A Family of Better Random Number Generators,\" [Stanford EE Computer Systems Colloquium](https://web.archive.org/web/20181108064350/http://web.stanford.edu/class/ee380/Abstracts/150218.html), February 2015.\n",
    "]"
   ]
  },
  {
   "cell_type": "markdown",
   "metadata": {},
   "source": [
    "- this sequence of purportedly random numbers has no even numbers - all odd numbers - could determine the output as all multiples of three but that is not true given that at the point - $2^{31-1}$ - ``4294967295`` - the sequence starts to wrap around - largest number within the first five-thousand produced is - ``4292506635`` - whereby it wraps around and starts again [\n",
    "[...] M.E. O'Neill, \"A Family of Better Random Number Generators,\" [Stanford EE Computer Systems Colloquium](https://web.archive.org/web/20181108064350/http://web.stanford.edu/class/ee380/Abstracts/150218.html), February 2015.\n",
    "]"
   ]
  },
  {
   "cell_type": "code",
   "execution_count": null,
   "metadata": {},
   "outputs": [],
   "source": [
    "\"<range> (0, {})\".format(2**32-1)"
   ]
  },
  {
   "cell_type": "code",
   "execution_count": null,
   "metadata": {},
   "outputs": [],
   "source": [
    "from numpy import uint32\n",
    "nState=uint32(1)\n",
    "def fPRNG():\n",
    "    global nState\n",
    "    nState=uint32(nState*3)\n",
    "    return nState"
   ]
  },
  {
   "cell_type": "code",
   "execution_count": null,
   "metadata": {},
   "outputs": [],
   "source": [
    "nLehmer=[]\n",
    "for nEachValue in range(1,5000):\n",
    "    nLehmer.append(fPRNG())"
   ]
  },
  {
   "cell_type": "markdown",
   "metadata": {},
   "source": [
    "- for readability the first 50 numbers displayed [\n",
    "[...] No Reference\n",
    "]"
   ]
  },
  {
   "cell_type": "code",
   "execution_count": null,
   "metadata": {
    "scrolled": true
   },
   "outputs": [],
   "source": [
    "print(nLehmer[0:50:1])"
   ]
  },
  {
   "cell_type": "code",
   "execution_count": null,
   "metadata": {},
   "outputs": [],
   "source": [
    "# b_T_hird_P_arty-imports\n",
    "from matplotlib.pyplot import hist as h"
   ]
  },
  {
   "cell_type": "code",
   "execution_count": null,
   "metadata": {},
   "outputs": [],
   "source": [
    "from matplotlib.style.core import use as u\n",
    "# package matplotlib - subpackage style - module core - function use alias u - call\n",
    "u(\"default\")"
   ]
  },
  {
   "cell_type": "markdown",
   "metadata": {},
   "source": [
    "- uniform - every value occurs once [\n",
    "[...] No Reference\n",
    "]"
   ]
  },
  {
   "cell_type": "code",
   "execution_count": null,
   "metadata": {},
   "outputs": [],
   "source": [
    "# package matplotlib - module pyplot - function hist alias h - call\n",
    "h(nLehmer);"
   ]
  },
  {
   "cell_type": "markdown",
   "metadata": {},
   "source": [
    "- Linear congruential generator - W. E. Thomson, A. Rotenberg - historically most studied generator - been around since 1960 - fixes the problem of only getting odd numbers by just multiplying by three and adding one - rules do exist for these constants so the implementation presented for quick evalation will multiply by 141 and will continue to include three - in addition reducing the size to 8-bits in order to view the full sequence of numbers [\n",
    "[...] M.E. O'Neill, \"A Family of Better Random Number Generators,\" [Stanford EE Computer Systems Colloquium](https://web.archive.org/web/20181108064350/http://web.stanford.edu/class/ee380/Abstracts/150218.html), February 2015.\n",
    "]"
   ]
  },
  {
   "cell_type": "markdown",
   "metadata": {},
   "source": [
    "- this sequence of purportedly random numbers alternates from even numbers to odd numbers [\n",
    "[...] M.E. O'Neill, \"A Family of Better Random Number Generators,\" [Stanford EE Computer Systems Colloquium](https://web.archive.org/web/20181108064350/http://web.stanford.edu/class/ee380/Abstracts/150218.html), February 2015.\n",
    "]"
   ]
  },
  {
   "cell_type": "code",
   "execution_count": null,
   "metadata": {},
   "outputs": [],
   "source": [
    "from numpy import uint8\n",
    "nState=uint8(1)\n",
    "def fPRNG():\n",
    "    global nState\n",
    "    nState=uint8((nState*141)+3)\n",
    "    return nState"
   ]
  },
  {
   "cell_type": "code",
   "execution_count": null,
   "metadata": {},
   "outputs": [],
   "source": [
    "nRotenberg=[1]\n",
    "for nEachValue in range(1,5000):\n",
    "    nRotenberg.append(fPRNG())"
   ]
  },
  {
   "cell_type": "code",
   "execution_count": null,
   "metadata": {
    "scrolled": true
   },
   "outputs": [],
   "source": [
    "print(nRotenberg[0:125])"
   ]
  },
  {
   "cell_type": "markdown",
   "metadata": {},
   "source": [
    "- uniform - every value occurs once [\n",
    "[...] No Reference\n",
    "]"
   ]
  },
  {
   "cell_type": "code",
   "execution_count": null,
   "metadata": {},
   "outputs": [],
   "source": [
    "# package matplotlib - module pyplot - function hist alias h - call\n",
    "h(nRotenberg);"
   ]
  },
  {
   "cell_type": "markdown",
   "metadata": {},
   "source": [
    "- if the sequence of numbers are grouped into pairs - ``x`` - ``y`` - coordinates [\n",
    "[Stanford EE Computer Systems Colloquium](https://web.archive.org/web/20181108064350/http://web.stanford.edu/class/ee380/Abstracts/150218.html), February 2015.\n",
    "]"
   ]
  },
  {
   "cell_type": "code",
   "execution_count": null,
   "metadata": {},
   "outputs": [],
   "source": [
    "nXCoordinate=nRotenberg[0::2]\n",
    "nYCoordinate=nRotenberg[1::2]"
   ]
  },
  {
   "cell_type": "code",
   "execution_count": null,
   "metadata": {
    "scrolled": false
   },
   "outputs": [],
   "source": [
    "# b_T_hird_P_arty-imports\n",
    "from matplotlib.pyplot import plot as p"
   ]
  },
  {
   "cell_type": "markdown",
   "metadata": {},
   "source": [
    "- observed is a very rigid structure - appear not very random - the random number generator can only produce - $2^{31-1}$ - states - 256 - numbers - plotting on a grid with - $2^{16-1}$ - 65,535 - points [\n",
    "[...] M.E. O'Neill, \"A Family of Better Random Number Generators,\" [Stanford EE Computer Systems Colloquium](https://web.archive.org/web/20181108064350/http://web.stanford.edu/class/ee380/Abstracts/150218.html), February 2015.\n",
    "]"
   ]
  },
  {
   "cell_type": "code",
   "execution_count": null,
   "metadata": {},
   "outputs": [],
   "source": [
    "# package matplotlib - module pyplot - function plot alias p - call\n",
    "p(nXCoordinate,nYCoordinate,\"b.\");"
   ]
  },
  {
   "cell_type": "markdown",
   "metadata": {},
   "source": [
    "- may appear at first not very random but the ordering in which the states occur would suggest it is indeed random [\n",
    "[...] M.E. O'Neill, \"A Family of Better Random Number Generators,\" [Stanford EE Computer Systems Colloquium](https://web.archive.org/web/20181108064350/http://web.stanford.edu/class/ee380/Abstracts/150218.html), February 2015.\n",
    "]"
   ]
  },
  {
   "cell_type": "code",
   "execution_count": null,
   "metadata": {
    "scrolled": false
   },
   "outputs": [],
   "source": [
    "# package matplotlib - module pyplot - function plot alias p - call\n",
    "p(nXCoordinate,nYCoordinate);"
   ]
  },
  {
   "cell_type": "markdown",
   "metadata": {},
   "source": [
    "- efforts have included using the heat of the processor - **EXPAND:- LAVALAMPS** [\n",
    "[...] I. McLoughlin, \"Seeds,\" GMIT, October 2018.\n",
    "] "
   ]
  },
  {
   "cell_type": "markdown",
   "metadata": {},
   "source": [
    "- most modern cryptography methods depend on the generation of truly random numbers - next best alternative - pseudorandom numbers - PRN - random numbers that can be regenerated given - ``seed`` [\n",
    "[...] E. Chu, \"Almost Random Numbers and Distributions with NumPy,\" [pluralsight](https://web.archive.org/web/20201109090601if_/https://www.pluralsight.com/guides/almost-random-numbers), December 2019.\n",
    "]"
   ]
  },
  {
   "cell_type": "markdown",
   "metadata": {},
   "source": [
    "> Legacy PRNG - MT19937"
   ]
  },
  {
   "cell_type": "markdown",
   "metadata": {},
   "source": [
    "- in addition to explaining the use of seeds in generating pseudorandom numbers - given the algorithm for generating random numbers has changed from - Mersenne Twister - to - PCG64 - submission to incluide how the new algorithm - PCG64 - outperforms - Mersenne Twister - also formulate how to seed said algorithm so as to get reproducible results from code [\n",
    "[...] B. McGinley, \"Seeds - Part 2,\" GMIT, October 2020.\n",
    "]"
   ]
  },
  {
   "cell_type": "markdown",
   "metadata": {},
   "source": [
    "- before progressing onto the new algorithm - PCG64 - reviewing legacy algorithm - Mersenne Twister - albeit now considered frozen - no further improvements to be made - BitGenerator - MT19937 [\n",
    "[...] Numpy, \"Legacy Random Generation,\" [numpy](https://web.archive.org/web/20201103161215/https://numpy.org/doc/stable/reference/random/legacy.html#legacy-random-generation)\n",
    "], June 2020."
   ]
  },
  {
   "cell_type": "code",
   "execution_count": null,
   "metadata": {},
   "outputs": [],
   "source": [
    "# b_T_hird_P_arty-imports\n",
    "from numpy.random import RandomState as CLegacyGenerator"
   ]
  },
  {
   "cell_type": "code",
   "execution_count": null,
   "metadata": {},
   "outputs": [],
   "source": [
    "from numpy.random import MT19937 as CSlowMersenneTwister"
   ]
  },
  {
   "cell_type": "code",
   "execution_count": null,
   "metadata": {},
   "outputs": [],
   "source": [
    "# package numpy - subpackage random - object RandomState alias CLegacyGenerator - attribute __doc__ - access\n",
    "print(CLegacyGenerator.__doc__)"
   ]
  },
  {
   "cell_type": "code",
   "execution_count": null,
   "metadata": {},
   "outputs": [],
   "source": [
    "# package numpy - subpackage random - object MT19937 alias CSlowMersenneTwister - attribute __doc__ - access\n",
    "print(CSlowMersenneTwister.__doc__)"
   ]
  },
  {
   "cell_type": "code",
   "execution_count": null,
   "metadata": {},
   "outputs": [],
   "source": [
    "# package numpy - subpackage random - object MT19937 alias CSlowMersenneTwister - instantiate\n",
    "nMT19937=CSlowMersenneTwister()"
   ]
  },
  {
   "cell_type": "code",
   "execution_count": null,
   "metadata": {},
   "outputs": [],
   "source": [
    "# package numpy - subpackage random - object RandomState alias CLegacyGenerator - instantiate\n",
    "nLegacy=CLegacyGenerator(nMT19937)"
   ]
  },
  {
   "cell_type": "markdown",
   "metadata": {},
   "source": [
    "- ``seeding`` - the pseudorandom number generator - PRNG - when the PRNG is seeded with the same value - ``100`` - it will always generate the same sequence of random numbers - values generated should be reproducible on any machine anywhere - this is the reason PRNGs are considered - cryptographically insecure - anyone who has the - ``seed`` - can generate the exact sequence of random numbers [\n",
    "[...] E. Chu, \"Almost Random Numbers and Distributions with NumPy,\" [pluralsight](https://web.archive.org/web/20201109090601if_/https://www.pluralsight.com/guides/almost-random-numbers), December 2019.\n",
    "]"
   ]
  },
  {
   "cell_type": "code",
   "execution_count": null,
   "metadata": {},
   "outputs": [],
   "source": [
    "# package numpy - subpackage random - object RandomState alias CLegacyGenerator - method seed - call\n",
    "nLegacy.seed(100)"
   ]
  },
  {
   "cell_type": "markdown",
   "metadata": {},
   "source": [
    "- generating a couple of PRNs - rand - selects random numbers from a uniform distribution between - ``0`` - ``1`` - using a - ``seed`` - no mattter where or when this is run it will always generate the following random numbers - argument - ``1`` - function - rand - returns an array when given an argument - the arguments denote the shape of the array [\n",
    "[...] E. Chu, \"Almost Random Numbers and Distributions with NumPy,\" [pluralsight](https://web.archive.org/web/20201109090601if_/https://www.pluralsight.com/guides/almost-random-numbers), December 2019.\n",
    "]"
   ]
  },
  {
   "cell_type": "code",
   "execution_count": null,
   "metadata": {},
   "outputs": [],
   "source": [
    "# package numpy - subpackage random - object RandomState alias CLegacyGenerator - method rand - call\n",
    "print(nLegacy.rand(1))\n",
    "print(nLegacy.rand(1))"
   ]
  },
  {
   "cell_type": "markdown",
   "metadata": {},
   "source": [
    "- array - dimensions - ``3x2`` - output two-dimensional array of random numbers selected from a uniform distribution - values generated earlier are reproduced [\n",
    "[...] E. Chu, \"Almost Random Numbers and Distributions with NumPy,\" [pluralsight](https://web.archive.org/web/20201109090601if_/https://www.pluralsight.com/guides/almost-random-numbers), December 2019.\n",
    "]"
   ]
  },
  {
   "cell_type": "code",
   "execution_count": null,
   "metadata": {},
   "outputs": [],
   "source": [
    "nLegacy.seed(100)\n",
    "print(nLegacy.rand(1,2))"
   ]
  },
  {
   "cell_type": "markdown",
   "metadata": {},
   "source": [
    "***\n",
    "###### END"
   ]
  },
  {
   "cell_type": "markdown",
   "metadata": {},
   "source": [
    "> Improved PRNG - PCG64"
   ]
  },
  {
   "cell_type": "code",
   "execution_count": null,
   "metadata": {},
   "outputs": [],
   "source": [
    "# b_T_hird_P_arty-imports\n",
    "from numpy.random import Generator as CContainerBitGenerator"
   ]
  },
  {
   "cell_type": "code",
   "execution_count": null,
   "metadata": {},
   "outputs": [],
   "source": [
    "from numpy.random import PCG64 as CPermutedCongruentialGenerator"
   ]
  },
  {
   "cell_type": "code",
   "execution_count": null,
   "metadata": {},
   "outputs": [],
   "source": [
    "from numpy.random import SeedSequence as CSeedEntropy"
   ]
  },
  {
   "cell_type": "code",
   "execution_count": null,
   "metadata": {
    "scrolled": false
   },
   "outputs": [],
   "source": [
    "# package numpy - subpackage random - object Generator alias CContainerBitGenerator - attribute __doc__ - access\n",
    "print(CContainerBitGenerator.__doc__)"
   ]
  },
  {
   "cell_type": "code",
   "execution_count": null,
   "metadata": {},
   "outputs": [],
   "source": [
    "# package numpy - subpackage random - object PCG64 alias CPermutedCongruentialGenerator - attribute __doc__ - access\n",
    "print(CPermutedCongruentialGenerator.__doc__)"
   ]
  },
  {
   "cell_type": "code",
   "execution_count": null,
   "metadata": {},
   "outputs": [],
   "source": [
    "# package numpy - subpackage random - object SeedSequence alias CSeedEntropy - attribute __doc__ - access\n",
    "print(CSeedEntropy.__doc__)"
   ]
  },
  {
   "cell_type": "markdown",
   "metadata": {},
   "source": [
    ">> Prerequisite - Entropy "
   ]
  },
  {
   "cell_type": "markdown",
   "metadata": {},
   "source": [
    "- not all randomness is created equally - there are two sorts of randomness to think about - uniformity - unpredictability - random number generators that provides - uniform - output if all numbers will come up equally often if run long enough - useful for modeling random processes but not good enough for security [\n",
    "[...] N. Sullivan, \"Ensuring Randomness with Linux's Random Number Generator,\" [blog.cloudflare](https://web.archive.org/web/20201109111507/https://blog.cloudflare.com/ensuring-randomness-with-linuxs-random-number-generator) October 2013.\n",
    "]"
   ]
  },
  {
   "cell_type": "markdown",
   "metadata": {},
   "source": [
    "- computer security - random numbers need to be hard to guess - need to be unpredictable - predictability of numbers is quantified in a measure called entropy [\n",
    "[...] N. Sullivan, \"Ensuring Randomness with Linux's Random Number Generator,\" [blog.cloudflare](https://web.archive.org/web/20201109111507/https://blog.cloudflare.com/ensuring-randomness-with-linuxs-random-number-generator) October 2013.\n",
    "]"
   ]
  },
  {
   "cell_type": "markdown",
   "metadata": {},
   "source": [
    "- computer security - random numbers need to be hard to guess - need to be unpredictable - predictability of numbers is quantified in a measure called entropy [\n",
    "[...] N. Sullivan, \"Ensuring Randomness with Linux's Random Number Generator,\" [blog.cloudflare](https://web.archive.org/web/20201109111507/https://blog.cloudflare.com/ensuring-randomness-with-linuxs-random-number-generator) October 2013.\n",
    "]"
   ]
  },
  {
   "cell_type": "markdown",
   "metadata": {},
   "source": [
    "- fair coin tossed - provides one bit of entropy - coin lands with equal probability - heads - tails - thought of as - 0 - 1 - the probability is equal - no predictability in the coins output - provides one bit of entropy [\n",
    "[...] N. Sullivan, \"Ensuring Randomness with Linux's Random Number Generator,\" [blog.cloudflare](https://web.archive.org/web/20201109111507/https://blog.cloudflare.com/ensuring-randomness-with-linuxs-random-number-generator) October 2013.\n",
    "]"
   ]
  },
  {
   "cell_type": "markdown",
   "metadata": {},
   "source": [
    "- unfair coin tossed - provides less than one bit of entropy - much easier to guess when you know the bias - flipping a coin with heads on both sides provides no entropy since the result of a coin toss can be guessed with absolute certainty [\n",
    "[...] N. Sullivan, \"Ensuring Randomness with Linux's Random Number Generator,\" [blog.cloudflare](https://web.archive.org/web/20201109111507/https://blog.cloudflare.com/ensuring-randomness-with-linuxs-random-number-generator) October 2013.\n",
    "]"
   ]
  },
  {
   "cell_type": "markdown",
   "metadata": {},
   "source": [
    "- entropy is distinct from statistical randomness - [\n",
    "[...] N. Sullivan, \"Ensuring Randomness with Linux's Random Number Generator,\" [blog.cloudflare](https://web.archive.org/web/20201109111507/https://blog.cloudflare.com/ensuring-randomness-with-linuxs-random-number-generator) October 2013.\n",
    "] - number sequence - contains no regular pattern - pi - cannot be expressed as a ratio of two whole numbers - the value of pi has been calculated to more than 200 billion digits to the right of the decimal place and no evidence of further calculations reveal an end to the string [\n",
    "[...] E. Fischbach, S. Tu, \"A study on the randomness of the digits of pi,\" [purdue.edu](https://web.archive.org/web/20201109113310/https://docs.lib.purdue.edu/physics_articles/245/), January 2005.\n",
    "] - the statistical properties of a stream of numbers does not guarantee that the stream contains any entropy - pi - may look random by almost any statistical measure but contains no entropy since there is a well known formula - can predict the next value [\n",
    "[...] N. Sullivan, \"Ensuring Randomness with Linux's Random Number Generator,\" [blog.cloudflare](https://web.archive.org/web/20201109111507/https://blog.cloudflare.com/ensuring-randomness-with-linuxs-random-number-generator) October 2013.\n",
    "]"
   ]
  },
  {
   "cell_type": "markdown",
   "metadata": {},
   "source": [
    "***\n",
    "###### END"
   ]
  },
  {
   "cell_type": "markdown",
   "metadata": {},
   "source": [
    "***\n",
    "#### References\n",
    "&nbsp;&nbsp;&nbsp;&nbsp;&nbsp;&nbsp;&nbsp;&nbsp;&nbsp;[1] authorNames, referenceTitle, locationWebsiteBookVideo, dateMonthYear.\n",
    "\n",
    "&nbsp;&nbsp;&nbsp;&nbsp;&nbsp;&nbsp;&nbsp;[10]\n",
    "\n",
    "&nbsp;&nbsp;&nbsp;&nbsp;&nbsp;[100]\n",
    "\n",
    "&nbsp;&nbsp;&nbsp;[1000]\n",
    "***\n",
    "#### END"
   ]
  },
  {
   "cell_type": "markdown",
   "metadata": {},
   "source": [
    "## Appendix A- NumPy - Integer Data Types\n",
    "***"
   ]
  },
  {
   "cell_type": "markdown",
   "metadata": {},
   "source": [
    "| Data Type     | Description                                                                    |\n",
    "| ------------- |:------------------------------------------------------------------------------:|\n",
    "|int_           | Default integer type (same as C long; normally either int64 or int32)          |\n",
    "|intc           | Identical to C int (normally int32 or int64)                                   |\n",
    "|intp           | Integer used for indexing (same as C ssize_t; normally either int32 or int64)  |\n",
    "|int8           | Byte (–128 to 127)                                                             |\n",
    "|int16          | Integer (–32768 to 32767)                                                      |\n",
    "|int32          | Integer (–2147483648 to 2147483647)                                            |\n",
    "|int64          | Integer (–9223372036854775808 to 9223372036854775807)                          |\n",
    "|uint8          | Unsigned integer (0 to 255)                                                    |\n",
    "|uint16         | Unsigned integer (0 to 65535)                                                  |\n",
    "|uint32         | Unsigned integer (0 to 4294967295)                                             |\n",
    "|uint64         | Unsigned integer (0 to 18446744073709551615)                                   |"
   ]
  },
  {
   "cell_type": "markdown",
   "metadata": {},
   "source": [
    "## Appendix B - Array - Index - Element\n",
    "***"
   ]
  },
  {
   "cell_type": "markdown",
   "metadata": {},
   "source": [
    "<img src=\"img/array-index-element.png\" />\n",
    "\n",
    "***filip, \"Java Array,\" [javatutorial](https://web.archive.org/web/20200919175048/https://javatutorial.net/java-array), January 2015.***"
   ]
  },
  {
   "cell_type": "markdown",
   "metadata": {},
   "source": [
    "## Appendix C - Half-Open - Half-Closed - Intervals\n",
    "***"
   ]
  },
  {
   "cell_type": "markdown",
   "metadata": {},
   "source": [
    "- half-open interval - one endpoint is included but not the other - $[a,b)$ - includes - ``a`` - excludes - ``b`` - $(a,b]$ - excludes - ``a`` - includes - ``b`` [\n",
    "[...] Wolfram, \"Half-Closed Interval,\" [mathworld.wolfram](https://web.archive.org/web/20201106190646/https://mathworld.wolfram.com/Half-ClosedInterval.html), Ootober 2020.\n",
    "]"
   ]
  },
  {
   "cell_type": "markdown",
   "metadata": {},
   "source": [
    "<img src=\"img/distribution-uniform-half-open-interval.png\" />\n",
    "\n",
    "***Wolfram, \"Half-Closed Interval,\" [mathworld.wolfram](https://web.archive.org/web/20201106190646/https://mathworld.wolfram.com/Half-ClosedInterval.html), Ootober 2020.***"
   ]
  },
  {
   "cell_type": "markdown",
   "metadata": {},
   "source": [
    "## Appendix D - Diagonal - Multidimensional\n",
    "***"
   ]
  },
  {
   "cell_type": "markdown",
   "metadata": {},
   "source": [
    "<img src=\"img/shape.png\" />\n",
    "\n",
    "***Math Is Fun, \"Diagonal,\", [mathsisfun](https://web.archive.org/web/20201118085013/https://www.mathsisfun.com/definitions/diagonal.html), November 2012.\n",
    "\n",
    "<img src=\"img/array-dimensions.png\" />\n",
    "\n",
    "***praneethharsha10, \"Multidimensional Arrays in Java,\" [geeksforgeeks](https://web.archive.org/web/20201118090649/https://www.geeksforgeeks.org/multidimensional-arrays-in-java), May 2020.***"
   ]
  },
  {
   "cell_type": "markdown",
   "metadata": {},
   "source": [
    "***\n",
    "# END"
   ]
  }
 ],
 "metadata": {
  "kernelspec": {
   "display_name": "Python 3",
   "language": "python",
   "name": "python3"
  },
  "language_info": {
   "codemirror_mode": {
    "name": "ipython",
    "version": 3
   },
   "file_extension": ".py",
   "mimetype": "text/x-python",
   "name": "python",
   "nbconvert_exporter": "python",
   "pygments_lexer": "ipython3",
   "version": "3.8.3"
  }
 },
 "nbformat": 4,
 "nbformat_minor": 4
}
