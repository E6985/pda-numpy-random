{
 "cells": [
  {
   "cell_type": "markdown",
   "metadata": {},
   "source": [
    "< [GMIT Data Analytics](https://web.archive.org/web/20201029063153/https://www.gmit.ie/computer-science-and-applied-physics/higher-diploma-science-computing-data-analytics-ict) | [Table of Contents](https://github.com/E6985) | [README](https://github.com/E6985/pda-numpy-random/blob/master/README.md) >\n",
    "\n",
    "<img src=\"img/gmit.png\" />\n",
    "\n",
    "## Programming for Data Analysis - Assignment 2020\n",
    "## Due: last commit on or before November 22nd, 2020\n",
    "***"
   ]
  },
  {
   "cell_type": "markdown",
   "metadata": {},
   "source": [
    "#### Assignment\n",
    "Assignment concerns the numpy.random package in Python. Required to create a Jupyter Notebook explaining the use of the package, including detailed explanations of at least five of the distributions provided for in the package. There are four distinct tasks to be carried out in the Jupyter notebook.\n",
    "\n",
    "1. Explain the overall purpose of the package.\n",
    "2. Explain the use of the “Simple random data” and “Permutations” functions.\n",
    "3. Explain the use and purpose of at least five “Distributions” functions.\n",
    "4. Explain the use of seeds in generating pseudorandom numbers.\n",
    "***"
   ]
  },
  {
   "cell_type": "markdown",
   "metadata": {},
   "source": [
    "#### Task 1\n",
    "Explain the overall purpose of the package.\n",
    "***"
   ]
  },
  {
   "cell_type": "markdown",
   "metadata": {},
   "source": [
    "- almost anything interesting that is done on a computer such as resizing photographs taken on a phone - converting songs on a cd to mp3 - anything that is happening on a computer monitor - anything scientific that is done on a computer turns out all these ideas are based on matrix operations given its the quickest way - another example is compressing an images/song to a smaller size or analysing a dataset - it turns out that matrix operations are typically involved therefore the package - numpy - is essential because it knows how to perform these operations very quickly [1.1]"
   ]
  },
  {
   "cell_type": "markdown",
   "metadata": {},
   "source": [
    "- the package - numpy - is such an important package given that a number of other packages in python depend on it such as - pandas - scipy - matplotlib [1.2] - this specialised package that is very efficient with dealing with numbers in long lists in python even lists contained within lists - multi-dimensional arrays - the structure of a numpy multi-dimensional array is rectanglar in shape [1.1]"
   ]
  },
  {
   "cell_type": "markdown",
   "metadata": {},
   "source": [
    "- common practice to start with a csv file which is imported into numpy or imported into pandas which uses the numpy package in the background however its may not always be possible to collect data so the use of the numpy subpackage - random - can be used for generating simulated data - pretending to collect data by generating random numbers that follow a certain pattern and analysing these number for whatever reason [1.1]"
   ]
  },
  {
   "cell_type": "markdown",
   "metadata": {},
   "source": [
    "***\n",
    "#### References\n",
    "&nbsp;&nbsp;&nbsp;&nbsp;&nbsp;&nbsp;&nbsp;&nbsp;&nbsp;[1.1] I. McLoughlin, \"Introduction to numpy,\" GMIT, October 2018.\n",
    "\n",
    "&nbsp;&nbsp;&nbsp;&nbsp;&nbsp;&nbsp;&nbsp;&nbsp;&nbsp;[1.2] I. McLoughlin, \"Introduction to numpy.random,\" GMIT, October 2018.\n",
    "***\n",
    "#### END"
   ]
  },
  {
   "cell_type": "markdown",
   "metadata": {},
   "source": [
    "#### Task 2\n",
    "Explain the use of the “Simple random data” and “Permutations” functions.\n",
    "***"
   ]
  },
  {
   "cell_type": "code",
   "execution_count": 1,
   "metadata": {},
   "outputs": [],
   "source": [
    "# b_T_hird_P_arty-imports\n",
    "from numpy.random import default_rng as newGenBitGenPCG64"
   ]
  },
  {
   "cell_type": "code",
   "execution_count": 2,
   "metadata": {},
   "outputs": [],
   "source": [
    "from numpy.core import arange as arrayEvenlySpaced\n",
    "from numpy.core import reshape as arrayNewShape"
   ]
  },
  {
   "cell_type": "markdown",
   "metadata": {},
   "source": [
    "###### Permutations - numpy.random.Generator.shuffle"
   ]
  },
  {
   "cell_type": "code",
   "execution_count": 3,
   "metadata": {},
   "outputs": [
    {
     "name": "stdout",
     "output_type": "stream",
     "text": [
      "\n",
      "        shuffle(x, axis=0)\n",
      "\n",
      "        Modify a sequence in-place by shuffling its contents.\n",
      "\n",
      "        The order of sub-arrays is changed but their contents remains the same.\n",
      "\n",
      "        Parameters\n",
      "        ----------\n",
      "        x : array_like\n",
      "            The array or list to be shuffled.\n",
      "        axis : int, optional\n",
      "            The axis which `x` is shuffled along. Default is 0.\n",
      "            It is only supported on `ndarray` objects.\n",
      "\n",
      "        Returns\n",
      "        -------\n",
      "        None\n",
      "\n",
      "        Examples\n",
      "        --------\n",
      "        >>> rng = np.random.default_rng()\n",
      "        >>> arr = np.arange(10)\n",
      "        >>> rng.shuffle(arr)\n",
      "        >>> arr\n",
      "        [1 7 5 2 9 4 3 6 0 8] # random\n",
      "\n",
      "        >>> arr = np.arange(9).reshape((3, 3))\n",
      "        >>> rng.shuffle(arr)\n",
      "        >>> arr\n",
      "        array([[3, 4, 5], # random\n",
      "               [6, 7, 8],\n",
      "               [0, 1, 2]])\n",
      "\n",
      "        >>> arr = np.arange(9).reshape((3, 3))\n",
      "        >>> rng.shuffle(arr, axis=1)\n",
      "        >>> arr\n",
      "        array([[2, 0, 1], # random\n",
      "               [5, 3, 4],\n",
      "               [8, 6, 7]])\n",
      "        \n"
     ]
    }
   ],
   "source": [
    "# package numpy - subpackage random - object Generator - method default_rng alias newGenBitGenPCG64 - instantiate\n",
    "print(newGenBitGenPCG64().shuffle.__doc__) # method shuffle - attr __doc__ - access"
   ]
  },
  {
   "cell_type": "markdown",
   "metadata": {},
   "source": [
    "- examples - numpy - documentation [2.1]"
   ]
  },
  {
   "cell_type": "code",
   "execution_count": 4,
   "metadata": {},
   "outputs": [],
   "source": [
    "# package numpy - subpackage random - object Generator - method default_rng alias newGenBitGenPCG64 - instantiate\n",
    "nInsObjGBT=newGenBitGenPCG64()"
   ]
  },
  {
   "cell_type": "code",
   "execution_count": 5,
   "metadata": {},
   "outputs": [],
   "source": [
    "# package numpy - subpackage core - C function arange alias arrayEvenlySpaced - call\n",
    "nArray=arrayEvenlySpaced(10)"
   ]
  },
  {
   "cell_type": "code",
   "execution_count": 6,
   "metadata": {},
   "outputs": [],
   "source": [
    "# package numpy - subpackage random - object Generator - method shuffle - call\n",
    "nInsObjGBT.shuffle(nArray)"
   ]
  },
  {
   "cell_type": "code",
   "execution_count": 7,
   "metadata": {},
   "outputs": [
    {
     "data": {
      "text/plain": [
       "array([1, 2, 8, 9, 4, 3, 7, 6, 5, 0])"
      ]
     },
     "execution_count": 7,
     "metadata": {},
     "output_type": "execute_result"
    }
   ],
   "source": [
    "nArray"
   ]
  },
  {
   "cell_type": "code",
   "execution_count": 8,
   "metadata": {},
   "outputs": [],
   "source": [
    "# package numpy - subpackage core - C function arange alias arrayEvenlySpaced - call\n",
    "nArray=arrayEvenlySpaced(9)"
   ]
  },
  {
   "cell_type": "code",
   "execution_count": 9,
   "metadata": {},
   "outputs": [],
   "source": [
    "# package numpy - subpackage core - C function reshape alias arrayNewShape - call\n",
    "nArray=arrayNewShape(nArray,(3,3))"
   ]
  },
  {
   "cell_type": "code",
   "execution_count": 10,
   "metadata": {},
   "outputs": [],
   "source": [
    "# package numpy - subpackage random - object Generator - method shuffle - call\n",
    "nInsObjGBT.shuffle(nArray)"
   ]
  },
  {
   "cell_type": "code",
   "execution_count": 11,
   "metadata": {},
   "outputs": [
    {
     "data": {
      "text/plain": [
       "array([[6, 7, 8],\n",
       "       [0, 1, 2],\n",
       "       [3, 4, 5]])"
      ]
     },
     "execution_count": 11,
     "metadata": {},
     "output_type": "execute_result"
    }
   ],
   "source": [
    "nArray"
   ]
  },
  {
   "cell_type": "code",
   "execution_count": 12,
   "metadata": {},
   "outputs": [],
   "source": [
    "# package numpy - subpackage random - object Generator - method shuffle - call\n",
    "nInsObjGBT.shuffle(nArray,axis=1)"
   ]
  },
  {
   "cell_type": "code",
   "execution_count": 13,
   "metadata": {},
   "outputs": [
    {
     "data": {
      "text/plain": [
       "array([[8, 6, 7],\n",
       "       [2, 0, 1],\n",
       "       [5, 3, 4]])"
      ]
     },
     "execution_count": 13,
     "metadata": {},
     "output_type": "execute_result"
    }
   ],
   "source": [
    "nArray"
   ]
  },
  {
   "cell_type": "markdown",
   "metadata": {},
   "source": [
    "###### Permutations - numpy.random.Generator.permutation"
   ]
  },
  {
   "cell_type": "markdown",
   "metadata": {},
   "source": [
    "- examples - numpy - documentation [2.2]"
   ]
  },
  {
   "cell_type": "code",
   "execution_count": 14,
   "metadata": {},
   "outputs": [
    {
     "data": {
      "text/plain": [
       "array([5, 8, 3, 9, 1, 7, 0, 2, 6, 4])"
      ]
     },
     "execution_count": 14,
     "metadata": {},
     "output_type": "execute_result"
    }
   ],
   "source": [
    "# package numpy - subpackage random - object Generator - method permutation - call\n",
    "nInsObjGBT.permutation(10)"
   ]
  },
  {
   "cell_type": "code",
   "execution_count": 15,
   "metadata": {},
   "outputs": [
    {
     "data": {
      "text/plain": [
       "array([ 9,  4,  1, 15, 12])"
      ]
     },
     "execution_count": 15,
     "metadata": {},
     "output_type": "execute_result"
    }
   ],
   "source": [
    "# package numpy - subpackage random - object Generator - method permutation - call\n",
    "nInsObjGBT.permutation([1,4,9,12,15])"
   ]
  },
  {
   "cell_type": "code",
   "execution_count": 16,
   "metadata": {},
   "outputs": [],
   "source": [
    "# package numpy - subpackage core - C function arange alias arrayEvenlySpaced - call\n",
    "nArray=arrayEvenlySpaced(9)"
   ]
  },
  {
   "cell_type": "code",
   "execution_count": 17,
   "metadata": {},
   "outputs": [],
   "source": [
    "# package numpy - subpackage core - C function reshape alias arrayNewShape - call\n",
    "nArray=arrayNewShape(nArray,(3,3))"
   ]
  },
  {
   "cell_type": "code",
   "execution_count": 18,
   "metadata": {},
   "outputs": [
    {
     "data": {
      "text/plain": [
       "array([[0, 1, 2],\n",
       "       [3, 4, 5],\n",
       "       [6, 7, 8]])"
      ]
     },
     "execution_count": 18,
     "metadata": {},
     "output_type": "execute_result"
    }
   ],
   "source": [
    "# package numpy - subpackage random - object Generator - method permutation - call\n",
    "nInsObjGBT.permutation(nArray)"
   ]
  },
  {
   "cell_type": "code",
   "execution_count": 19,
   "metadata": {},
   "outputs": [
    {
     "data": {
      "text/plain": [
       "array([[2, 1, 0],\n",
       "       [5, 4, 3],\n",
       "       [8, 7, 6]])"
      ]
     },
     "execution_count": 19,
     "metadata": {},
     "output_type": "execute_result"
    }
   ],
   "source": [
    "# package numpy - subpackage random - object Generator - method permutation - call\n",
    "nInsObjGBT.permutation(nArray,axis=1)"
   ]
  },
  {
   "cell_type": "code",
   "execution_count": 20,
   "metadata": {},
   "outputs": [],
   "source": [
    "# Kernel - Restart\n",
    "exit()"
   ]
  },
  {
   "cell_type": "markdown",
   "metadata": {},
   "source": [
    "***\n",
    "#### References\n",
    "&nbsp;&nbsp;&nbsp;&nbsp;&nbsp;&nbsp;&nbsp;&nbsp;&nbsp;[2.1] Documentation, \"numpy.random.Generator.shuffle,\" [NumPy](https://web.archive.org/web/20201103103712/https://numpy.org/doc/stable/reference/random/generated/numpy.random.Generator.shuffle.html#numpy-random-generator-shuffle), June 2020.\n",
    "\n",
    "&nbsp;&nbsp;&nbsp;&nbsp;&nbsp;&nbsp;&nbsp;&nbsp;&nbsp;[2.2] Documentation, \"numpy.random.Generator.permutation,\" [NumPy](https://web.archive.org/web/20201103112923/https://numpy.org/doc/stable/reference/random/generated/numpy.random.Generator.permutation.html#numpy-random-generator-permutation), June 2020.\n",
    "***\n",
    "#### END"
   ]
  },
  {
   "cell_type": "markdown",
   "metadata": {},
   "source": [
    "#### Task 3\n",
    "Explain the use and purpose of at least five “Distributions” functions.\n",
    "***"
   ]
  },
  {
   "cell_type": "markdown",
   "metadata": {},
   "source": [
    "###### Probability Distributions\n",
    "***"
   ]
  },
  {
   "cell_type": "markdown",
   "metadata": {},
   "source": [
    "- classified - discrete probability distributions - continuous probability distributions - depend on whether the array/distribution define probabilities associated with variables that are either - discrete - continuous [[...] StarTrek, \"Probability Distributions: Discrete vs. Continuous,\" [startrek](https://web.archive.org/web/20201106155243/https://stattrek.com/probability-distributions/discrete-continuous.aspx), November 2015.]"
   ]
  },
  {
   "cell_type": "markdown",
   "metadata": {},
   "source": [
    "- discrete variables - countable in a finite amount of time - count the change in a wallet - count the money in a bank account [[...] Statistics How To, \"Discrete vs Continuous variables: How to Tell the Difference,\" [statisticshowto](xxx), November 2013.] - real-world - flip a coin - count number of heads - the count could be any integer value between ``0`` and plus ``infinity`` - not possible to get 2.5 heads [[...] Statistics How To, \"Discrete vs Continuous variables: How to Tell the Difference,\" [statisticshowto](xxx), November 2013.]"
   ]
  },
  {
   "cell_type": "markdown",
   "metadata": {},
   "source": [
    "- continuous variables - literally take forever to count - cannot count age - time is a continuous variable [[...] Statistics How To, \"Discrete vs Continuous variables: How to Tell the Difference,\" [statisticshowto](xxx), November 2013.] - real-world - fire department recruitment requirement - fire fighters must weigh between ``70kgs`` and ``110kgs`` - weight of the fire fighter is a continuous variable since weight could take on any value between ``70kgs`` and ``110kgs`` [[...] Statistics How To, \"Discrete vs Continuous variables: How to Tell the Difference,\" [statisticshowto](xxx), November 2013.]"
   ]
  },
  {
   "cell_type": "markdown",
   "metadata": {},
   "source": [
    "- task requirement is to explain the use and purpose of at least five \"Distributions\" functions - endeavour to split the task between - continuous probability distributions - discrete probability distributions [[...] No Reference.]"
   ]
  },
  {
   "cell_type": "markdown",
   "metadata": {},
   "source": [
    "###### Continuous Probability Distributions\n",
    "***"
   ]
  },
  {
   "cell_type": "code",
   "execution_count": 1,
   "metadata": {},
   "outputs": [],
   "source": [
    "# b_T_hird_P_arty-imports\n",
    "from numpy.random import default_rng as newGenBitGenPCG64"
   ]
  },
  {
   "cell_type": "markdown",
   "metadata": {},
   "source": [
    "- taking random sample - data could be arranged such that its spread out in many different ways - more on the left - more on the right - all jumbled up [[...] Math Is Fun, \"Normal Distribution,\" [mathisfun](https://web.archive.org/web/20201106104058/https://www.mathsisfun.com/data/standard-normal-distribution.html), November 2014.]"
   ]
  },
  {
   "cell_type": "markdown",
   "metadata": {},
   "source": [
    "<img src=\"img/distribution-normal-spread-left-right-jumbled.png\" />\n",
    "\n",
    "> Math Is Fun, \"Normal Distribution,\" [mathisfun](https://web.archive.org/web/20201106104058/https://www.mathsisfun.com/data/standard-normal-distribution.html), November 2014."
   ]
  },
  {
   "cell_type": "markdown",
   "metadata": {},
   "source": [
    "###### Continuous - Normal Distribution - numpy.random.Generator.normal"
   ]
  },
  {
   "cell_type": "markdown",
   "metadata": {},
   "source": [
    "- many cases - data tends to be around a central value with no bias - left or right - gets close to a normal distribtion - often called bell curve because of its shape [[...] Math Is Fun, \"Normal Distribution,\" [mathisfun](https://web.archive.org/web/20201106104058/https://www.mathsisfun.com/data/standard-normal-distribution.html), November 2014.][[...] Anaconda - \"numpy/random,\" Docstring, June 2020.]"
   ]
  },
  {
   "cell_type": "markdown",
   "metadata": {},
   "source": [
    "<img src=\"img/distribution-normal-spread-bell-curve.png\" />\n",
    "\n",
    "> Math Is Fun, \"Normal Distribution,\" [mathisfun](https://web.archive.org/web/20201106104058/https://www.mathsisfun.com/data/standard-normal-distribution.html), November 2014."
   ]
  },
  {
   "cell_type": "code",
   "execution_count": 2,
   "metadata": {},
   "outputs": [
    {
     "name": "stdout",
     "output_type": "stream",
     "text": [
      "        Draw random samples from a normal (Gaussian) distribution.\n",
      "\n",
      "        The probability density function of the normal distribution, first\n",
      "        derived by De Moivre and 200 years later by both Gauss and Laplace\n",
      "        independently [2]_, is often called the bell curve because of\n",
      "        its characteristic shape (see the example below).\n",
      "\n"
     ]
    }
   ],
   "source": [
    "# package numpy - subpackage random - object Generator - method default_rng alias newGenBitGenPCG64 - instantiate\n",
    "print(\"\\n\".join(newGenBitGenPCG64().normal.__doc__.split(\"\\n\")[3:10])) # method normal - attr __doc__ - access"
   ]
  },
  {
   "cell_type": "markdown",
   "metadata": {},
   "source": [
    "- nature - things such as - heights of people - size of things produced by machines - errors in measurements - blood pressure - marks on a test - follow a normal distribution - describes samples influenced by unplanned interferences - each having its own distinctive arrangement [[...] Math Is Fun, \"Normal Distribution,\" [mathisfun](https://web.archive.org/web/20201106104058/https://www.mathsisfun.com/data/standard-normal-distribution.html), November 2014.][[...] Anaconda - \"numpy/random,\" Docstring, June 2020.]"
   ]
  },
  {
   "cell_type": "code",
   "execution_count": 3,
   "metadata": {
    "scrolled": true
   },
   "outputs": [
    {
     "name": "stdout",
     "output_type": "stream",
     "text": [
      "        The normal distributions occurs often in nature.  For example, it\n",
      "        describes the commonly occurring distribution of samples influenced\n",
      "        by a large number of tiny, random disturbances, each with its own\n",
      "        unique distribution [2]_.\n",
      "\n"
     ]
    }
   ],
   "source": [
    "# package numpy - subpackage random - object Generator - method default_rng alias newGenBitGenPCG64 - instantiate\n",
    "print(\"\\n\".join(newGenBitGenPCG64().normal.__doc__.split(\"\\n\")[10:15])) # method normal - attr __doc__ - access"
   ]
  },
  {
   "cell_type": "markdown",
   "metadata": {},
   "source": [
    "###### Continuous - Uniform Distribution - numpy.random.Generator.uniform"
   ]
  },
  {
   "cell_type": "markdown",
   "metadata": {},
   "source": [
    "- taking random sample - data arranged such that its completely arbitrary except that it is known to lie between certain bounds - each value is equally likely to be drawn at random [[...] F.M. Dekking, C. Kraaikamp, H.P. Lopuhaä, L.E. Meester, \"A Modern Introduction to Probability and Statistics Understanding Why and How,\" Springer, 2005.] "
   ]
  },
  {
   "cell_type": "markdown",
   "metadata": {},
   "source": [
    "- half-open interval - one endpoint is included but not the other [[...] Wolfram, \"Half-Closed Interval,\" [mathworld.wolfram](https://web.archive.org/web/20201106190646/https://mathworld.wolfram.com/Half-ClosedInterval.html), Ootober 2020.] - includes - low - excludes - high [[...] Anaconda - \"numpy/random,\" Docstring, June 2020.]"
   ]
  },
  {
   "cell_type": "markdown",
   "metadata": {},
   "source": [
    "$$[low, high)$$"
   ]
  },
  {
   "cell_type": "markdown",
   "metadata": {},
   "source": [
    "<img src=\"img/distribution-uniform-half-open-interval.png\" />\n",
    "\n",
    "> Wolfram, \"Half-Closed Interval,\" [mathworld.wolfram](https://web.archive.org/web/20201106190646/https://mathworld.wolfram.com/Half-ClosedInterval.html), Ootober 2020."
   ]
  },
  {
   "cell_type": "markdown",
   "metadata": {},
   "source": [
    "- same principle as the most commonly used iterator in python - range - which generates a sequence of numbers - by convention the top of the object range is not included in the output [[...] J. VanderPlas, \"Built-In Data Structures,\" A Whirlwind Tour of Python, p. 39, August 2016.]"
   ]
  },
  {
   "cell_type": "code",
   "execution_count": 4,
   "metadata": {},
   "outputs": [
    {
     "name": "stdout",
     "output_type": "stream",
     "text": [
      "0 1\n"
     ]
    }
   ],
   "source": [
    "print(*range(0,2))"
   ]
  },
  {
   "cell_type": "code",
   "execution_count": 5,
   "metadata": {
    "scrolled": true
   },
   "outputs": [
    {
     "name": "stdout",
     "output_type": "stream",
     "text": [
      "        Draw samples from a uniform distribution.\n",
      "\n",
      "        Samples are uniformly distributed over the half-open interval\n",
      "        ``[low, high)`` (includes low, but excludes high).  In other words,\n",
      "        any value within the given interval is equally likely to be drawn\n",
      "        by `uniform`.\n",
      "\n"
     ]
    }
   ],
   "source": [
    "# package numpy - subpackage random - object Generator - method default_rng alias newGenBitGenPCG64 - instantiate\n",
    "print(\"\\n\".join(newGenBitGenPCG64().uniform.__doc__.split(\"\\n\")[3:10])) # method uniform - attr __doc__ - access"
   ]
  },
  {
   "cell_type": "markdown",
   "metadata": {},
   "source": [
    "###### Continuous - Chi-square Distribution - numpy.random.Generator.chisquare"
   ]
  },
  {
   "cell_type": "code",
   "execution_count": 6,
   "metadata": {},
   "outputs": [
    {
     "name": "stdout",
     "output_type": "stream",
     "text": [
      "\n",
      "        chisquare(df, size=None)\n",
      "\n",
      "        Draw samples from a chi-square distribution.\n",
      "\n",
      "        When `df` independent random variables, each with standard normal\n",
      "        distributions (mean 0, variance 1), are squared and summed, the\n",
      "        resulting distribution is chi-square (see Notes).  This distribution\n",
      "        is often used in hypothesis testing.\n",
      "\n",
      "        Parameters\n",
      "        ----------\n",
      "        df : float or array_like of floats\n",
      "             Number of degrees of freedom, must be > 0.\n",
      "        size : int or tuple of ints, optional\n",
      "            Output shape.  If the given shape is, e.g., ``(m, n, k)``, then\n",
      "            ``m * n * k`` samples are drawn.  If size is ``None`` (default),\n",
      "            a single value is returned if ``df`` is a scalar.  Otherwise,\n",
      "            ``np.array(df).size`` samples are drawn.\n",
      "\n",
      "        Returns\n",
      "        -------\n",
      "        out : ndarray or scalar\n",
      "            Drawn samples from the parameterized chi-square distribution.\n",
      "\n",
      "        Raises\n",
      "        ------\n",
      "        ValueError\n",
      "            When `df` <= 0 or when an inappropriate `size` (e.g. ``size=-1``)\n",
      "            is given.\n",
      "\n",
      "        Notes\n",
      "        -----\n",
      "        The variable obtained by summing the squares of `df` independent,\n",
      "        standard normally distributed random variables:\n",
      "\n",
      "        .. math:: Q = \\sum_{i=0}^{\\mathtt{df}} X^2_i\n",
      "\n",
      "        is chi-square distributed, denoted\n",
      "\n",
      "        .. math:: Q \\sim \\chi^2_k.\n",
      "\n",
      "        The probability density function of the chi-squared distribution is\n",
      "\n",
      "        .. math:: p(x) = \\frac{(1/2)^{k/2}}{\\Gamma(k/2)}\n",
      "                         x^{k/2 - 1} e^{-x/2},\n",
      "\n",
      "        where :math:`\\Gamma` is the gamma function,\n",
      "\n",
      "        .. math:: \\Gamma(x) = \\int_0^{-\\infty} t^{x - 1} e^{-t} dt.\n",
      "\n",
      "        References\n",
      "        ----------\n",
      "        .. [1] NIST \"Engineering Statistics Handbook\"\n",
      "               https://www.itl.nist.gov/div898/handbook/eda/section3/eda3666.htm\n",
      "\n",
      "        Examples\n",
      "        --------\n",
      "        >>> np.random.default_rng().chisquare(2,4)\n",
      "        array([ 1.89920014,  9.00867716,  3.13710533,  5.62318272]) # random\n",
      "\n",
      "        \n"
     ]
    }
   ],
   "source": [
    "# package numpy - subpackage random - object Generator - method default_rng alias newGenBitGenPCG64 - instantiate\n",
    "print(newGenBitGenPCG64().chisquare.__doc__) # method chisquare - attr __doc__ - access"
   ]
  },
  {
   "cell_type": "code",
   "execution_count": 7,
   "metadata": {},
   "outputs": [],
   "source": [
    "# Kernel Restart\n",
    "exit()"
   ]
  },
  {
   "cell_type": "markdown",
   "metadata": {},
   "source": [
    "###### Discrete Probability Distributions\n",
    "***"
   ]
  },
  {
   "cell_type": "code",
   "execution_count": 1,
   "metadata": {},
   "outputs": [],
   "source": [
    "# b_T_hird_P_arty-imports\n",
    "from numpy.random import Generator as CContainerBitGenerator\n",
    "from numpy.random import PCG64 as CPermutedCongruentialGenerator"
   ]
  },
  {
   "cell_type": "markdown",
   "metadata": {},
   "source": [
    "- PCG64 - default pseudo-random number generator - class - BitGenerator - algorithm is an implementation of O'Neill's permutation congruential generator [[...] Documentation, \"Permuted Congruential Generator (64-bit, PCG64),\" [NumPy](https://web.archive.org/web/20201102192029/https://numpy.org/doc/stable/reference/random/bit_generators/pcg64.html#permuted-congruential-generator-64-bit-pcg64), June 2020.]"
   ]
  },
  {
   "cell_type": "code",
   "execution_count": 2,
   "metadata": {},
   "outputs": [],
   "source": [
    "# package numpy - subpackage random - object PCG64 alias CPermutedCongruentialGenerator - instantiate\n",
    "nPCG64=CPermutedCongruentialGenerator()"
   ]
  },
  {
   "cell_type": "markdown",
   "metadata": {},
   "source": [
    "- base - parent - class - BitGenerator [[...] Documentation, \"numpy.random.BitGenerator,\" [NumPy](https://web.archive.org/web/20201102114147/https://numpy.org/doc/stable/reference/random/bit_generators/generated/numpy.random.BitGenerator.html#numpy.random.BitGenerator), June 2020.] - of the - child - class - Generator [[...] Documentation, \"numpy.random.Generator,\" [NumPy](https://web.archive.org/web/20201102191659/https://numpy.org/doc/stable/reference/random/generator.html#random-generator), June 2020.]"
   ]
  },
  {
   "cell_type": "code",
   "execution_count": 3,
   "metadata": {},
   "outputs": [],
   "source": [
    "# package numpy - subpackage random - object Generator alias CContainerBitGenerator - instantiate\n",
    "nContainerBitGen=CContainerBitGenerator(nPCG64)"
   ]
  },
  {
   "cell_type": "markdown",
   "metadata": {},
   "source": [
    "- recommended constructor - Generator - function - default_rng - which will instantiate a - Generator - with numpys default - BitGenerator - same outcome as above - will be implemented going forward given numpys recommendation [[...] Documentation, \"numpy.random.Generator,\" [NumPy](https://web.archive.org/web/20201102191659/https://numpy.org/doc/stable/reference/random/generator.html#random-generator), June 2020.] "
   ]
  },
  {
   "cell_type": "markdown",
   "metadata": {},
   "source": [
    "###### Discrete - Binomial Distribution - numpy.random.Generator.binomial"
   ]
  },
  {
   "cell_type": "code",
   "execution_count": 4,
   "metadata": {},
   "outputs": [
    {
     "name": "stdout",
     "output_type": "stream",
     "text": [
      "\n",
      "        binomial(n, p, size=None)\n",
      "\n",
      "        Draw samples from a binomial distribution.\n",
      "\n",
      "        Samples are drawn from a binomial distribution with specified\n",
      "        parameters, n trials and p probability of success where\n",
      "        n an integer >= 0 and p is in the interval [0,1]. (n may be\n",
      "        input as a float, but it is truncated to an integer in use)\n",
      "\n",
      "        Parameters\n",
      "        ----------\n",
      "        n : int or array_like of ints\n",
      "            Parameter of the distribution, >= 0. Floats are also accepted,\n",
      "            but they will be truncated to integers.\n",
      "        p : float or array_like of floats\n",
      "            Parameter of the distribution, >= 0 and <=1.\n",
      "        size : int or tuple of ints, optional\n",
      "            Output shape.  If the given shape is, e.g., ``(m, n, k)``, then\n",
      "            ``m * n * k`` samples are drawn.  If size is ``None`` (default),\n",
      "            a single value is returned if ``n`` and ``p`` are both scalars.\n",
      "            Otherwise, ``np.broadcast(n, p).size`` samples are drawn.\n",
      "\n",
      "        Returns\n",
      "        -------\n",
      "        out : ndarray or scalar\n",
      "            Drawn samples from the parameterized binomial distribution, where\n",
      "            each sample is equal to the number of successes over the n trials.\n",
      "\n",
      "        See Also\n",
      "        --------\n",
      "        scipy.stats.binom : probability density function, distribution or\n",
      "            cumulative density function, etc.\n",
      "\n",
      "        Notes\n",
      "        -----\n",
      "        The probability density for the binomial distribution is\n",
      "\n",
      "        .. math:: P(N) = \\binom{n}{N}p^N(1-p)^{n-N},\n",
      "\n",
      "        where :math:`n` is the number of trials, :math:`p` is the probability\n",
      "        of success, and :math:`N` is the number of successes.\n",
      "\n",
      "        When estimating the standard error of a proportion in a population by\n",
      "        using a random sample, the normal distribution works well unless the\n",
      "        product p*n <=5, where p = population proportion estimate, and n =\n",
      "        number of samples, in which case the binomial distribution is used\n",
      "        instead. For example, a sample of 15 people shows 4 who are left\n",
      "        handed, and 11 who are right handed. Then p = 4/15 = 27%. 0.27*15 = 4,\n",
      "        so the binomial distribution should be used in this case.\n",
      "\n",
      "        References\n",
      "        ----------\n",
      "        .. [1] Dalgaard, Peter, \"Introductory Statistics with R\",\n",
      "               Springer-Verlag, 2002.\n",
      "        .. [2] Glantz, Stanton A. \"Primer of Biostatistics.\", McGraw-Hill,\n",
      "               Fifth Edition, 2002.\n",
      "        .. [3] Lentner, Marvin, \"Elementary Applied Statistics\", Bogden\n",
      "               and Quigley, 1972.\n",
      "        .. [4] Weisstein, Eric W. \"Binomial Distribution.\" From MathWorld--A\n",
      "               Wolfram Web Resource.\n",
      "               http://mathworld.wolfram.com/BinomialDistribution.html\n",
      "        .. [5] Wikipedia, \"Binomial distribution\",\n",
      "               https://en.wikipedia.org/wiki/Binomial_distribution\n",
      "\n",
      "        Examples\n",
      "        --------\n",
      "        Draw samples from the distribution:\n",
      "\n",
      "        >>> rng = np.random.default_rng()\n",
      "        >>> n, p = 10, .5  # number of trials, probability of each trial\n",
      "        >>> s = rng.binomial(n, p, 1000)\n",
      "        # result of flipping a coin 10 times, tested 1000 times.\n",
      "\n",
      "        A real world example. A company drills 9 wild-cat oil exploration\n",
      "        wells, each with an estimated probability of success of 0.1. All nine\n",
      "        wells fail. What is the probability of that happening?\n",
      "\n",
      "        Let's do 20,000 trials of the model, and count the number that\n",
      "        generate zero positive results.\n",
      "\n",
      "        >>> sum(rng.binomial(9, 0.1, 20000) == 0)/20000.\n",
      "        # answer = 0.38885, or 38%.\n",
      "\n",
      "        \n"
     ]
    }
   ],
   "source": [
    "# pkg numpy - subpkg random - obj Generator alias CContainerBitGenerator - method binomial - attri __doc__ - access\n",
    "print(nContainerBitGen.binomial.__doc__)"
   ]
  },
  {
   "cell_type": "markdown",
   "metadata": {},
   "source": [
    "###### Discrete - Poisson Distribution - numpy.random.Generator.poisson"
   ]
  },
  {
   "cell_type": "code",
   "execution_count": 5,
   "metadata": {},
   "outputs": [
    {
     "name": "stdout",
     "output_type": "stream",
     "text": [
      "\n",
      "        poisson(lam=1.0, size=None)\n",
      "\n",
      "        Draw samples from a Poisson distribution.\n",
      "\n",
      "        The Poisson distribution is the limit of the binomial distribution\n",
      "        for large N.\n",
      "\n",
      "        Parameters\n",
      "        ----------\n",
      "        lam : float or array_like of floats\n",
      "            Expectation of interval, must be >= 0. A sequence of expectation\n",
      "            intervals must be broadcastable over the requested size.\n",
      "        size : int or tuple of ints, optional\n",
      "            Output shape.  If the given shape is, e.g., ``(m, n, k)``, then\n",
      "            ``m * n * k`` samples are drawn.  If size is ``None`` (default),\n",
      "            a single value is returned if ``lam`` is a scalar. Otherwise,\n",
      "            ``np.array(lam).size`` samples are drawn.\n",
      "\n",
      "        Returns\n",
      "        -------\n",
      "        out : ndarray or scalar\n",
      "            Drawn samples from the parameterized Poisson distribution.\n",
      "\n",
      "        Notes\n",
      "        -----\n",
      "        The Poisson distribution\n",
      "\n",
      "        .. math:: f(k; \\lambda)=\\frac{\\lambda^k e^{-\\lambda}}{k!}\n",
      "\n",
      "        For events with an expected separation :math:`\\lambda` the Poisson\n",
      "        distribution :math:`f(k; \\lambda)` describes the probability of\n",
      "        :math:`k` events occurring within the observed\n",
      "        interval :math:`\\lambda`.\n",
      "\n",
      "        Because the output is limited to the range of the C int64 type, a\n",
      "        ValueError is raised when `lam` is within 10 sigma of the maximum\n",
      "        representable value.\n",
      "\n",
      "        References\n",
      "        ----------\n",
      "        .. [1] Weisstein, Eric W. \"Poisson Distribution.\"\n",
      "               From MathWorld--A Wolfram Web Resource.\n",
      "               http://mathworld.wolfram.com/PoissonDistribution.html\n",
      "        .. [2] Wikipedia, \"Poisson distribution\",\n",
      "               https://en.wikipedia.org/wiki/Poisson_distribution\n",
      "\n",
      "        Examples\n",
      "        --------\n",
      "        Draw samples from the distribution:\n",
      "\n",
      "        >>> import numpy as np\n",
      "        >>> rng = np.random.default_rng()\n",
      "        >>> s = rng.poisson(5, 10000)\n",
      "\n",
      "        Display histogram of the sample:\n",
      "\n",
      "        >>> import matplotlib.pyplot as plt\n",
      "        >>> count, bins, ignored = plt.hist(s, 14, density=True)\n",
      "        >>> plt.show()\n",
      "\n",
      "        Draw each 100 values for lambda 100 and 500:\n",
      "\n",
      "        >>> s = rng.poisson(lam=(100., 500.), size=(100, 2))\n",
      "\n",
      "        \n"
     ]
    }
   ],
   "source": [
    "# pkg numpy - subpkg random - obj Generator alias CContainerBitGenerator - method poisson - attri __doc__ - access\n",
    "print(nContainerBitGen.poisson.__doc__)"
   ]
  },
  {
   "cell_type": "markdown",
   "metadata": {},
   "source": [
    "###### Discrete - Geometric Distribution - numpy.random.Generator.geometric"
   ]
  },
  {
   "cell_type": "code",
   "execution_count": 6,
   "metadata": {},
   "outputs": [
    {
     "name": "stdout",
     "output_type": "stream",
     "text": [
      "\n",
      "        geometric(p, size=None)\n",
      "\n",
      "        Draw samples from the geometric distribution.\n",
      "\n",
      "        Bernoulli trials are experiments with one of two outcomes:\n",
      "        success or failure (an example of such an experiment is flipping\n",
      "        a coin).  The geometric distribution models the number of trials\n",
      "        that must be run in order to achieve success.  It is therefore\n",
      "        supported on the positive integers, ``k = 1, 2, ...``.\n",
      "\n",
      "        The probability mass function of the geometric distribution is\n",
      "\n",
      "        .. math:: f(k) = (1 - p)^{k - 1} p\n",
      "\n",
      "        where `p` is the probability of success of an individual trial.\n",
      "\n",
      "        Parameters\n",
      "        ----------\n",
      "        p : float or array_like of floats\n",
      "            The probability of success of an individual trial.\n",
      "        size : int or tuple of ints, optional\n",
      "            Output shape.  If the given shape is, e.g., ``(m, n, k)``, then\n",
      "            ``m * n * k`` samples are drawn.  If size is ``None`` (default),\n",
      "            a single value is returned if ``p`` is a scalar.  Otherwise,\n",
      "            ``np.array(p).size`` samples are drawn.\n",
      "\n",
      "        Returns\n",
      "        -------\n",
      "        out : ndarray or scalar\n",
      "            Drawn samples from the parameterized geometric distribution.\n",
      "\n",
      "        Examples\n",
      "        --------\n",
      "        Draw ten thousand values from the geometric distribution,\n",
      "        with the probability of an individual success equal to 0.35:\n",
      "\n",
      "        >>> z = np.random.default_rng().geometric(p=0.35, size=10000)\n",
      "\n",
      "        How many trials succeeded after a single run?\n",
      "\n",
      "        >>> (z == 1).sum() / 10000.\n",
      "        0.34889999999999999 #random\n",
      "\n",
      "        \n"
     ]
    }
   ],
   "source": [
    "# pkg numpy - subpkg random - obj Generator alias CContainerBitGenerator - method geometric - attri __doc__ - access\n",
    "print(nContainerBitGen.geometric.__doc__)"
   ]
  },
  {
   "cell_type": "markdown",
   "metadata": {},
   "source": [
    "***\n",
    "#### References\n",
    "&nbsp;&nbsp;&nbsp;&nbsp;&nbsp;&nbsp;&nbsp;&nbsp;&nbsp;[1] authorNames, referenceTitle, locationWebsiteBookVideo, dateMonthYear.\n",
    "\n",
    "&nbsp;&nbsp;&nbsp;&nbsp;&nbsp;&nbsp;&nbsp;[10]\n",
    "\n",
    "&nbsp;&nbsp;&nbsp;&nbsp;&nbsp;[100]\n",
    "\n",
    "&nbsp;&nbsp;&nbsp;[1000]\n",
    "***\n",
    "#### END"
   ]
  },
  {
   "cell_type": "markdown",
   "metadata": {},
   "source": [
    "#### Task 4\n",
    "Explain the use of seeds in generating pseudorandom numbers.\n",
    "***"
   ]
  },
  {
   "cell_type": "markdown",
   "metadata": {},
   "source": [
    "***\n",
    "#### References\n",
    "&nbsp;&nbsp;&nbsp;&nbsp;&nbsp;&nbsp;&nbsp;&nbsp;&nbsp;[1] authorNames, referenceTitle, locationWebsiteBookVideo, dateMonthYear.\n",
    "\n",
    "&nbsp;&nbsp;&nbsp;&nbsp;&nbsp;&nbsp;&nbsp;[10]\n",
    "\n",
    "&nbsp;&nbsp;&nbsp;&nbsp;&nbsp;[100]\n",
    "\n",
    "&nbsp;&nbsp;&nbsp;[1000]\n",
    "***\n",
    "#### END"
   ]
  },
  {
   "cell_type": "markdown",
   "metadata": {},
   "source": [
    "***\n",
    "# END"
   ]
  }
 ],
 "metadata": {
  "kernelspec": {
   "display_name": "Python 3",
   "language": "python",
   "name": "python3"
  },
  "language_info": {
   "codemirror_mode": {
    "name": "ipython",
    "version": 3
   },
   "file_extension": ".py",
   "mimetype": "text/x-python",
   "name": "python",
   "nbconvert_exporter": "python",
   "pygments_lexer": "ipython3",
   "version": "3.8.3"
  }
 },
 "nbformat": 4,
 "nbformat_minor": 4
}
