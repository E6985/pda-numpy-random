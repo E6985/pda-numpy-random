{
 "cells": [
  {
   "cell_type": "markdown",
   "metadata": {},
   "source": [
    "< [GMIT Data Analytics](https://web.archive.org/web/20201029063153/https://www.gmit.ie/computer-science-and-applied-physics/higher-diploma-science-computing-data-analytics-ict) | [Table of Contents](https://github.com/E6985) | [README](https://github.com/E6985/pda-numpy-random/blob/master/README.md) >\n",
    "\n",
    "<img src=\"img/gmit.png\" />\n",
    "\n",
    "## Programming for Data Analysis - Assignment 2020\n",
    "## Due: last commit on or before November 22nd, 2020\n",
    "***"
   ]
  },
  {
   "cell_type": "markdown",
   "metadata": {},
   "source": [
    "#### Assignment\n",
    "Assignment concerns the numpy.random package in Python. Required to create a Jupyter Notebook explaining the use of the package, including detailed explanations of at least five of the distributions provided for in the package. There are four distinct tasks to be carried out in the Jupyter notebook.\n",
    "\n",
    "1. Explain the overall purpose of the package.\n",
    "2. Explain the use of the “Simple random data” and “Permutations” functions.\n",
    "3. Explain the use and purpose of at least five “Distributions” functions.\n",
    "4. Explain the use of seeds in generating pseudorandom numbers.\n",
    "***"
   ]
  },
  {
   "cell_type": "markdown",
   "metadata": {},
   "source": [
    "## Task 1\n",
    "#### Explain the overall purpose of the package.\n",
    "***"
   ]
  },
  {
   "cell_type": "markdown",
   "metadata": {},
   "source": [
    "- true random number generator - TRNG - typically involve hardware - rolling an unbiased die [\n",
    "[...] J. Wilson, \"Randomness for Modeling and Simulation,\" [realpython](https://web.archive.org/web/20191209141406/https://realpython.com/lessons/randomness-modeling-and-simulation), June 2019.\n",
    "]"
   ]
  },
  {
   "cell_type": "markdown",
   "metadata": {},
   "source": [
    "- package - numpy - subpackage - random - provides pseudorandomness - random data generated from its methods are not truly random but are pseudorandom - pseudorandom number generator - PRNG [\n",
    "[...] J. Wilson, \"Randomness for Modeling and Simulation,\" [realpython](https://web.archive.org/web/20191209141406/https://realpython.com/lessons/randomness-modeling-and-simulation), June 2019.\n",
    "]"
   ]
  },
  {
   "cell_type": "markdown",
   "metadata": {},
   "source": [
    "- PRNGs - implemented in software and by design can be seeded and are deterministic - can recreate and predict the generated series of random values - the data generated is produced based on a value called the seed - can think of the seed as a starting point to get the random generation going [\n",
    "[...] J. Wilson, \"Randomness for Modeling and Simulation,\" [realpython](https://web.archive.org/web/20191209141406/https://realpython.com/lessons/randomness-modeling-and-simulation), June 2019.\n",
    "]"
   ]
  },
  {
   "cell_type": "markdown",
   "metadata": {},
   "source": [
    "- invoking a method from subpackage - random - requires the method to come up with its own seed - typically the system time - time since the Epoch - 00:00:00 UTC 1st January 1970 [\n",
    "[...] J. Wilson, \"Randomness for Modeling and Simulation,\" [realpython](https://web.archive.org/web/20191209141406/https://realpython.com/lessons/randomness-modeling-and-simulation), June 2019.\n",
    "]"
   ]
  },
  {
   "cell_type": "markdown",
   "metadata": {},
   "source": [
    "- the seed is used to generate the values from the method used - the effect of explicitly seeding provides a way to duplicate the same random number generation which is a handy tool for testing and simulation [\n",
    "[...] J. Wilson, \"Randomness for Modeling and Simulation,\" [realpython](https://web.archive.org/web/20191209141406/https://realpython.com/lessons/randomness-modeling-and-simulation), June 2019.\n",
    "]"
   ]
  },
  {
   "cell_type": "markdown",
   "metadata": {},
   "source": [
    "- simulation is such a common implementation of pseudorandom generation and data science - using the subpackage to simulate a real-world phenomenon [realpython](https://web.archive.org/web/20191209141406/https://realpython.com/lessons/randomness-modeling-and-simulation), June 2019.\n",
    "] - modelling - synthesising - without actually obtaining the data [\n",
    "[..] B. McGinley, \"Project Instructions,\" GMIT, November 2020.\n",
    "] - pretending to collect data by generating random numbers that follow a certain pattern and analysing these numbers for whatever reason [\n",
    "[...] I. McLoughlin, \"Introduction to numpy,\" GMIT, October 2018.\n",
    "]"
   ]
  },
  {
   "cell_type": "markdown",
   "metadata": {},
   "source": [
    "- using the methods from the subpackage to generate data based on researching types of variables involved - likely distributions - their relationships with each other - creating a dataset which presumably will have some random element in its generation following some sort of distribution - rerunning later and getting a different randomly generated dataset with the same properties obtained from researched prior [\n",
    "[..] B. McGinley, \"Project Instructions,\" GMIT, November 2020.\n",
    "]"
   ]
  },
  {
   "cell_type": "markdown",
   "metadata": {},
   "source": [
    "- given the COVID-19 public health emergency - secondary school students in Ireland got a State Certificate of Calculated Grades in each Leaving Certificate subject - having the same status as the Leaving Certificates awarded to students in previous years [\n",
    "[...] Citizens Information, \"Leaving Certificate and calculated grades,\" [citizensinformation](https://web.archive.org/web/20201122145216/https://www.citizensinformation.ie/en/education/state_examinations/leaving_certificate_2020_calculated_grades.html), October 2020.\n",
    "]"
   ]
  },
  {
   "cell_type": "markdown",
   "metadata": {},
   "source": [
    "- using the subpackage - random - could simulation - synthesise - a dataset of the real-world phenomenon of the performance of students in the Leaving Certificate in previous years [\n",
    "[..] B. McGinley, \"Project Instructions,\" GMIT, November 2020.\n",
    "]"
   ]
  },
  {
   "cell_type": "markdown",
   "metadata": {},
   "source": [
    "- completing some research - deciding that the most interesting variable is the mark a student receives in each subject - could have picked any variable - attendance - number of hours spent studying - deciding that grade and student performance is probably the most interesting variable that could be created or discovered or analysed from the data of a cohort of students from previous years - upon investigation of the problem - researching what do the grades generally look like [\n",
    "[..] B. McGinley, \"Project Instructions,\" GMIT, November 2020.\n",
    "]"
   ]
  },
  {
   "cell_type": "markdown",
   "metadata": {},
   "source": [
    "- anecdotal evidence might suggest that teachers mark to a bell curve shape albeit is not actually the case - marks can come out as a bell curve which is more to do with students being humans and all being different according to some probability distribution rather than a teacher trying to artificially force this upon something that is already there [\n",
    "[..] B. McGinley, \"Project Instructions,\" GMIT, November 2020.\n",
    "]"
   ]
  },
  {
   "cell_type": "markdown",
   "metadata": {},
   "source": [
    "- research might provide details such as - how many people do well when it comes to grades - how many students do not do so well - are most people sort of around the 40% or 50% mark - how does all this work [\n",
    "[..] B. McGinley, \"Project Instructions,\" GMIT, November 2020.\n",
    "]"
   ]
  },
  {
   "cell_type": "markdown",
   "metadata": {},
   "source": [
    "- in the course of researching could find further variables such as the number of hours on average a student studies per week - attendance at school - performance during the first few weeks of the term - previous Junior Certificate grades - maybe its possible to predict grades by looking at these variables [\n",
    "[..] B. McGinley, \"Project Instructions,\" GMIT, November 2020.\n",
    "]"
   ]
  },
  {
   "cell_type": "markdown",
   "metadata": {},
   "source": [
    "- further research could show that on average Leaving Certificate students study four hours per week with a standard deviation of a quarter of an hour - normal distribution is an acceptable model of such a variable - likewise any other variables of interested can be looked at in terms of relationships - devising an algorithm or method to generate such a dataset - simulating values of all interested variables for all students in the Leaving Certificate class of 2020 - possibly predicting student grades [\n",
    "[..] B. McGinley, \"Project Instructions,\" GMIT, November 2020.\n",
    "]"
   ]
  },
  {
   "cell_type": "markdown",
   "metadata": {},
   "source": [
    "- the package - numpy - is such an important package given that a number of other packages in python depend on it such as - pandas - scipy - matplotlib [\n",
    "[...] I. McLoughlin, \"Introduction to numpy.random,\" GMIT, October 2018\n",
    "] - this specialised package is very efficient with dealing with numbers and simulating and predicting outcomes through random data-points - such random observations having hidden probabilities [\n",
    "[...] I. McLoughlin, \"Introduction to numpy,\" GMIT, October 2018.\n",
    "]"
   ]
  },
  {
   "cell_type": "markdown",
   "metadata": {},
   "source": [
    "***\n",
    "#### References\n",
    "&nbsp;&nbsp;&nbsp;&nbsp;&nbsp;&nbsp;&nbsp;&nbsp;&nbsp;[1.1] I. McLoughlin, \"Introduction to numpy,\" GMIT, October 2018.\n",
    "\n",
    "&nbsp;&nbsp;&nbsp;&nbsp;&nbsp;&nbsp;&nbsp;&nbsp;&nbsp;[1.2] I. McLoughlin, \"Introduction to numpy.random,\" GMIT, October 2018.\n",
    "***\n",
    "#### END"
   ]
  },
  {
   "cell_type": "markdown",
   "metadata": {},
   "source": [
    "## Task 2\n",
    "#### Explain the use of the “Simple random data” and “Permutations” functions.\n",
    "***"
   ]
  },
  {
   "cell_type": "code",
   "execution_count": 3,
   "metadata": {},
   "outputs": [],
   "source": [
    "# b_T_hird_P_arty-imports\n",
    "from numpy.random import default_rng as newGenBitGenPCG64"
   ]
  },
  {
   "cell_type": "markdown",
   "metadata": {},
   "source": [
    "##### 2.1.0 - Use - Simple Random Data - numpy.random.Generator.integers"
   ]
  },
  {
   "cell_type": "markdown",
   "metadata": {},
   "source": [
    "- generates a sequence of random integers [\n",
    "[...] Anaconda - \"numpy.random.Generator.integers,\" Docstring, June 2020.\n",
    "]"
   ]
  },
  {
   "cell_type": "code",
   "execution_count": 4,
   "metadata": {},
   "outputs": [
    {
     "name": "stdout",
     "output_type": "stream",
     "text": [
      "        Return random integers from `low` (inclusive) to `high` (exclusive), or\n",
      "        if endpoint=True, `low` (inclusive) to `high` (inclusive). Replaces\n",
      "        `RandomState.randint` (with endpoint=False) and\n",
      "        `RandomState.random_integers` (with endpoint=True)\n"
     ]
    }
   ],
   "source": [
    "# package numpy - subpackage random - object Generator - method default_rng alias newGenBitGenPCG64 - instantiate\n",
    "print(\"\\n\".join(newGenBitGenPCG64().integers.__doc__.split(\"\\n\")[3:7])) # method integers - attr __doc__ - access"
   ]
  },
  {
   "cell_type": "markdown",
   "metadata": {},
   "source": [
    "###### 2.1.1 - Signature"
   ]
  },
  {
   "cell_type": "code",
   "execution_count": 5,
   "metadata": {},
   "outputs": [
    {
     "name": "stdout",
     "output_type": "stream",
     "text": [
      "        integers(low, high=None, size=None, dtype=np.int64, endpoint=False)\n"
     ]
    }
   ],
   "source": [
    "# package numpy - subpackage random - object Generator - method default_rng alias newGenBitGenPCG64 - instantiate\n",
    "print(\"\\n\".join(newGenBitGenPCG64().integers.__doc__.split(\"\\n\")[1:2])) # method integers - attr __doc__ - access"
   ]
  },
  {
   "cell_type": "markdown",
   "metadata": {},
   "source": [
    "###### 2.1.2 - Parameter - low"
   ]
  },
  {
   "cell_type": "markdown",
   "metadata": {},
   "source": [
    "- can be a negative/zero/positive value - or - ***list of negative/zero/positive value(s) - wrapped in square brackets separated by commas*** [\n",
    "[...] Anaconda - \"numpy.random.Generator.integers,\" Docstring, June 2020.\n",
    "]"
   ]
  },
  {
   "cell_type": "markdown",
   "metadata": {},
   "source": [
    "- lowest negative value - lowest possible random value generated ``-9223372036854775808`` - initialising parameter - ``low`` - with a negative value then must initialise parameter - ``high`` - at a minimum with said negative value plus one - if not exception indicating error occurs [\n",
    "[...] Anaconda - \"numpy.random.Generator.integers,\" Docstring, June 2020.\n",
    "]\n",
    "\n",
    "```python\n",
    "newGenBitGenPCG64().integers(low=-9223372036854775808)\n",
    "```\n",
    "```\n",
    "ValueError: low >= high\n",
    "```\n",
    "\n",
    "```python\n",
    "newGenBitGenPCG64().integers(low=-9223372036854775808,\n",
    "                             high=-9223372036854775808)\n",
    "```\n",
    "```\n",
    "ValueError: low >= high\n",
    "```"
   ]
  },
  {
   "cell_type": "markdown",
   "metadata": {},
   "source": [
    "- single value generated ``-9223372036854775808`` [\n",
    "[...] No Reference.\n",
    "]"
   ]
  },
  {
   "cell_type": "code",
   "execution_count": 6,
   "metadata": {},
   "outputs": [
    {
     "data": {
      "text/plain": [
       "-9223372036854775808"
      ]
     },
     "execution_count": 6,
     "metadata": {},
     "output_type": "execute_result"
    }
   ],
   "source": [
    "# package numpy - subpackage random - object Generator - method default_rng alias newGenBitGenPCG64 - instantiate\n",
    "newGenBitGenPCG64().integers(-9223372036854775808,\n",
    "                             -9223372036854775808+1) # method integers - call"
   ]
  },
  {
   "cell_type": "markdown",
   "metadata": {},
   "source": [
    "- initialising parameter - ``low`` - with negative value lower than ``-9223372036854775808 minus 1`` - exception indicating error occurs [\n",
    "[...] Anaconda - \"numpy.random.Generator.integers,\" Docstring, June 2020.\n",
    "]\n",
    "\n",
    "```python\n",
    "newGenBitGenPCG64().integers(low=-9223372036854775809,\n",
    "                             high=9223372036854775808)\n",
    "```\n",
    "```\n",
    "ValueError: low is out of bounds for int64\n",
    "```"
   ]
  },
  {
   "cell_type": "markdown",
   "metadata": {},
   "source": [
    "- ***list of negative/zero/positive value(s)*** - signifying array lower bound - index (Appendix B - Array - Index - Element) - ``0`` - read list from left to right [\n",
    "[...] Anaconda - \"numpy.random.Generator.integers,\" Docstring, June 2020.\n",
    "]"
   ]
  },
  {
   "cell_type": "markdown",
   "metadata": {},
   "source": [
    "- index (Appendix B - Array - Index - Element) - ``0`` - possible random values - ``2 or 3 or 4 or 5`` - index - ``1`` - possible random values - ``3 or 4 or 5`` - index - ``2`` - possible random values - ``4 or 5`` [\n",
    "[...] Anaconda - \"numpy.random.Generator.integers,\" Docstring, June 2020.\n",
    "]"
   ]
  },
  {
   "cell_type": "code",
   "execution_count": 7,
   "metadata": {},
   "outputs": [
    {
     "data": {
      "text/plain": [
       "array([5, 4, 5], dtype=int64)"
      ]
     },
     "execution_count": 7,
     "metadata": {},
     "output_type": "execute_result"
    }
   ],
   "source": [
    "# package numpy - subpackage random - object Generator - method default_rng alias newGenBitGenPCG64 - instantiate\n",
    "newGenBitGenPCG64().integers(low=[2,3,4],high=6) # method integers - call"
   ]
  },
  {
   "cell_type": "code",
   "execution_count": 8,
   "metadata": {},
   "outputs": [
    {
     "name": "stdout",
     "output_type": "stream",
     "text": [
      "        low : int or array-like of ints\n",
      "            Lowest (signed) integers to be drawn from the distribution (unless\n",
      "            ``high=None``, in which case this parameter is 0 and this value is\n",
      "            used for `high`).\n"
     ]
    }
   ],
   "source": [
    "# package numpy - subpackage random - object Generator - method default_rng alias newGenBitGenPCG64 - instantiate\n",
    "print(\"\\n\".join(newGenBitGenPCG64().integers.__doc__.split(\"\\n\")[14:18])) # method integers - attr __doc__ - access"
   ]
  },
  {
   "cell_type": "markdown",
   "metadata": {},
   "source": [
    "###### 2.1.2 - Parameter - high"
   ]
  },
  {
   "cell_type": "markdown",
   "metadata": {},
   "source": [
    "- optional - can be a negative/zero/positive value - or - ***list of negative/zero/positive value(s) - wrapped in square brackets separated by commas*** [\n",
    "[...] Anaconda - \"numpy.random.Generator.integers,\" Docstring, June 2020.\n",
    "]"
   ]
  },
  {
   "cell_type": "markdown",
   "metadata": {},
   "source": [
    "- highest positive value ``9223372036854775808`` - highest possible random value generated ``9223372036854775808 minus 1`` [\n",
    "[...] Anaconda - \"numpy.random.Generator.integers,\" Docstring, June 2020.\n",
    "]"
   ]
  },
  {
   "cell_type": "markdown",
   "metadata": {},
   "source": [
    "- $2^{64}-1$ ``18446744073709551615`` - possible values generated [\n",
    "[...] No Reference.\n",
    "]"
   ]
  },
  {
   "cell_type": "code",
   "execution_count": 9,
   "metadata": {},
   "outputs": [
    {
     "data": {
      "text/plain": [
       "18446744073709551615"
      ]
     },
     "execution_count": 9,
     "metadata": {},
     "output_type": "execute_result"
    }
   ],
   "source": [
    "2**64-1 # -1 captures zero "
   ]
  },
  {
   "cell_type": "markdown",
   "metadata": {},
   "source": [
    "- initialising parameter - ``high`` - with a value higher than ``9223372036854775808 plus 1`` - exception indicating error occurs [\n",
    "[...] Anaconda - \"numpy.random.Generator.integers,\" Docstring, June 2020.\n",
    "]\n",
    "\n",
    "```python\n",
    "newGenBitGenPCG64().integers(low=-9223372036854775808,\n",
    "                             high=9223372036854775809)\n",
    "```\n",
    "```\n",
    "ValueError: high is out of bounds for int64\n",
    "```"
   ]
  },
  {
   "cell_type": "code",
   "execution_count": 10,
   "metadata": {},
   "outputs": [
    {
     "data": {
      "text/plain": [
       "8815852192903266592"
      ]
     },
     "execution_count": 10,
     "metadata": {},
     "output_type": "execute_result"
    }
   ],
   "source": [
    "# package numpy - subpackage random - object Generator - method default_rng alias newGenBitGenPCG64 - instantiate\n",
    "newGenBitGenPCG64().integers(-9223372036854775808,\n",
    "                             9223372036854775807+1) # method integers - call"
   ]
  },
  {
   "cell_type": "markdown",
   "metadata": {},
   "source": [
    "- initialising parameter - **high** - ``None`` - must initialise parameter - ``low`` - lowest value - ``1`` - lowest possible random value generated - ``0`` - if not exception indicating error occurs [\n",
    "[...] Anaconda - \"numpy.random.Generator.integers,\" Docstring, June 2020.\n",
    "]\n",
    "\n",
    "```python\n",
    "newGenBitGenPCG64().integers(low=0,\n",
    "                             high=None)\n",
    "```\n",
    "```\n",
    "ValueError: low >= high\n",
    "```"
   ]
  },
  {
   "cell_type": "markdown",
   "metadata": {},
   "source": [
    "- single value generated - ``0`` [\n",
    "[...] No Reference.\n",
    "]"
   ]
  },
  {
   "cell_type": "code",
   "execution_count": 11,
   "metadata": {},
   "outputs": [
    {
     "data": {
      "text/plain": [
       "0"
      ]
     },
     "execution_count": 11,
     "metadata": {},
     "output_type": "execute_result"
    }
   ],
   "source": [
    "# package numpy - subpackage random - object Generator - method default_rng alias newGenBitGenPCG64 - instantiate\n",
    "newGenBitGenPCG64().integers(low=1,\n",
    "                             high=None) # method integers - call"
   ]
  },
  {
   "cell_type": "markdown",
   "metadata": {},
   "source": [
    "- single value generated - ``0`` [\n",
    "[...] No Reference.\n",
    "] "
   ]
  },
  {
   "cell_type": "code",
   "execution_count": 12,
   "metadata": {},
   "outputs": [
    {
     "data": {
      "text/plain": [
       "0"
      ]
     },
     "execution_count": 12,
     "metadata": {},
     "output_type": "execute_result"
    }
   ],
   "source": [
    "# package numpy - subpackage random - object Generator - method default_rng alias newGenBitGenPCG64 - instantiate\n",
    "newGenBitGenPCG64().integers(low=0,\n",
    "                             high=1) # method integers - call - equivalent"
   ]
  },
  {
   "cell_type": "markdown",
   "metadata": {},
   "source": [
    "- single value generated - ``0`` [\n",
    "[...] No Reference.\n",
    "] "
   ]
  },
  {
   "cell_type": "code",
   "execution_count": 13,
   "metadata": {},
   "outputs": [
    {
     "data": {
      "text/plain": [
       "0"
      ]
     },
     "execution_count": 13,
     "metadata": {},
     "output_type": "execute_result"
    }
   ],
   "source": [
    "# package numpy - subpackage random - object Generator - method default_rng alias newGenBitGenPCG64 - instantiate\n",
    "newGenBitGenPCG64().integers(low=1) # method integers - call - equivalent"
   ]
  },
  {
   "cell_type": "markdown",
   "metadata": {},
   "source": [
    "- ***list of negative/zero/positive value(s)*** - signifying array upper bound - last index (Appendix B - Array - Index - Element) - ``2`` - read list from right to left [\n",
    "[...] Anaconda - \"numpy.random.Generator.integers,\" Docstring, June 2020.\n",
    "]"
   ]
  },
  {
   "cell_type": "markdown",
   "metadata": {},
   "source": [
    "- index (Appendix B - Array - Index - Element) - ``0`` - possible random values - ``0 or 1`` - index - ``1`` - possible random values - ``0 or 1 or 2`` - index - ``2`` - possible random values - ``0 or 1 or 2 or 3`` [\n",
    "[...] Anaconda - \"numpy.random.Generator.integers,\" Docstring, June 2020.\n",
    "]"
   ]
  },
  {
   "cell_type": "code",
   "execution_count": 14,
   "metadata": {},
   "outputs": [
    {
     "data": {
      "text/plain": [
       "array([1, 0, 0], dtype=int64)"
      ]
     },
     "execution_count": 14,
     "metadata": {},
     "output_type": "execute_result"
    }
   ],
   "source": [
    "# package numpy - subpackage random - object Generator - method default_rng alias newGenBitGenPCG64 - instantiate\n",
    "newGenBitGenPCG64().integers(low=0,high=[2,3,4]) # method integers - call"
   ]
  },
  {
   "cell_type": "code",
   "execution_count": 15,
   "metadata": {},
   "outputs": [
    {
     "name": "stdout",
     "output_type": "stream",
     "text": [
      "        high : int or array-like of ints, optional\n",
      "            If provided, one above the largest (signed) integer to be drawn\n",
      "            from the distribution (see above for behavior if ``high=None``).\n"
     ]
    }
   ],
   "source": [
    "# package numpy - subpackage random - object Generator - method default_rng alias newGenBitGenPCG64 - instantiate\n",
    "print(\"\\n\".join(newGenBitGenPCG64().integers.__doc__.split(\"\\n\")[18:21])) # method integers - attr __doc__ - access"
   ]
  },
  {
   "cell_type": "markdown",
   "metadata": {},
   "source": [
    "###### 2.1.2 - Parameter - size"
   ]
  },
  {
   "cell_type": "markdown",
   "metadata": {},
   "source": [
    "- optional - zero/positive value - or - ***sequence similiar to lists of negative/zero/positive value(s) - wrapped in brackets separated by commas*** [\n",
    "[...] Anaconda - \"numpy.random.Generator.integers,\" Docstring, June 2020.\n",
    "][\n",
    "[...] J. VanderPlas, \"Built-In Data Structures,\" A Whirlwind Tour of Python, p. 34, August 2016.\n",
    "]"
   ]
  },
  {
   "cell_type": "markdown",
   "metadata": {},
   "source": [
    "- initialising parameter - ``size`` - with a value lower than ``0 minus 1`` - exception indicating error occurs [\n",
    "[...] Anaconda - \"numpy.random.Generator.integers,\" Docstring, June 2020.\n",
    "]\n",
    "\n",
    "```python\n",
    "newGenBitGenPCG64().integers(low=-9223372036854775808,\n",
    "                             high=9223372036854775808,\n",
    "                             size=-1)\n",
    "```\n",
    "```\n",
    "ValueError: negative dimensions are not allowed\n",
    "```"
   ]
  },
  {
   "cell_type": "code",
   "execution_count": 16,
   "metadata": {},
   "outputs": [
    {
     "data": {
      "text/plain": [
       "6787815296737255762"
      ]
     },
     "execution_count": 16,
     "metadata": {},
     "output_type": "execute_result"
    }
   ],
   "source": [
    "# package numpy - subpackage random - object Generator - method default_rng alias newGenBitGenPCG64 - instantiate\n",
    "newGenBitGenPCG64().integers(low=-9223372036854775808,\n",
    "                             high=9223372036854775808,\n",
    "                             size=None) # method integers - call"
   ]
  },
  {
   "cell_type": "code",
   "execution_count": 17,
   "metadata": {},
   "outputs": [
    {
     "data": {
      "text/plain": [
       "-4223041809970802923"
      ]
     },
     "execution_count": 17,
     "metadata": {},
     "output_type": "execute_result"
    }
   ],
   "source": [
    "# package numpy - subpackage random - object Generator - method default_rng alias newGenBitGenPCG64 - instantiate\n",
    "newGenBitGenPCG64().integers(low=-9223372036854775808,\n",
    "                             high=9223372036854775808) # equivalent"
   ]
  },
  {
   "cell_type": "markdown",
   "metadata": {},
   "source": [
    "- shape - arrangement of random values generated within array [\n",
    "[...] No Reference.\n",
    "]"
   ]
  },
  {
   "cell_type": "markdown",
   "metadata": {},
   "source": [
    "- dimension (Appendix D - Diagonal - Multidimensional) of array containing generated random values - 1-dimenional array - ``m`` - number of random values generated  - number of elements - ``1`` - visualise as one row [\n",
    "[...] Anaconda - \"numpy.random.Generator.integers,\" Docstring, June 2020.\n",
    "][\n",
    "[...] Math Is Fun, \"Diagonal,\", [mathsisfun](https://web.archive.org/web/20201118085013/https://www.mathsisfun.com/definitions/diagonal.html), November 2012.\n",
    "][\n",
    "[...] kmario23, \"what does numpy ndarray shape do?,\" [stackoverflow](https://web.archive.org/web/20201117074506/https://stackoverflow.com/questions/47564495/what-does-numpy-ndarray-shape-do), November 2017.\n",
    "]"
   ]
  },
  {
   "cell_type": "code",
   "execution_count": 18,
   "metadata": {},
   "outputs": [
    {
     "data": {
      "text/plain": [
       "array([-655551264032203965], dtype=int64)"
      ]
     },
     "execution_count": 18,
     "metadata": {},
     "output_type": "execute_result"
    }
   ],
   "source": [
    "# package numpy - subpackage random - object Generator - method default_rng alias newGenBitGenPCG64 - instantiate\n",
    "newGenBitGenPCG64().integers(low=-9223372036854775808,\n",
    "                             high=9223372036854775808,\n",
    "                             size=1) # method integers - call"
   ]
  },
  {
   "cell_type": "markdown",
   "metadata": {},
   "source": [
    "1-dimenional array - ``m`` - number of random values generated  - number of elements - ``2`` - visualise as one row [\n",
    "[...] Anaconda - \"numpy.random.Generator.integers,\" Docstring, June 2020.\n",
    "][\n",
    "[...] Math Is Fun, \"Diagonal,\", [mathsisfun](https://web.archive.org/web/20201118085013/https://www.mathsisfun.com/definitions/diagonal.html), November 2012.\n",
    "][\n",
    "[...] kmario23, \"what does numpy ndarray shape do?,\" [stackoverflow](https://web.archive.org/web/20201117074506/https://stackoverflow.com/questions/47564495/what-does-numpy-ndarray-shape-do), November 2017.\n",
    "]"
   ]
  },
  {
   "cell_type": "code",
   "execution_count": 19,
   "metadata": {},
   "outputs": [
    {
     "name": "stdout",
     "output_type": "stream",
     "text": [
      "<m>            : 1-dimensional\n"
     ]
    },
    {
     "data": {
      "text/plain": [
       "array([2857070118766509362, 2801926438762728475], dtype=int64)"
      ]
     },
     "execution_count": 19,
     "metadata": {},
     "output_type": "execute_result"
    }
   ],
   "source": [
    "# package numpy - subpackage random - object Generator - method default_rng alias newGenBitGenPCG64 - instantiate\n",
    "m_1d=newGenBitGenPCG64().integers(low=-9223372036854775808,\n",
    "                             high=9223372036854775808,\n",
    "                             size=2) # method integers - call\n",
    "print(\"<m>            : {}-dimensional\".format(m_1d.ndim)) # attribute ndim - access\n",
    "m_1d"
   ]
  },
  {
   "cell_type": "markdown",
   "metadata": {},
   "source": [
    "- ***sequence similiar to lists of negative/zero/positive value(s)*** - ordered data collection - unlike lists - tuples - are immutable/unchangable [\n",
    "[...] J. VanderPlas, \"Built-In Data Structures,\" A Whirlwind Tour of Python, p. 34, August 2016.\n",
    "]"
   ]
  },
  {
   "cell_type": "markdown",
   "metadata": {},
   "source": [
    "- dimension (Appendix D - Diagonal) of array containing generated random values - 2-dimenional array - ``m*n`` - number of random values generated - number of elements - ``2x3`` - visualise as two rows and three columns [\n",
    "[...] Anaconda - \"numpy.random.Generator.integers,\" Docstring, June 2020.\n",
    "][\n",
    "[...] Math Is Fun, \"Diagonal,\", [mathsisfun](https://web.archive.org/web/20201118085013/https://www.mathsisfun.com/definitions/diagonal.html), November 2012.\n",
    "][\n",
    "[...] kmario23, \"what does numpy ndarray shape do?,\" [stackoverflow](https://web.archive.org/web/20201117074506/https://stackoverflow.com/questions/47564495/what-does-numpy-ndarray-shape-do), November 2017.\n",
    "][\n",
    "[...] praneethharsha10, \"Multidimensional Arrays in Java,\" [geeksforgeeks](https://web.archive.org/web/20201118090649/https://www.geeksforgeeks.org/multidimensional-arrays-in-java), May 2020.\n",
    "]"
   ]
  },
  {
   "cell_type": "code",
   "execution_count": 20,
   "metadata": {},
   "outputs": [
    {
     "name": "stdout",
     "output_type": "stream",
     "text": [
      "<m*n>          : 2-dimensional\n"
     ]
    },
    {
     "data": {
      "text/plain": [
       "array([[-8895421771642171354,  6042644969168710669, -4205776219972115869],\n",
       "       [ 1390152106572138535,  4257226220659370470, -6971026218385035581]],\n",
       "      dtype=int64)"
      ]
     },
     "execution_count": 20,
     "metadata": {},
     "output_type": "execute_result"
    }
   ],
   "source": [
    "# package numpy - subpackage random - object Generator - method default_rng alias newGenBitGenPCG64 - instantiate\n",
    "m_n_2d=newGenBitGenPCG64().integers(low=-9223372036854775808,\n",
    "                             high=9223372036854775808,\n",
    "                             size=(2,3)) # method integers - call\n",
    "print(\"<m*n>          : {}-dimensional\".format(m_n_2d.ndim))# attribute ndim - access\n",
    "m_n_2d"
   ]
  },
  {
   "cell_type": "markdown",
   "metadata": {},
   "source": [
    "- dimension (Appendix D - Diagonal) of array containing generated random values - 3-dimenional array - ``m*n*k`` - number of random values generated - number of elements - ``2x3x4`` - visualise as two rows and three columns and join any two corners that are not already joined by an edge - four diagonals [\n",
    "[...] Anaconda - \"numpy.random.Generator.integers,\" Docstring, June 2020.\n",
    "][\n",
    "[...] Math Is Fun, \"Diagonal,\", [mathsisfun](https://web.archive.org/web/20201118085013/https://www.mathsisfun.com/definitions/diagonal.html), November 2012.\n",
    "][\n",
    "[...] kmario23, \"what does numpy ndarray shape do?,\" [stackoverflow](https://web.archive.org/web/20201117074506/https://stackoverflow.com/questions/47564495/what-does-numpy-ndarray-shape-do), November 2017.\n",
    "][\n",
    "[...] praneethharsha10, \"Multidimensional Arrays in Java,\" [geeksforgeeks](https://web.archive.org/web/20201118090649/https://www.geeksforgeeks.org/multidimensional-arrays-in-java), May 2020.\n",
    "]"
   ]
  },
  {
   "cell_type": "code",
   "execution_count": 21,
   "metadata": {},
   "outputs": [
    {
     "name": "stdout",
     "output_type": "stream",
     "text": [
      "<m*n*k>        : 3-dimensional\n"
     ]
    },
    {
     "data": {
      "text/plain": [
       "array([[[ -807754982305078638, -2438132894206146069,\n",
       "         -4462377348696808642, -7026782487473266040],\n",
       "        [-4666407318388070148,  1664032594130867518,\n",
       "         -8929929540311612515,  6500297119547452562],\n",
       "        [-5944356887678921489,  9055161786329735919,\n",
       "         -2136002390148930628,  1695444976652522248]],\n",
       "\n",
       "       [[ 7371793513540163021, -4908844720080889957,\n",
       "          4062930993691803588,  4759126473289852265],\n",
       "        [ 1327145546836472238, -4155095236388869961,\n",
       "         -4243749184152081581,  1671157467831688802],\n",
       "        [ 8823101205138163845,  8135683400970360536,\n",
       "          -563757923220143520, -8269773768167134144]]], dtype=int64)"
      ]
     },
     "execution_count": 21,
     "metadata": {},
     "output_type": "execute_result"
    }
   ],
   "source": [
    "# package numpy - subpackage random - object Generator - method default_rng alias newGenBitGenPCG64 - instantiate\n",
    "m_n_k_3d=newGenBitGenPCG64().integers(low=-9223372036854775808,\n",
    "                             high=9223372036854775808,\n",
    "                             size=(2,3,4)) # method integers - call\n",
    "print(\"<m*n*k>        : {}-dimensional\".format(m_n_k_3d.ndim)) # attribute ndim - access\n",
    "m_n_k_3d"
   ]
  },
  {
   "cell_type": "markdown",
   "metadata": {},
   "source": [
    "- additional dimension [\n",
    "[...] No Reference.\n",
    "]"
   ]
  },
  {
   "cell_type": "code",
   "execution_count": 22,
   "metadata": {},
   "outputs": [
    {
     "name": "stdout",
     "output_type": "stream",
     "text": [
      "<m*n*k*j>      : 4-dimensional\n",
      "<m*n*k*j*?>    : 5-dimensional\n"
     ]
    }
   ],
   "source": [
    "# package numpy - subpackage random - object Generator - method default_rng alias newGenBitGenPCG64 - instantiate\n",
    "print(\"<m*n*k*j>      : {}-dimensional\".format(newGenBitGenPCG64().integers(low=-9223372036854775808,\n",
    "                             high=9223372036854775808,\n",
    "                             size=(2,3,4,5)).ndim)) # method integers - call - attribute ndim - access\n",
    "print(\"<m*n*k*j*?>    : {}-dimensional\".format(newGenBitGenPCG64().integers(low=-9223372036854775808,\n",
    "                             high=9223372036854775808,\n",
    "                             size=(5,4,3,2,1)).ndim)) # method integers - call - attribute ndim - access"
   ]
  },
  {
   "cell_type": "code",
   "execution_count": 23,
   "metadata": {},
   "outputs": [
    {
     "name": "stdout",
     "output_type": "stream",
     "text": [
      "        size : int or tuple of ints, optional\n",
      "            Output shape.  If the given shape is, e.g., ``(m, n, k)``, then\n",
      "            ``m * n * k`` samples are drawn.  Default is None, in which case a\n",
      "            single value is returned.\n"
     ]
    }
   ],
   "source": [
    "# package numpy - subpackage random - object Generator - method default_rng alias newGenBitGenPCG64 - instantiate\n",
    "print(\"\\n\".join(newGenBitGenPCG64().integers.__doc__.split(\"\\n\")[22:26])) # method integers - attr __doc__ - access"
   ]
  },
  {
   "cell_type": "markdown",
   "metadata": {},
   "source": [
    "###### 2.1.2 - Parameter - dtype"
   ]
  },
  {
   "cell_type": "markdown",
   "metadata": {},
   "source": [
    "- optional - desired output data type - default parameter value - ``numpy.int64`` (Appendix A - NumPy - Data Types) - determines range of possible random values generated - lowest possible random value generated ``-9223372036854775808`` - highest possible random value generated ``9223372036854775808 minus 1`` [\n",
    "[...] Anaconda - \"numpy.random.Generator.integers,\" Docstring, June 2020.\n",
    "]"
   ]
  },
  {
   "cell_type": "code",
   "execution_count": 24,
   "metadata": {},
   "outputs": [],
   "source": [
    "# b_T_hird_P_arty-imports\n",
    "from numpy import int64"
   ]
  },
  {
   "cell_type": "code",
   "execution_count": 25,
   "metadata": {},
   "outputs": [
    {
     "name": "stdout",
     "output_type": "stream",
     "text": [
      "Signed integer type, compatible with C ``long long``.\n",
      "    Character code: ``'q'``.\n",
      "    Canonical name: ``np.longlong``.\n",
      "    Alias *on this platform*: ``np.int64``: 64-bit signed integer (-9223372036854775808 to 9223372036854775807).\n",
      "    Alias *on this platform*: ``np.intp``: Signed integer large enough to fit pointer, compatible with C ``intptr_t``.\n"
     ]
    }
   ],
   "source": [
    "# package numpy - data type int64 - attribute __doc__ - access\n",
    "print(int64.__doc__)"
   ]
  },
  {
   "cell_type": "markdown",
   "metadata": {},
   "source": [
    "- initialising parameter - ``size`` - with data type - ``numpy.int32`` - lowest possible random value generated ``-2147483648`` - highest possible random value generated ``2147483648 minus 1`` [\n",
    "[...] Anaconda - \"numpy.int32,\" Docstring, June 2020.\n",
    "]"
   ]
  },
  {
   "cell_type": "code",
   "execution_count": 26,
   "metadata": {},
   "outputs": [],
   "source": [
    "# b_T_hird_P_arty-imports\n",
    "from numpy import int32"
   ]
  },
  {
   "cell_type": "code",
   "execution_count": 27,
   "metadata": {},
   "outputs": [
    {
     "name": "stdout",
     "output_type": "stream",
     "text": [
      "Signed integer type, compatible with Python `int` anc C ``long``.\n",
      "    Character code: ``'l'``.\n",
      "    Canonical name: ``np.int_``.\n",
      "    Alias *on this platform*: ``np.int32``: 32-bit signed integer (-2147483648 to 2147483647).\n"
     ]
    }
   ],
   "source": [
    "# package numpy - data type int32 - attribute __doc__ - access\n",
    "print(int32.__doc__)"
   ]
  },
  {
   "cell_type": "code",
   "execution_count": 28,
   "metadata": {},
   "outputs": [
    {
     "data": {
      "text/plain": [
       "580097823"
      ]
     },
     "execution_count": 28,
     "metadata": {},
     "output_type": "execute_result"
    }
   ],
   "source": [
    "# package numpy - subpackage random - object Generator - method default_rng alias newGenBitGenPCG64 - instantiate\n",
    "newGenBitGenPCG64().integers(low=-2147483648,\n",
    "                             high=2147483647,\n",
    "                             size=None,\n",
    "                             dtype=int32) # method integers - call - equivalent"
   ]
  },
  {
   "cell_type": "code",
   "execution_count": 29,
   "metadata": {},
   "outputs": [
    {
     "data": {
      "text/plain": [
       "-2059431534"
      ]
     },
     "execution_count": 29,
     "metadata": {},
     "output_type": "execute_result"
    }
   ],
   "source": [
    "# package numpy - subpackage random - object Generator - method default_rng alias newGenBitGenPCG64 - instantiate\n",
    "newGenBitGenPCG64().integers(low=-2147483648,\n",
    "                             high=2147483648,\n",
    "                             size=None,\n",
    "                             dtype=int64) # method integers - call - equivalent"
   ]
  },
  {
   "cell_type": "code",
   "execution_count": 30,
   "metadata": {},
   "outputs": [
    {
     "name": "stdout",
     "output_type": "stream",
     "text": [
      "        dtype : dtype, optional\n",
      "            Desired dtype of the result. Byteorder must be native.\n",
      "            The default value is np.int64.\n"
     ]
    }
   ],
   "source": [
    "# package numpy - subpackage random - object Generator - method default_rng alias newGenBitGenPCG64 - instantiate\n",
    "print(\"\\n\".join(newGenBitGenPCG64().integers.__doc__.split(\"\\n\")[26:29])) # method integers - attr __doc__ - access"
   ]
  },
  {
   "cell_type": "markdown",
   "metadata": {},
   "source": [
    "###### 2.1.2 - Parameter - endpoint"
   ]
  },
  {
   "cell_type": "markdown",
   "metadata": {},
   "source": [
    "- optional - assigned - ``True`` or ``False`` - default - ``False`` - $[low, high)$ (Appendix C - Half-Open - Half-Closed - Intervals) - interval - include - ``low`` - exclude - ``high`` -  lowest possible random value generated - ``-128`` -  highest possible random value generated - ``128 minus 1`` - exclude - ``128`` [\n",
    "[...] Anaconda - \"numpy.random.Generator.integers,\" Docstring, June 2020.\n",
    "][\n",
    "[...] Wolfram, \"Half-Closed Interval,\" [mathworld.wolfram](https://web.archive.org/web/20201106190646/https://mathworld.wolfram.com/Half-ClosedInterval.html), Ootober 2020.\n",
    "]"
   ]
  },
  {
   "cell_type": "code",
   "execution_count": 31,
   "metadata": {},
   "outputs": [],
   "source": [
    "# b_T_hird_P_arty-imports\n",
    "from numpy import int8"
   ]
  },
  {
   "cell_type": "code",
   "execution_count": 32,
   "metadata": {},
   "outputs": [
    {
     "name": "stdout",
     "output_type": "stream",
     "text": [
      "Signed integer type, compatible with C ``char``.\n",
      "    Character code: ``'b'``.\n",
      "    Canonical name: ``np.byte``.\n",
      "    Alias *on this platform*: ``np.int8``: 8-bit signed integer (-128 to 127).\n"
     ]
    }
   ],
   "source": [
    "# package numpy - data type int8 - attribute __doc__ - access\n",
    "print(int8.__doc__)"
   ]
  },
  {
   "cell_type": "code",
   "execution_count": 33,
   "metadata": {},
   "outputs": [
    {
     "data": {
      "text/plain": [
       "-55"
      ]
     },
     "execution_count": 33,
     "metadata": {},
     "output_type": "execute_result"
    }
   ],
   "source": [
    "# package numpy - subpackage random - object Generator - method default_rng alias newGenBitGenPCG64 - instantiate\n",
    "newGenBitGenPCG64().integers(low=-128,\n",
    "                             high=128,\n",
    "                             dtype=int8,\n",
    "                             endpoint=False) # method integers - call"
   ]
  },
  {
   "cell_type": "code",
   "execution_count": 34,
   "metadata": {},
   "outputs": [
    {
     "data": {
      "text/plain": [
       "27"
      ]
     },
     "execution_count": 34,
     "metadata": {},
     "output_type": "execute_result"
    }
   ],
   "source": [
    "# package numpy - subpackage random - object Generator - method default_rng alias newGenBitGenPCG64 - instantiate\n",
    "newGenBitGenPCG64().integers(low=-128,\n",
    "                             high=128,\n",
    "                             dtype=int8) # method integers - call - equivalent"
   ]
  },
  {
   "cell_type": "code",
   "execution_count": 35,
   "metadata": {},
   "outputs": [
    {
     "data": {
      "text/plain": [
       "706682378986259202"
      ]
     },
     "execution_count": 35,
     "metadata": {},
     "output_type": "execute_result"
    }
   ],
   "source": [
    "# package numpy - subpackage random - object Generator - method default_rng alias newGenBitGenPCG64 - instantiate\n",
    "newGenBitGenPCG64().integers(low=-9223372036854775808,\n",
    "                             high=9223372036854775808,\n",
    "                             size=None,\n",
    "                             dtype=int64) # method integers - call"
   ]
  },
  {
   "cell_type": "markdown",
   "metadata": {},
   "source": [
    "- assigned - ``True`` - $[low, high]$ - interval - include - ``low`` - include - ``high`` - possible range of random value generated - ``-9223372036854775808`` - to - ``9223372036854775807`` [\n",
    "[...] Anaconda - \"numpy.random.Generator.integers,\" Docstring, June 2020.\n",
    "][\n",
    "[...] Wolfram, \"Half-Closed Interval,\" [mathworld.wolfram](https://web.archive.org/web/20201106190646/https://mathworld.wolfram.com/Half-ClosedInterval.html), Ootober 2020.\n",
    "]"
   ]
  },
  {
   "cell_type": "code",
   "execution_count": 36,
   "metadata": {},
   "outputs": [
    {
     "data": {
      "text/plain": [
       "-371059381036268286"
      ]
     },
     "execution_count": 36,
     "metadata": {},
     "output_type": "execute_result"
    }
   ],
   "source": [
    "# package numpy - subpackage random - object Generator - method default_rng alias newGenBitGenPCG64 - instantiate\n",
    "newGenBitGenPCG64().integers(low=-9223372036854775808,\n",
    "                             high=9223372036854775807,\n",
    "                             size=None,\n",
    "                             dtype=int64,\n",
    "                             endpoint=True) # method integers - call"
   ]
  },
  {
   "cell_type": "code",
   "execution_count": 37,
   "metadata": {},
   "outputs": [
    {
     "data": {
      "text/plain": [
       "-7667050031903830253"
      ]
     },
     "execution_count": 37,
     "metadata": {},
     "output_type": "execute_result"
    }
   ],
   "source": [
    "# package numpy - subpackage random - object Generator - method default_rng alias newGenBitGenPCG64 - instantiate\n",
    "newGenBitGenPCG64().integers(low=-9223372036854775808,\n",
    "                             high=9223372036854775807,\n",
    "                             size=None,\n",
    "                             endpoint=True) # method integers - call - equivalent"
   ]
  },
  {
   "cell_type": "code",
   "execution_count": 38,
   "metadata": {},
   "outputs": [
    {
     "name": "stdout",
     "output_type": "stream",
     "text": [
      "        endpoint : bool, optional\n",
      "            If true, sample from the interval [low, high] instead of the\n",
      "            default [low, high)\n",
      "            Defaults to False\n"
     ]
    }
   ],
   "source": [
    "# package numpy - subpackage random - object Generator - method default_rng alias newGenBitGenPCG64 - instantiate\n",
    "print(\"\\n\".join(newGenBitGenPCG64().integers.__doc__.split(\"\\n\")[29:33])) # method integers - attr __doc__ - access"
   ]
  },
  {
   "cell_type": "markdown",
   "metadata": {},
   "source": [
    "###### 2.1.3 - Return - out"
   ]
  },
  {
   "cell_type": "markdown",
   "metadata": {},
   "source": [
    "- name - nOut - parameter - ``size`` - default or initialised to - ``any value`` - except - ``None`` - result is a numpy array - **ndarray** - possible range of random values generated within the array - ``-9223372036854775808`` - to - ``9223372036854775807`` [\n",
    "[...] Anaconda - \"numpy.random.Generator.integers,\" Docstring, June 2020.\n",
    "]"
   ]
  },
  {
   "cell_type": "code",
   "execution_count": 39,
   "metadata": {},
   "outputs": [
    {
     "name": "stdout",
     "output_type": "stream",
     "text": [
      "    An array object represents a multidimensional, homogeneous array\n",
      "    of fixed-size items.  An associated data-type object describes the\n",
      "    format of each element in the array (its byte-order, how many bytes it\n",
      "    occupies in memory, whether it is an integer, a floating point number,\n",
      "    or something else, etc.)\n",
      "\n",
      "    Arrays should be constructed using `array`, `zeros` or `empty` (refer\n",
      "    to the See Also section below).  The parameters given here refer to\n",
      "    a low-level method (`ndarray(...)`) for instantiating an array.\n",
      "\n",
      "    For more information, refer to the `numpy` module and examine the\n",
      "    methods and attributes of an array.\n"
     ]
    }
   ],
   "source": [
    "# b_T_hird_P_arty-imports\n",
    "from numpy import ndarray as nda\n",
    "# package numpy - object ndarray alias nda - attribute __doc__ - access\n",
    "print(\"\\n\".join(nda.__doc__.split(\"\\n\")[3:15]))"
   ]
  },
  {
   "cell_type": "code",
   "execution_count": 40,
   "metadata": {},
   "outputs": [],
   "source": [
    "# package numpy - subpackage random - object Generator - method default_rng alias newGenBitGenPCG64 - instantiate\n",
    "nOut=newGenBitGenPCG64().integers(-9223372036854775808,9223372036854775808,1,int64,False)"
   ]
  },
  {
   "cell_type": "code",
   "execution_count": 41,
   "metadata": {},
   "outputs": [
    {
     "data": {
      "text/plain": [
       "numpy.ndarray"
      ]
     },
     "execution_count": 41,
     "metadata": {},
     "output_type": "execute_result"
    }
   ],
   "source": [
    "type(nOut)"
   ]
  },
  {
   "cell_type": "code",
   "execution_count": 42,
   "metadata": {},
   "outputs": [
    {
     "data": {
      "text/plain": [
       "array([142638544189361255], dtype=int64)"
      ]
     },
     "execution_count": 42,
     "metadata": {},
     "output_type": "execute_result"
    }
   ],
   "source": [
    "nOut"
   ]
  },
  {
   "cell_type": "markdown",
   "metadata": {},
   "source": [
    "- name - nOut - parameter - ``size`` - default or initialised to - ``None`` - result is a numpy data type - **int64** - possible range of random values generated - ``-9223372036854775808`` - to - ``9223372036854775807`` [\n",
    "[...] Anaconda - \"numpy.random.Generator.integers,\" Docstring, June 2020.\n",
    "]"
   ]
  },
  {
   "cell_type": "code",
   "execution_count": 43,
   "metadata": {},
   "outputs": [],
   "source": [
    "# package numpy - subpackage random - object Generator - method default_rng alias newGenBitGenPCG64 - instantiate\n",
    "nOut=newGenBitGenPCG64().integers(-9223372036854775808,9223372036854775808,None,int64,False)"
   ]
  },
  {
   "cell_type": "code",
   "execution_count": 44,
   "metadata": {},
   "outputs": [
    {
     "data": {
      "text/plain": [
       "numpy.int64"
      ]
     },
     "execution_count": 44,
     "metadata": {},
     "output_type": "execute_result"
    }
   ],
   "source": [
    "type(nOut)"
   ]
  },
  {
   "cell_type": "code",
   "execution_count": 45,
   "metadata": {},
   "outputs": [
    {
     "data": {
      "text/plain": [
       "-6919571013711557331"
      ]
     },
     "execution_count": 45,
     "metadata": {},
     "output_type": "execute_result"
    }
   ],
   "source": [
    "nOut"
   ]
  },
  {
   "cell_type": "code",
   "execution_count": 46,
   "metadata": {},
   "outputs": [
    {
     "name": "stdout",
     "output_type": "stream",
     "text": [
      "        out : int or ndarray of ints\n",
      "            `size`-shaped array of random integers from the appropriate\n",
      "            distribution, or a single such random int if `size` not provided.\n"
     ]
    }
   ],
   "source": [
    "# package numpy - subpackage random - object Generator - method default_rng alias newGenBitGenPCG64 - instantiate\n",
    "print(\"\\n\".join(newGenBitGenPCG64().integers.__doc__.split(\"\\n\")[36:39])) # method integers - attr __doc__ - access"
   ]
  },
  {
   "cell_type": "markdown",
   "metadata": {},
   "source": [
    "##### 2.2.0 - Use - Simple Random Data - numpy.random.Generator.random"
   ]
  },
  {
   "cell_type": "markdown",
   "metadata": {},
   "source": [
    "- generates a sequence of random floats - $[0.0, 1.0)$ (Appendix C - Half-Open - Half-Closed - Intervals) - interval - include - ``0.0`` - exclude - ``1.0`` - possible range of random values generated - ``0.0`` - up to - ``1.0`` - excluding - ``1.0`` [\n",
    "[...] Anaconda - \"numpy.random.Generator.random,\" Docstring, June 2020.\n",
    "][\n",
    "[...] Wolfram, \"Half-Closed Interval,\" [mathworld.wolfram](https://web.archive.org/web/20201106190646/https://mathworld.wolfram.com/Half-ClosedInterval.html), Ootober 2020.\n",
    "]"
   ]
  },
  {
   "cell_type": "code",
   "execution_count": 47,
   "metadata": {},
   "outputs": [
    {
     "name": "stdout",
     "output_type": "stream",
     "text": [
      "        Return random floats in the half-open interval [0.0, 1.0).\n"
     ]
    }
   ],
   "source": [
    "# package numpy - subpackage random - object Generator - method default_rng alias newGenBitGenPCG64 - instantiate\n",
    "print(\"\\n\".join(newGenBitGenPCG64().random.__doc__.split(\"\\n\")[3:4])) # method random - attr __doc__ - access"
   ]
  },
  {
   "cell_type": "markdown",
   "metadata": {},
   "source": [
    "###### 2.2.1 - Signature"
   ]
  },
  {
   "cell_type": "code",
   "execution_count": 48,
   "metadata": {},
   "outputs": [
    {
     "name": "stdout",
     "output_type": "stream",
     "text": [
      "        random(size=None, dtype=np.float64, out=None)\n"
     ]
    }
   ],
   "source": [
    "# package numpy - subpackage random - object Generator - method default_rng alias newGenBitGenPCG64 - instantiate\n",
    "print(\"\\n\".join(newGenBitGenPCG64().random.__doc__.split(\"\\n\")[1:2])) # method random - attr __doc__ - access"
   ]
  },
  {
   "cell_type": "markdown",
   "metadata": {},
   "source": [
    "###### 2.2.2 - Parameter - size"
   ]
  },
  {
   "cell_type": "markdown",
   "metadata": {},
   "source": [
    "- optional - zero/positive value - or - ***sequence similiar to lists of negative/zero/positive value(s) - wrapped in brackets separated by commas*** [\n",
    "[...] Anaconda - \"numpy.random.Generator.random,\" Docstring, June 2020.\n",
    "][\n",
    "[...] J. VanderPlas, \"Built-In Data Structures,\" A Whirlwind Tour of Python, p. 34, August 2016.\n",
    "]"
   ]
  },
  {
   "cell_type": "markdown",
   "metadata": {},
   "source": [
    "- initialising parameter - ``size`` - with a value lower than ``0 minus 1`` - exception indicating error occurs [\n",
    "[...] Anaconda - \"numpy.random.Generator.random,\" Docstring, June 2020.\n",
    "]\n",
    "\n",
    "```python\n",
    "newGenBitGenPCG64().random(size=-1)\n",
    "```\n",
    "```\n",
    "ValueError: negative dimensions are not allowed\n",
    "```"
   ]
  },
  {
   "cell_type": "code",
   "execution_count": 49,
   "metadata": {},
   "outputs": [
    {
     "data": {
      "text/plain": [
       "0.3926841375333231"
      ]
     },
     "execution_count": 49,
     "metadata": {},
     "output_type": "execute_result"
    }
   ],
   "source": [
    "# package numpy - subpackage random - object Generator - method default_rng alias newGenBitGenPCG64 - instantiate\n",
    "newGenBitGenPCG64().random(size=None)  # method random - call"
   ]
  },
  {
   "cell_type": "code",
   "execution_count": 50,
   "metadata": {},
   "outputs": [
    {
     "data": {
      "text/plain": [
       "0.9678995384584004"
      ]
     },
     "execution_count": 50,
     "metadata": {},
     "output_type": "execute_result"
    }
   ],
   "source": [
    "# package numpy - subpackage random - object Generator - method default_rng alias newGenBitGenPCG64 - instantiate\n",
    "newGenBitGenPCG64().random() # method random - call - equivalent"
   ]
  },
  {
   "cell_type": "markdown",
   "metadata": {},
   "source": [
    "- shape - arrangement of random values generated within array [\n",
    "[...] No Reference.\n",
    "]"
   ]
  },
  {
   "cell_type": "markdown",
   "metadata": {},
   "source": [
    "- dimension (Appendix D - Diagonal - Multidimensional) of array containing generated random values - 1-dimenional array - ``m`` - number of random values generated  - number of elements - ``1`` - visualise as one row [\n",
    "[...] Anaconda - \"numpy.random.Generator.random,\" Docstring, June 2020.\n",
    "][\n",
    "[...] Math Is Fun, \"Diagonal,\", [mathsisfun](https://web.archive.org/web/20201118085013/https://www.mathsisfun.com/definitions/diagonal.html), November 2012.\n",
    "][\n",
    "[...] kmario23, \"what does numpy ndarray shape do?,\" [stackoverflow](https://web.archive.org/web/20201117074506/https://stackoverflow.com/questions/47564495/what-does-numpy-ndarray-shape-do), November 2017.\n",
    "]"
   ]
  },
  {
   "cell_type": "code",
   "execution_count": 51,
   "metadata": {},
   "outputs": [
    {
     "data": {
      "text/plain": [
       "array([0.88461491])"
      ]
     },
     "execution_count": 51,
     "metadata": {},
     "output_type": "execute_result"
    }
   ],
   "source": [
    "# package numpy - subpackage random - object Generator - method default_rng alias newGenBitGenPCG64 - instantiate\n",
    "newGenBitGenPCG64().random(size=1)  # method random - call"
   ]
  },
  {
   "cell_type": "markdown",
   "metadata": {},
   "source": [
    "1-dimenional array - ``m`` - number of random values generated  - number of elements - ``3`` - visualise as one row [\n",
    "[...] Anaconda - \"numpy.random.Generator.random,\" Docstring, June 2020.\n",
    "][\n",
    "[...] Math Is Fun, \"Diagonal,\", [mathsisfun](https://web.archive.org/web/20201118085013/https://www.mathsisfun.com/definitions/diagonal.html), November 2012.\n",
    "][\n",
    "[...] kmario23, \"what does numpy ndarray shape do?,\" [stackoverflow](https://web.archive.org/web/20201117074506/https://stackoverflow.com/questions/47564495/what-does-numpy-ndarray-shape-do), November 2017.\n",
    "]"
   ]
  },
  {
   "cell_type": "code",
   "execution_count": 52,
   "metadata": {},
   "outputs": [
    {
     "data": {
      "text/plain": [
       "array([0.36213763, 0.48123498, 0.12902057])"
      ]
     },
     "execution_count": 52,
     "metadata": {},
     "output_type": "execute_result"
    }
   ],
   "source": [
    "# package numpy - subpackage random - object Generator - method default_rng alias newGenBitGenPCG64 - instantiate\n",
    "newGenBitGenPCG64().random(size=3)  # method random - call"
   ]
  },
  {
   "cell_type": "markdown",
   "metadata": {},
   "source": [
    "- ***sequence similiar to lists of negative/zero/positive value(s)*** - ordered data collection - unlike lists - tuples - are immutable/unchangable [\n",
    "[...] J. VanderPlas, \"Built-In Data Structures,\" A Whirlwind Tour of Python, p. 34, August 2016.\n",
    "]"
   ]
  },
  {
   "cell_type": "markdown",
   "metadata": {},
   "source": [
    "- dimension (Appendix D - Diagonal) of array containing generated random values - 2-dimenional array - ``m*n`` - number of random values generated - number of elements - ``3x4`` - visualise as three rows and four columns [\n",
    "[...] Anaconda - \"numpy.random.Generator.random,\" Docstring, June 2020.\n",
    "][\n",
    "[...] Math Is Fun, \"Diagonal,\", [mathsisfun](https://web.archive.org/web/20201118085013/https://www.mathsisfun.com/definitions/diagonal.html), November 2012.\n",
    "][\n",
    "[...] kmario23, \"what does numpy ndarray shape do?,\" [stackoverflow](https://web.archive.org/web/20201117074506/https://stackoverflow.com/questions/47564495/what-does-numpy-ndarray-shape-do), November 2017.\n",
    "][\n",
    "[...] praneethharsha10, \"Multidimensional Arrays in Java,\" [geeksforgeeks](https://web.archive.org/web/20201118090649/https://www.geeksforgeeks.org/multidimensional-arrays-in-java), May 2020.\n",
    "]"
   ]
  },
  {
   "cell_type": "code",
   "execution_count": 53,
   "metadata": {},
   "outputs": [
    {
     "data": {
      "text/plain": [
       "array([[0.71382066, 0.33599517, 0.29652273, 0.48642595],\n",
       "       [0.23003284, 0.79426405, 0.14663403, 0.46835071],\n",
       "       [0.27883325, 0.88026041, 0.99820929, 0.55651184]])"
      ]
     },
     "execution_count": 53,
     "metadata": {},
     "output_type": "execute_result"
    }
   ],
   "source": [
    "# package numpy - subpackage random - object Generator - method default_rng alias newGenBitGenPCG64 - instantiate\n",
    "newGenBitGenPCG64().random(size=(3,4))  # method random - call"
   ]
  },
  {
   "cell_type": "markdown",
   "metadata": {},
   "source": [
    "- dimension (Appendix D - Diagonal) of array containing generated random values - 3-dimenional array - ``m*n*k`` - number of random values generated - number of elements - ``3x4x5`` - visualise as three rows and four columns and join any two corners that are not already joined by an edge - five diagonals [\n",
    "[...] Anaconda - \"numpy.random.Generator.random,\" Docstring, June 2020.\n",
    "][\n",
    "[...] Math Is Fun, \"Diagonal,\", [mathsisfun](https://web.archive.org/web/20201118085013/https://www.mathsisfun.com/definitions/diagonal.html), November 2012.\n",
    "][\n",
    "[...] kmario23, \"what does numpy ndarray shape do?,\" [stackoverflow](https://web.archive.org/web/20201117074506/https://stackoverflow.com/questions/47564495/what-does-numpy-ndarray-shape-do), November 2017.\n",
    "][\n",
    "[...] praneethharsha10, \"Multidimensional Arrays in Java,\" [geeksforgeeks](https://web.archive.org/web/20201118090649/https://www.geeksforgeeks.org/multidimensional-arrays-in-java), May 2020.\n",
    "]"
   ]
  },
  {
   "cell_type": "code",
   "execution_count": 54,
   "metadata": {},
   "outputs": [
    {
     "data": {
      "text/plain": [
       "array([[[0.41499764, 0.17120086, 0.28373105, 0.73430133, 0.01597129],\n",
       "        [0.4409405 , 0.57967093, 0.84828878, 0.26780724, 0.7348268 ],\n",
       "        [0.21374475, 0.303673  , 0.89136564, 0.75459797, 0.15315929],\n",
       "        [0.98357867, 0.08133229, 0.58325975, 0.53592723, 0.02419123]],\n",
       "\n",
       "       [[0.78896873, 0.54288243, 0.38501318, 0.07701504, 0.99357247],\n",
       "        [0.78124941, 0.27989482, 0.19627841, 0.08116897, 0.89667422],\n",
       "        [0.73554665, 0.04196018, 0.13141991, 0.03436633, 0.1206764 ],\n",
       "        [0.16452988, 0.48991712, 0.50644726, 0.9411028 , 0.31148336]],\n",
       "\n",
       "       [[0.5164325 , 0.73802833, 0.29146347, 0.22653156, 0.76120473],\n",
       "        [0.37980592, 0.02919134, 0.50858846, 0.06479818, 0.74585687],\n",
       "        [0.05593665, 0.28126843, 0.03290026, 0.07294577, 0.40202324],\n",
       "        [0.6426611 , 0.1995547 , 0.26103908, 0.28826296, 0.59565625]]])"
      ]
     },
     "execution_count": 54,
     "metadata": {},
     "output_type": "execute_result"
    }
   ],
   "source": [
    "# package numpy - subpackage random - object Generator - method default_rng alias newGenBitGenPCG64 - instantiate\n",
    "newGenBitGenPCG64().random(size=(3,4,5))  # method random - call"
   ]
  },
  {
   "cell_type": "markdown",
   "metadata": {},
   "source": [
    "- additional dimension [\n",
    "[...] No Reference.\n",
    "]"
   ]
  },
  {
   "cell_type": "code",
   "execution_count": 55,
   "metadata": {},
   "outputs": [
    {
     "name": "stdout",
     "output_type": "stream",
     "text": [
      "<m*n*k*j>      : 4-dimensional\n",
      "<m*n*k*j*?>    : 5-dimensional\n"
     ]
    }
   ],
   "source": [
    "# package numpy - subpackage random - object Generator - method default_rng alias newGenBitGenPCG64 - instantiate\n",
    "print(\"<m*n*k*j>      : {}-dimensional\".\n",
    "      format(newGenBitGenPCG64().random(size=(3,4,5,6)).ndim))  # method random - call - attribut ndim - access\n",
    "# package numpy - subpackage random - object Generator - method default_rng alias newGenBitGenPCG64 - instantiate\n",
    "print(\"<m*n*k*j*?>    : {}-dimensional\".\n",
    "      format(newGenBitGenPCG64().random(size=(6,5,4,3,2)).ndim))  # method random - call - attribut ndim - access"
   ]
  },
  {
   "cell_type": "code",
   "execution_count": 56,
   "metadata": {},
   "outputs": [
    {
     "name": "stdout",
     "output_type": "stream",
     "text": [
      "        size : int or tuple of ints, optional\n",
      "            Output shape.  If the given shape is, e.g., ``(m, n, k)``, then\n",
      "            ``m * n * k`` samples are drawn.  Default is None, in which case a\n",
      "            single value is returned.\n"
     ]
    }
   ],
   "source": [
    "# package numpy - subpackage random - object Generator - method default_rng alias newGenBitGenPCG64 - instantiate\n",
    "print(\"\\n\".join(newGenBitGenPCG64().random.__doc__.split(\"\\n\")[13:17])) # method random - attr __doc__ - access"
   ]
  },
  {
   "cell_type": "markdown",
   "metadata": {},
   "source": [
    "###### 2.2.2 - Parameter - dtype"
   ]
  },
  {
   "cell_type": "markdown",
   "metadata": {},
   "source": [
    "- optional - desired output data type - default parameter value - ``numpy.float64`` (Appendix A - NumPy - Data Types) [\n",
    "[...] Anaconda - \"numpy.random.Generator.random,\" Docstring, June 2020.\n",
    "]"
   ]
  },
  {
   "cell_type": "code",
   "execution_count": 57,
   "metadata": {},
   "outputs": [],
   "source": [
    "# b_T_hird_P_arty-imports\n",
    "from numpy import float64"
   ]
  },
  {
   "cell_type": "markdown",
   "metadata": {},
   "source": [
    "- float64 - most significant bit - sign bit - ``S`` - positive - ``0`` - negative - ``1`` [\n",
    "[..] C. Hock-Chuan, \"A Tutorial on Data Representation,\" [ntu](https://web.archive.org/web/20201111221515/https://www3.ntu.edu.sg/home/ehchua/programming/java/datarepresentation.html), January 2014.\n",
    "]"
   ]
  },
  {
   "cell_type": "markdown",
   "metadata": {},
   "source": [
    "- float64 - exponent - ``E`` - bits - ``11`` [\n",
    "[..] C. Hock-Chuan, \"A Tutorial on Data Representation,\" [ntu](https://web.archive.org/web/20201111221515/https://www3.ntu.edu.sg/home/ehchua/programming/java/datarepresentation.html), January 2014.\n",
    "]"
   ]
  },
  {
   "cell_type": "markdown",
   "metadata": {},
   "source": [
    "- float64 - fraction - ``F`` - bits - ``52`` [\n",
    "[..] C. Hock-Chuan, \"A Tutorial on Data Representation,\" [ntu](https://web.archive.org/web/20201111221515/https://www3.ntu.edu.sg/home/ehchua/programming/java/datarepresentation.html), January 2014.\n",
    "]"
   ]
  },
  {
   "cell_type": "markdown",
   "metadata": {},
   "source": [
    "<img src=\"img/float64.png\" />\n",
    "\n",
    "***C. Hock-Chuan, \"A Tutorial on Data Representation,\" [ntu](https://web.archive.org/web/20201111221515/https://www3.ntu.edu.sg/home/ehchua/programming/java/datarepresentation.html), January 2014.***"
   ]
  },
  {
   "cell_type": "code",
   "execution_count": 58,
   "metadata": {},
   "outputs": [
    {
     "name": "stdout",
     "output_type": "stream",
     "text": [
      "Double-precision floating-point number type, compatible with Python `float`\n",
      "    and C ``double``.\n",
      "    Character code: ``'d'``.\n",
      "    Canonical name: ``np.double``.\n",
      "    Alias: ``np.float_``.\n",
      "    Alias *on this platform*: ``np.float64``: 64-bit precision floating-point number type: sign bit, 11 bits exponent, 52 bits mantissa.\n"
     ]
    }
   ],
   "source": [
    "# package numpy - data type float64 - attribute __doc__ - access\n",
    "print(float64.__doc__)"
   ]
  },
  {
   "cell_type": "markdown",
   "metadata": {},
   "source": [
    "- fixed number of digits for mantissa - part of a floating-point number which represents the significant digits of that number - $2.71828$ - mantissa - $0.71828$ [\n",
    "[...] B. Eckel \"Fundamental Data Types,\" [Thinking in C](https://web.archive.org/web/20201119044705/http://ix.cs.uoregon.edu/~norris/cis330books/ThinkingInC/Chapters/chap2/Lecture.html), n.d."
   ]
  },
  {
   "cell_type": "markdown",
   "metadata": {},
   "source": [
    "- initialising parameter - ``dtype`` - with data type - ``float64`` - $[0.0, 1.0)$ (Appendix C - Half-Open - Half-Closed - Intervals) - interval - include - ``0.0`` - exclude - ``1.0`` [\n",
    "[...] Anaconda - \"numpy.float64,\" Docstring, June 2020.\n",
    "][\n",
    "[...] Wolfram, \"Half-Closed Interval,\" [mathworld.wolfram](https://web.archive.org/web/20201106190646/https://mathworld.wolfram.com/Half-ClosedInterval.html), Ootober 2020.\n",
    "]"
   ]
  },
  {
   "cell_type": "code",
   "execution_count": 59,
   "metadata": {},
   "outputs": [],
   "source": [
    "# package numpy - subpackage random - object Generator - method default_rng alias newGenBitGenPCG64 - instantiate\n",
    "n=newGenBitGenPCG64().random(dtype=float64) # method random - call"
   ]
  },
  {
   "cell_type": "code",
   "execution_count": 60,
   "metadata": {},
   "outputs": [],
   "source": [
    "# a_S_tandard_L_ibrary-imports\n",
    "from decimal import Decimal"
   ]
  },
  {
   "cell_type": "code",
   "execution_count": 61,
   "metadata": {},
   "outputs": [
    {
     "name": "stdout",
     "output_type": "stream",
     "text": [
      "<actual>       : 0.425232369262816600752330487011931836605072021484375\n"
     ]
    }
   ],
   "source": [
    "# module Decimal - object Decimal - instantiate\n",
    "print(\"<actual>       : {}\".format(Decimal(n)))"
   ]
  },
  {
   "cell_type": "code",
   "execution_count": 62,
   "metadata": {},
   "outputs": [
    {
     "name": "stdout",
     "output_type": "stream",
     "text": [
      "<truncated>    : 0.4252323692628166\n"
     ]
    }
   ],
   "source": [
    "print(\"<truncated>    : {}\".format(n))"
   ]
  },
  {
   "cell_type": "code",
   "execution_count": 63,
   "metadata": {},
   "outputs": [
    {
     "data": {
      "text/plain": [
       "0.6298772730588726"
      ]
     },
     "execution_count": 63,
     "metadata": {},
     "output_type": "execute_result"
    }
   ],
   "source": [
    "# package numpy - subpackage random - object Generator - method default_rng alias newGenBitGenPCG64 - instantiate\n",
    "newGenBitGenPCG64().random() # method random - call - equivalent"
   ]
  },
  {
   "cell_type": "markdown",
   "metadata": {},
   "source": [
    "- one - only one - other numpy - data type - supported - ``float32`` [\n",
    "[...] Anaconda - \"numpy.random.Generator.random,\" Docstring, June 2020.\n",
    "]"
   ]
  },
  {
   "cell_type": "code",
   "execution_count": 64,
   "metadata": {},
   "outputs": [],
   "source": [
    "# b_T_hird_P_arty-imports\n",
    "from numpy import float32"
   ]
  },
  {
   "cell_type": "markdown",
   "metadata": {},
   "source": [
    "- float32 - most significant bit - sign bit - ``S`` - positive - ``0`` - negative - ``1`` [\n",
    "[..] C. Hock-Chuan, \"A Tutorial on Data Representation,\" [ntu](https://web.archive.org/web/20201111221515/https://www3.ntu.edu.sg/home/ehchua/programming/java/datarepresentation.html), January 2014.\n",
    "]"
   ]
  },
  {
   "cell_type": "markdown",
   "metadata": {},
   "source": [
    "- float32 - exponent - ``E`` - bits - ``8`` [\n",
    "[..] C. Hock-Chuan, \"A Tutorial on Data Representation,\" [ntu](https://web.archive.org/web/20201111221515/https://www3.ntu.edu.sg/home/ehchua/programming/java/datarepresentation.html), January 2014.\n",
    "]"
   ]
  },
  {
   "cell_type": "markdown",
   "metadata": {},
   "source": [
    "- float64 - fraction - ``F`` - bits - ``23`` [\n",
    "[..] C. Hock-Chuan, \"A Tutorial on Data Representation,\" [ntu](https://web.archive.org/web/20201111221515/https://www3.ntu.edu.sg/home/ehchua/programming/java/datarepresentation.html), January 2014.\n",
    "]"
   ]
  },
  {
   "cell_type": "markdown",
   "metadata": {},
   "source": [
    "<img src=\"img/float32.png\" />\n",
    "\n",
    "***C. Hock-Chuan, \"A Tutorial on Data Representation,\" [ntu](https://web.archive.org/web/20201111221515/https://www3.ntu.edu.sg/home/ehchua/programming/java/datarepresentation.html), January 2014.***"
   ]
  },
  {
   "cell_type": "code",
   "execution_count": 65,
   "metadata": {},
   "outputs": [
    {
     "name": "stdout",
     "output_type": "stream",
     "text": [
      "Single-precision floating-point number type, compatible with C ``float``.\n",
      "    Character code: ``'f'``.\n",
      "    Canonical name: ``np.single``.\n",
      "    Alias *on this platform*: ``np.float32``: 32-bit-precision floating-point number type: sign bit, 8 bits exponent, 23 bits mantissa.\n"
     ]
    }
   ],
   "source": [
    "# package numpy - data type float32 - attribute __doc__ - access\n",
    "print(float32.__doc__)"
   ]
  },
  {
   "cell_type": "markdown",
   "metadata": {},
   "source": [
    "- initialising parameter - ``dtype`` - with data type - ``float32`` - $[0.0, 1.0)$ (Appendix C - Half-Open - Half-Closed - Intervals) - interval - include - ``0.0`` - exclude - ``1.0`` [\n",
    "[...] Anaconda - \"numpy.float64,\" Docstring, June 2020.\n",
    "][\n",
    "[...] Wolfram, \"Half-Closed Interval,\" [mathworld.wolfram](https://web.archive.org/web/20201106190646/https://mathworld.wolfram.com/Half-ClosedInterval.html), Ootober 2020.\n",
    "]"
   ]
  },
  {
   "cell_type": "code",
   "execution_count": 66,
   "metadata": {},
   "outputs": [],
   "source": [
    "# package numpy - subpackage random - object Generator - method default_rng alias newGenBitGenPCG64 - instantiate\n",
    "n=newGenBitGenPCG64().random(dtype=float32) # method random - call"
   ]
  },
  {
   "cell_type": "code",
   "execution_count": 67,
   "metadata": {},
   "outputs": [
    {
     "name": "stdout",
     "output_type": "stream",
     "text": [
      "<actual>       : 0.4032876491546630859375\n"
     ]
    }
   ],
   "source": [
    "# module Decimal - object Decimal - instantiate\n",
    "print(\"<actual>       : {}\".format(Decimal(n)))"
   ]
  },
  {
   "cell_type": "code",
   "execution_count": 68,
   "metadata": {},
   "outputs": [
    {
     "name": "stdout",
     "output_type": "stream",
     "text": [
      "<truncated>    : 0.4032876491546631\n"
     ]
    }
   ],
   "source": [
    "print(\"<truncated>    : {}\".format(n))"
   ]
  },
  {
   "cell_type": "code",
   "execution_count": 69,
   "metadata": {},
   "outputs": [
    {
     "name": "stdout",
     "output_type": "stream",
     "text": [
      "        dtype : dtype, optional\n",
      "            Desired dtype of the result, only `float64` and `float32` are supported.\n",
      "            Byteorder must be native. The default value is np.float64.\n"
     ]
    }
   ],
   "source": [
    "# package numpy - subpackage random - object Generator - method default_rng alias newGenBitGenPCG64 - instantiate\n",
    "print(\"\\n\".join(newGenBitGenPCG64().random.__doc__.split(\"\\n\")[17:20])) # method random - attr __doc__ - access"
   ]
  },
  {
   "cell_type": "markdown",
   "metadata": {},
   "source": [
    "###### 2.2.2 - Parameter - out"
   ]
  },
  {
   "cell_type": "markdown",
   "metadata": {},
   "source": [
    "- default return type - numpy array - ``ndarray`` [\n",
    "[...] Anaconda - \"numpy.random.Generator.random,\" Docstring, June 2020.\n",
    "]"
   ]
  },
  {
   "cell_type": "code",
   "execution_count": 70,
   "metadata": {},
   "outputs": [
    {
     "data": {
      "text/plain": [
       "numpy.ndarray"
      ]
     },
     "execution_count": 70,
     "metadata": {},
     "output_type": "execute_result"
    }
   ],
   "source": [
    "# package numpy - subpackage random - object Generator - method default_rng alias newGenBitGenPCG64 - instantiate\n",
    "type(newGenBitGenPCG64().random(size=1))  # method random - call"
   ]
  },
  {
   "cell_type": "markdown",
   "metadata": {},
   "source": [
    "- optional - parameter - ``out`` - enables an alternative arrangement in which the random values are placed [\n",
    "[...] Anaconda - \"numpy.random.Generator.random,\" Docstring, June 2020.\n",
    "]"
   ]
  },
  {
   "cell_type": "code",
   "execution_count": 71,
   "metadata": {},
   "outputs": [],
   "source": [
    "# b_T_hird_P_arty-imports\n",
    "from numpy import ndarray"
   ]
  },
  {
   "cell_type": "markdown",
   "metadata": {},
   "source": [
    "- parameter - ``size`` - initialised  - parameter - ``out`` - must have the same arrangement - shape - as provided by parameter - ``size`` - if not exception indicating error occurs [\n",
    "[...] Anaconda - \"numpy.random.Generator.integers,\" Docstring, June 2020.\n",
    "]\n",
    "\n",
    "```python\n",
    "newGenBitGenPCG64().random(size=3,out=ndarray(4))\n",
    "```\n",
    "```\n",
    "ValueError: size must match out.shape when used together\n",
    "```"
   ]
  },
  {
   "cell_type": "code",
   "execution_count": 72,
   "metadata": {},
   "outputs": [
    {
     "data": {
      "text/plain": [
       "array([0.37253371, 0.80554869, 0.56040082])"
      ]
     },
     "execution_count": 72,
     "metadata": {},
     "output_type": "execute_result"
    }
   ],
   "source": [
    "# package numpy - subpackage random - object Generator - method default_rng alias newGenBitGenPCG64 - instantiate\n",
    "newGenBitGenPCG64().random(size=3,out=ndarray(3))  # method random - call"
   ]
  },
  {
   "cell_type": "markdown",
   "metadata": {},
   "source": [
    "- parameter - ``size`` - initialised - or - default - ``None`` - can initialise - parameter - ``out`` - new arrangement - shape - for the generated random values [\n",
    "[...] Anaconda - \"numpy.random.Generator.integers,\" Docstring, June 2020.\n",
    "]"
   ]
  },
  {
   "cell_type": "code",
   "execution_count": 73,
   "metadata": {},
   "outputs": [],
   "source": [
    "# package numpy - subpackage random - object Generator - method default_rng alias newGenBitGenPCG64 - instantiate\n",
    "n=newGenBitGenPCG64().random(size=None) # method random - call"
   ]
  },
  {
   "cell_type": "code",
   "execution_count": 74,
   "metadata": {},
   "outputs": [
    {
     "name": "stdout",
     "output_type": "stream",
     "text": [
      "<type>         : <class 'float'>\n"
     ]
    },
    {
     "data": {
      "text/plain": [
       "0.08454101569062178"
      ]
     },
     "execution_count": 74,
     "metadata": {},
     "output_type": "execute_result"
    }
   ],
   "source": [
    "print(\"<type>         : {}\".format(type(n)))\n",
    "n"
   ]
  },
  {
   "cell_type": "code",
   "execution_count": 75,
   "metadata": {},
   "outputs": [
    {
     "data": {
      "text/plain": [
       "float"
      ]
     },
     "execution_count": 75,
     "metadata": {},
     "output_type": "execute_result"
    }
   ],
   "source": [
    "# package numpy - subpackage random - object Generator - method default_rng alias newGenBitGenPCG64 - instantiate\n",
    "type(newGenBitGenPCG64().random()) # method random - call - equivalent"
   ]
  },
  {
   "cell_type": "code",
   "execution_count": 76,
   "metadata": {},
   "outputs": [],
   "source": [
    "# package numpy - subpackage random - object Generator - method default_rng alias newGenBitGenPCG64 - instantiate\n",
    "n=newGenBitGenPCG64().random(size=None,out=ndarray(1)) # method random - call"
   ]
  },
  {
   "cell_type": "code",
   "execution_count": 77,
   "metadata": {},
   "outputs": [
    {
     "name": "stdout",
     "output_type": "stream",
     "text": [
      "<n>            : 1-dimensional\n",
      "<type>         : <class 'numpy.ndarray'>\n"
     ]
    },
    {
     "data": {
      "text/plain": [
       "array([0.90754541])"
      ]
     },
     "execution_count": 77,
     "metadata": {},
     "output_type": "execute_result"
    }
   ],
   "source": [
    "print(\"<n>            : {}-dimensional\".format(n.ndim)) # method random - attribut ndim - access\n",
    "print(\"<type>         : {}\".format(type(n)))\n",
    "n"
   ]
  },
  {
   "cell_type": "code",
   "execution_count": 78,
   "metadata": {},
   "outputs": [],
   "source": [
    "# package numpy - subpackage random - object Generator - method default_rng alias newGenBitGenPCG64 - instantiate\n",
    "n=newGenBitGenPCG64().random(out=ndarray(shape=1)) # method random - call - equivalent"
   ]
  },
  {
   "cell_type": "code",
   "execution_count": 79,
   "metadata": {},
   "outputs": [
    {
     "name": "stdout",
     "output_type": "stream",
     "text": [
      "<n>            : 1-dimensional\n",
      "<type>         : <class 'numpy.ndarray'>\n"
     ]
    },
    {
     "data": {
      "text/plain": [
       "array([0.82923625])"
      ]
     },
     "execution_count": 79,
     "metadata": {},
     "output_type": "execute_result"
    }
   ],
   "source": [
    "print(\"<n>            : {}-dimensional\".format(n.ndim)) # method random - attribut ndim - access\n",
    "print(\"<type>         : {}\".format(type(n)))\n",
    "n"
   ]
  },
  {
   "cell_type": "code",
   "execution_count": 80,
   "metadata": {},
   "outputs": [
    {
     "name": "stdout",
     "output_type": "stream",
     "text": [
      "        out : ndarray, optional\n",
      "            Alternative output array in which to place the result. If size is not None,\n",
      "            it must have the same shape as the provided size and must match the type of\n",
      "            the output values.\n"
     ]
    }
   ],
   "source": [
    "# package numpy - subpackage random - object Generator - method default_rng alias newGenBitGenPCG64 - instantiate\n",
    "print(\"\\n\".join(newGenBitGenPCG64().random.__doc__.split(\"\\n\")[20:24])) # method random - attr __doc__ - access"
   ]
  },
  {
   "cell_type": "markdown",
   "metadata": {},
   "source": [
    "###### 2.2.3 - Return - float or ndarray of floats"
   ]
  },
  {
   "cell_type": "markdown",
   "metadata": {},
   "source": [
    "- name - nOut - parameter - ``size`` - default or initialised to - ``any value`` - except - ``None`` - result is a numpy array - **ndarray** - possible range of random values generated within the array - ``0.0`` - to - ``0.1`` - excluding - ``0.1`` [\n",
    "[...] Anaconda - \"numpy.random.Generator.integers,\" Docstring, June 2020.\n",
    "]"
   ]
  },
  {
   "cell_type": "code",
   "execution_count": 81,
   "metadata": {},
   "outputs": [],
   "source": [
    "# package numpy - subpackage random - object Generator - method default_rng alias newGenBitGenPCG64 - instantiate\n",
    "nOut=newGenBitGenPCG64().random(size=4)"
   ]
  },
  {
   "cell_type": "code",
   "execution_count": 82,
   "metadata": {},
   "outputs": [
    {
     "data": {
      "text/plain": [
       "numpy.ndarray"
      ]
     },
     "execution_count": 82,
     "metadata": {},
     "output_type": "execute_result"
    }
   ],
   "source": [
    "type(nOut)"
   ]
  },
  {
   "cell_type": "code",
   "execution_count": 83,
   "metadata": {},
   "outputs": [
    {
     "data": {
      "text/plain": [
       "array([0.49302519, 0.7282119 , 0.64142635, 0.84553248])"
      ]
     },
     "execution_count": 83,
     "metadata": {},
     "output_type": "execute_result"
    }
   ],
   "source": [
    "nOut"
   ]
  },
  {
   "cell_type": "markdown",
   "metadata": {},
   "source": [
    "- name - nOut - parameter - ``size`` - default or initialised to - ``None`` - result is a numpy data type - **float64** - possible range of random values generated - ``0.0`` - to - ``0.1`` [\n",
    "[...] Anaconda - \"numpy.random.Generator.integers,\" Docstring, June 2020.\n",
    "]"
   ]
  },
  {
   "cell_type": "code",
   "execution_count": 84,
   "metadata": {},
   "outputs": [],
   "source": [
    "# package numpy - subpackage random - object Generator - method default_rng alias newGenBitGenPCG64 - instantiate\n",
    "nOut=newGenBitGenPCG64().random()"
   ]
  },
  {
   "cell_type": "code",
   "execution_count": 85,
   "metadata": {},
   "outputs": [
    {
     "data": {
      "text/plain": [
       "float"
      ]
     },
     "execution_count": 85,
     "metadata": {},
     "output_type": "execute_result"
    }
   ],
   "source": [
    "type(nOut)"
   ]
  },
  {
   "cell_type": "code",
   "execution_count": 86,
   "metadata": {},
   "outputs": [
    {
     "data": {
      "text/plain": [
       "0.2650471188068835"
      ]
     },
     "execution_count": 86,
     "metadata": {},
     "output_type": "execute_result"
    }
   ],
   "source": [
    "nOut"
   ]
  },
  {
   "cell_type": "code",
   "execution_count": 87,
   "metadata": {},
   "outputs": [
    {
     "name": "stdout",
     "output_type": "stream",
     "text": [
      "        Returns\n",
      "        -------\n",
      "        out : float or ndarray of floats\n",
      "            Array of random floats of shape `size` (unless ``size=None``, in which\n",
      "            case a single float is returned).\n",
      "\n"
     ]
    }
   ],
   "source": [
    "# package numpy - subpackage random - object Generator - method default_rng alias newGenBitGenPCG64 - instantiate\n",
    "print(\"\\n\".join(newGenBitGenPCG64().random.__doc__.split(\"\\n\")[25:31])) # method random - attr __doc__ - access\n",
    "#print(newGenBitGenPCG64().random.__doc__)"
   ]
  },
  {
   "cell_type": "markdown",
   "metadata": {},
   "source": [
    "##### 2.3.0 - Use - Simple Random Data - numpy.random.Generator.choice"
   ]
  },
  {
   "cell_type": "markdown",
   "metadata": {},
   "source": [
    "- generates a random selection from within the population - input is a 1-dimenional array - ``m`` - visualise as one row with many possible columns [\n",
    "[...] D. Rowntree, \"Statistical Inquiry,\" Statistics without Tears, p. 15, 2018.\n",
    "][\n",
    "[...] kmario23, \"what does numpy ndarray shape do?,\" [stackoverflow](https://web.archive.org/web/20201117074506/https://stackoverflow.com/questions/47564495/what-does-numpy-ndarray-shape-do), November 2017.\n",
    "][\n",
    "[...] Anaconda - \"numpy.random.Generator.choice,\" Docstring, June 2020.\n",
    "]"
   ]
  },
  {
   "cell_type": "code",
   "execution_count": 88,
   "metadata": {},
   "outputs": [
    {
     "name": "stdout",
     "output_type": "stream",
     "text": [
      "        Generates a random sample from a given 1-D array\n"
     ]
    }
   ],
   "source": [
    "# b_T_hird_P_arty-imports\n",
    "from numpy.random import default_rng as newGenBitGenPCG64\n",
    "# package numpy - subpackage random - object Generator - method default_rng alias newGenBitGenPCG64 - instantiate\n",
    "print(\"\\n\".join(newGenBitGenPCG64().choice.__doc__.split(\"\\n\")[3:4])) # method choice - attr __doc__ - access"
   ]
  },
  {
   "cell_type": "markdown",
   "metadata": {},
   "source": [
    "###### 2.3.1 - Signature"
   ]
  },
  {
   "cell_type": "code",
   "execution_count": 89,
   "metadata": {},
   "outputs": [
    {
     "name": "stdout",
     "output_type": "stream",
     "text": [
      "        choice(a, size=None, replace=True, p=None, axis=0):\n"
     ]
    }
   ],
   "source": [
    "# package numpy - subpackage random - object Generator - method default_rng alias newGenBitGenPCG64 - instantiate\n",
    "print(\"\\n\".join(newGenBitGenPCG64().choice.__doc__.split(\"\\n\")[1:2])) # method choice - attr __doc__ - access"
   ]
  },
  {
   "cell_type": "markdown",
   "metadata": {},
   "source": [
    "###### 2.3.2 - Parameter - a"
   ]
  },
  {
   "cell_type": "markdown",
   "metadata": {},
   "source": [
    "- must be a positive value - or - ***list of negative/zero/positive value(s) - wrapped in square brackets separated by commas*** [\n",
    "[...] Anaconda - \"numpy.random.Generator.choice,\" Docstring, June 2020.\n",
    "]"
   ]
  },
  {
   "cell_type": "markdown",
   "metadata": {},
   "source": [
    "- lowest positive value ``1`` - lowest possible random value generated ``0`` - highest possible random value generated ``9223372036854775808 minus 1`` - initialising parameter - ``a`` - with no value - with a value ``1 minus 1`` - with a value ``9223372036854775808 plus 1`` - exception indicating error occurs [\n",
    "[...] Anaconda - \"numpy.random.Generator.choice,\" Docstring, June 2020.\n",
    "]\n",
    "\n",
    "```python\n",
    "newGenBitGenPCG64().choice()\n",
    "```\n",
    "```\n",
    "TypeError: choice() takes at least 1 positional argument (0 given)\n",
    "\n",
    "```\n",
    "\n",
    "```python\n",
    "newGenBitGenPCG64().choice(0)\n",
    "```\n",
    "```\n",
    "ValueError: a must be greater than 0 unless no samples are taken\n",
    "```\n",
    "\n",
    "```python\n",
    "newGenBitGenPCG64().choice(9223372036854775808+1)\n",
    "```\n",
    "```\n",
    "ValueError: high is out of bounds for int64\n",
    "```"
   ]
  },
  {
   "cell_type": "markdown",
   "metadata": {},
   "source": [
    "- single value generated within the range ``0`` and ``2`` - excluding ``3`` [\n",
    "[...] No Reference.\n",
    "]"
   ]
  },
  {
   "cell_type": "code",
   "execution_count": 90,
   "metadata": {},
   "outputs": [
    {
     "name": "stdout",
     "output_type": "stream",
     "text": [
      "<value>        : 3\n",
      "<type>         : <class 'int'>\n"
     ]
    }
   ],
   "source": [
    "nA=3\n",
    "print(\"<value>        : {}\".format(nA))\n",
    "print(\"<type>         : {}\".format(type(nA)))"
   ]
  },
  {
   "cell_type": "code",
   "execution_count": 91,
   "metadata": {},
   "outputs": [
    {
     "data": {
      "text/plain": [
       "0"
      ]
     },
     "execution_count": 91,
     "metadata": {},
     "output_type": "execute_result"
    }
   ],
   "source": [
    "# package numpy - subpackage random - object Generator - method default_rng alias newGenBitGenPCG64 - instantiate\n",
    "newGenBitGenPCG64().choice(a=nA) # method choice - call"
   ]
  },
  {
   "cell_type": "markdown",
   "metadata": {},
   "source": [
    "- 1-dimensional array - one row - one column - sample is generated from the numpy function - ``arange`` - effectively passing the argument - ``nA`` - as a parameter to the numpy function - ``arange`` - returns numpy data type - ``int64`` (Appendix A - NumPy - Data Types) [\n",
    "[...] Anaconda - \"numpy.random.Generator.choice,\" Docstring, June 2020.\n",
    "]"
   ]
  },
  {
   "cell_type": "code",
   "execution_count": 92,
   "metadata": {},
   "outputs": [],
   "source": [
    "# b_T_hird_P_arty-imports\n",
    "from numpy.core import arange as arrayEvenlySpaced"
   ]
  },
  {
   "cell_type": "code",
   "execution_count": 93,
   "metadata": {},
   "outputs": [
    {
     "data": {
      "text/plain": [
       "array([0, 1, 2])"
      ]
     },
     "execution_count": 93,
     "metadata": {},
     "output_type": "execute_result"
    }
   ],
   "source": [
    "# package numpy - subpackage core - C function arange alias arrayEvenlySpaced - call\n",
    "nArray=arrayEvenlySpaced(3) # equivalent of passing argument - name - nA\n",
    "nArray"
   ]
  },
  {
   "cell_type": "code",
   "execution_count": 94,
   "metadata": {},
   "outputs": [
    {
     "data": {
      "text/plain": [
       "2"
      ]
     },
     "execution_count": 94,
     "metadata": {},
     "output_type": "execute_result"
    }
   ],
   "source": [
    "# package numpy - subpackage random - object Generator - method default_rng alias newGenBitGenPCG64 - instantiate\n",
    "newGenBitGenPCG64().choice(nArray) # method choice - call - equivalent"
   ]
  },
  {
   "cell_type": "code",
   "execution_count": 95,
   "metadata": {},
   "outputs": [
    {
     "data": {
      "text/plain": [
       "numpy.int64"
      ]
     },
     "execution_count": 95,
     "metadata": {},
     "output_type": "execute_result"
    }
   ],
   "source": [
    "# package numpy - subpackage random - object Generator - method default_rng alias newGenBitGenPCG64 - instantiate\n",
    "type(newGenBitGenPCG64().choice(nA)) # method choice - call"
   ]
  },
  {
   "cell_type": "markdown",
   "metadata": {},
   "source": [
    "- ***list of negative/zero/positive value(s)*** - 1-dimensional array - one row - four columns - generates a random selection from within its population - no limit to size of each element [\n",
    "[...] Anaconda - \"numpy.random.Generator.choice,\" Docstring, June 2020.\n",
    "]"
   ]
  },
  {
   "cell_type": "code",
   "execution_count": 96,
   "metadata": {},
   "outputs": [],
   "source": [
    "nList=[-9223372036854775808,0,1,9223372036854775808]"
   ]
  },
  {
   "cell_type": "code",
   "execution_count": 97,
   "metadata": {},
   "outputs": [
    {
     "data": {
      "text/plain": [
       "True"
      ]
     },
     "execution_count": 97,
     "metadata": {},
     "output_type": "execute_result"
    }
   ],
   "source": [
    "9.223372036854776e+18==9223372036854775808"
   ]
  },
  {
   "cell_type": "code",
   "execution_count": 98,
   "metadata": {},
   "outputs": [
    {
     "data": {
      "text/plain": [
       "True"
      ]
     },
     "execution_count": 98,
     "metadata": {},
     "output_type": "execute_result"
    }
   ],
   "source": [
    "-9.223372036854776e+18==-9223372036854775808"
   ]
  },
  {
   "cell_type": "code",
   "execution_count": 99,
   "metadata": {},
   "outputs": [
    {
     "data": {
      "text/plain": [
       "1.0"
      ]
     },
     "execution_count": 99,
     "metadata": {},
     "output_type": "execute_result"
    }
   ],
   "source": [
    "# package numpy - subpackage random - object Generator - method default_rng alias newGenBitGenPCG64 - instantiate\n",
    "newGenBitGenPCG64().choice(nList) # method choice - call"
   ]
  },
  {
   "cell_type": "markdown",
   "metadata": {},
   "source": [
    "- ``ndarray`` - 1-dimensional - one row - four columns - generates a random selection from within its population - floating-point numbers (Appendix E - Python float - numpy.float64) [\n",
    "[...] Anaconda - \"numpy.random.Generator.choice,\" Docstring, June 2020.\n",
    "]"
   ]
  },
  {
   "cell_type": "code",
   "execution_count": 100,
   "metadata": {},
   "outputs": [
    {
     "data": {
      "text/plain": [
       "array([ 5.88791318e+07, -1.21134482e-13])"
      ]
     },
     "execution_count": 100,
     "metadata": {},
     "output_type": "execute_result"
    }
   ],
   "source": [
    "nArray=ndarray(2)\n",
    "nArray"
   ]
  },
  {
   "cell_type": "code",
   "execution_count": 101,
   "metadata": {},
   "outputs": [
    {
     "data": {
      "text/plain": [
       "58879131.754113235"
      ]
     },
     "execution_count": 101,
     "metadata": {},
     "output_type": "execute_result"
    }
   ],
   "source": [
    "# package numpy - subpackage random - object Generator - method default_rng alias newGenBitGenPCG64 - instantiate\n",
    "newGenBitGenPCG64().choice(nArray) # method choice - call"
   ]
  },
  {
   "cell_type": "code",
   "execution_count": 102,
   "metadata": {},
   "outputs": [
    {
     "data": {
      "text/plain": [
       "False"
      ]
     },
     "execution_count": 102,
     "metadata": {},
     "output_type": "execute_result"
    }
   ],
   "source": [
    "newGenBitGenPCG64().choice(nArray)==(nArray[0] or nArray[1])"
   ]
  },
  {
   "cell_type": "code",
   "execution_count": 103,
   "metadata": {},
   "outputs": [
    {
     "data": {
      "text/plain": [
       "numpy.float64"
      ]
     },
     "execution_count": 103,
     "metadata": {},
     "output_type": "execute_result"
    }
   ],
   "source": [
    "type(nArray[0])"
   ]
  },
  {
   "cell_type": "code",
   "execution_count": 104,
   "metadata": {},
   "outputs": [
    {
     "data": {
      "text/plain": [
       "numpy.float64"
      ]
     },
     "execution_count": 104,
     "metadata": {},
     "output_type": "execute_result"
    }
   ],
   "source": [
    "type(nArray[1])"
   ]
  },
  {
   "cell_type": "code",
   "execution_count": 105,
   "metadata": {},
   "outputs": [
    {
     "data": {
      "text/plain": [
       "numpy.ndarray"
      ]
     },
     "execution_count": 105,
     "metadata": {},
     "output_type": "execute_result"
    }
   ],
   "source": [
    "type(nArray)"
   ]
  },
  {
   "cell_type": "code",
   "execution_count": 106,
   "metadata": {},
   "outputs": [
    {
     "name": "stdout",
     "output_type": "stream",
     "text": [
      "        a : 1-D array-like or int\n",
      "            If an ndarray, a random sample is generated from its elements.\n",
      "            If an int, the random sample is generated as if a were np.arange(a)\n"
     ]
    }
   ],
   "source": [
    "# package numpy - subpackage random - object Generator - method default_rng alias newGenBitGenPCG64 - instantiate\n",
    "print(\"\\n\".join(newGenBitGenPCG64().choice.__doc__.split(\"\\n\")[7:10])) # method choice - attr __doc__ - access"
   ]
  },
  {
   "cell_type": "markdown",
   "metadata": {},
   "source": [
    "###### 2.3.2 - Parameter - size"
   ]
  },
  {
   "cell_type": "markdown",
   "metadata": {},
   "source": [
    "- parameter - ``size`` - similar to method - ``random`` - parameter - ``axis`` [\n",
    "[...] Anaconda - \"numpy.random.Generator.choice,\" Docstring, June 2020.\n",
    "][\n",
    "[...] Anaconda - \"numpy.random.Generator.random,\" Docstring, June 2020.\n",
    "]"
   ]
  },
  {
   "cell_type": "code",
   "execution_count": 107,
   "metadata": {},
   "outputs": [
    {
     "name": "stdout",
     "output_type": "stream",
     "text": [
      "        size : int or tuple of ints, optional\n",
      "            Output shape.  If the given shape is, e.g., ``(m, n, k)``, then\n",
      "            ``m * n * k`` samples are drawn.  Default is None, in which case a\n",
      "            single value is returned.\n"
     ]
    }
   ],
   "source": [
    "# package numpy - subpackage random - object Generator - method default_rng alias newGenBitGenPCG64 - instantiate\n",
    "print(\"\\n\".join(newGenBitGenPCG64().random.__doc__.split(\"\\n\")[13:17])) # method random - attr __doc__ - access"
   ]
  },
  {
   "cell_type": "markdown",
   "metadata": {},
   "source": [
    "- parameter - ``a`` - more than one dimension then the value for parameter - ``size`` - inserted into parameter - ``axis`` - dimension [\n",
    "[...] Anaconda - \"numpy.random.Generator.choice,\" Docstring, June 2020.\n",
    "]"
   ]
  },
  {
   "cell_type": "code",
   "execution_count": 108,
   "metadata": {},
   "outputs": [
    {
     "name": "stdout",
     "output_type": "stream",
     "text": [
      "        size : int or tuple of ints, optional\n",
      "            Output shape.  If the given shape is, e.g., ``(m, n, k)``, then\n",
      "            ``m * n * k`` samples are drawn from the 1-d `a`. If `a` has more\n",
      "            than one dimension, the `size` shape will be inserted into the\n",
      "            `axis` dimension, so the output ``ndim`` will be ``a.ndim - 1 +\n",
      "            len(size)``. Default is None, in which case a single value is\n",
      "            returned.\n"
     ]
    }
   ],
   "source": [
    "# package numpy - subpackage random - object Generator - method default_rng alias newGenBitGenPCG64 - instantiate\n",
    "print(\"\\n\".join(newGenBitGenPCG64().choice.__doc__.split(\"\\n\")[10:17])) # method choice - attr __doc__ - access"
   ]
  },
  {
   "cell_type": "markdown",
   "metadata": {},
   "source": [
    "###### 2.3.2 - Parameter - replace"
   ]
  },
  {
   "cell_type": "markdown",
   "metadata": {},
   "source": [
    "- generate a uniform - equal chance - random selection from the population - ``arange(6)`` - parameter - ``size`` - of - ``5`` - without replacement [\n",
    "[...] Anaconda - \"numpy.random.Generator.choice,\" Docstring, June 2020.\n",
    "]"
   ]
  },
  {
   "cell_type": "code",
   "execution_count": 109,
   "metadata": {},
   "outputs": [],
   "source": [
    "# b_T_hird_P_arty-imports\n",
    "from matplotlib.pyplot import hist as h"
   ]
  },
  {
   "cell_type": "markdown",
   "metadata": {},
   "source": [
    "- dark reader - unable to determine ticks [\n",
    "CptanPanic, \"How to handle labels when using dark theme with jupyterlabs?,\" [github](https://web.archive.org/web/20201027100553/https://github.com/matplotlib/ipympl/issues/25), October 2017.\n",
    "]"
   ]
  },
  {
   "cell_type": "code",
   "execution_count": 110,
   "metadata": {},
   "outputs": [],
   "source": [
    "from matplotlib.style.core import use as u\n",
    "# package matplotlib - subpackage style - module core - function use alias u - call\n",
    "u(\"default\")"
   ]
  },
  {
   "cell_type": "code",
   "execution_count": 111,
   "metadata": {},
   "outputs": [
    {
     "data": {
      "text/plain": [
       "array([3, 4, 0, 2, 5])"
      ]
     },
     "execution_count": 111,
     "metadata": {},
     "output_type": "execute_result"
    }
   ],
   "source": [
    "# package numpy - subpackage random - object Generator - method default_rng alias newGenBitGenPCG64 - instantiate\n",
    "newGenBitGenPCG64().choice(arrayEvenlySpaced(6),size=5,replace=False) # method choice - call"
   ]
  },
  {
   "cell_type": "code",
   "execution_count": 112,
   "metadata": {},
   "outputs": [],
   "source": [
    "# package matplotlib - module pyplot - function hist alias h - call\n",
    "nHist=newGenBitGenPCG64().choice(arrayEvenlySpaced(6),size=5,replace=False) # method choice - call"
   ]
  },
  {
   "cell_type": "code",
   "execution_count": 113,
   "metadata": {},
   "outputs": [
    {
     "data": {
      "image/png": "[encoded data removed]",
      "text/plain": [
       "<Figure size 640x480 with 1 Axes>"
      ]
     },
     "metadata": {},
     "output_type": "display_data"
    }
   ],
   "source": [
    "# package matplotlib - module pyplot - function hist alias h - call\n",
    "h(nHist);"
   ]
  },
  {
   "cell_type": "code",
   "execution_count": 114,
   "metadata": {},
   "outputs": [
    {
     "data": {
      "text/plain": [
       "array([2, 0, 3, 5, 4])"
      ]
     },
     "execution_count": 114,
     "metadata": {},
     "output_type": "execute_result"
    }
   ],
   "source": [
    "# package numpy - subpackage random - object Generator - method default_rng alias newGenBitGenPCG64 - instantiate\n",
    "newGenBitGenPCG64().permutation(arrayEvenlySpaced(6))[:5] # method permutation - call - equivalent"
   ]
  },
  {
   "cell_type": "code",
   "execution_count": 115,
   "metadata": {},
   "outputs": [],
   "source": [
    "# package matplotlib - module pyplot - function hist alias h - call\n",
    "nHist=newGenBitGenPCG64().permutation(arrayEvenlySpaced(6))[:5] # method choice - call"
   ]
  },
  {
   "cell_type": "code",
   "execution_count": 116,
   "metadata": {},
   "outputs": [
    {
     "data": {
      "image/png": "[encoded data removed]",
      "text/plain": [
       "<Figure size 640x480 with 1 Axes>"
      ]
     },
     "metadata": {},
     "output_type": "display_data"
    }
   ],
   "source": [
    "# package matplotlib - module pyplot - function hist alias h - call\n",
    "h(nHist);"
   ]
  },
  {
   "cell_type": "code",
   "execution_count": 117,
   "metadata": {},
   "outputs": [
    {
     "name": "stdout",
     "output_type": "stream",
     "text": [
      "        replace : boolean, optional\n",
      "            Whether the sample is with or without replacement\n"
     ]
    }
   ],
   "source": [
    "# package numpy - subpackage random - object Generator - method default_rng alias newGenBitGenPCG64 - instantiate\n",
    "print(\"\\n\".join(newGenBitGenPCG64().choice.__doc__.split(\"\\n\")[17:19])) # method choice - attr __doc__ - access"
   ]
  },
  {
   "cell_type": "markdown",
   "metadata": {},
   "source": [
    "###### 2.3.2 - Parameter - p"
   ]
  },
  {
   "cell_type": "markdown",
   "metadata": {},
   "source": [
    "- coin flip - probability of each trial - probability of success is constant - one half on each trial - $0.5$ - parameter - ``p`` [\n",
    "[...] I. McLoughlin, \"Coin flipping in Python,\" GMIT, September 2019.\n",
    "]\n",
    "\n",
    "$$interval[0,1]$$"
   ]
  },
  {
   "cell_type": "code",
   "execution_count": 118,
   "metadata": {},
   "outputs": [
    {
     "name": "stdout",
     "output_type": "stream",
     "text": [
      "        p : 1-D array-like, optional\n",
      "            The probabilities associated with each entry in a.\n",
      "            If not given the sample assumes a uniform distribution over all\n",
      "            entries in a.\n"
     ]
    }
   ],
   "source": [
    "# package numpy - subpackage random - object Generator - method default_rng alias newGenBitGenPCG64 - instantiate\n",
    "print(\"\\n\".join(newGenBitGenPCG64().choice.__doc__.split(\"\\n\")[19:23])) # method choice - attr __doc__ - access"
   ]
  },
  {
   "cell_type": "markdown",
   "metadata": {},
   "source": [
    "###### 2.3.2 - Parameter - axis"
   ]
  },
  {
   "cell_type": "markdown",
   "metadata": {},
   "source": [
    "- parameter - ``axis`` - similar to method - ``shuffle`` - parameter - ``axis`` [\n",
    "[...] Anaconda - \"numpy.random.Generator.choice,\" Docstring, June 2020.\n",
    "][\n",
    "[...] Anaconda - \"numpy.random.Generator.shuffle,\" Docstring, June 2020.\n",
    "]"
   ]
  },
  {
   "cell_type": "code",
   "execution_count": 119,
   "metadata": {},
   "outputs": [
    {
     "name": "stdout",
     "output_type": "stream",
     "text": [
      "        axis : int, optional\n",
      "            The axis which `x` is shuffled along. Default is 0.\n",
      "            It is only supported on `ndarray` objects.\n"
     ]
    }
   ],
   "source": [
    "# package numpy - subpackage random - object Generator - method default_rng alias newGenBitGenPCG64 - instantiate\n",
    "print(\"\\n\".join(newGenBitGenPCG64().shuffle.__doc__.split(\"\\n\")[11:14])) # method shuffle - attr __doc__ - access"
   ]
  },
  {
   "cell_type": "markdown",
   "metadata": {},
   "source": [
    "- parameter - ``axis`` - unlike method - shuffle - supports object - ``ndarray`` [\n",
    "[...] Anaconda - \"numpy.random.Generator.choice,\" Docstring, June 2020.\n",
    "]"
   ]
  },
  {
   "cell_type": "code",
   "execution_count": 120,
   "metadata": {},
   "outputs": [
    {
     "name": "stdout",
     "output_type": "stream",
     "text": [
      "        axis : int, optional\n",
      "            The axis along which the selection is performed. The default, 0,\n",
      "            selects by row.\n"
     ]
    }
   ],
   "source": [
    "# package numpy - subpackage random - object Generator - method default_rng alias newGenBitGenPCG64 - instantiate\n",
    "print(\"\\n\".join(newGenBitGenPCG64().choice.__doc__.split(\"\\n\")[23:26])) # method choice - attr __doc__ - access"
   ]
  },
  {
   "cell_type": "markdown",
   "metadata": {},
   "source": [
    "###### 2.3.2 - Parameter - shuffle"
   ]
  },
  {
   "cell_type": "markdown",
   "metadata": {},
   "source": [
    "- refer method - shuffle [\n",
    "[...] No reference.\n",
    "]"
   ]
  },
  {
   "cell_type": "code",
   "execution_count": 121,
   "metadata": {},
   "outputs": [
    {
     "name": "stdout",
     "output_type": "stream",
     "text": [
      "        shuffle : boolean, optional\n",
      "            Whether the sample is shuffled when sampling without replacement.\n",
      "            Default is True, False provides a speedup.\n"
     ]
    }
   ],
   "source": [
    "# package numpy - subpackage random - object Generator - method default_rng alias newGenBitGenPCG64 - instantiate\n",
    "print(\"\\n\".join(newGenBitGenPCG64().choice.__doc__.split(\"\\n\")[26:29])) # method choice - attr __doc__ - access"
   ]
  },
  {
   "cell_type": "markdown",
   "metadata": {},
   "source": [
    "###### 2.3.3 - Return - samples"
   ]
  },
  {
   "cell_type": "markdown",
   "metadata": {},
   "source": [
    "- generated random selection from within the population [\n",
    "[...] Anaconda - \"numpy.random.Generator.choice,\" Docstring, June 2020.\n",
    "]"
   ]
  },
  {
   "cell_type": "code",
   "execution_count": 122,
   "metadata": {},
   "outputs": [
    {
     "name": "stdout",
     "output_type": "stream",
     "text": [
      "        Returns\n",
      "        -------\n",
      "        samples : single item or ndarray\n",
      "            The generated random samples\n"
     ]
    }
   ],
   "source": [
    "# package numpy - subpackage random - object Generator - method default_rng alias newGenBitGenPCG64 - instantiate\n",
    "print(\"\\n\".join(newGenBitGenPCG64().choice.__doc__.split(\"\\n\")[30:34])) # method choice - attr __doc__ - access"
   ]
  },
  {
   "cell_type": "markdown",
   "metadata": {},
   "source": [
    "##### 2.4.0 - Use - Simple Random Data - numpy.random.Generator.bytes"
   ]
  },
  {
   "cell_type": "markdown",
   "metadata": {},
   "source": [
    "- generates a sequence of random byptes [\n",
    "[...] Anaconda - \"numpy.random.Generator.bytes,\" Docstring, June 2020.\n",
    "]"
   ]
  },
  {
   "cell_type": "code",
   "execution_count": 123,
   "metadata": {},
   "outputs": [
    {
     "name": "stdout",
     "output_type": "stream",
     "text": [
      "        Return random bytes.\n"
     ]
    }
   ],
   "source": [
    "# package numpy - subpackage random - object Generator - method default_rng alias newGenBitGenPCG64 - instantiate\n",
    "print(\"\\n\".join(newGenBitGenPCG64().bytes.__doc__.split(\"\\n\")[3:4])) # method bytes - attr __doc__ - access"
   ]
  },
  {
   "cell_type": "markdown",
   "metadata": {},
   "source": [
    "###### 2.4.1 - Signature"
   ]
  },
  {
   "cell_type": "code",
   "execution_count": 124,
   "metadata": {},
   "outputs": [
    {
     "name": "stdout",
     "output_type": "stream",
     "text": [
      "        bytes(length)\n"
     ]
    }
   ],
   "source": [
    "# package numpy - subpackage random - object Generator - method default_rng alias newGenBitGenPCG64 - instantiate\n",
    "print(\"\\n\".join(newGenBitGenPCG64().bytes.__doc__.split(\"\\n\")[1:2])) # method bytes - attr __doc__ - access"
   ]
  },
  {
   "cell_type": "markdown",
   "metadata": {},
   "source": [
    "###### 2.4.2 - Parameter - length"
   ]
  },
  {
   "cell_type": "markdown",
   "metadata": {},
   "source": [
    "- number of random bytes generated - positive value - not passing argument or passing argument with a value lower than ``-2`` - or value ``0`` - exception indicating error occurs [\n",
    "[...] Anaconda - \"numpy.random.Generator.bytes,\" Docstring, June 2020.\n",
    "]\n",
    "\n",
    "```python\n",
    "newGenBitGenPCG64().bytes()\n",
    "```\n",
    "```\n",
    "TypeError: bytes() takes exactly one argument (0 given)\n",
    "```"
   ]
  },
  {
   "cell_type": "markdown",
   "metadata": {},
   "source": [
    "- nothing generated - ``b`` - indicated binary format - ``''`` - empty string [\n",
    "Python Documentation, \"Format String Syntax,\" [docs.python](https://web.archive.org/web/20200513140638/https://docs.python.org/3/library/string.html#format-string-syntax), July 2010.\n",
    "[...]\n",
    "]"
   ]
  },
  {
   "cell_type": "code",
   "execution_count": 125,
   "metadata": {},
   "outputs": [
    {
     "data": {
      "text/plain": [
       "b''"
      ]
     },
     "execution_count": 125,
     "metadata": {},
     "output_type": "execute_result"
    }
   ],
   "source": [
    "# package numpy - subpackage random - object Generator - method default_rng alias newGenBitGenPCG64 - instantiate\n",
    "newGenBitGenPCG64().bytes(0) # method bytes - call - equivalent"
   ]
  },
  {
   "cell_type": "code",
   "execution_count": 126,
   "metadata": {},
   "outputs": [
    {
     "data": {
      "text/plain": [
       "b''"
      ]
     },
     "execution_count": 126,
     "metadata": {},
     "output_type": "execute_result"
    }
   ],
   "source": [
    "# package numpy - subpackage random - object Generator - method default_rng alias newGenBitGenPCG64 - instantiate\n",
    "newGenBitGenPCG64().bytes(-3) # method bytes - call - equivalent"
   ]
  },
  {
   "cell_type": "markdown",
   "metadata": {},
   "source": [
    "- specifying keyword argument - ``length=???`` - exception indicating error occurs [\n",
    "[...] Anaconda - \"numpy.random.Generator.bytes,\" Docstring, June 2020.\n",
    "]\n",
    "\n",
    "```python\n",
    "newGenBitGenPCG64().bytes(length=1)\n",
    "```\n",
    "```\n",
    "TypeError: bytes() takes no keyword arguments\n",
    "```"
   ]
  },
  {
   "cell_type": "code",
   "execution_count": 127,
   "metadata": {},
   "outputs": [],
   "source": [
    "# package numpy - subpackage random - object Generator - method default_rng alias newGenBitGenPCG64 - instantiate\n",
    "nBytes=newGenBitGenPCG64().bytes(-2) # method bytes - call"
   ]
  },
  {
   "cell_type": "code",
   "execution_count": 128,
   "metadata": {},
   "outputs": [
    {
     "name": "stdout",
     "output_type": "stream",
     "text": [
      "<byte(s)>      : b']\\xda'\n",
      "<convert>      : [93, 218]\n"
     ]
    }
   ],
   "source": [
    "print(\"<byte(s)>      : {}\".format(nBytes))\n",
    "print(\"<convert>      : {}\".format(list(nBytes)))"
   ]
  },
  {
   "cell_type": "code",
   "execution_count": 129,
   "metadata": {},
   "outputs": [],
   "source": [
    "# package numpy - subpackage random - object Generator - method default_rng alias newGenBitGenPCG64 - instantiate\n",
    "nBytes=newGenBitGenPCG64().bytes(-1) # method bytes - call"
   ]
  },
  {
   "cell_type": "code",
   "execution_count": 130,
   "metadata": {},
   "outputs": [
    {
     "name": "stdout",
     "output_type": "stream",
     "text": [
      "<byte(s)>      : b'0\\xd9\\xfb'\n",
      "<convert>      : [48, 217, 251]\n"
     ]
    }
   ],
   "source": [
    "print(\"<byte(s)>      : {}\".format(nBytes))\n",
    "print(\"<convert>      : {}\".format(list(nBytes)))"
   ]
  },
  {
   "cell_type": "markdown",
   "metadata": {},
   "source": [
    "- two bytes generated - separated by - ``\\`` - escape - ``x`` - indicated hexadecimal format - followed by generated random byte in hexadecimal [\n",
    "Python Documentation, \"Format String Syntax,\" [docs.python](https://web.archive.org/web/20200513140638/https://docs.python.org/3/library/string.html#format-string-syntax), July 2010.\n",
    "[...]\n",
    "]"
   ]
  },
  {
   "cell_type": "code",
   "execution_count": 131,
   "metadata": {},
   "outputs": [],
   "source": [
    "# package numpy - subpackage random - object Generator - method default_rng alias newGenBitGenPCG64 - instantiate\n",
    "nBytes=newGenBitGenPCG64().bytes(2) # method bytes - call"
   ]
  },
  {
   "cell_type": "code",
   "execution_count": 132,
   "metadata": {},
   "outputs": [
    {
     "name": "stdout",
     "output_type": "stream",
     "text": [
      "<byte(s)>      : b'\\x95p'\n",
      "<convert>      : [149, 112]\n"
     ]
    }
   ],
   "source": [
    "print(\"<byte(s)>      : {}\".format(nBytes))\n",
    "print(\"<convert>      : {}\".format(list(nBytes)))"
   ]
  },
  {
   "cell_type": "code",
   "execution_count": 133,
   "metadata": {},
   "outputs": [
    {
     "name": "stdout",
     "output_type": "stream",
     "text": [
      "        length : int\n",
      "            Number of random bytes.\n"
     ]
    }
   ],
   "source": [
    "# package numpy - subpackage random - object Generator - method default_rng alias newGenBitGenPCG64 - instantiate\n",
    "print(\"\\n\".join(newGenBitGenPCG64().bytes.__doc__.split(\"\\n\")[7:9])) # method bytes - attr __doc__ - access"
   ]
  },
  {
   "cell_type": "markdown",
   "metadata": {},
   "source": [
    "###### 2.4.3 - Return - str"
   ]
  },
  {
   "cell_type": "markdown",
   "metadata": {},
   "source": [
    "- name - ``nByte`` - string returned of length parameter - ``length`` [\n",
    "[...] Anaconda - \"numpy.random.Generator.bytes,\" Docstring, June 2020.\n",
    "]"
   ]
  },
  {
   "cell_type": "code",
   "execution_count": 134,
   "metadata": {},
   "outputs": [
    {
     "data": {
      "text/plain": [
       "b'\\x95p'"
      ]
     },
     "execution_count": 134,
     "metadata": {},
     "output_type": "execute_result"
    }
   ],
   "source": [
    "nBytes"
   ]
  },
  {
   "cell_type": "code",
   "execution_count": 135,
   "metadata": {},
   "outputs": [
    {
     "data": {
      "text/plain": [
       "2"
      ]
     },
     "execution_count": 135,
     "metadata": {},
     "output_type": "execute_result"
    }
   ],
   "source": [
    "len(nBytes)"
   ]
  },
  {
   "cell_type": "code",
   "execution_count": 136,
   "metadata": {},
   "outputs": [
    {
     "name": "stdout",
     "output_type": "stream",
     "text": [
      "        Returns\n",
      "        -------\n",
      "        out : str\n",
      "            String of length `length`.\n"
     ]
    }
   ],
   "source": [
    "# package numpy - subpackage random - object Generator - method default_rng alias newGenBitGenPCG64 - instantiate\n",
    "print(\"\\n\".join(newGenBitGenPCG64().bytes.__doc__.split(\"\\n\")[10:14])) # method bytes - attr __doc__ - access"
   ]
  },
  {
   "cell_type": "markdown",
   "metadata": {},
   "source": [
    "##### 2.5.0 - Use - Simple Random Data - numpy.random.Generator.shuffle"
   ]
  },
  {
   "cell_type": "markdown",
   "metadata": {},
   "source": [
    "- sorting algorithms arrange items according to some pre-defined ordering rules - the in-place property for such algorithm is desirable given it uses a fixed additional amount of working space independent of the input size [\n",
    "[...] P. Mannion, \"Computational Thinking with Algorithms - Sorting,\" GMIT, Februart 2017.\n",
    "] - uses the same memory that contains the input data - transforming said input data in-place [\n",
    "[...] GeeksForGeeks, \"In-Place Algorithm,\" [geeksforgeeks](https://web.archive.org/web/20201120123410/https://www.geeksforgeeks.org/in-place-algorithm), July 2019.\n",
    "]"
   ]
  },
  {
   "cell_type": "markdown",
   "metadata": {},
   "source": [
    "- shuffle - arranges a collection of items by shuffling its contents - exhibits the in-place property - the contents of the collection remain - its only the order of the items that change - no new object is created [\n",
    "[...] Anaconda - \"numpy.random.Generator.shuffle,\" Docstring, June 2020.\n",
    "]"
   ]
  },
  {
   "cell_type": "code",
   "execution_count": 137,
   "metadata": {},
   "outputs": [
    {
     "name": "stdout",
     "output_type": "stream",
     "text": [
      "        Modify a sequence in-place by shuffling its contents.\n",
      "\n",
      "        The order of sub-arrays is changed but their contents remains the same.\n"
     ]
    }
   ],
   "source": [
    "# package numpy - subpackage random - object Generator - method default_rng alias newGenBitGenPCG64 - instantiate\n",
    "print(\"\\n\".join(newGenBitGenPCG64().shuffle.__doc__.split(\"\\n\")[3:6])) # method shuffle - attr __doc__ - access"
   ]
  },
  {
   "cell_type": "markdown",
   "metadata": {},
   "source": [
    "###### 2.5.1 - Signature"
   ]
  },
  {
   "cell_type": "code",
   "execution_count": 138,
   "metadata": {},
   "outputs": [
    {
     "name": "stdout",
     "output_type": "stream",
     "text": [
      "        shuffle(x, axis=0)\n"
     ]
    }
   ],
   "source": [
    "# package numpy - subpackage random - object Generator - method default_rng alias newGenBitGenPCG64 - instantiate\n",
    "print(\"\\n\".join(newGenBitGenPCG64().shuffle.__doc__.split(\"\\n\")[1:2])) # method shuffle - attr __doc__ - access"
   ]
  },
  {
   "cell_type": "markdown",
   "metadata": {},
   "source": [
    "###### 2.5.2 - Parameter - x"
   ]
  },
  {
   "cell_type": "markdown",
   "metadata": {},
   "source": [
    "- initialising parameter - ``x`` - compound type - ``list`` - or - ``array`` - initialising with any other compound types - ``tuple`` - ``dict`` - ``set`` - exception indicating error occurs [\n",
    "[...] Anaconda - \"numpy.random.Generator.shuffle,\" Docstring, June 2020.\n",
    "]\n",
    "\n",
    "```python\n",
    "nSet={0,1,2,3,4,5,6,7,8,9}\n",
    "newGenBitGenPCG64().shuffle(x=nSet)\n",
    "```\n",
    "```\n",
    "AxisError: axis 0 is out of bounds for array of dimension 0\n",
    "```\n",
    "\n",
    "```python\n",
    "nTuple=0,1,2,3,4,5,6,7,8,9\n",
    "newGenBitGenPCG64().shuffle(x=nTuple)\n",
    "```\n",
    "```\n",
    "TypeError: 'tuple' object does not support item assignment\n",
    "```\n",
    "\n",
    "```python\n",
    "nDict={\"one\":1,\"two\":2,\"three\":3,\"four\":4,\"five\":5}\n",
    "newGenBitGenPCG64().shuffle(x=nDict)\n",
    "```\n",
    "```\n",
    "AxisError: axis 0 is out of bounds for array of dimension 0\n",
    "```"
   ]
  },
  {
   "cell_type": "code",
   "execution_count": 139,
   "metadata": {},
   "outputs": [
    {
     "data": {
      "text/plain": [
       "[0, 1, 2, 3, 4, 5, 6, 7, 8, 9]"
      ]
     },
     "execution_count": 139,
     "metadata": {},
     "output_type": "execute_result"
    }
   ],
   "source": [
    "nList=list(range(10))\n",
    "nList"
   ]
  },
  {
   "cell_type": "code",
   "execution_count": 140,
   "metadata": {},
   "outputs": [
    {
     "data": {
      "text/plain": [
       "2169084468480"
      ]
     },
     "execution_count": 140,
     "metadata": {},
     "output_type": "execute_result"
    }
   ],
   "source": [
    "id(nList) # memory location"
   ]
  },
  {
   "cell_type": "code",
   "execution_count": 141,
   "metadata": {},
   "outputs": [],
   "source": [
    "# package numpy - subpackage random - object Generator - method default_rng alias newGenBitGenPCG64 - instantiate\n",
    "newGenBitGenPCG64().shuffle(x=nList) # method shuffle - call"
   ]
  },
  {
   "cell_type": "markdown",
   "metadata": {},
   "source": [
    "- shuffles - contents of the container - ``nList`` [\n",
    "[...] Anaconda - \"numpy.random.Generator.shuffle,\" Docstring, June 2020.\n",
    "]"
   ]
  },
  {
   "cell_type": "code",
   "execution_count": 142,
   "metadata": {},
   "outputs": [
    {
     "data": {
      "text/plain": [
       "[4, 0, 9, 3, 6, 1, 8, 2, 5, 7]"
      ]
     },
     "execution_count": 142,
     "metadata": {},
     "output_type": "execute_result"
    }
   ],
   "source": [
    "nList # shuffled list"
   ]
  },
  {
   "cell_type": "markdown",
   "metadata": {},
   "source": [
    "- same memory location as the original [\n",
    "[...] Anaconda - \"numpy.random.Generator.shuffle,\" Docstring, June 2020.\n",
    "]"
   ]
  },
  {
   "cell_type": "code",
   "execution_count": 143,
   "metadata": {},
   "outputs": [
    {
     "data": {
      "text/plain": [
       "2169084468480"
      ]
     },
     "execution_count": 143,
     "metadata": {},
     "output_type": "execute_result"
    }
   ],
   "source": [
    "id(nList) # memory location"
   ]
  },
  {
   "cell_type": "code",
   "execution_count": 144,
   "metadata": {},
   "outputs": [],
   "source": [
    "# b_T_hird_P_arty-imports\n",
    "from numpy.core import arange as arrayEvenlySpaced"
   ]
  },
  {
   "cell_type": "code",
   "execution_count": 145,
   "metadata": {},
   "outputs": [
    {
     "data": {
      "text/plain": [
       "array([0, 1, 2, 3, 4, 5, 6, 7, 8, 9])"
      ]
     },
     "execution_count": 145,
     "metadata": {},
     "output_type": "execute_result"
    }
   ],
   "source": [
    "# package numpy - subpackage core - C function arange alias arrayEvenlySpaced - call\n",
    "nArray=arrayEvenlySpaced(10)\n",
    "nArray"
   ]
  },
  {
   "cell_type": "code",
   "execution_count": 146,
   "metadata": {},
   "outputs": [
    {
     "data": {
      "text/plain": [
       "2169086111136"
      ]
     },
     "execution_count": 146,
     "metadata": {},
     "output_type": "execute_result"
    }
   ],
   "source": [
    "id(nArray) # memory location"
   ]
  },
  {
   "cell_type": "code",
   "execution_count": 147,
   "metadata": {},
   "outputs": [],
   "source": [
    "# package numpy - subpackage random - object Generator - method default_rng alias newGenBitGenPCG64 - instantiate\n",
    "newGenBitGenPCG64().shuffle(x=nArray) # method shuffle - call - equivalent"
   ]
  },
  {
   "cell_type": "markdown",
   "metadata": {},
   "source": [
    "- shuffles - contents of the container - ``nArray`` [\n",
    "[...] Anaconda - \"numpy.random.Generator.shuffle,\" Docstring, June 2020.\n",
    "]"
   ]
  },
  {
   "cell_type": "code",
   "execution_count": 148,
   "metadata": {},
   "outputs": [
    {
     "data": {
      "text/plain": [
       "array([9, 2, 8, 6, 0, 4, 7, 5, 3, 1])"
      ]
     },
     "execution_count": 148,
     "metadata": {},
     "output_type": "execute_result"
    }
   ],
   "source": [
    "nArray # shuffled 1-dimensional array"
   ]
  },
  {
   "cell_type": "markdown",
   "metadata": {},
   "source": [
    "- same memory location as the original [\n",
    "[...] Anaconda - \"numpy.random.Generator.shuffle,\" Docstring, June 2020.\n",
    "]"
   ]
  },
  {
   "cell_type": "code",
   "execution_count": 149,
   "metadata": {},
   "outputs": [
    {
     "data": {
      "text/plain": [
       "2169086111136"
      ]
     },
     "execution_count": 149,
     "metadata": {},
     "output_type": "execute_result"
    }
   ],
   "source": [
    "id(nArray) # memory location"
   ]
  },
  {
   "cell_type": "markdown",
   "metadata": {},
   "source": [
    "###### 2.5.2 - Parameter - axis"
   ]
  },
  {
   "cell_type": "markdown",
   "metadata": {},
   "source": [
    "- optional - shuffling a multi-dimensional array - supported only on container object - ``ndarray`` - not supported on multi-dimensional lists - ``nList`` - exception indicating error occurs [\n",
    "[...] Anaconda - \"numpy.random.Generator.integers,\" Docstring, June 2020.\n",
    "]\n",
    "\n",
    "```python\n",
    "nList=list([[0,1,2,3,4],[5,6,7,8,9]])\n",
    "nList[0] # [0, 1, 2, 3, 4]\n",
    "nList[1] # [5, 6, 7, 8, 9]\n",
    "newGenBitGenPCG64().shuffle(x=nList,axis=1)\n",
    "```\n",
    "```\n",
    "NotImplementedError: Axis argument is only supported on ndarray objects\n",
    "```"
   ]
  },
  {
   "cell_type": "code",
   "execution_count": 150,
   "metadata": {},
   "outputs": [
    {
     "data": {
      "text/plain": [
       "numpy.ndarray"
      ]
     },
     "execution_count": 150,
     "metadata": {},
     "output_type": "execute_result"
    }
   ],
   "source": [
    "type(nArray) # supported"
   ]
  },
  {
   "cell_type": "code",
   "execution_count": 151,
   "metadata": {},
   "outputs": [],
   "source": [
    "# b_T_hird_P_arty-imports\n",
    "from numpy.core import reshape as arrayNewShape"
   ]
  },
  {
   "cell_type": "markdown",
   "metadata": {},
   "source": [
    "- changing array - ``nArray`` - dimension (Appendix D - Diagonal) - 2-dimenional array - ``m*n`` - ``2x5`` - visualise as two rows and five columns - same contents as the original [\n",
    "[...] Anaconda - \"numpy.random.Generator.shuffle,\" Docstring, June 2020.\n",
    "][\n",
    "[...] Math Is Fun, \"Diagonal,\", [mathsisfun](https://web.archive.org/web/20201118085013/https://www.mathsisfun.com/definitions/diagonal.html), November 2012.\n",
    "][\n",
    "[...] kmario23, \"what does numpy ndarray shape do?,\" [stackoverflow](https://web.archive.org/web/20201117074506/https://stackoverflow.com/questions/47564495/what-does-numpy-ndarray-shape-do), November 2017.\n",
    "][\n",
    "[...] praneethharsha10, \"Multidimensional Arrays in Java,\" [geeksforgeeks](https://web.archive.org/web/20201118090649/https://www.geeksforgeeks.org/multidimensional-arrays-in-java), May 2020.\n",
    "]"
   ]
  },
  {
   "cell_type": "code",
   "execution_count": 152,
   "metadata": {},
   "outputs": [
    {
     "data": {
      "text/plain": [
       "array([9, 2, 8, 6, 0, 4, 7, 5, 3, 1])"
      ]
     },
     "execution_count": 152,
     "metadata": {},
     "output_type": "execute_result"
    }
   ],
   "source": [
    "nArray # 1-dimensional - shuffled"
   ]
  },
  {
   "cell_type": "markdown",
   "metadata": {},
   "source": [
    "- reset container - ``nArray`` [\n",
    "[...] No Reference.\n",
    "]"
   ]
  },
  {
   "cell_type": "code",
   "execution_count": 153,
   "metadata": {},
   "outputs": [
    {
     "data": {
      "text/plain": [
       "array([0, 1, 2, 3, 4, 5, 6, 7, 8, 9])"
      ]
     },
     "execution_count": 153,
     "metadata": {},
     "output_type": "execute_result"
    }
   ],
   "source": [
    "# package numpy - subpackage core - C function arange alias arrayEvenlySpaced - call\n",
    "nArray=arrayEvenlySpaced(10)\n",
    "nArray"
   ]
  },
  {
   "cell_type": "code",
   "execution_count": 154,
   "metadata": {},
   "outputs": [],
   "source": [
    "# package numpy - subpackage core - C function reshape alias arrayNewShape - call\n",
    "nArray=arrayNewShape(nArray,(2,5))"
   ]
  },
  {
   "cell_type": "code",
   "execution_count": 155,
   "metadata": {},
   "outputs": [
    {
     "data": {
      "text/plain": [
       "array([[0, 1, 2, 3, 4],\n",
       "       [5, 6, 7, 8, 9]])"
      ]
     },
     "execution_count": 155,
     "metadata": {},
     "output_type": "execute_result"
    }
   ],
   "source": [
    "nArray # 2-dimensional array"
   ]
  },
  {
   "cell_type": "code",
   "execution_count": 156,
   "metadata": {},
   "outputs": [],
   "source": [
    "# package numpy - subpackage random - object Generator - method default_rng alias newGenBitGenPCG64 - instantiate\n",
    "newGenBitGenPCG64().shuffle(x=nArray) # method shuffle - call"
   ]
  },
  {
   "cell_type": "code",
   "execution_count": 157,
   "metadata": {},
   "outputs": [
    {
     "data": {
      "text/plain": [
       "array([[5, 6, 7, 8, 9],\n",
       "       [0, 1, 2, 3, 4]])"
      ]
     },
     "execution_count": 157,
     "metadata": {},
     "output_type": "execute_result"
    }
   ],
   "source": [
    "nArray # 2-dimensional array"
   ]
  },
  {
   "cell_type": "markdown",
   "metadata": {},
   "source": [
    "- shuffle take place on parameter - ``x`` - default - ``0`` - ``nArray[0]`` - given container - ``nArray`` - reshaped - two rows - five column - 2-dimensional - shuffles the two dimensions - ``nArray[0]`` - ``nArray[1]`` - not the contents of each actual container [\n",
    "[...] Anaconda - \"numpy.random.Generator.shuffle,\" Docstring, June 2020.\n",
    "]"
   ]
  },
  {
   "cell_type": "code",
   "execution_count": 158,
   "metadata": {},
   "outputs": [],
   "source": [
    "# package numpy - subpackage random - object Generator - method default_rng alias newGenBitGenPCG64 - instantiate\n",
    "newGenBitGenPCG64().shuffle(x=nArray,axis=0) # method shuffle - call- equivalent"
   ]
  },
  {
   "cell_type": "code",
   "execution_count": 159,
   "metadata": {},
   "outputs": [
    {
     "data": {
      "text/plain": [
       "array([5, 6, 7, 8, 9])"
      ]
     },
     "execution_count": 159,
     "metadata": {},
     "output_type": "execute_result"
    }
   ],
   "source": [
    "nArray[0] # x"
   ]
  },
  {
   "cell_type": "code",
   "execution_count": 160,
   "metadata": {},
   "outputs": [
    {
     "data": {
      "text/plain": [
       "array([0, 1, 2, 3, 4])"
      ]
     },
     "execution_count": 160,
     "metadata": {},
     "output_type": "execute_result"
    }
   ],
   "source": [
    "nArray[1] # y"
   ]
  },
  {
   "cell_type": "code",
   "execution_count": 161,
   "metadata": {},
   "outputs": [
    {
     "data": {
      "text/plain": [
       "array([[5, 6, 7, 8, 9],\n",
       "       [0, 1, 2, 3, 4]])"
      ]
     },
     "execution_count": 161,
     "metadata": {},
     "output_type": "execute_result"
    }
   ],
   "source": [
    "nArray # 2-dimensional array"
   ]
  },
  {
   "cell_type": "markdown",
   "metadata": {},
   "source": [
    "- initialising parameter - ``axis`` - ``1`` - ``nArray[1]`` - shuffles the contents of each dimension - actual items in each dimension [\n",
    "[...] Anaconda - \"numpy.random.Generator.shuffle,\" Docstring, June 2020.\n",
    "]"
   ]
  },
  {
   "cell_type": "code",
   "execution_count": 162,
   "metadata": {},
   "outputs": [],
   "source": [
    "# package numpy - subpackage random - object Generator - method default_rng alias newGenBitGenPCG64 - instantiate\n",
    "newGenBitGenPCG64().shuffle(x=nArray,axis=1) # method shuffle - call"
   ]
  },
  {
   "cell_type": "code",
   "execution_count": 163,
   "metadata": {},
   "outputs": [
    {
     "data": {
      "text/plain": [
       "array([6, 5, 7, 8, 9])"
      ]
     },
     "execution_count": 163,
     "metadata": {},
     "output_type": "execute_result"
    }
   ],
   "source": [
    "nArray[0] # x"
   ]
  },
  {
   "cell_type": "code",
   "execution_count": 164,
   "metadata": {},
   "outputs": [
    {
     "data": {
      "text/plain": [
       "array([1, 0, 2, 3, 4])"
      ]
     },
     "execution_count": 164,
     "metadata": {},
     "output_type": "execute_result"
    }
   ],
   "source": [
    "nArray[1] # y"
   ]
  },
  {
   "cell_type": "code",
   "execution_count": 165,
   "metadata": {},
   "outputs": [
    {
     "data": {
      "text/plain": [
       "array([[6, 5, 7, 8, 9],\n",
       "       [1, 0, 2, 3, 4]])"
      ]
     },
     "execution_count": 165,
     "metadata": {},
     "output_type": "execute_result"
    }
   ],
   "source": [
    "nArray # 2-dimensional array"
   ]
  },
  {
   "cell_type": "code",
   "execution_count": 166,
   "metadata": {},
   "outputs": [
    {
     "name": "stdout",
     "output_type": "stream",
     "text": [
      "        axis : int, optional\n",
      "            The axis which `x` is shuffled along. Default is 0.\n",
      "            It is only supported on `ndarray` objects.\n"
     ]
    }
   ],
   "source": [
    "# package numpy - subpackage random - object Generator - method default_rng alias newGenBitGenPCG64 - instantiate\n",
    "print(\"\\n\".join(newGenBitGenPCG64().shuffle.__doc__.split(\"\\n\")[11:14])) # method shuffle - attr __doc__ - access"
   ]
  },
  {
   "cell_type": "markdown",
   "metadata": {},
   "source": [
    "###### 2.5.3 - Return - None"
   ]
  },
  {
   "cell_type": "code",
   "execution_count": 167,
   "metadata": {},
   "outputs": [
    {
     "name": "stdout",
     "output_type": "stream",
     "text": [
      "        Returns\n",
      "        -------\n",
      "        None\n"
     ]
    }
   ],
   "source": [
    "# package numpy - subpackage random - object Generator - method default_rng alias newGenBitGenPCG64 - instantiate\n",
    "print(\"\\n\".join(newGenBitGenPCG64().shuffle.__doc__.split(\"\\n\")[15:18])) # method shuffle - attr __doc__ - access"
   ]
  },
  {
   "cell_type": "markdown",
   "metadata": {},
   "source": [
    "- collection contents remain - order of the items change - no new object is created [\n",
    "[...] Anaconda - \"numpy.random.Generator.shuffle,\" Docstring, June 2020.\n",
    "]"
   ]
  },
  {
   "cell_type": "code",
   "execution_count": 168,
   "metadata": {},
   "outputs": [
    {
     "data": {
      "text/plain": [
       "list"
      ]
     },
     "execution_count": 168,
     "metadata": {},
     "output_type": "execute_result"
    }
   ],
   "source": [
    "type(nList)"
   ]
  },
  {
   "cell_type": "code",
   "execution_count": 169,
   "metadata": {},
   "outputs": [
    {
     "data": {
      "text/plain": [
       "NoneType"
      ]
     },
     "execution_count": 169,
     "metadata": {},
     "output_type": "execute_result"
    }
   ],
   "source": [
    "# package numpy - subpackage random - object Generator - method default_rng alias newGenBitGenPCG64 - instantiate\n",
    "type(newGenBitGenPCG64().shuffle(nList)) # method shuffle - call"
   ]
  },
  {
   "cell_type": "code",
   "execution_count": 170,
   "metadata": {},
   "outputs": [
    {
     "data": {
      "text/plain": [
       "numpy.ndarray"
      ]
     },
     "execution_count": 170,
     "metadata": {},
     "output_type": "execute_result"
    }
   ],
   "source": [
    "type(nArray)"
   ]
  },
  {
   "cell_type": "code",
   "execution_count": 171,
   "metadata": {},
   "outputs": [
    {
     "data": {
      "text/plain": [
       "NoneType"
      ]
     },
     "execution_count": 171,
     "metadata": {},
     "output_type": "execute_result"
    }
   ],
   "source": [
    "# package numpy - subpackage random - object Generator - method default_rng alias newGenBitGenPCG64 - instantiate\n",
    "type(newGenBitGenPCG64().shuffle(nArray)) # method shuffle - call"
   ]
  },
  {
   "cell_type": "markdown",
   "metadata": {},
   "source": [
    "##### 2.6.0 - Use - Simple Random Data - numpy.random.Generator.permutation"
   ]
  },
  {
   "cell_type": "markdown",
   "metadata": {},
   "source": [
    "- permute a sequence randomly [\n",
    "[...] Anaconda - \"numpy.random.Generator.permutation,\" Docstring, June 2020.\n",
    "]"
   ]
  },
  {
   "cell_type": "code",
   "execution_count": 172,
   "metadata": {},
   "outputs": [
    {
     "name": "stdout",
     "output_type": "stream",
     "text": [
      "        Randomly permute a sequence, or return a permuted range.\n"
     ]
    }
   ],
   "source": [
    "# package numpy - subpackage random - object Generator - method default_rng alias newGenBitGenPCG64 - instantiate\n",
    "print(\"\\n\".join(newGenBitGenPCG64().permutation.__doc__.split(\"\\n\")[3:4])) # method permutation - attr __doc__ - access"
   ]
  },
  {
   "cell_type": "markdown",
   "metadata": {},
   "source": [
    "###### 2.6.1 - Signature"
   ]
  },
  {
   "cell_type": "code",
   "execution_count": 173,
   "metadata": {},
   "outputs": [
    {
     "name": "stdout",
     "output_type": "stream",
     "text": [
      "        permutation(x, axis=0)\n"
     ]
    }
   ],
   "source": [
    "# package numpy - subpackage random - object Generator - method default_rng alias newGenBitGenPCG64 - instantiate\n",
    "print(\"\\n\".join(newGenBitGenPCG64().permutation.__doc__.split(\"\\n\")[1:2])) # method permutation - attr __doc__ - access"
   ]
  },
  {
   "cell_type": "markdown",
   "metadata": {},
   "source": [
    "###### 2.6.2 - Parameter - x"
   ]
  },
  {
   "cell_type": "markdown",
   "metadata": {},
   "source": [
    "- initialising parameter - ``x`` - simple type - ``int`` - compound type - ``tuple`` - or - ``list`` - or - ``array``  [\n",
    "[...] Anaconda - \"numpy.random.Generator.shuffle,\" Docstring, June 2020.\n",
    "]"
   ]
  },
  {
   "cell_type": "markdown",
   "metadata": {},
   "source": [
    "- initialising with any other compound types - ``set`` - ``dict`` - exception indicating error occurs [\n",
    "[...] Anaconda - \"numpy.random.Generator.shuffle,\" Docstring, June 2020.\n",
    "]\n",
    "\n",
    "```python\n",
    "nSet={0,1,2,3,4,5}\n",
    "newGenBitGenPCG64().permutation(x=nSet)\n",
    "```\n",
    "```\n",
    "AxisError: axis 0 is out of bounds for array of dimension 0\n",
    "```\n",
    "\n",
    "```python\n",
    "nDict={\"one\":1,\"two\":2,\"three\":3,\"four\":4,\"five\":5}\n",
    "newGenBitGenPCG64().permutation(x=nDict)\n",
    "```\n",
    "```\n",
    "AxisError: axis 0 is out of bounds for array of dimension 0\n",
    "```"
   ]
  },
  {
   "cell_type": "markdown",
   "metadata": {},
   "source": [
    "- initialising parameter - ``x`` - name - ``nInt`` [\n",
    "[...] No Reference.\n",
    "]"
   ]
  },
  {
   "cell_type": "code",
   "execution_count": 174,
   "metadata": {},
   "outputs": [
    {
     "name": "stdout",
     "output_type": "stream",
     "text": [
      "<value>        : 3\n",
      "<type>         : <class 'int'>\n"
     ]
    }
   ],
   "source": [
    "nInt=3\n",
    "print(\"<value>        : {}\".format(nInt))\n",
    "print(\"<type>         : {}\".format(type(nInt)))"
   ]
  },
  {
   "cell_type": "markdown",
   "metadata": {},
   "source": [
    "- effectively passing the argument - ``nInt`` - as a parameter to the numpy function - ``arange`` [\n",
    "[...] Anaconda - \"numpy.random.Generator.permutation,\" Docstring, June 2020.\n",
    "]"
   ]
  },
  {
   "cell_type": "code",
   "execution_count": 175,
   "metadata": {},
   "outputs": [
    {
     "data": {
      "text/plain": [
       "array([0, 1, 2])"
      ]
     },
     "execution_count": 175,
     "metadata": {},
     "output_type": "execute_result"
    }
   ],
   "source": [
    "# package numpy - subpackage core - C function arange alias arrayEvenlySpaced - call\n",
    "arrayEvenlySpaced(3) # equivalent of passing argument - name - nInt"
   ]
  },
  {
   "cell_type": "code",
   "execution_count": 176,
   "metadata": {},
   "outputs": [],
   "source": [
    "# a_S_tandard_L_ibrary-imports\n",
    "from itertools import permutations as perm"
   ]
  },
  {
   "cell_type": "code",
   "execution_count": 177,
   "metadata": {},
   "outputs": [
    {
     "name": "stdout",
     "output_type": "stream",
     "text": [
      "Return successive r-length permutations of elements in the iterable.\n"
     ]
    }
   ],
   "source": [
    "# module itertools - function permutations alias perm - attribute __doc__ - access\n",
    "print(\"\\n\".join(perm.__doc__.split(\"\\n\")[0:1]))"
   ]
  },
  {
   "cell_type": "markdown",
   "metadata": {},
   "source": [
    "- permutations of elements - container - ``[0,1,2]`` [\n",
    "[...] Anaconda - \"itertools.permutations,\" Docstring, June 2020.\n",
    "]"
   ]
  },
  {
   "cell_type": "code",
   "execution_count": 178,
   "metadata": {},
   "outputs": [
    {
     "name": "stdout",
     "output_type": "stream",
     "text": [
      "(0, 1, 2) (0, 2, 1) (1, 0, 2) (1, 2, 0) (2, 0, 1) (2, 1, 0)\n"
     ]
    }
   ],
   "source": [
    "# package numpy - subpackage core - C function arange alias arrayEvenlySpaced - call\n",
    "print(*perm(arrayEvenlySpaced(3))) # module itertools - function permutations alias perm - call"
   ]
  },
  {
   "cell_type": "code",
   "execution_count": 179,
   "metadata": {},
   "outputs": [
    {
     "name": "stdout",
     "output_type": "stream",
     "text": [
      "<permutations> : 6\n"
     ]
    }
   ],
   "source": [
    "print(\"<permutations> : {}\".format(len(list(perm(arrayEvenlySpaced(3))))))"
   ]
  },
  {
   "cell_type": "markdown",
   "metadata": {},
   "source": [
    "- permute randomly - array of evenly spaced values - ``nInt`` - argument passed as a numpy object - ``ndarry`` - unique random permutations - ``6`` [\n",
    "[...] Anaconda - \"numpy.random.Generator.permutation,\" Docstring, June 2020.\n",
    "]"
   ]
  },
  {
   "cell_type": "code",
   "execution_count": 180,
   "metadata": {},
   "outputs": [
    {
     "data": {
      "text/plain": [
       "array([2, 1, 0])"
      ]
     },
     "execution_count": 180,
     "metadata": {},
     "output_type": "execute_result"
    }
   ],
   "source": [
    "# package numpy - subpackage random - object Generator - method default_rng alias newGenBitGenPCG64 - instantiate\n",
    "newGenBitGenPCG64().permutation(x=nInt) # method permutation - call"
   ]
  },
  {
   "cell_type": "code",
   "execution_count": 181,
   "metadata": {},
   "outputs": [
    {
     "name": "stdout",
     "output_type": "stream",
     "text": [
      "<int>          : 3\n",
      "<type>         : <class 'int'>\n"
     ]
    }
   ],
   "source": [
    "print(\"<int>          : %d\"%nInt)\n",
    "print(\"<type>         : %s\"%type(nInt))"
   ]
  },
  {
   "cell_type": "code",
   "execution_count": 182,
   "metadata": {},
   "outputs": [
    {
     "data": {
      "text/plain": [
       "array([2, 1, 0])"
      ]
     },
     "execution_count": 182,
     "metadata": {},
     "output_type": "execute_result"
    }
   ],
   "source": [
    "# package numpy - subpackage random - object Generator - method default_rng alias newGenBitGenPCG64 - instantiate\n",
    "newGenBitGenPCG64().permutation(nInt) # method permutation - call - equivalent"
   ]
  },
  {
   "cell_type": "code",
   "execution_count": 183,
   "metadata": {},
   "outputs": [
    {
     "name": "stdout",
     "output_type": "stream",
     "text": [
      "<container>    : (1, 2)\n",
      "<type>         : <class 'tuple'>\n"
     ]
    }
   ],
   "source": [
    "nTuple=1,2\n",
    "print(\"<container>    : \",end=\"\")\n",
    "print(nTuple)\n",
    "print(\"<type>         : %s\"%type(nTuple))"
   ]
  },
  {
   "cell_type": "code",
   "execution_count": 184,
   "metadata": {},
   "outputs": [
    {
     "name": "stdout",
     "output_type": "stream",
     "text": [
      "(1, 2) (2, 1)\n"
     ]
    }
   ],
   "source": [
    "# package numpy - subpackage core - C function arange alias arrayEvenlySpaced - call\n",
    "print(*perm(nTuple)) # module itertools - function permutations alias perm - call"
   ]
  },
  {
   "cell_type": "code",
   "execution_count": 185,
   "metadata": {},
   "outputs": [
    {
     "name": "stdout",
     "output_type": "stream",
     "text": [
      "<permutations> : 2\n"
     ]
    }
   ],
   "source": [
    "print(\"<permutations> : {}\".format(len(list(perm(nTuple)))))"
   ]
  },
  {
   "cell_type": "markdown",
   "metadata": {},
   "source": [
    "- permute randomly - contents of the container - ``nTuple`` - unique random permutations - ``2`` [\n",
    "[...] Anaconda - \"numpy.random.Generator.permutation,\" Docstring, June 2020.\n",
    "]"
   ]
  },
  {
   "cell_type": "code",
   "execution_count": 186,
   "metadata": {},
   "outputs": [
    {
     "data": {
      "text/plain": [
       "array([2, 1])"
      ]
     },
     "execution_count": 186,
     "metadata": {},
     "output_type": "execute_result"
    }
   ],
   "source": [
    "# package numpy - subpackage random - object Generator - method default_rng alias newGenBitGenPCG64 - instantiate\n",
    "newGenBitGenPCG64().permutation(nTuple) # method permutation - call - equivalent"
   ]
  },
  {
   "cell_type": "code",
   "execution_count": 187,
   "metadata": {},
   "outputs": [
    {
     "name": "stdout",
     "output_type": "stream",
     "text": [
      "<container>    : [0, 1, 2, 3]\n",
      "<type>         : <class 'list'>\n"
     ]
    }
   ],
   "source": [
    "nList=list(range(4))\n",
    "print(\"<container>    : \",end=\"\")\n",
    "print(nList)\n",
    "print(\"<type>         : %s\"%type(nList))"
   ]
  },
  {
   "cell_type": "code",
   "execution_count": 188,
   "metadata": {},
   "outputs": [
    {
     "name": "stdout",
     "output_type": "stream",
     "text": [
      "(0, 1, 2, 3) (0, 1, 3, 2) (0, 2, 1, 3) (0, 2, 3, 1) (0, 3, 1, 2) (0, 3, 2, 1) (1, 0, 2, 3) (1, 0, 3, 2) (1, 2, 0, 3) (1, 2, 3, 0) (1, 3, 0, 2) (1, 3, 2, 0) (2, 0, 1, 3) (2, 0, 3, 1) (2, 1, 0, 3) (2, 1, 3, 0) (2, 3, 0, 1) (2, 3, 1, 0) (3, 0, 1, 2) (3, 0, 2, 1) (3, 1, 0, 2) (3, 1, 2, 0) (3, 2, 0, 1) (3, 2, 1, 0)\n"
     ]
    }
   ],
   "source": [
    "# package numpy - subpackage core - C function arange alias arrayEvenlySpaced - call\n",
    "print(*perm(nList)) # module itertools - function permutations alias perm - call"
   ]
  },
  {
   "cell_type": "code",
   "execution_count": 189,
   "metadata": {},
   "outputs": [
    {
     "name": "stdout",
     "output_type": "stream",
     "text": [
      "<permutations> : 24\n"
     ]
    }
   ],
   "source": [
    "print(\"<permutations> : {}\".format(len(list(perm(nList)))))"
   ]
  },
  {
   "cell_type": "markdown",
   "metadata": {},
   "source": [
    "- permute randomly - contents of the container - ``nList`` - unique random permutations - ``24`` [\n",
    "[...] Anaconda - \"numpy.random.Generator.permutation,\" Docstring, June 2020.\n",
    "]"
   ]
  },
  {
   "cell_type": "code",
   "execution_count": 190,
   "metadata": {},
   "outputs": [
    {
     "data": {
      "text/plain": [
       "array([3, 1, 2, 0])"
      ]
     },
     "execution_count": 190,
     "metadata": {},
     "output_type": "execute_result"
    }
   ],
   "source": [
    "# package numpy - subpackage random - object Generator - method default_rng alias newGenBitGenPCG64 - instantiate\n",
    "newGenBitGenPCG64().permutation(nList) # method permutation - call - equivalent"
   ]
  },
  {
   "cell_type": "code",
   "execution_count": 191,
   "metadata": {},
   "outputs": [
    {
     "name": "stdout",
     "output_type": "stream",
     "text": [
      "        x : int or array_like\n",
      "            If `x` is an integer, randomly permute ``np.arange(x)``.\n",
      "            If `x` is an array, make a copy and shuffle the elements\n",
      "            randomly.\n"
     ]
    }
   ],
   "source": [
    "# package numpy - subpackage random - object Generator - method default_rng alias newGenBitGenPCG64 - instantiate\n",
    "print(\"\\n\".join(newGenBitGenPCG64().permutation.__doc__.split(\"\\n\")[7:11])) # method permutation - attr __doc__ - access"
   ]
  },
  {
   "cell_type": "markdown",
   "metadata": {},
   "source": [
    "###### 2.6.2 - Parameter - axis"
   ]
  },
  {
   "cell_type": "markdown",
   "metadata": {},
   "source": [
    "- parameter - ``axis`` - similar to method - ``shuffle`` - parameter - ``axis`` [\n",
    "[...] Anaconda - \"numpy.random.Generator.permutation,\" Docstring, June 2020.\n",
    "][\n",
    "[...] Anaconda - \"numpy.random.Generator.shuffle,\" Docstring, June 2020.\n",
    "]"
   ]
  },
  {
   "cell_type": "code",
   "execution_count": 192,
   "metadata": {},
   "outputs": [
    {
     "name": "stdout",
     "output_type": "stream",
     "text": [
      "        axis : int, optional\n",
      "            The axis which `x` is shuffled along. Default is 0.\n",
      "            It is only supported on `ndarray` objects.\n"
     ]
    }
   ],
   "source": [
    "# package numpy - subpackage random - object Generator - method default_rng alias newGenBitGenPCG64 - instantiate\n",
    "print(\"\\n\".join(newGenBitGenPCG64().shuffle.__doc__.split(\"\\n\")[11:14])) # method shuffle - attr __doc__ - access"
   ]
  },
  {
   "cell_type": "markdown",
   "metadata": {},
   "source": [
    "- method - ``shuffle`` - parameter - ``axis`` - supports only container object - ``ndarray`` [\n",
    "[...] Anaconda - \"numpy.random.Generator.shuffle,\" Docstring, June 2020.\n",
    "]"
   ]
  },
  {
   "cell_type": "markdown",
   "metadata": {},
   "source": [
    "- method - ``permutation`` - supports other container object - ``list`` [\n",
    "[...] Anaconda - \"numpy.random.Generator.permutation,\" Docstring, June 2020.\n"
   ]
  },
  {
   "cell_type": "code",
   "execution_count": 193,
   "metadata": {},
   "outputs": [
    {
     "name": "stdout",
     "output_type": "stream",
     "text": [
      "<container>    : [[0, 1], [5, 6]]\n",
      "<type>         : <class 'list'>\n"
     ]
    }
   ],
   "source": [
    "nListObj=list([[0,1],[5,6]])\n",
    "print(\"<container>    : \",end=\"\")\n",
    "print(nListObj)\n",
    "print(\"<type>         : %s\"%type(nListObj))"
   ]
  },
  {
   "cell_type": "code",
   "execution_count": 194,
   "metadata": {},
   "outputs": [
    {
     "data": {
      "text/plain": [
       "[0, 1]"
      ]
     },
     "execution_count": 194,
     "metadata": {},
     "output_type": "execute_result"
    }
   ],
   "source": [
    "nListObj[0] # x"
   ]
  },
  {
   "cell_type": "code",
   "execution_count": 195,
   "metadata": {},
   "outputs": [
    {
     "data": {
      "text/plain": [
       "[5, 6]"
      ]
     },
     "execution_count": 195,
     "metadata": {},
     "output_type": "execute_result"
    }
   ],
   "source": [
    "nListObj[1] # y"
   ]
  },
  {
   "cell_type": "code",
   "execution_count": 196,
   "metadata": {},
   "outputs": [
    {
     "data": {
      "text/plain": [
       "array([[0, 1],\n",
       "       [5, 6]])"
      ]
     },
     "execution_count": 196,
     "metadata": {},
     "output_type": "execute_result"
    }
   ],
   "source": [
    "# package numpy - subpackage random - object Generator - method default_rng alias newGenBitGenPCG64 - instantiate\n",
    "newGenBitGenPCG64().permutation(x=nListObj,axis=1) # method permutation - call"
   ]
  },
  {
   "cell_type": "code",
   "execution_count": 197,
   "metadata": {},
   "outputs": [
    {
     "name": "stdout",
     "output_type": "stream",
     "text": [
      "        axis : int, optional\n",
      "            The axis which `x` is shuffled along. Default is 0.\n"
     ]
    }
   ],
   "source": [
    "# package numpy - subpackage random - object Generator - method default_rng alias newGenBitGenPCG64 - instantiate\n",
    "print(\"\\n\".join(newGenBitGenPCG64().permutation.__doc__.split(\"\\n\")[11:13])) # method permutation - attr __doc__ - access"
   ]
  },
  {
   "cell_type": "markdown",
   "metadata": {},
   "source": [
    "###### 2.6.3 - Return - ndarry"
   ]
  },
  {
   "cell_type": "markdown",
   "metadata": {},
   "source": [
    "- default return type - numpy array - ``ndarray`` [\n",
    "[...] Anaconda - \"numpy.random.Generator.permutation,\" Docstring, June 2020.\n",
    "]"
   ]
  },
  {
   "cell_type": "code",
   "execution_count": 198,
   "metadata": {},
   "outputs": [
    {
     "data": {
      "text/plain": [
       "numpy.ndarray"
      ]
     },
     "execution_count": 198,
     "metadata": {},
     "output_type": "execute_result"
    }
   ],
   "source": [
    "type(newGenBitGenPCG64().permutation(nInt))"
   ]
  },
  {
   "cell_type": "code",
   "execution_count": 199,
   "metadata": {},
   "outputs": [
    {
     "data": {
      "text/plain": [
       "numpy.ndarray"
      ]
     },
     "execution_count": 199,
     "metadata": {},
     "output_type": "execute_result"
    }
   ],
   "source": [
    "type(newGenBitGenPCG64().permutation(nTuple))"
   ]
  },
  {
   "cell_type": "code",
   "execution_count": 200,
   "metadata": {},
   "outputs": [
    {
     "data": {
      "text/plain": [
       "numpy.ndarray"
      ]
     },
     "execution_count": 200,
     "metadata": {},
     "output_type": "execute_result"
    }
   ],
   "source": [
    "type(newGenBitGenPCG64().permutation(nList))"
   ]
  },
  {
   "cell_type": "code",
   "execution_count": 201,
   "metadata": {},
   "outputs": [
    {
     "data": {
      "text/plain": [
       "numpy.ndarray"
      ]
     },
     "execution_count": 201,
     "metadata": {},
     "output_type": "execute_result"
    }
   ],
   "source": [
    "type(newGenBitGenPCG64().permutation(nListObj))"
   ]
  },
  {
   "cell_type": "code",
   "execution_count": 202,
   "metadata": {},
   "outputs": [
    {
     "name": "stdout",
     "output_type": "stream",
     "text": [
      "        Returns\n",
      "        -------\n",
      "        out : ndarray\n",
      "            Permuted sequence or array range.\n"
     ]
    }
   ],
   "source": [
    "# package numpy - subpackage random - object Generator - method default_rng alias newGenBitGenPCG64 - instantiate\n",
    "print(\"\\n\".join(newGenBitGenPCG64().permutation.__doc__.split(\"\\n\")[14:18])) # method permutation - attr __doc__ - access"
   ]
  },
  {
   "cell_type": "markdown",
   "metadata": {},
   "source": [
    "## Task 3"
   ]
  },
  {
   "cell_type": "markdown",
   "metadata": {},
   "source": [
    "###### Prerequisite - Probability Distributions\n",
    "***"
   ]
  },
  {
   "cell_type": "markdown",
   "metadata": {},
   "source": [
    "- classified - discrete probability distributions - or - continuous probability distributions - depend on whether the array/distribution define probabilities associated with variables that are either - discrete - continuous [\n",
    "[...] StarTrek, \"Probability Distributions: Discrete vs. Continuous,\" [startrek](https://web.archive.org/web/20201106155243/https://stattrek.com/probability-distributions/discrete-continuous.aspx), November 2015.\n",
    "]"
   ]
  },
  {
   "cell_type": "markdown",
   "metadata": {},
   "source": [
    "> Discrete Variables"
   ]
  },
  {
   "cell_type": "markdown",
   "metadata": {},
   "source": [
    "- discrete variables - countable in a finite amount of time - count the change in a wallet - count the money in a bank account - count amount of money in everyones bank account [\n",
    "[...] Statistics How To, \"Discrete vs Continuous variables: How to Tell the Difference,\" [statisticshowto](https://web.archive.org/web/20201108073006/https://www.statisticshowto.com/probability-and-statistics/statistics-definitions/discrete-vs-continuous-variables), November 2013.\n",
    "] "
   ]
  },
  {
   "cell_type": "markdown",
   "metadata": {},
   "source": [
    "- real-world - flip a coin - count number of heads - the count could be any integer value between ``0`` and plus - $\\infty$ - ``infinity`` - not possible to get 2.5 heads [\n",
    "[...] StarTrek, \"Probability Distributions: Discrete vs. Continuous,\" [startrek](https://web.archive.org/web/20201106155243/https://stattrek.com/probability-distributions/discrete-continuous.aspx), November 2015.\n",
    "]\n",
    "\n",
    "\n",
    "- $\\infty$ - adjective - refer to the quality of being boundless - infinitely small - infinitely close - describing an object whose quantity or limit is larger than any natural number or real number [\n",
    "[...] Math Vault, \"The Definitive Glossary of Higher Mathematical Jargon,\" [mathvault](https://web.archive.org/web/20201108073635/https://mathvault.ca/math-glossary/#infinite), October 2019.\n",
    "] "
   ]
  },
  {
   "cell_type": "markdown",
   "metadata": {},
   "source": [
    "- although counting the last item - $\\infty$ - discrete variables are still countable [\n",
    "[...] Statistics How To, \"Discrete vs Continuous variables: How to Tell the Difference,\" [statisticshowto](https://web.archive.org/web/20201108073006/https://www.statisticshowto.com/probability-and-statistics/statistics-definitions/discrete-vs-continuous-variables), November 2013.\n",
    "]"
   ]
  },
  {
   "cell_type": "code",
   "execution_count": 203,
   "metadata": {},
   "outputs": [],
   "source": [
    "# b_T_hird_P_arty-imports\n",
    "from matplotlib.pyplot import plot as p\n",
    "from matplotlib.style.core import use as u\n",
    "# package matplotlib - subpackage style - module core - function use alias u - call\n",
    "u(\"default\")"
   ]
  },
  {
   "cell_type": "code",
   "execution_count": 204,
   "metadata": {},
   "outputs": [],
   "source": [
    "nInfinity=4"
   ]
  },
  {
   "cell_type": "markdown",
   "metadata": {},
   "source": [
    "- discrete variables on a scatter plot - individual points [\n",
    "[...] CK-12 Foundation, \"Basic Graph Types,\" [ck-12](http://web.archive.org/web/20201108091523/https://www.ck12.org/statistics/graphs-for-discrete-and-for-continuous-data/lesson/Basic-Graph-Types-BSC-PST), July 2013.\n",
    "]"
   ]
  },
  {
   "cell_type": "code",
   "execution_count": 205,
   "metadata": {},
   "outputs": [
    {
     "data": {
      "image/png": "[encoded data removed]",
      "text/plain": [
       "<Figure size 640x480 with 1 Axes>"
      ]
     },
     "metadata": {},
     "output_type": "display_data"
    }
   ],
   "source": [
    "# package matplotlib - module pyplot - function plot alias p - call\n",
    "p([1,2,3,nInfinity],\"b.\");"
   ]
  },
  {
   "cell_type": "markdown",
   "metadata": {},
   "source": [
    "> Continuous Variables"
   ]
  },
  {
   "cell_type": "markdown",
   "metadata": {},
   "source": [
    "- continuous variables - literally take forever to count - cannot count age - time is a continuous variable - take forever to count - never finish counting - can turn a continuous variable - age - into a discrete variable in order to be able to count it - taking persons age in years or months [\n",
    "[...] Statistics How To, \"Discrete vs Continuous variables: How to Tell the Difference,\" [statisticshowto](https://web.archive.org/web/20201108073006/https://www.statisticshowto.com/probability-and-statistics/statistics-definitions/discrete-vs-continuous-variables), November 2013.\n",
    "] "
   ]
  },
  {
   "cell_type": "markdown",
   "metadata": {},
   "source": [
    "- real-world - fire department recruitment requirement - fire fighters must weigh between ``70kgs`` and ``110kgs`` - weight of the fire fighter is a continuous variable since weight could take on any value between ``70kgs`` and ``110kgs`` [\n",
    "[...] StarTrek, \"Probability Distributions: Discrete vs. Continuous,\" [startrek](https://web.archive.org/web/20201106155243/https://stattrek.com/probability-distributions/discrete-continuous.aspx), November 2015.\n",
    "]"
   ]
  },
  {
   "cell_type": "code",
   "execution_count": 206,
   "metadata": {},
   "outputs": [],
   "source": [
    "# b_T_hird_P_arty-imports\n",
    "from matplotlib.pyplot import legend as lgd\n",
    "from numpy.core import arange as arrayEvenlySpaced"
   ]
  },
  {
   "cell_type": "markdown",
   "metadata": {},
   "source": [
    "- continuous variables on a scatter plot - points connected via line [\n",
    "[...] CK-12 Foundation, \"Basic Graph Types,\" [ck-12](http://web.archive.org/web/20201108091523/https://www.ck12.org/statistics/graphs-for-discrete-and-for-continuous-data/lesson/Basic-Graph-Types-BSC-PST), July 2013.\n",
    "]"
   ]
  },
  {
   "cell_type": "code",
   "execution_count": 207,
   "metadata": {},
   "outputs": [],
   "source": [
    "# package numpy - subpackage core - C function arange alias arrayEvenlySpaced - call\n",
    "nX=arrayEvenlySpaced(1.0,10.0,0.1)"
   ]
  },
  {
   "cell_type": "code",
   "execution_count": 208,
   "metadata": {},
   "outputs": [
    {
     "data": {
      "image/png": "[encoded data removed]",
      "text/plain": [
       "<Figure size 640x480 with 1 Axes>"
      ]
     },
     "metadata": {},
     "output_type": "display_data"
    }
   ],
   "source": [
    "# package matplotlib - module pyplot - function plot alias p - call\n",
    "p(2**nX,\"b-\",label=\"2^x\")\n",
    "# package matplotlib - module - pyplot - function legend alias ldg - call\n",
    "lgd();"
   ]
  },
  {
   "cell_type": "markdown",
   "metadata": {},
   "source": [
    "###### Explain the use and purpose of at least five “Distributions” functions.\n",
    "***"
   ]
  },
  {
   "cell_type": "markdown",
   "metadata": {},
   "source": [
    "- endeavour to split the task between - continuous probability distributions - discrete probability distributions [\n",
    "[...] No Reference.\n",
    "]"
   ]
  },
  {
   "cell_type": "code",
   "execution_count": 209,
   "metadata": {},
   "outputs": [],
   "source": [
    "# b_T_hird_P_arty-imports\n",
    "from numpy.random import default_rng as newGenBitGenPCG64"
   ]
  },
  {
   "cell_type": "markdown",
   "metadata": {},
   "source": [
    "- taking random sample - data could be arranged such that its spread out in many different ways - more on the left - more on the right - all jumbled up [\n",
    "[...] Math Is Fun, \"Normal Distribution,\" [mathisfun](https://web.archive.org/web/20201106104058/https://www.mathsisfun.com/data/standard-normal-distribution.html), November 2014.\n",
    "]"
   ]
  },
  {
   "cell_type": "markdown",
   "metadata": {},
   "source": [
    "<img src=\"img/distribution-normal-spread-left-right-jumbled.png\" />\n",
    "\n",
    "***Math Is Fun, \"Normal Distribution,\" [mathisfun](https://web.archive.org/web/20201106104058/https://www.mathsisfun.com/data/standard-normal-distribution.html), November 2014.***"
   ]
  },
  {
   "cell_type": "markdown",
   "metadata": {},
   "source": [
    "> Continuous Probability Distributions"
   ]
  },
  {
   "cell_type": "markdown",
   "metadata": {},
   "source": [
    ">> Normal Distribution - numpy.random.Generator.normal"
   ]
  },
  {
   "cell_type": "markdown",
   "metadata": {},
   "source": [
    "- many cases - data tends to be around a central value with no bias - left or right - gets close to a normal distribtion - often called bell curve because of its shape [\n",
    "[...] Math Is Fun, \"Normal Distribution,\" [mathisfun](https://web.archive.org/web/20201106104058/https://www.mathsisfun.com/data/standard-normal-distribution.html), November 2014.\n",
    "][\n",
    "[...] Anaconda - \"numpy/random,\" Docstring, June 2020.\n",
    "]"
   ]
  },
  {
   "cell_type": "markdown",
   "metadata": {},
   "source": [
    "<img src=\"img/distribution-normal-spread-bell-curve.png\" />\n",
    "\n",
    "***Math Is Fun, \"Normal Distribution,\" [mathisfun](https://web.archive.org/web/20201106104058/https://www.mathsisfun.com/data/standard-normal-distribution.html), November 2014.***"
   ]
  },
  {
   "cell_type": "code",
   "execution_count": 210,
   "metadata": {},
   "outputs": [
    {
     "name": "stdout",
     "output_type": "stream",
     "text": [
      "        Draw random samples from a normal (Gaussian) distribution.\n",
      "\n",
      "        The probability density function of the normal distribution, first\n",
      "        derived by De Moivre and 200 years later by both Gauss and Laplace\n",
      "        independently [2]_, is often called the bell curve because of\n",
      "        its characteristic shape (see the example below).\n",
      "\n"
     ]
    }
   ],
   "source": [
    "# package numpy - subpackage random - object Generator - method default_rng alias newGenBitGenPCG64 - instantiate\n",
    "print(\"\\n\".join(newGenBitGenPCG64().normal.__doc__.split(\"\\n\")[3:10])) # method normal - attr __doc__ - access"
   ]
  },
  {
   "cell_type": "markdown",
   "metadata": {},
   "source": [
    "- nature - things such as - heights of people - size of things produced by machines - errors in measurements - blood pressure - marks on a test - follow a normal distribution - describes samples influenced by unplanned interferences - each having its own distinctive arrangement [\n",
    "[...] Math Is Fun, \"Normal Distribution,\" [mathisfun](https://web.archive.org/web/20201106104058/https://www.mathsisfun.com/data/standard-normal-distribution.html), November 2014.\n",
    "][\n",
    "[...] Anaconda - \"numpy/random,\" Docstring, June 2020.\n",
    "]"
   ]
  },
  {
   "cell_type": "code",
   "execution_count": 211,
   "metadata": {
    "scrolled": true
   },
   "outputs": [
    {
     "name": "stdout",
     "output_type": "stream",
     "text": [
      "        The normal distributions occurs often in nature.  For example, it\n",
      "        describes the commonly occurring distribution of samples influenced\n",
      "        by a large number of tiny, random disturbances, each with its own\n",
      "        unique distribution [2]_.\n",
      "\n"
     ]
    }
   ],
   "source": [
    "# package numpy - subpackage random - object Generator - method default_rng alias newGenBitGenPCG64 - instantiate\n",
    "print(\"\\n\".join(newGenBitGenPCG64().normal.__doc__.split(\"\\n\")[10:15])) # method normal - attr __doc__ - access"
   ]
  },
  {
   "cell_type": "markdown",
   "metadata": {},
   "source": [
    ">> Uniform Distribution - numpy.random.Generator.uniform"
   ]
  },
  {
   "cell_type": "markdown",
   "metadata": {},
   "source": [
    "- taking random sample - data arranged such that its completely arbitrary except that it is known to lie between certain bounds - each value is equally likely to be drawn at random [\n",
    "[...] F.M. Dekking, C. Kraaikamp, H.P. Lopuhaä, L.E. Meester, \"A Modern Introduction to Probability and Statistics Understanding Why and How,\" Springer, 2005.\n",
    "] "
   ]
  },
  {
   "cell_type": "markdown",
   "metadata": {},
   "source": [
    "- half-open interval - one endpoint is included but not the other [\n",
    "[...] Wolfram, \"Half-Closed Interval,\" [mathworld.wolfram](https://web.archive.org/web/20201106190646/https://mathworld.wolfram.com/Half-ClosedInterval.html), Ootober 2020.\n",
    "] - includes - low - excludes - high [\n",
    "[...] Anaconda - \"numpy/random,\" Docstring, June 2020.\n",
    "]"
   ]
  },
  {
   "cell_type": "markdown",
   "metadata": {},
   "source": [
    "$$[low, high)$$"
   ]
  },
  {
   "cell_type": "markdown",
   "metadata": {},
   "source": [
    "<img src=\"img/distribution-uniform-half-open-interval.png\" />\n",
    "\n",
    "***Wolfram, \"Half-Closed Interval,\" [mathworld.wolfram](https://web.archive.org/web/20201106190646/https://mathworld.wolfram.com/Half-ClosedInterval.html), Ootober 2020.***"
   ]
  },
  {
   "cell_type": "markdown",
   "metadata": {},
   "source": [
    "- same principle as the most commonly used iterator in python - range - which generates a sequence of numbers - by convention the top of the object range is not included in the output [\n",
    "[...] J. VanderPlas, \"Built-In Data Structures,\" A Whirlwind Tour of Python, p. 39, August 2016.\n",
    "]"
   ]
  },
  {
   "cell_type": "code",
   "execution_count": 212,
   "metadata": {},
   "outputs": [
    {
     "name": "stdout",
     "output_type": "stream",
     "text": [
      "0 1\n"
     ]
    }
   ],
   "source": [
    "print(*range(0,2))"
   ]
  },
  {
   "cell_type": "code",
   "execution_count": 213,
   "metadata": {
    "scrolled": true
   },
   "outputs": [
    {
     "name": "stdout",
     "output_type": "stream",
     "text": [
      "        Draw samples from a uniform distribution.\n",
      "\n",
      "        Samples are uniformly distributed over the half-open interval\n",
      "        ``[low, high)`` (includes low, but excludes high).  In other words,\n",
      "        any value within the given interval is equally likely to be drawn\n",
      "        by `uniform`.\n",
      "\n"
     ]
    }
   ],
   "source": [
    "# package numpy - subpackage random - object Generator - method default_rng alias newGenBitGenPCG64 - instantiate\n",
    "print(\"\\n\".join(newGenBitGenPCG64().uniform.__doc__.split(\"\\n\")[3:10])) # method uniform - attr __doc__ - access"
   ]
  },
  {
   "cell_type": "markdown",
   "metadata": {},
   "source": [
    ">> Chi-square Distribution - numpy.random.Generator.chisquare"
   ]
  },
  {
   "cell_type": "markdown",
   "metadata": {},
   "source": [
    "- taking random sample - independent random variables - ``df`` - real life - dealing with more than one random variable - physical characteristics of people in a certain area - picking person at random - look at - weight - height - the weight of the randomly chosen person is one random variable and the height is another random variable [\n",
    "[...] H. Pishro-Nik, \"3.1.4 Independent Random Variables,\" [probabilitycourse](https://web.archive.org/web/20201108072435/https://www.probabilitycourse.com/chapter3/3_1_4_independent_random_var.php), January 2010.\n",
    "]"
   ]
  },
  {
   "cell_type": "markdown",
   "metadata": {},
   "source": [
    "- each - ``df`` - with standard normal distributions - mean ``0`` - variance ``1`` [\n",
    "[...] Anaconda - \"numpy/random,\" Docstring, June 2020.\n",
    "] - mean - simple average of the numbers - variance - each number subtract the mean and square the result - then work out the average of those squared differences [\n",
    "[...] Math Is Fun, \"Normal Distribution,\" [mathisfun](http://web.archive.org/web/20201108103505/https://www.mathsisfun.com/data/standard-deviation.html), November 2014.\n",
    "]"
   ]
  },
  {
   "cell_type": "markdown",
   "metadata": {},
   "source": [
    "<img src=\"img/distribution-normal-mean-median-mode.png\" />\n",
    "\n",
    "***Math Is Fun, \"Normal Distribution,\" [mathisfun](https://web.archive.org/web/20201106104058/https://www.mathsisfun.com/data/standard-normal-distribution.html), November 2014.***"
   ]
  },
  {
   "cell_type": "markdown",
   "metadata": {},
   "source": [
    " - ``df`` - squared and summed - chi-square is the resulting distribution [\n",
    "[...] Anaconda - \"numpy/random,\" Docstring, June 2020.\n",
    "]"
   ]
  },
  {
   "cell_type": "markdown",
   "metadata": {},
   "source": [
    "- graphs - ``df`` - 5 and 10 - as ``df`` grows larger - the curve spread out from the right - becomes more like a normal distribution [\n",
    "[...] C. Zaiontx, \"Chi-square Distribution,\" [real-statistics](https://web.archive.org/web/20201108104406/https://www.real-statistics.com/chi-square-and-f-distributions/chi-square-distribution), n.d.\n",
    "]"
   ]
  },
  {
   "cell_type": "markdown",
   "metadata": {},
   "source": [
    "<img src=\"img/distribution-chi-square-spread-right.png\" />\n",
    "\n",
    "***C. Zaiontx, \"Chi-square Distribution,\" [real-statistics](https://web.archive.org/web/20201108104406/https://www.real-statistics.com/chi-square-and-f-distributions/chi-square-distribution), n.d.***"
   ]
  },
  {
   "cell_type": "code",
   "execution_count": 214,
   "metadata": {
    "scrolled": true
   },
   "outputs": [
    {
     "name": "stdout",
     "output_type": "stream",
     "text": [
      "        Draw samples from a chi-square distribution.\n",
      "\n",
      "        When `df` independent random variables, each with standard normal\n",
      "        distributions (mean 0, variance 1), are squared and summed, the\n",
      "        resulting distribution is chi-square (see Notes).  This distribution\n",
      "        is often used in hypothesis testing.\n",
      "\n"
     ]
    }
   ],
   "source": [
    "# package numpy - subpackage random - object Generator - method default_rng alias newGenBitGenPCG64 - instantiate\n",
    "print(\"\\n\".join(newGenBitGenPCG64().chisquare.__doc__.split(\"\\n\")[3:10])) # method chisquare - attr __doc__ - access"
   ]
  },
  {
   "cell_type": "markdown",
   "metadata": {},
   "source": [
    "> Discrete Probability Distributions"
   ]
  },
  {
   "cell_type": "code",
   "execution_count": 215,
   "metadata": {},
   "outputs": [],
   "source": [
    "# b_T_hird_P_arty-imports\n",
    "from numpy.random import Generator as CContainerBitGenerator\n",
    "from numpy.random import PCG64 as CPermutedCongruentialGenerator"
   ]
  },
  {
   "cell_type": "markdown",
   "metadata": {},
   "source": [
    "- PCG64 - default pseudo-random number generator - class - BitGenerator - algorithm is an implementation of O'Neill's permutation congruential generator [[...] Documentation, \"Permuted Congruential Generator (64-bit, PCG64),\" [NumPy](https://web.archive.org/web/20201102192029/https://numpy.org/doc/stable/reference/random/bit_generators/pcg64.html#permuted-congruential-generator-64-bit-pcg64), June 2020.]"
   ]
  },
  {
   "cell_type": "code",
   "execution_count": 216,
   "metadata": {},
   "outputs": [],
   "source": [
    "# package numpy - subpackage random - object PCG64 alias CPermutedCongruentialGenerator - instantiate\n",
    "nPCG64=CPermutedCongruentialGenerator()"
   ]
  },
  {
   "cell_type": "markdown",
   "metadata": {},
   "source": [
    "- base - parent - class - BitGenerator [[...] Documentation, \"numpy.random.BitGenerator,\" [NumPy](https://web.archive.org/web/20201102114147/https://numpy.org/doc/stable/reference/random/bit_generators/generated/numpy.random.BitGenerator.html#numpy.random.BitGenerator), June 2020.] - of the - child - class - Generator [[...] Documentation, \"numpy.random.Generator,\" [NumPy](https://web.archive.org/web/20201102191659/https://numpy.org/doc/stable/reference/random/generator.html#random-generator), June 2020.]"
   ]
  },
  {
   "cell_type": "code",
   "execution_count": 217,
   "metadata": {},
   "outputs": [],
   "source": [
    "# package numpy - subpackage random - object Generator alias CContainerBitGenerator - instantiate\n",
    "nContainerBitGen=CContainerBitGenerator(nPCG64)"
   ]
  },
  {
   "cell_type": "markdown",
   "metadata": {},
   "source": [
    "- recommended constructor - Generator - function - default_rng - which will instantiate a - Generator - with numpys default - BitGenerator - same outcome as above - will be implemented going forward given numpys recommendation [[...] Documentation, \"numpy.random.Generator,\" [NumPy](https://web.archive.org/web/20201102191659/https://numpy.org/doc/stable/reference/random/generator.html#random-generator), June 2020.] "
   ]
  },
  {
   "cell_type": "markdown",
   "metadata": {},
   "source": [
    ">> Binomial Distribution - numpy.random.Generator.binomial"
   ]
  },
  {
   "cell_type": "code",
   "execution_count": 218,
   "metadata": {},
   "outputs": [
    {
     "name": "stdout",
     "output_type": "stream",
     "text": [
      "\n",
      "        binomial(n, p, size=None)\n",
      "\n",
      "        Draw samples from a binomial distribution.\n",
      "\n",
      "        Samples are drawn from a binomial distribution with specified\n",
      "        parameters, n trials and p probability of success where\n",
      "        n an integer >= 0 and p is in the interval [0,1]. (n may be\n",
      "        input as a float, but it is truncated to an integer in use)\n",
      "\n",
      "        Parameters\n",
      "        ----------\n",
      "        n : int or array_like of ints\n",
      "            Parameter of the distribution, >= 0. Floats are also accepted,\n",
      "            but they will be truncated to integers.\n",
      "        p : float or array_like of floats\n",
      "            Parameter of the distribution, >= 0 and <=1.\n",
      "        size : int or tuple of ints, optional\n",
      "            Output shape.  If the given shape is, e.g., ``(m, n, k)``, then\n",
      "            ``m * n * k`` samples are drawn.  If size is ``None`` (default),\n",
      "            a single value is returned if ``n`` and ``p`` are both scalars.\n",
      "            Otherwise, ``np.broadcast(n, p).size`` samples are drawn.\n",
      "\n",
      "        Returns\n",
      "        -------\n",
      "        out : ndarray or scalar\n",
      "            Drawn samples from the parameterized binomial distribution, where\n",
      "            each sample is equal to the number of successes over the n trials.\n",
      "\n",
      "        See Also\n",
      "        --------\n",
      "        scipy.stats.binom : probability density function, distribution or\n",
      "            cumulative density function, etc.\n",
      "\n",
      "        Notes\n",
      "        -----\n",
      "        The probability density for the binomial distribution is\n",
      "\n",
      "        .. math:: P(N) = \\binom{n}{N}p^N(1-p)^{n-N},\n",
      "\n",
      "        where :math:`n` is the number of trials, :math:`p` is the probability\n",
      "        of success, and :math:`N` is the number of successes.\n",
      "\n",
      "        When estimating the standard error of a proportion in a population by\n",
      "        using a random sample, the normal distribution works well unless the\n",
      "        product p*n <=5, where p = population proportion estimate, and n =\n",
      "        number of samples, in which case the binomial distribution is used\n",
      "        instead. For example, a sample of 15 people shows 4 who are left\n",
      "        handed, and 11 who are right handed. Then p = 4/15 = 27%. 0.27*15 = 4,\n",
      "        so the binomial distribution should be used in this case.\n",
      "\n",
      "        References\n",
      "        ----------\n",
      "        .. [1] Dalgaard, Peter, \"Introductory Statistics with R\",\n",
      "               Springer-Verlag, 2002.\n",
      "        .. [2] Glantz, Stanton A. \"Primer of Biostatistics.\", McGraw-Hill,\n",
      "               Fifth Edition, 2002.\n",
      "        .. [3] Lentner, Marvin, \"Elementary Applied Statistics\", Bogden\n",
      "               and Quigley, 1972.\n",
      "        .. [4] Weisstein, Eric W. \"Binomial Distribution.\" From MathWorld--A\n",
      "               Wolfram Web Resource.\n",
      "               http://mathworld.wolfram.com/BinomialDistribution.html\n",
      "        .. [5] Wikipedia, \"Binomial distribution\",\n",
      "               https://en.wikipedia.org/wiki/Binomial_distribution\n",
      "\n",
      "        Examples\n",
      "        --------\n",
      "        Draw samples from the distribution:\n",
      "\n",
      "        >>> rng = np.random.default_rng()\n",
      "        >>> n, p = 10, .5  # number of trials, probability of each trial\n",
      "        >>> s = rng.binomial(n, p, 1000)\n",
      "        # result of flipping a coin 10 times, tested 1000 times.\n",
      "\n",
      "        A real world example. A company drills 9 wild-cat oil exploration\n",
      "        wells, each with an estimated probability of success of 0.1. All nine\n",
      "        wells fail. What is the probability of that happening?\n",
      "\n",
      "        Let's do 20,000 trials of the model, and count the number that\n",
      "        generate zero positive results.\n",
      "\n",
      "        >>> sum(rng.binomial(9, 0.1, 20000) == 0)/20000.\n",
      "        # answer = 0.38885, or 38%.\n",
      "\n",
      "        \n"
     ]
    }
   ],
   "source": [
    "# pkg numpy - subpkg random - obj Generator alias CContainerBitGenerator - method binomial - attri __doc__ - access\n",
    "print(nContainerBitGen.binomial.__doc__)"
   ]
  },
  {
   "cell_type": "markdown",
   "metadata": {},
   "source": [
    ">> Poisson Distribution - numpy.random.Generator.poisson"
   ]
  },
  {
   "cell_type": "code",
   "execution_count": 219,
   "metadata": {},
   "outputs": [
    {
     "name": "stdout",
     "output_type": "stream",
     "text": [
      "\n",
      "        poisson(lam=1.0, size=None)\n",
      "\n",
      "        Draw samples from a Poisson distribution.\n",
      "\n",
      "        The Poisson distribution is the limit of the binomial distribution\n",
      "        for large N.\n",
      "\n",
      "        Parameters\n",
      "        ----------\n",
      "        lam : float or array_like of floats\n",
      "            Expectation of interval, must be >= 0. A sequence of expectation\n",
      "            intervals must be broadcastable over the requested size.\n",
      "        size : int or tuple of ints, optional\n",
      "            Output shape.  If the given shape is, e.g., ``(m, n, k)``, then\n",
      "            ``m * n * k`` samples are drawn.  If size is ``None`` (default),\n",
      "            a single value is returned if ``lam`` is a scalar. Otherwise,\n",
      "            ``np.array(lam).size`` samples are drawn.\n",
      "\n",
      "        Returns\n",
      "        -------\n",
      "        out : ndarray or scalar\n",
      "            Drawn samples from the parameterized Poisson distribution.\n",
      "\n",
      "        Notes\n",
      "        -----\n",
      "        The Poisson distribution\n",
      "\n",
      "        .. math:: f(k; \\lambda)=\\frac{\\lambda^k e^{-\\lambda}}{k!}\n",
      "\n",
      "        For events with an expected separation :math:`\\lambda` the Poisson\n",
      "        distribution :math:`f(k; \\lambda)` describes the probability of\n",
      "        :math:`k` events occurring within the observed\n",
      "        interval :math:`\\lambda`.\n",
      "\n",
      "        Because the output is limited to the range of the C int64 type, a\n",
      "        ValueError is raised when `lam` is within 10 sigma of the maximum\n",
      "        representable value.\n",
      "\n",
      "        References\n",
      "        ----------\n",
      "        .. [1] Weisstein, Eric W. \"Poisson Distribution.\"\n",
      "               From MathWorld--A Wolfram Web Resource.\n",
      "               http://mathworld.wolfram.com/PoissonDistribution.html\n",
      "        .. [2] Wikipedia, \"Poisson distribution\",\n",
      "               https://en.wikipedia.org/wiki/Poisson_distribution\n",
      "\n",
      "        Examples\n",
      "        --------\n",
      "        Draw samples from the distribution:\n",
      "\n",
      "        >>> import numpy as np\n",
      "        >>> rng = np.random.default_rng()\n",
      "        >>> s = rng.poisson(5, 10000)\n",
      "\n",
      "        Display histogram of the sample:\n",
      "\n",
      "        >>> import matplotlib.pyplot as plt\n",
      "        >>> count, bins, ignored = plt.hist(s, 14, density=True)\n",
      "        >>> plt.show()\n",
      "\n",
      "        Draw each 100 values for lambda 100 and 500:\n",
      "\n",
      "        >>> s = rng.poisson(lam=(100., 500.), size=(100, 2))\n",
      "\n",
      "        \n"
     ]
    }
   ],
   "source": [
    "# pkg numpy - subpkg random - obj Generator alias CContainerBitGenerator - method poisson - attri __doc__ - access\n",
    "print(nContainerBitGen.poisson.__doc__)"
   ]
  },
  {
   "cell_type": "markdown",
   "metadata": {},
   "source": [
    ">> Geometric Distribution - numpy.random.Generator.geometric"
   ]
  },
  {
   "cell_type": "code",
   "execution_count": 220,
   "metadata": {
    "scrolled": false
   },
   "outputs": [
    {
     "name": "stdout",
     "output_type": "stream",
     "text": [
      "\n",
      "        geometric(p, size=None)\n",
      "\n",
      "        Draw samples from the geometric distribution.\n",
      "\n",
      "        Bernoulli trials are experiments with one of two outcomes:\n",
      "        success or failure (an example of such an experiment is flipping\n",
      "        a coin).  The geometric distribution models the number of trials\n",
      "        that must be run in order to achieve success.  It is therefore\n",
      "        supported on the positive integers, ``k = 1, 2, ...``.\n",
      "\n",
      "        The probability mass function of the geometric distribution is\n",
      "\n",
      "        .. math:: f(k) = (1 - p)^{k - 1} p\n",
      "\n",
      "        where `p` is the probability of success of an individual trial.\n",
      "\n",
      "        Parameters\n",
      "        ----------\n",
      "        p : float or array_like of floats\n",
      "            The probability of success of an individual trial.\n",
      "        size : int or tuple of ints, optional\n",
      "            Output shape.  If the given shape is, e.g., ``(m, n, k)``, then\n",
      "            ``m * n * k`` samples are drawn.  If size is ``None`` (default),\n",
      "            a single value is returned if ``p`` is a scalar.  Otherwise,\n",
      "            ``np.array(p).size`` samples are drawn.\n",
      "\n",
      "        Returns\n",
      "        -------\n",
      "        out : ndarray or scalar\n",
      "            Drawn samples from the parameterized geometric distribution.\n",
      "\n",
      "        Examples\n",
      "        --------\n",
      "        Draw ten thousand values from the geometric distribution,\n",
      "        with the probability of an individual success equal to 0.35:\n",
      "\n",
      "        >>> z = np.random.default_rng().geometric(p=0.35, size=10000)\n",
      "\n",
      "        How many trials succeeded after a single run?\n",
      "\n",
      "        >>> (z == 1).sum() / 10000.\n",
      "        0.34889999999999999 #random\n",
      "\n",
      "        \n"
     ]
    }
   ],
   "source": [
    "# pkg numpy - subpkg random - obj Generator alias CContainerBitGenerator - method geometric - attri __doc__ - access\n",
    "print(nContainerBitGen.geometric.__doc__)"
   ]
  },
  {
   "cell_type": "markdown",
   "metadata": {},
   "source": [
    "***\n",
    "#### References\n",
    "&nbsp;&nbsp;&nbsp;&nbsp;&nbsp;&nbsp;&nbsp;&nbsp;&nbsp;[1] authorNames, referenceTitle, locationWebsiteBookVideo, dateMonthYear.\n",
    "\n",
    "&nbsp;&nbsp;&nbsp;&nbsp;&nbsp;&nbsp;&nbsp;[10]\n",
    "\n",
    "&nbsp;&nbsp;&nbsp;&nbsp;&nbsp;[100]\n",
    "\n",
    "&nbsp;&nbsp;&nbsp;[1000]\n",
    "***\n",
    "#### END"
   ]
  },
  {
   "cell_type": "markdown",
   "metadata": {},
   "source": [
    "## Task 4\n",
    "#### Explain the use of seeds in generating pseudorandom numbers.\n",
    "***"
   ]
  },
  {
   "cell_type": "markdown",
   "metadata": {},
   "source": [
    "##### 4.1.0 - Use - Seeds - Generating Pseudorandom Numbers"
   ]
  },
  {
   "cell_type": "markdown",
   "metadata": {},
   "source": [
    "- computers cannot really generate random numbers [\n",
    "[...] I. McLoughlin, \"Seeds,\" GMIT, October 2018.\n",
    "] - surprisingly it is difficult to get a computer to do something by chance - unless a computer is broken it follows instructions blindly and is therefore completely predictable [\n",
    "[...] M. Haahr, \"Introduction to Randomness and Random Numbers,\" [random](https://web.archive.org/web/20201112183853/https://www.random.org/randomness), March 2007.\n",
    "]"
   ]
  },
  {
   "cell_type": "markdown",
   "metadata": {},
   "source": [
    "- British Writer and Broadcaster -  Alex Bellos - in 2014 conducted an online survey asking people to name their favourite number [\n",
    "[...] A. Bellos, \"The results of Alex Bellos's global online poll to find the world's favourite number,\" [bloomsbury](https://web.archive.org/web/20201112104650/http://pages.bloomsbury.com/favouritenumber/7), April 2014.\n",
    "]"
   ]
  },
  {
   "cell_type": "code",
   "execution_count": 221,
   "metadata": {},
   "outputs": [],
   "source": [
    "# b_T_hird_P_arty-imports\n",
    "from pandas.io.parsers import read_csv as r\n",
    "# package pandas - subpackage io - module parsers - function read_csv alias r - call\n",
    "df=r(\"dataset/alex-bellos-favourite-number-list.csv\")"
   ]
  },
  {
   "cell_type": "markdown",
   "metadata": {},
   "source": [
    "- the survey got 30,025 submissions with a total of 1,123 nominations [\n",
    "[...] A. Bellos, \"The results of Alex Bellos's global online poll to find the world's favourite number,\" [bloomsbury](https://web.archive.org/web/20201112104650/http://pages.bloomsbury.com/favouritenumber/7), April 2014.\n",
    "]"
   ]
  },
  {
   "cell_type": "code",
   "execution_count": 222,
   "metadata": {},
   "outputs": [
    {
     "data": {
      "text/plain": [
       "Frequency    30025\n",
       "dtype: int64"
      ]
     },
     "execution_count": 222,
     "metadata": {},
     "output_type": "execute_result"
    }
   ],
   "source": [
    "# package pandas - subpackage frame - object DataFrame - name sum - access\n",
    "df.sum(numeric_only=True)"
   ]
  },
  {
   "cell_type": "code",
   "execution_count": 223,
   "metadata": {},
   "outputs": [
    {
     "data": {
      "text/plain": [
       "Frequency    1123\n",
       "dtype: int64"
      ]
     },
     "execution_count": 223,
     "metadata": {},
     "output_type": "execute_result"
    }
   ],
   "source": [
    "# package pandas - subpackage frame - object DataFrame - method count - call\n",
    "df.count(numeric_only=True)"
   ]
  },
  {
   "cell_type": "markdown",
   "metadata": {},
   "source": [
    "- the number - ``7`` - was deemed the most favourite - submitted 2,912 times [\n",
    "[...] A. Bellos, \"The results of Alex Bellos's global online poll to find the world's favourite number,\" [bloomsbury](https://web.archive.org/web/20201112104650/http://pages.bloomsbury.com/favouritenumber/7), April 2014.\n",
    "] - a bias towards the number - ``7`` - demonstrates humans too are not great at generating random numbers [\n",
    "[...] I. McLoughlin, \"Seeds,\" GMIT, October 2018.\n",
    "]"
   ]
  },
  {
   "cell_type": "code",
   "execution_count": 224,
   "metadata": {},
   "outputs": [
    {
     "data": {
      "text/html": [
       "<div>\n",
       "<style scoped>\n",
       "    .dataframe tbody tr th:only-of-type {\n",
       "        vertical-align: middle;\n",
       "    }\n",
       "\n",
       "    .dataframe tbody tr th {\n",
       "        vertical-align: top;\n",
       "    }\n",
       "\n",
       "    .dataframe thead th {\n",
       "        text-align: right;\n",
       "    }\n",
       "</style>\n",
       "<table border=\"1\" class=\"dataframe\">\n",
       "  <thead>\n",
       "    <tr style=\"text-align: right;\">\n",
       "      <th></th>\n",
       "      <th>Favourite Number</th>\n",
       "      <th>Frequency</th>\n",
       "    </tr>\n",
       "  </thead>\n",
       "  <tbody>\n",
       "    <tr>\n",
       "      <th>0</th>\n",
       "      <td>7</td>\n",
       "      <td>2912</td>\n",
       "    </tr>\n",
       "  </tbody>\n",
       "</table>\n",
       "</div>"
      ],
      "text/plain": [
       "  Favourite Number  Frequency\n",
       "0                7       2912"
      ]
     },
     "execution_count": 224,
     "metadata": {},
     "output_type": "execute_result"
    }
   ],
   "source": [
    "# package pandas - subpackage frame - object DataFrame - method head - call\n",
    "df.head(1)"
   ]
  },
  {
   "cell_type": "markdown",
   "metadata": {},
   "source": [
    "- computers need some sort of mechanism to generate random numbers [\n",
    "[...] I. McLoughlin, \"Seeds,\" GMIT, October 2018.\n",
    "] - generating data encrytion keys - simulating/modelling complex phenomena - selecting random samples from larger datasets [\n",
    "[...] M. Haahr, \"Introduction to Randomness and Random Numbers,\" [random](https://web.archive.org/web/20201112183853/https://www.random.org/randomness), March 2007.\n",
    "] "
   ]
  },
  {
   "cell_type": "markdown",
   "metadata": {},
   "source": [
    "- computers generate random numbers in what is called pseudo-random numbers - PRNs [\n",
    "[...] I. McLoughlin, \"Seeds,\" GMIT, October 2018.\n",
    "] - as the name suggests - pseudo - numbers generated are not random like rolling dice - essentially these are algorithms that use ***precalculated tables*** or ***mathematical formulae*** to produce a sequences of numbers that appear random [\n",
    "[...] M. Haahr, \"Introduction to Randomness and Random Numbers,\" [random](https://web.archive.org/web/20201112183853/https://www.random.org/randomness), March 2007.\n",
    "]"
   ]
  },
  {
   "cell_type": "markdown",
   "metadata": {},
   "source": [
    "- ***precalculated tables*** - \"A MILLION Random Digits WITH100,000 Normal Deviates\" by RAND - was an important development in the field of random numbers and statistics [\n",
    "[...] RAND, \"A MILLION Random Digits WITH100,000 Normal Deviates,\" [RAND](https://web.archive.org/web/20201112031848/https://www.rand.org/content/dam/rand/pubs/monograph_reports/MR1418/MR1418.deviates.pdf), 1955.\n",
    "] - using an electronic roulette wheel with 32 positions making on average 3000 revolutions on each turn - using binary to decimal conversion the resulting random digit was fed into an IBM puch card [\n",
    "[...] G. Brown, \"HISTORY OF RAND'S RANDOM DIGITS - SUMMARY,\" [rand](https://web.archive.org/web/20201121094932/https://www.rand.org/content/dam/rand/pubs/papers/2008/P113.pdf), pp. 1-100, June 1949.\n",
    "]"
   ]
  },
  {
   "cell_type": "markdown",
   "metadata": {},
   "source": [
    "- launch point for generating PRNs - select a number from any page from the precalculated table - this number is now the key piece of information - **seed** - subsequent numbers from this position will produce so-called random numbers [\n",
    "[...] No Reference.\n",
    "]"
   ]
  },
  {
   "cell_type": "markdown",
   "metadata": {},
   "source": [
    "- knowing a head of time - seed - can predict the numbers generated [\n",
    "[...] I. McLoughlin, \"Seeds,\" GMIT, October 2018.\n",
    "]"
   ]
  },
  {
   "cell_type": "markdown",
   "metadata": {},
   "source": [
    "- ***mathematical formulae*** - strategy for generated random numbers - might be to use the decimal expansion of - $\\pi$ - closely related to one of the basic geometric shapes - circle - famously irrational - cannot be written as a simple fraction - popular approximation - $\\frac{22}{7}$ - ``3.1428571428571...`` [\n",
    "[...] Math Is Fun, \"Irrational Numbers,\" [mathisfun](https://web.archive.org/web/20201011101225/https://www.mathsisfun.com/irrational-numbers.html), September 2012.\n",
    "]"
   ]
  },
  {
   "cell_type": "markdown",
   "metadata": {},
   "source": [
    "- almost all real numbers are considered normal - look random - all the evidence suggests that - $\\pi$ - is normal although not definitively proved - empirically it is as random as it gets [\n",
    "[...] M.E. O'Neill, \"A Family of Better Random Number Generators,\" [Stanford EE Computer Systems Colloquium](https://web.archive.org/web/20181108064350/http://web.stanford.edu/class/ee380/Abstracts/150218.html), February 2015.\n",
    "] - does not repeat at regularly occurring intervals - there is no pattern to the repetition of the digits [\n",
    "[...] I. McLoughlin, \"Seeds,\" GMIT, October 2018.\n",
    "]"
   ]
  },
  {
   "cell_type": "markdown",
   "metadata": {},
   "source": [
    "- using the decimal expansion of - $\\pi$ - picking an arbitrary number within the expansion as the initial launch point - seed randomness - appears to be a sound strategy given it could be claimed that - $\\pi$ - is the ultimate nothing up my sleeve number - statisitcally random - has an infinite stream in that it may never finish - producing values based on an arbitrary starting point that will prove difficult to predict - using the same launch point everytime will enable reproducible results - picking a different launch point everytime based on some other phenomenon will produce nondeterministic  results - not always the same output for the same inputs [\n",
    "[...] M.E. O'Neill, \"A Family of Better Random Number Generators,\" [Stanford EE Computer Systems Colloquium](https://web.archive.org/web/20181108064350/http://web.stanford.edu/class/ee380/Abstracts/150218.html), February 2015.\n",
    "]"
   ]
  },
  {
   "cell_type": "markdown",
   "metadata": {},
   "source": [
    "- January 2020 - the most accurate value of $\\pi$ was calculated by Timothy Mullican with a decimal expansion of 50,000,000,000,000 digits [\n",
    "[...] Guinness World Records, \"Most accurate value of pi,\" [guinnessworldrecords](https://web.archive.org/web/20201112194559/https://www.guinnessworldrecords.com/world-records/66179-most-accurate-value-of-pi), January 2020.\n",
    "] - based on Fabrice Bellard implementation of $\\pi$ the following is a calculation with a decimal expansion of 110 - as demonstrated by Timothy Mullican this expansion could be an infinite number - the precision in the following code is represented by name - nInfinity - set to ``110`` for demonstration purposes [\n",
    "Guest007, \"1000 digits of pi in Python,\" [stackoverflow](https://web.archive.org/web/20201112194121/https://stackoverflow.com/questions/9004789/1000-digits-of-pi-in-python), July 2019.\n",
    "]"
   ]
  },
  {
   "cell_type": "code",
   "execution_count": 225,
   "metadata": {},
   "outputs": [],
   "source": [
    "# a_S_tandard_L_ibrary-imports\n",
    "from decimal import Decimal,getcontext"
   ]
  },
  {
   "cell_type": "code",
   "execution_count": 226,
   "metadata": {},
   "outputs": [],
   "source": [
    "nInfinity=110\n",
    "# module decimal - function getcontext alias - call\n",
    "nDecimalExpansion=getcontext().prec=nInfinity\n",
    "# module decimal - object Decimal - instantiate\n",
    "nInsObjPi=Decimal(0)\n",
    "for nEachDecimalPosition in range(nDecimalExpansion):\n",
    "    nInsObjPi+=(Decimal(1)/(16**nEachDecimalPosition))\\\n",
    "    *((Decimal(4)/(8*nEachDecimalPosition+1)-(Decimal(2)/(8*nEachDecimalPosition+4))\\\n",
    "    -(Decimal(1)/(8*nEachDecimalPosition+5))-(Decimal(1)/(8*nEachDecimalPosition+6))))"
   ]
  },
  {
   "cell_type": "markdown",
   "metadata": {},
   "source": [
    "- there is no pattern to the repetition of the digits [\n",
    "[...] I. McLoughlin, \"Seeds,\" GMIT, October 2018.\n",
    "]"
   ]
  },
  {
   "cell_type": "code",
   "execution_count": 227,
   "metadata": {
    "scrolled": true
   },
   "outputs": [
    {
     "name": "stdout",
     "output_type": "stream",
     "text": [
      "3.1415926535897932384626433832795028841971693993751058209749445923078164062862089986280348253421170679821480868\n"
     ]
    }
   ],
   "source": [
    "print(nInsObjPi)"
   ]
  },
  {
   "cell_type": "markdown",
   "metadata": {},
   "source": [
    "- if generating a random number between zero and ten (excluding ten) - given its proven that there is no pattern to the $\\pi$ decimal expansion - could start at any point in the decimal expansion - picking 7 digits into the decimal expansion - not telling anyone - giving back digits from this point on when asked for a random number - this position is the - seed - the starting position [\n",
    "[...] I. McLoughlin, \"Seeds,\" GMIT, October 2018.\n",
    "] "
   ]
  },
  {
   "cell_type": "markdown",
   "metadata": {},
   "source": [
    "<img src=\"img/pi.png\" />"
   ]
  },
  {
   "cell_type": "code",
   "execution_count": 228,
   "metadata": {},
   "outputs": [
    {
     "data": {
      "text/plain": [
       "'<seed> 7 <1st number> 5'"
      ]
     },
     "execution_count": 228,
     "metadata": {},
     "output_type": "execute_result"
    }
   ],
   "source": [
    "nSeed,nPseudo,nStop=7,9,10;\"<seed> {} <1st number> {}\".format(nSeed,str(nInsObjPi-int(nInsObjPi))[nPseudo:nStop])"
   ]
  },
  {
   "cell_type": "code",
   "execution_count": 229,
   "metadata": {},
   "outputs": [
    {
     "data": {
      "text/plain": [
       "'<seed> 7 <2nd number> 3'"
      ]
     },
     "execution_count": 229,
     "metadata": {},
     "output_type": "execute_result"
    }
   ],
   "source": [
    "nPseudo+=1;nStop+=1;\"<seed> {} <2nd number> {}\".format(nSeed,str(nInsObjPi-int(nInsObjPi))[nPseudo:nStop])"
   ]
  },
  {
   "cell_type": "code",
   "execution_count": 230,
   "metadata": {},
   "outputs": [
    {
     "data": {
      "text/plain": [
       "'<seed> 7 <3rd number> 5'"
      ]
     },
     "execution_count": 230,
     "metadata": {},
     "output_type": "execute_result"
    }
   ],
   "source": [
    "nPseudo+=1;nStop+=1;\"<seed> {} <3rd number> {}\".format(nSeed,str(nInsObjPi-int(nInsObjPi))[nPseudo:nStop])"
   ]
  },
  {
   "cell_type": "markdown",
   "metadata": {},
   "source": [
    "- not always going be able to predict where the random generation of numbers start but knowing what the seed is then can guess what the computer is going to generate next - if you do not know what the seed is then its very difficult to figure out what the computer is going to do next [\n",
    "[...] I. McLoughlin, \"Seeds,\" GMIT, October 2018.\n",
    "] "
   ]
  },
  {
   "cell_type": "markdown",
   "metadata": {},
   "source": [
    "- problem with using - $\\pi$ - as a strategy to generate random numbers is that its very expensive to compute plus the infinite size is overkill - practical random number generation is about doing it in a practical way - doing it in little space - doing it in little time - still producing good results - satisfying all statistical tests [\n",
    "[...] M.E. O'Neill, \"A Family of Better Random Number Generators,\" [Stanford EE Computer Systems Colloquium](https://web.archive.org/web/20181108064350/http://web.stanford.edu/class/ee380/Abstracts/150218.html), February 2015.\n",
    "]"
   ]
  },
  {
   "cell_type": "markdown",
   "metadata": {},
   "source": [
    "- modern times - typically the seed is determined based on the time on the computer when the code is run - down to a microsecond since the Epoch - 00:00:00 UTC 1st January 1970 - decided once typically [\n",
    "[...] I. McLoughlin, \"Seeds,\" GMIT, October 2018.\n",
    "]"
   ]
  },
  {
   "cell_type": "markdown",
   "metadata": {},
   "source": [
    "- package numpy version 1.19 - changed the mathematical formulae - algorithm - for generating random numbers from the Mersenne Twister - MT19937 - to - O'Neill's Permutation Congruential Generator - PCG64 [\n",
    "[...] NumPy, \"Changes in v1.19,\" [github](https://web.archive.org/web/20201121105209/https://github.com/bashtage/randomgen), v1.19.\n",
    "] - its important to give an historic look at initial algorithm implementations as these formed the basis for the current [\n",
    "[...] No Reference.\n",
    "]"
   ]
  },
  {
   "cell_type": "markdown",
   "metadata": {},
   "source": [
    "##### 4.2.0 - Linear Congruential Generator"
   ]
  },
  {
   "cell_type": "markdown",
   "metadata": {},
   "source": [
    "- Linear Congruential Generator - D. H. Lehmer - earliest and most influential random number generator design - been around since 1951 [\n",
    "[...] M.E. O'Neill, \"A Family of Better Random Number Generators,\" [Stanford EE Computer Systems Colloquium](https://web.archive.org/web/20181108064350/http://web.stanford.edu/class/ee380/Abstracts/150218.html), February 2015.\n",
    "]"
   ]
  },
  {
   "cell_type": "markdown",
   "metadata": {},
   "source": [
    "- implementation is presented for quick evaluation - multiply by three random number generator - probably not using - ``3`` - as the constant [\n",
    "[...] M.E. O'Neill, \"A Family of Better Random Number Generators,\" [Stanford EE Computer Systems Colloquium](https://web.archive.org/web/20181108064350/http://web.stanford.edu/class/ee380/Abstracts/150218.html), February 2015.\n",
    "]"
   ]
  },
  {
   "cell_type": "markdown",
   "metadata": {},
   "source": [
    "- this sequence of purportedly random numbers has no even numbers - all odd numbers - could determine the output as all multiples of three but that is not true given that at the point - $2^{32-1}$ - ``4294967295`` - the sequence starts to wrap around - largest possible number within the first five-thousand produced is - ``4294967295`` - whereby it wraps around and starts again [\n",
    "[...] M.E. O'Neill, \"A Family of Better Random Number Generators,\" [Stanford EE Computer Systems Colloquium](https://web.archive.org/web/20181108064350/http://web.stanford.edu/class/ee380/Abstracts/150218.html), February 2015.\n",
    "]"
   ]
  },
  {
   "cell_type": "code",
   "execution_count": 231,
   "metadata": {},
   "outputs": [
    {
     "data": {
      "text/plain": [
       "'<range> (0, 4294967295)'"
      ]
     },
     "execution_count": 231,
     "metadata": {},
     "output_type": "execute_result"
    }
   ],
   "source": [
    "\"<range> (0, {})\".format(2**32-1)"
   ]
  },
  {
   "cell_type": "code",
   "execution_count": 232,
   "metadata": {},
   "outputs": [],
   "source": [
    "# b_T_hird_P_arty-imports\n",
    "from numpy import uint32"
   ]
  },
  {
   "cell_type": "code",
   "execution_count": 233,
   "metadata": {},
   "outputs": [],
   "source": [
    "# package numpy - data type uint32 - access\n",
    "nState=uint32(1)"
   ]
  },
  {
   "cell_type": "code",
   "execution_count": 234,
   "metadata": {},
   "outputs": [],
   "source": [
    "# define function - fPRNG\n",
    "def fPRNG():\n",
    "    global nState\n",
    "    # package numpy - data type uint32 - access\n",
    "    nState=uint32(nState*3)\n",
    "    return nState"
   ]
  },
  {
   "cell_type": "code",
   "execution_count": 235,
   "metadata": {},
   "outputs": [],
   "source": [
    "nLehmer=[]\n",
    "for nEachValue in range(1,5000):\n",
    "    # function fPRNG- call\n",
    "    nLehmer.append(fPRNG())"
   ]
  },
  {
   "cell_type": "markdown",
   "metadata": {},
   "source": [
    "- readability - first 50 numbers in the sequence [\n",
    "[...] No Reference.\n",
    "]"
   ]
  },
  {
   "cell_type": "code",
   "execution_count": 236,
   "metadata": {
    "scrolled": true
   },
   "outputs": [
    {
     "name": "stdout",
     "output_type": "stream",
     "text": [
      "[3, 9, 27, 81, 243, 729, 2187, 6561, 19683, 59049, 177147, 531441, 1594323, 4782969, 14348907, 43046721, 129140163, 387420489, 1162261467, 3486784401, 1870418611, 1316288537, 3948865611, 3256662241, 1180052131, 3540156393, 2030534587, 1796636465, 1094942099, 3284826297, 1264544299, 3793632897, 2790964099, 4077925001, 3643840411, 2341586641, 2729792627, 3894410585, 3093297163, 689956897, 2069870691, 1914644777, 1448967035, 51933809, 155801427, 467404281, 1402212843, 4206638529, 4029980995, 3500008393]\n"
     ]
    }
   ],
   "source": [
    "print(nLehmer[0:50])"
   ]
  },
  {
   "cell_type": "code",
   "execution_count": 237,
   "metadata": {},
   "outputs": [],
   "source": [
    "# b_T_hird_P_arty-imports\n",
    "from matplotlib.pyplot import hist as h"
   ]
  },
  {
   "cell_type": "code",
   "execution_count": 238,
   "metadata": {},
   "outputs": [],
   "source": [
    "from matplotlib.style.core import use as u\n",
    "# package matplotlib - subpackage style - module core - function use alias u - call\n",
    "u(\"default\")"
   ]
  },
  {
   "cell_type": "markdown",
   "metadata": {},
   "source": [
    "- uniform - every value occurs once [\n",
    "[...] No Reference.\n",
    "]"
   ]
  },
  {
   "cell_type": "code",
   "execution_count": 239,
   "metadata": {},
   "outputs": [
    {
     "data": {
      "image/png": "[encoded data removed]",
      "text/plain": [
       "<Figure size 640x480 with 1 Axes>"
      ]
     },
     "metadata": {},
     "output_type": "display_data"
    }
   ],
   "source": [
    "# package matplotlib - module pyplot - function hist alias h - call\n",
    "h(nLehmer);"
   ]
  },
  {
   "cell_type": "markdown",
   "metadata": {},
   "source": [
    "- Linear Congruential Generator - W. E. Thomson, A. Rotenberg - historically most studied generator - been around since 1960 - fixes the problem of only getting odd numbers by just multiplying by three and adding one - rules do exist for these constants so the implementation presented for quick evalation will multiply by 141 and will continue to include three - in addition reducing the size to 8-bits in order to view the full sequence of numbers [\n",
    "[...] M.E. O'Neill, \"A Family of Better Random Number Generators,\" [Stanford EE Computer Systems Colloquium](https://web.archive.org/web/20181108064350/http://web.stanford.edu/class/ee380/Abstracts/150218.html), February 2015.\n",
    "]"
   ]
  },
  {
   "cell_type": "markdown",
   "metadata": {},
   "source": [
    "- this sequence of purportedly random numbers alternates from even numbers to odd numbers [\n",
    "[...] M.E. O'Neill, \"A Family of Better Random Number Generators,\" [Stanford EE Computer Systems Colloquium](https://web.archive.org/web/20181108064350/http://web.stanford.edu/class/ee380/Abstracts/150218.html), February 2015.\n",
    "]"
   ]
  },
  {
   "cell_type": "code",
   "execution_count": 240,
   "metadata": {},
   "outputs": [],
   "source": [
    "# b_T_hird_P_arty-imports\n",
    "from numpy import uint8"
   ]
  },
  {
   "cell_type": "code",
   "execution_count": 241,
   "metadata": {},
   "outputs": [],
   "source": [
    "# package numpy - data type uint8 - access\n",
    "nState=uint8(1)"
   ]
  },
  {
   "cell_type": "code",
   "execution_count": 242,
   "metadata": {},
   "outputs": [],
   "source": [
    "# define function - fPRNG\n",
    "def fPRNG():\n",
    "    global nState\n",
    "    # package numpy - data type uint8 - access\n",
    "    nState=uint8((nState*141)+3)\n",
    "    return nState"
   ]
  },
  {
   "cell_type": "code",
   "execution_count": 243,
   "metadata": {},
   "outputs": [],
   "source": [
    "nRotenberg=[1]\n",
    "for nEachValue in range(1,5000):\n",
    "    # function fPRNG - call\n",
    "    nRotenberg.append(fPRNG())"
   ]
  },
  {
   "cell_type": "markdown",
   "metadata": {},
   "source": [
    "- readability - first 125 numbers in the sequence [\n",
    "[...] No Reference.\n",
    "]"
   ]
  },
  {
   "cell_type": "code",
   "execution_count": 244,
   "metadata": {
    "scrolled": true
   },
   "outputs": [
    {
     "name": "stdout",
     "output_type": "stream",
     "text": [
      "[1, 144, 83, 186, 117, 116, 231, 62, 41, 152, 187, 2, 29, 252, 207, 6, 81, 160, 35, 74, 197, 132, 183, 206, 121, 168, 139, 146, 109, 12, 159, 150, 161, 176, 243, 218, 21, 148, 135, 94, 201, 184, 91, 34, 189, 28, 111, 38, 241, 192, 195, 106, 101, 164, 87, 238, 25, 200, 43, 178, 13, 44, 63, 182, 65, 208, 147, 250, 181, 180, 39, 126, 105, 216, 251, 66, 93, 60, 15, 70, 145, 224, 99, 138, 5, 196, 247, 14, 185, 232, 203, 210, 173, 76, 223, 214, 225, 240, 51, 26, 85, 212, 199, 158, 9, 248, 155, 98, 253, 92, 175, 102, 49, 0, 3, 170, 165, 228, 151, 46, 89, 8, 107, 242, 77]\n"
     ]
    }
   ],
   "source": [
    "print(nRotenberg[0:125])"
   ]
  },
  {
   "cell_type": "markdown",
   "metadata": {},
   "source": [
    "- uniform - every value occurs once [\n",
    "[...] No Reference.\n",
    "]"
   ]
  },
  {
   "cell_type": "code",
   "execution_count": 245,
   "metadata": {},
   "outputs": [
    {
     "data": {
      "image/png": "[encoded data removed]",
      "text/plain": [
       "<Figure size 640x480 with 1 Axes>"
      ]
     },
     "metadata": {},
     "output_type": "display_data"
    }
   ],
   "source": [
    "# package matplotlib - module pyplot - function hist alias h - call\n",
    "h(nRotenberg);"
   ]
  },
  {
   "cell_type": "markdown",
   "metadata": {},
   "source": [
    "- if the sequence of numbers are grouped into pairs - ``x`` - ``y`` - coordinates [\n",
    "[Stanford EE Computer Systems Colloquium](https://web.archive.org/web/20181108064350/http://web.stanford.edu/class/ee380/Abstracts/150218.html), February 2015.\n",
    "]"
   ]
  },
  {
   "cell_type": "code",
   "execution_count": 246,
   "metadata": {},
   "outputs": [],
   "source": [
    "nXCoordinate=nRotenberg[0::2]\n",
    "nYCoordinate=nRotenberg[1::2]"
   ]
  },
  {
   "cell_type": "code",
   "execution_count": 247,
   "metadata": {
    "scrolled": false
   },
   "outputs": [],
   "source": [
    "# b_T_hird_P_arty-imports\n",
    "from matplotlib.pyplot import plot as p"
   ]
  },
  {
   "cell_type": "markdown",
   "metadata": {},
   "source": [
    "- observed is a very rigid structure - appear not very random - the random number generator can only produce - $2^{32-1}$ - states - 256 - numbers - plotting on a grid with - $2^{16-1}$ - 65,535 - points [\n",
    "[...] M.E. O'Neill, \"A Family of Better Random Number Generators,\" [Stanford EE Computer Systems Colloquium](https://web.archive.org/web/20181108064350/http://web.stanford.edu/class/ee380/Abstracts/150218.html), February 2015.\n",
    "]"
   ]
  },
  {
   "cell_type": "code",
   "execution_count": 248,
   "metadata": {},
   "outputs": [
    {
     "data": {
      "image/png": "[encoded data removed]",
      "text/plain": [
       "<Figure size 640x480 with 1 Axes>"
      ]
     },
     "metadata": {},
     "output_type": "display_data"
    }
   ],
   "source": [
    "# package matplotlib - module pyplot - function plot alias p - call\n",
    "p(nXCoordinate,nYCoordinate,\"b.\");"
   ]
  },
  {
   "cell_type": "markdown",
   "metadata": {},
   "source": [
    "- may appear at first not very random but the ordering in which the states occur would suggest it is indeed random [\n",
    "[...] M.E. O'Neill, \"A Family of Better Random Number Generators,\" [Stanford EE Computer Systems Colloquium](https://web.archive.org/web/20181108064350/http://web.stanford.edu/class/ee380/Abstracts/150218.html), February 2015.\n",
    "]"
   ]
  },
  {
   "cell_type": "code",
   "execution_count": 249,
   "metadata": {
    "scrolled": false
   },
   "outputs": [
    {
     "data": {
      "image/png": "[encoded data removed]",
      "text/plain": [
       "<Figure size 640x480 with 1 Axes>"
      ]
     },
     "metadata": {},
     "output_type": "display_data"
    }
   ],
   "source": [
    "# package matplotlib - module pyplot - function plot alias p - call\n",
    "p(nXCoordinate,nYCoordinate);"
   ]
  },
  {
   "cell_type": "markdown",
   "metadata": {},
   "source": [
    "##### 4.2.1 - Mersenne Twister - MT19937"
   ]
  },
  {
   "cell_type": "markdown",
   "metadata": {},
   "source": [
    "- legacy algorithm - Mersenne Twister - albeit now considered frozen - no further improvements are to be made - BitGenerator - MT19937 [\n",
    "[...] Numpy, \"Legacy Random Generation,\" [numpy](https://web.archive.org/web/20201103161215/https://numpy.org/doc/stable/reference/random/legacy.html#legacy-random-generation)\n",
    "], June 2020."
   ]
  },
  {
   "cell_type": "code",
   "execution_count": 250,
   "metadata": {},
   "outputs": [],
   "source": [
    "# b_T_hird_P_arty-imports\n",
    "from numpy.random import RandomState as CLegacyGenerator"
   ]
  },
  {
   "cell_type": "code",
   "execution_count": 251,
   "metadata": {},
   "outputs": [],
   "source": [
    "from numpy.random import MT19937 as CSlowMersenneTwister"
   ]
  },
  {
   "cell_type": "code",
   "execution_count": 252,
   "metadata": {},
   "outputs": [
    {
     "name": "stdout",
     "output_type": "stream",
     "text": [
      "    RandomState(seed=None)\n",
      "\n",
      "    Container for the slow Mersenne Twister pseudo-random number generator.\n",
      "    Consider using a different BitGenerator with the Generator container\n",
      "    instead.\n"
     ]
    }
   ],
   "source": [
    "# package numpy - subpackage random - object RandomState alias CLegacyGenerator - attribute __doc__ - access\n",
    "print(\"\\n\".join(CLegacyGenerator.__doc__.split(\"\\n\")[1:6]))"
   ]
  },
  {
   "cell_type": "code",
   "execution_count": 253,
   "metadata": {},
   "outputs": [
    {
     "name": "stdout",
     "output_type": "stream",
     "text": [
      "    MT19937(seed=None)\n",
      "\n",
      "    Container for the Mersenne Twister pseudo-random number generator.\n"
     ]
    }
   ],
   "source": [
    "# package numpy - subpackage random - object MT19937 alias CSlowMersenneTwister - attribute __doc__ - access\n",
    "print(\"\\n\".join(CSlowMersenneTwister.__doc__.split(\"\\n\")[1:4]))"
   ]
  },
  {
   "cell_type": "code",
   "execution_count": 254,
   "metadata": {},
   "outputs": [],
   "source": [
    "# package numpy - subpackage random - object MT19937 alias CSlowMersenneTwister - instantiate\n",
    "nMT19937=CSlowMersenneTwister()"
   ]
  },
  {
   "cell_type": "code",
   "execution_count": 255,
   "metadata": {},
   "outputs": [],
   "source": [
    "# package numpy - subpackage random - object RandomState alias CLegacyGenerator - instantiate\n",
    "nLegacy=CLegacyGenerator(nMT19937)"
   ]
  },
  {
   "cell_type": "markdown",
   "metadata": {},
   "source": [
    "- ``seeding`` - PRNG - value - ``100`` - will always generate the same sequence of random numbers - values generated should be reproducible on any machine anywhere - this is the reason PRNGs are considered - cryptographically insecure - anyone who has the - ``seed`` - can generate the exact sequence of random numbers [\n",
    "[...] E. Chu, \"Almost Random Numbers and Distributions with NumPy,\" [pluralsight](https://web.archive.org/web/20201109090601if_/https://www.pluralsight.com/guides/almost-random-numbers), December 2019.\n",
    "]"
   ]
  },
  {
   "cell_type": "code",
   "execution_count": 344,
   "metadata": {},
   "outputs": [],
   "source": [
    "# package numpy - subpackage random - object RandomState alias CLegacyGenerator - method seed - call\n",
    "nLegacy.seed(100)"
   ]
  },
  {
   "cell_type": "markdown",
   "metadata": {},
   "source": [
    "- generating a couple of PRNs - rand - selects random numbers from a uniform distribution between - ``0`` - ``1`` - using a - ``seed`` - no mattter where or when this is run it will always generate the following random numbers - argument - ``1`` - function - rand - returns an array when given an argument - the arguments denote the shape of the array [\n",
    "[...] E. Chu, \"Almost Random Numbers and Distributions with NumPy,\" [pluralsight](https://web.archive.org/web/20201109090601if_/https://www.pluralsight.com/guides/almost-random-numbers), December 2019.\n",
    "]"
   ]
  },
  {
   "cell_type": "code",
   "execution_count": 345,
   "metadata": {},
   "outputs": [
    {
     "name": "stdout",
     "output_type": "stream",
     "text": [
      "        Return a tuple representing the internal state of the generator.\n"
     ]
    }
   ],
   "source": [
    "# package numpy - subpackage random - object RandomState alias CLegacyGenerator\n",
    "print(\"\\n\".join(CLegacyGenerator.get_state.__doc__.split(\"\\n\")[3:4])) # method get_state - attribute __doc__ - access"
   ]
  },
  {
   "cell_type": "code",
   "execution_count": 346,
   "metadata": {
    "scrolled": false
   },
   "outputs": [],
   "source": [
    "# package numpy - subpackage random - object RandomState alias CLegacyGenerator - method get_state - call\n",
    "nState=nLegacy.get_state()"
   ]
  },
  {
   "cell_type": "code",
   "execution_count": 347,
   "metadata": {},
   "outputs": [
    {
     "name": "stdout",
     "output_type": "stream",
     "text": [
      "[0.54340494]\n",
      "[0.27836939]\n"
     ]
    }
   ],
   "source": [
    "# package numpy - subpackage random - object RandomState alias CLegacyGenerator - method rand - call\n",
    "print(nLegacy.rand(1)) # method rand - call\n",
    "print(nLegacy.rand(1)) # method rand - call"
   ]
  },
  {
   "cell_type": "markdown",
   "metadata": {},
   "source": [
    "- output two-dimensional array of random numbers selected from a uniform distribution - values generated earlier are reproduced [\n",
    "[...] E. Chu, \"Almost Random Numbers and Distributions with NumPy,\" [pluralsight](https://web.archive.org/web/20201109090601if_/https://www.pluralsight.com/guides/almost-random-numbers), December 2019.\n",
    "]"
   ]
  },
  {
   "cell_type": "code",
   "execution_count": 348,
   "metadata": {},
   "outputs": [
    {
     "name": "stdout",
     "output_type": "stream",
     "text": [
      "[[0.54340494 0.27836939]]\n"
     ]
    }
   ],
   "source": [
    "# package numpy - subpackage random - object RandomState alias CLegacyGenerator - method rand - call\n",
    "nLegacy.seed(100) # method seed - call\n",
    "print(nLegacy.rand(1,2)) # method rand - call"
   ]
  },
  {
   "cell_type": "code",
   "execution_count": 349,
   "metadata": {},
   "outputs": [
    {
     "name": "stdout",
     "output_type": "stream",
     "text": [
      "        Set the internal state of the generator from a tuple.\n"
     ]
    }
   ],
   "source": [
    "# package numpy - subpackage random - object RandomState alias CLegacyGenerator\n",
    "print(\"\\n\".join(CLegacyGenerator.set_state.__doc__.split(\"\\n\")[3:4])) # method set_state - attribute __doc__ - access"
   ]
  },
  {
   "cell_type": "code",
   "execution_count": 350,
   "metadata": {},
   "outputs": [],
   "source": [
    "# package numpy - subpackage random - object RandomState alias CLegacyGenerator - method set_state - call\n",
    "nLegacy.set_state(nState)"
   ]
  },
  {
   "cell_type": "markdown",
   "metadata": {},
   "source": [
    "- values generated reproduced [\n",
    "[...] No Reference.\n",
    "]"
   ]
  },
  {
   "cell_type": "code",
   "execution_count": 351,
   "metadata": {},
   "outputs": [
    {
     "name": "stdout",
     "output_type": "stream",
     "text": [
      "[0.54340494]\n"
     ]
    }
   ],
   "source": [
    "# package numpy - subpackage random - object RandomState alias CLegacyGenerator - method rand - call\n",
    "print(nLegacy.rand(1)) # method rand - call"
   ]
  },
  {
   "cell_type": "code",
   "execution_count": 352,
   "metadata": {},
   "outputs": [
    {
     "name": "stdout",
     "output_type": "stream",
     "text": [
      "[0.27836939]\n"
     ]
    }
   ],
   "source": [
    "# package numpy - subpackage random - object RandomState alias CLegacyGenerator - method rand - call\n",
    "print(nLegacy.rand(1)) # method rand - call"
   ]
  },
  {
   "cell_type": "markdown",
   "metadata": {},
   "source": [
    "##### 4.2.2 - Permuted Congruential Generator - PCG64"
   ]
  },
  {
   "cell_type": "code",
   "execution_count": 397,
   "metadata": {},
   "outputs": [],
   "source": [
    "# b_T_hird_P_arty-imports\n",
    "from numpy.random import default_rng as newGenBitGenPCG64"
   ]
  },
  {
   "cell_type": "code",
   "execution_count": 398,
   "metadata": {},
   "outputs": [
    {
     "name": "stdout",
     "output_type": "stream",
     "text": [
      "Construct a new Generator with the default BitGenerator (PCG64).\n"
     ]
    }
   ],
   "source": [
    "# pkg numpy - subpkg random - obj Generator - method default_rng alias newGenBitGenPCG64 - attr __doc__ - access\n",
    "print(\"\\n\".join(newGenBitGenPCG64.__doc__.split(\"\\n\")[0:1]))"
   ]
  },
  {
   "cell_type": "code",
   "execution_count": 399,
   "metadata": {},
   "outputs": [],
   "source": [
    "nSeed=100"
   ]
  },
  {
   "cell_type": "markdown",
   "metadata": {},
   "source": [
    "- seeding - PRNG - value - 100 [\n",
    "[...] No Reference.\n",
    "]"
   ]
  },
  {
   "cell_type": "code",
   "execution_count": 400,
   "metadata": {},
   "outputs": [],
   "source": [
    "# pkg numpy - subpkg random - obj Generator - method default_rng alias newGenBitGenPCG64 - instantiate\n",
    "nInsObjRNG=newGenBitGenPCG64(nSeed)"
   ]
  },
  {
   "cell_type": "code",
   "execution_count": 401,
   "metadata": {},
   "outputs": [
    {
     "data": {
      "text/plain": [
       "array([0.83498163])"
      ]
     },
     "execution_count": 401,
     "metadata": {},
     "output_type": "execute_result"
    }
   ],
   "source": [
    "# package numpy - subpackage random - object Generator - method random - call\n",
    "nInsObjRNG.random(size=1)"
   ]
  },
  {
   "cell_type": "code",
   "execution_count": 402,
   "metadata": {},
   "outputs": [
    {
     "data": {
      "text/plain": [
       "array([0.59655403])"
      ]
     },
     "execution_count": 402,
     "metadata": {},
     "output_type": "execute_result"
    }
   ],
   "source": [
    "# package numpy - subpackage random - object Generator - method random - call\n",
    "nInsObjRNG.random(size=1)"
   ]
  },
  {
   "cell_type": "markdown",
   "metadata": {},
   "source": [
    "- reset seeding - PRNG - value - 100 - duplicate above runs [\n",
    "[...] No Reference.\n",
    "]"
   ]
  },
  {
   "cell_type": "code",
   "execution_count": 403,
   "metadata": {},
   "outputs": [],
   "source": [
    "# pkg numpy - subpkg random - obj Generator - method default_rng alias newGenBitGenPCG64 - instantiate\n",
    "nInsObjRNG=newGenBitGenPCG64(nSeed)"
   ]
  },
  {
   "cell_type": "code",
   "execution_count": 404,
   "metadata": {},
   "outputs": [
    {
     "data": {
      "text/plain": [
       "array([0.83498163, 0.59655403])"
      ]
     },
     "execution_count": 404,
     "metadata": {},
     "output_type": "execute_result"
    }
   ],
   "source": [
    "# package numpy - subpackage random - object Generator - method default_rng alias newGenBitGenPCG64 - instantiate\n",
    "nInsObjRNG.random(size=2)"
   ]
  },
  {
   "cell_type": "markdown",
   "metadata": {},
   "source": [
    "##### 4.3.0 - PCG64 versus MT19937"
   ]
  },
  {
   "cell_type": "markdown",
   "metadata": {},
   "source": [
    "- Mersenne Twister (MT19937) - tour de force when it came out in 1997 - has a hugh period - precision - compared to its predecessors [\n",
    "[...] M.E. O'Neill, \"A Family of Better Random Number Generators,\" [Stanford EE Computer Systems Colloquium](https://web.archive.org/web/20181108064350/http://web.stanford.edu/class/ee380/Abstracts/150218.html), February 2015.\n",
    "]\n",
    "\n",
    "$$2^{19937}-1$$"
   ]
  },
  {
   "cell_type": "markdown",
   "metadata": {},
   "source": [
    "- comparison - numpy data type - ``uint64`` (Appendix A- NumPy - Data Types) - period - precision - viewing all at retina-display resolution would be the surface distance of a 53 mile sphere - Galway Mayo Institute of Technology (GMIT) to Adare [\n",
    "[...] J. VanderPlas, \"NumPy Standard Data Types,\" Python Data Science Handbook, p. 41, November 2016.\n",
    "]\n",
    "\n",
    "$$2^{64}-1$$"
   ]
  },
  {
   "cell_type": "markdown",
   "metadata": {},
   "source": [
    "- searching through Mersenne Twister (MT19937) would be impractical but there are some serious issues with its usage [\n",
    "[...] M.E. O'Neill, \"A Family of Better Random Number Generators,\" [Stanford EE Computer Systems Colloquium](https://web.archive.org/web/20181108064350/http://web.stanford.edu/class/ee380/Abstracts/150218.html), February 2015.\n",
    "]"
   ]
  },
  {
   "cell_type": "markdown",
   "metadata": {},
   "source": [
    "- space usage - hugh for random number generation - 2kb [\n",
    "[...] M.E. O'Neill, \"A Family of Better Random Number Generators,\" [Stanford EE Computer Systems Colloquium](https://web.archive.org/web/20181108064350/http://web.stanford.edu/class/ee380/Abstracts/150218.html), February 2015.\n",
    "]"
   ]
  },
  {
   "cell_type": "markdown",
   "metadata": {},
   "source": [
    "- time performance - not very fast [\n",
    "[...] M.E. O'Neill, \"A Family of Better Random Number Generators,\" [Stanford EE Computer Systems Colloquium](https://web.archive.org/web/20181108064350/http://web.stanford.edu/class/ee380/Abstracts/150218.html), February 2015.\n",
    "]"
   ]
  },
  {
   "cell_type": "markdown",
   "metadata": {},
   "source": [
    "- k-dimensional equidistribution - property on how well a random number generator is distributed across ``k`` dimensions - should be no pattern to the ``k-tuple`` [\n",
    "[...] M.E. O'Neill, \"Party Tricks,\" [pcg-random](https://web.archive.org/web/20201109031637/https://www.pcg-random.org/party-tricks.html), November 2014.\n",
    "] - claimed to be statistically good given its hugh period but the Mersenne Twister (MT19937) is predictable - every ``623-tuple`` occurs once meaning that obtaining any ``624`` number sequence can predict from that point on [\n",
    "[...] M.E. O'Neill, \"A Family of Better Random Number Generators,\" [Stanford EE Computer Systems Colloquium](https://web.archive.org/web/20181108064350/http://web.stanford.edu/class/ee380/Abstracts/150218.html), February 2015.\n",
    "]"
   ]
  },
  {
   "cell_type": "markdown",
   "metadata": {},
   "source": [
    "- Permuted ***Linear*** Congruential Generator (PCG64) - starts with a base linear congruential generator - adding permutation calculations at the end [\n",
    "[...] M.E. O'Neill, \"A Family of Better Random Number Generators,\" [Stanford EE Computer Systems Colloquium](https://web.archive.org/web/20181108064350/http://web.stanford.edu/class/ee380/Abstracts/150218.html), February 2015.\n",
    "]\n"
   ]
  },
  {
   "cell_type": "markdown",
   "metadata": {},
   "source": [
    "- space usage - compact - very space efficient [\n",
    "[...] M.E. O'Neill, \"A Family of Better Random Number Generators,\" [Stanford EE Computer Systems Colloquium](https://web.archive.org/web/20181108064350/http://web.stanford.edu/class/ee380/Abstracts/150218.html), February 2015.\n",
    "]"
   ]
  },
  {
   "cell_type": "markdown",
   "metadata": {},
   "source": [
    "- time performance - very fast - graph shows benchmark performace contrasting against several widely used generators [\n",
    "[...] M.E. O'Neill, \"Random Number Generator Performance,\" [pcg-random](https://web.archive.org/web/20201030180748/https://www.pcg-random.org/rng-performance.html), Novemebr 2014.\n",
    "]"
   ]
  },
  {
   "cell_type": "markdown",
   "metadata": {},
   "source": [
    "<img src=\"img/pcg64-time-performance.png\" />\n",
    "\n",
    "***M.E. O'Neill, \"Party Tricks,\" [pcg-random](https://web.archive.org/web/20201109031637/https://www.pcg-random.org/party-tricks.html), November 2014.***"
   ]
  },
  {
   "cell_type": "markdown",
   "metadata": {},
   "source": [
    "- k-dimensional equidistribution - claimed rough guess a $2^{1024}$-tuple could show a pattern upon which to enable prediction [\n",
    "[...] M.E. O'Neill, \"Party Tricks,\" [pcg-random](https://web.archive.org/web/20201109031637/https://www.pcg-random.org/party-tricks.html), November 2014.\n",
    "] - possible but clearly a challenge [\n",
    "[...] M.E. O'Neill, \"A Family of Better Random Number Generators,\" [Stanford EE Computer Systems Colloquium](https://web.archive.org/web/20181108064350/http://web.stanford.edu/class/ee380/Abstracts/150218.html), February 2015.\n",
    "]"
   ]
  },
  {
   "cell_type": "markdown",
   "metadata": {},
   "source": [
    "- Permuted ***Linear*** Congruential Generator (PCG64) - inventor - M.E. O'Neill provides an at-a-glance summary - website - pcg-random.org [\n",
    "[...] M.E. O'Neill, \"PCG, A Family of Better Random Number Generators,\" [pcg-random](https://web.archive.org/web/20201122102022/https://www.pcg-random.org/index.html), October 2014.\n",
    "]"
   ]
  },
  {
   "cell_type": "markdown",
   "metadata": {},
   "source": [
    "- summary - Permuted ***Linear*** Congruential Generator (PCG64) - outperforms - Mersenne Twister (MT19937 - three areas covered - i) space usage - ii) time performance - iii) k-dimensional equidistribution - may other factors evident why the package numpy version 1.19 - changed the mathematical formulae - algorithm - for generating random numbers from the Mersenne Twister - MT19937 - to - O'Neill's Permutation Congruential Generator - PCG64 [\n",
    "[...] NumPy, \"Changes in v1.19,\" [github](https://web.archive.org/web/20201121105209/https://github.com/bashtage/randomgen), v1.19.\n",
    "]"
   ]
  },
  {
   "cell_type": "markdown",
   "metadata": {},
   "source": [
    "<img src=\"img/pcg-mt-summary.png\" />\n",
    "\n",
    "***M.E. O'Neill, \"PCG, A Family of Better Random Number Generators,\" [pcg-random](https://web.archive.org/web/20201122102022/https://www.pcg-random.org/index.html), October 2014.***"
   ]
  },
  {
   "cell_type": "markdown",
   "metadata": {},
   "source": [
    "***\n",
    "#### References\n",
    "&nbsp;&nbsp;&nbsp;&nbsp;&nbsp;&nbsp;&nbsp;&nbsp;&nbsp;[1] authorNames, referenceTitle, locationWebsiteBookVideo, dateMonthYear.\n",
    "\n",
    "&nbsp;&nbsp;&nbsp;&nbsp;&nbsp;&nbsp;&nbsp;[10]\n",
    "\n",
    "&nbsp;&nbsp;&nbsp;&nbsp;&nbsp;[100]\n",
    "\n",
    "&nbsp;&nbsp;&nbsp;[1000]\n",
    "***\n",
    "#### END"
   ]
  },
  {
   "cell_type": "markdown",
   "metadata": {},
   "source": [
    "## Appendix A- NumPy - Data Types\n",
    "***"
   ]
  },
  {
   "cell_type": "markdown",
   "metadata": {},
   "source": [
    "| Data Type     | Description                                                                    |\n",
    "| ------------- |:------------------------------------------------------------------------------:|\n",
    "|int_           | Default integer type (same as C long; normally either int64 or int32)          |\n",
    "|intc           | Identical to C int (normally int32 or int64)                                   |\n",
    "|intp           | Integer used for indexing (same as C ssize_t; normally either int32 or int64)  |\n",
    "|int8           | Byte (–128 to 127)                                                             |\n",
    "|int16          | Integer (–32768 to 32767)                                                      |\n",
    "|int32          | Integer (–2147483648 to 2147483647)                                            |\n",
    "|int64          | Integer (–9223372036854775808 to 9223372036854775807)                          |\n",
    "|uint8          | Unsigned integer (0 to 255)                                                    |\n",
    "|uint16         | Unsigned integer (0 to 65535)                                                  |\n",
    "|uint32         | Unsigned integer (0 to 4294967295)                                             |\n",
    "|uint64         | Unsigned integer (0 to 18446744073709551615)                                   |\n",
    "|float_         | Shorthand for float64                             \t                         |\n",
    "|float16        | Half-precision float: sign bit, 5 bits exponent, 10 bits mantissa              |\n",
    "|float32        | Single-precision float: sign bit, 8 bits exponent, 23 bits mantissa            |\n",
    "|float64        | Double-precision float: sign bit, 11 bits exponent, 52 bits mantissa           |\n",
    "\n",
    "***J. VanderPlas, \"NumPy Standard Data Types,\" Python Data Science Handbook, p. 41, November 2016.***"
   ]
  },
  {
   "cell_type": "markdown",
   "metadata": {},
   "source": [
    "## Appendix B - Array - Index - Element\n",
    "***"
   ]
  },
  {
   "cell_type": "markdown",
   "metadata": {},
   "source": [
    "<img src=\"img/array-index-element.png\" />\n",
    "\n",
    "***filip, \"Java Array,\" [javatutorial](https://web.archive.org/web/20200919175048/https://javatutorial.net/java-array), January 2015.***"
   ]
  },
  {
   "cell_type": "markdown",
   "metadata": {},
   "source": [
    "## Appendix C - Half-Open - Half-Closed - Intervals\n",
    "***"
   ]
  },
  {
   "cell_type": "markdown",
   "metadata": {},
   "source": [
    "- half-open interval - one endpoint is included but not the other - $[a,b)$ - includes - ``a`` - excludes - ``b`` - $(a,b]$ - excludes - ``a`` - includes - ``b`` [\n",
    "[...] Wolfram, \"Half-Closed Interval,\" [mathworld.wolfram](https://web.archive.org/web/20201106190646/https://mathworld.wolfram.com/Half-ClosedInterval.html), Ootober 2020.\n",
    "]"
   ]
  },
  {
   "cell_type": "markdown",
   "metadata": {},
   "source": [
    "<img src=\"img/distribution-uniform-half-open-interval.png\" />\n",
    "\n",
    "***Wolfram, \"Half-Closed Interval,\" [mathworld.wolfram](https://web.archive.org/web/20201106190646/https://mathworld.wolfram.com/Half-ClosedInterval.html), Ootober 2020.***"
   ]
  },
  {
   "cell_type": "markdown",
   "metadata": {},
   "source": [
    "## Appendix D - Diagonal - Multidimensional\n",
    "***"
   ]
  },
  {
   "cell_type": "markdown",
   "metadata": {},
   "source": [
    "<img src=\"img/shape.png\" />\n",
    "\n",
    "***Math Is Fun, \"Diagonal,\", [mathsisfun](https://web.archive.org/web/20201118085013/https://www.mathsisfun.com/definitions/diagonal.html), November 2012.\n",
    "\n",
    "<img src=\"img/array-dimensions.png\" />\n",
    "\n",
    "***praneethharsha10, \"Multidimensional Arrays in Java,\" [geeksforgeeks](https://web.archive.org/web/20201118090649/https://www.geeksforgeeks.org/multidimensional-arrays-in-java), May 2020.***"
   ]
  },
  {
   "cell_type": "markdown",
   "metadata": {},
   "source": [
    "## Appendix E - Python float - numpy.float64\n",
    "***"
   ]
  },
  {
   "cell_type": "code",
   "execution_count": 267,
   "metadata": {},
   "outputs": [
    {
     "name": "stdout",
     "output_type": "stream",
     "text": [
      "Double-precision floating-point number type, compatible with Python `float`\n",
      "    and C ``double``.\n",
      "    Character code: ``'d'``.\n",
      "    Canonical name: ``np.double``.\n",
      "    Alias: ``np.float_``.\n",
      "    Alias *on this platform*: ``np.float64``: 64-bit precision floating-point number type: sign bit, 11 bits exponent, 52 bits mantissa.\n"
     ]
    }
   ],
   "source": [
    "# package numpy - data type float64 - attribute __doc__ - access\n",
    "print(float64.__doc__)"
   ]
  },
  {
   "cell_type": "code",
   "execution_count": 268,
   "metadata": {},
   "outputs": [],
   "source": [
    "# a_S_tandard_L_ibrary-imports\n",
    "import sys"
   ]
  },
  {
   "cell_type": "markdown",
   "metadata": {},
   "source": [
    "- python float - ``min=2.2250738585072014e-308`` - ``max=1.7976931348623157e+308`` [\n",
    "[...] Anaconda - \"sys.float_info,\" Docstring, June 2020.\n",
    "]"
   ]
  },
  {
   "cell_type": "code",
   "execution_count": 269,
   "metadata": {},
   "outputs": [
    {
     "name": "stdout",
     "output_type": "stream",
     "text": [
      "sys.float_info(max=1.7976931348623157e+308, max_exp=1024, max_10_exp=308, min=2.2250738585072014e-308, min_exp=-1021, min_10_exp=-307, dig=15, mant_dig=53, epsilon=2.220446049250313e-16, radix=2, rounds=1)\n"
     ]
    }
   ],
   "source": [
    "# module sys - name float_info - access\n",
    "print(sys.float_info)"
   ]
  },
  {
   "cell_type": "markdown",
   "metadata": {},
   "source": [
    "- range [\n",
    "[...] No Reference.\n",
    "]"
   ]
  },
  {
   "cell_type": "code",
   "execution_count": 270,
   "metadata": {},
   "outputs": [
    {
     "name": "stdout",
     "output_type": "stream",
     "text": [
      "2.225073858507201383090232717332404064219215980462331830553327416887204434813918195854283159012511020564067339731035811005152434161553460108856012385377718821130777993532002330479610147442583636071921565046942503734208375250806650616658158948720491179968591639648500635908770118304874799780887753749949451580451605050915399856582470818645113537935804992115981085766051992433352114352390148795699609591288891602992641511063466313393663477586513029371762047325631781485664350872122828637642044846811407613911477062801689853244110024161447421618567166150540154285084716752901903161322778896729707373123334086988983175067838846926092773977972858659654941091369095406136467568702398678315290680984617210924625396728515625E-308\n"
     ]
    }
   ],
   "source": [
    "print(Decimal(2.2250738585072014*(10**-308)))"
   ]
  },
  {
   "cell_type": "code",
   "execution_count": 271,
   "metadata": {},
   "outputs": [
    {
     "name": "stdout",
     "output_type": "stream",
     "text": [
      "179769313486231570814527423731704356798070567525844996598917476803157260780028538760589558632766878171540458953514382464234321326889464182768467546703537516986049910576551282076245490090389328944075868508455133942304583236903222948165808559332123348274797826204144723168738177180919299881250404026184124858368\n"
     ]
    }
   ],
   "source": [
    "print(Decimal(1.7976931348623157*(10**308)))"
   ]
  },
  {
   "cell_type": "code",
   "execution_count": 272,
   "metadata": {},
   "outputs": [
    {
     "data": {
      "text/plain": [
       "True"
      ]
     },
     "execution_count": 272,
     "metadata": {},
     "output_type": "execute_result"
    }
   ],
   "source": [
    "2.2250738585072014e-308==2.2250738585072014*(10**-308)"
   ]
  },
  {
   "cell_type": "code",
   "execution_count": 273,
   "metadata": {},
   "outputs": [
    {
     "data": {
      "text/plain": [
       "True"
      ]
     },
     "execution_count": 273,
     "metadata": {},
     "output_type": "execute_result"
    }
   ],
   "source": [
    "1.7976931348623157e+308==1.7976931348623157*(10**308)"
   ]
  },
  {
   "cell_type": "markdown",
   "metadata": {},
   "source": [
    "***\n",
    "# END"
   ]
  }
 ],
 "metadata": {
  "kernelspec": {
   "display_name": "Python 3",
   "language": "python",
   "name": "python3"
  },
  "language_info": {
   "codemirror_mode": {
    "name": "ipython",
    "version": 3
   },
   "file_extension": ".py",
   "mimetype": "text/x-python",
   "name": "python",
   "nbconvert_exporter": "python",
   "pygments_lexer": "ipython3",
   "version": "3.8.3"
  }
 },
 "nbformat": 4,
 "nbformat_minor": 4
}
